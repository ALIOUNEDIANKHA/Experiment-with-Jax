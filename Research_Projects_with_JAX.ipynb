{
  "cells": [
    {
      "cell_type": "markdown",
      "id": "8c2da21a",
      "metadata": {
        "id": "8c2da21a"
      },
      "source": [
        "# Guide 4: Research Projects with JAX\n",
        "\n",
        "**Filled notebook:** \n",
        "[![View filled on Github](https://img.shields.io/static/v1.svg?logo=github&label=Repo&message=View%20On%20Github&color=lightgrey)](https://github.com/phlippe/uvadlc_notebooks/blob/master/docs/tutorial_notebooks/guide4/Research_Projects_with_JAX.ipynb)\n",
        "[![Open filled In Collab](https://colab.research.google.com/assets/colab-badge.svg)](https://colab.research.google.com/github/phlippe/uvadlc_notebooks/blob/master/docs/tutorial_notebooks/guide4/Research_Projects_with_JAX.ipynb)   \n",
        "**Author:** Phillip Lippe"
      ]
    },
    {
      "cell_type": "markdown",
      "id": "095dacfc",
      "metadata": {
        "id": "095dacfc"
      },
      "source": [
        "This guide summarizes some tips, tricks and practices that are useful when working with JAX for a research project. In my opinion, one key aspect that JAX is missing compared to PyTorch is a framework like [PyTorch Lightning](https://pytorch-lightning.readthedocs.io/en/stable/) that can massively reduce code overhead while still being flexible enough for supporting almost any model/task. Although there exist such libraries for certain common tasks, like [trax](https://github.com/google/trax) or [scenic](https://github.com/google-research/scenic) (attention-based CV), I have not come across one so far which was sufficiently flexible for my research. Hence, in this guide, we build a simpler version of a PyTorch Lightning trainer, that summarizes all training, logging, etc. behavior that we need for almost any model, and allows training various models with much fewer lines than from scratch. Moreover, we implement some simple examples to showcase possible training structures, and underline its flexibility by performing automatic hyperparameter tuning with [Optuna](https://optuna.readthedocs.io/en/stable/index.html). Since this guide will be about code structures, it is more code-heavy than the other guides and can also be run in Google Colab if preferred.\n",
        "\n",
        "First, let's import some standard libraries. For this guide, we will use the data loading functionalities of PyTorch, but one could also use the [TensorFlow](https://www.tensorflow.org/api_docs/python/tf/data) dataset API. Additionally, we integrate loggers from PyTorch Lightning since they support a flexible API and have most popular logging application implemented (e.g. [TensorBoard](https://www.tensorflow.org/tensorboard), [Weights and Biases](https://wandb.ai/site))."
      ]
    },
    {
      "cell_type": "code",
      "execution_count": 9,
      "id": "c7b75971",
      "metadata": {},
      "outputs": [
        {
          "name": "stdout",
          "output_type": "stream",
          "text": [
            "Requirement already satisfied: pytorch-lightning in /Users/aliounebenmordiankha/opt/miniconda3/envs/tensorflow/lib/python3.9/site-packages (1.8.3.post0)\n",
            "Requirement already satisfied: typing-extensions>=4.0.0 in /Users/aliounebenmordiankha/opt/miniconda3/envs/tensorflow/lib/python3.9/site-packages (from pytorch-lightning) (4.3.0)\n",
            "Requirement already satisfied: fsspec[http]>2021.06.0 in /Users/aliounebenmordiankha/opt/miniconda3/envs/tensorflow/lib/python3.9/site-packages (from pytorch-lightning) (2022.11.0)\n",
            "Requirement already satisfied: numpy>=1.17.2 in /Users/aliounebenmordiankha/opt/miniconda3/envs/tensorflow/lib/python3.9/site-packages (from pytorch-lightning) (1.23.5)\n",
            "Requirement already satisfied: torchmetrics>=0.7.0 in /Users/aliounebenmordiankha/opt/miniconda3/envs/tensorflow/lib/python3.9/site-packages (from pytorch-lightning) (0.10.3)\n",
            "Requirement already satisfied: PyYAML>=5.4 in /Users/aliounebenmordiankha/opt/miniconda3/envs/tensorflow/lib/python3.9/site-packages (from pytorch-lightning) (6.0)\n",
            "Requirement already satisfied: tensorboardX>=2.2 in /Users/aliounebenmordiankha/opt/miniconda3/envs/tensorflow/lib/python3.9/site-packages (from pytorch-lightning) (2.5.1)\n",
            "Requirement already satisfied: tqdm>=4.57.0 in /Users/aliounebenmordiankha/opt/miniconda3/envs/tensorflow/lib/python3.9/site-packages (from pytorch-lightning) (4.64.1)\n",
            "Requirement already satisfied: torch>=1.9.* in /Users/aliounebenmordiankha/opt/miniconda3/envs/tensorflow/lib/python3.9/site-packages (from pytorch-lightning) (1.13.0)\n",
            "Requirement already satisfied: packaging>=17.0 in /Users/aliounebenmordiankha/opt/miniconda3/envs/tensorflow/lib/python3.9/site-packages (from pytorch-lightning) (21.3)\n",
            "Requirement already satisfied: lightning-utilities==0.3.* in /Users/aliounebenmordiankha/opt/miniconda3/envs/tensorflow/lib/python3.9/site-packages (from pytorch-lightning) (0.3.0)\n",
            "Requirement already satisfied: fire in /Users/aliounebenmordiankha/opt/miniconda3/envs/tensorflow/lib/python3.9/site-packages (from lightning-utilities==0.3.*->pytorch-lightning) (0.4.0)\n",
            "Requirement already satisfied: requests in /Users/aliounebenmordiankha/opt/miniconda3/envs/tensorflow/lib/python3.9/site-packages (from fsspec[http]>2021.06.0->pytorch-lightning) (2.28.1)\n",
            "Requirement already satisfied: aiohttp!=4.0.0a0,!=4.0.0a1 in /Users/aliounebenmordiankha/opt/miniconda3/envs/tensorflow/lib/python3.9/site-packages (from fsspec[http]>2021.06.0->pytorch-lightning) (3.8.3)\n",
            "Requirement already satisfied: pyparsing!=3.0.5,>=2.0.2 in /Users/aliounebenmordiankha/opt/miniconda3/envs/tensorflow/lib/python3.9/site-packages (from packaging>=17.0->pytorch-lightning) (3.0.9)\n",
            "Requirement already satisfied: protobuf<=3.20.1,>=3.8.0 in /Users/aliounebenmordiankha/opt/miniconda3/envs/tensorflow/lib/python3.9/site-packages (from tensorboardX>=2.2->pytorch-lightning) (3.19.6)\n",
            "Requirement already satisfied: async-timeout<5.0,>=4.0.0a3 in /Users/aliounebenmordiankha/opt/miniconda3/envs/tensorflow/lib/python3.9/site-packages (from aiohttp!=4.0.0a0,!=4.0.0a1->fsspec[http]>2021.06.0->pytorch-lightning) (4.0.2)\n",
            "Requirement already satisfied: yarl<2.0,>=1.0 in /Users/aliounebenmordiankha/opt/miniconda3/envs/tensorflow/lib/python3.9/site-packages (from aiohttp!=4.0.0a0,!=4.0.0a1->fsspec[http]>2021.06.0->pytorch-lightning) (1.8.1)\n",
            "Requirement already satisfied: multidict<7.0,>=4.5 in /Users/aliounebenmordiankha/opt/miniconda3/envs/tensorflow/lib/python3.9/site-packages (from aiohttp!=4.0.0a0,!=4.0.0a1->fsspec[http]>2021.06.0->pytorch-lightning) (6.0.2)\n",
            "Requirement already satisfied: frozenlist>=1.1.1 in /Users/aliounebenmordiankha/opt/miniconda3/envs/tensorflow/lib/python3.9/site-packages (from aiohttp!=4.0.0a0,!=4.0.0a1->fsspec[http]>2021.06.0->pytorch-lightning) (1.3.3)\n",
            "Requirement already satisfied: aiosignal>=1.1.2 in /Users/aliounebenmordiankha/opt/miniconda3/envs/tensorflow/lib/python3.9/site-packages (from aiohttp!=4.0.0a0,!=4.0.0a1->fsspec[http]>2021.06.0->pytorch-lightning) (1.3.1)\n",
            "Requirement already satisfied: charset-normalizer<3.0,>=2.0 in /Users/aliounebenmordiankha/opt/miniconda3/envs/tensorflow/lib/python3.9/site-packages (from aiohttp!=4.0.0a0,!=4.0.0a1->fsspec[http]>2021.06.0->pytorch-lightning) (2.0.4)\n",
            "Requirement already satisfied: attrs>=17.3.0 in /Users/aliounebenmordiankha/opt/miniconda3/envs/tensorflow/lib/python3.9/site-packages (from aiohttp!=4.0.0a0,!=4.0.0a1->fsspec[http]>2021.06.0->pytorch-lightning) (22.1.0)\n",
            "Requirement already satisfied: six in /Users/aliounebenmordiankha/opt/miniconda3/envs/tensorflow/lib/python3.9/site-packages (from fire->lightning-utilities==0.3.*->pytorch-lightning) (1.16.0)\n",
            "Requirement already satisfied: termcolor in /Users/aliounebenmordiankha/opt/miniconda3/envs/tensorflow/lib/python3.9/site-packages (from fire->lightning-utilities==0.3.*->pytorch-lightning) (2.1.1)\n",
            "Requirement already satisfied: urllib3<1.27,>=1.21.1 in /Users/aliounebenmordiankha/opt/miniconda3/envs/tensorflow/lib/python3.9/site-packages (from requests->fsspec[http]>2021.06.0->pytorch-lightning) (1.26.12)\n",
            "Requirement already satisfied: certifi>=2017.4.17 in /Users/aliounebenmordiankha/opt/miniconda3/envs/tensorflow/lib/python3.9/site-packages (from requests->fsspec[http]>2021.06.0->pytorch-lightning) (2022.9.24)\n",
            "Requirement already satisfied: idna<4,>=2.5 in /Users/aliounebenmordiankha/opt/miniconda3/envs/tensorflow/lib/python3.9/site-packages (from requests->fsspec[http]>2021.06.0->pytorch-lightning) (3.4)\n",
            "Note: you may need to restart the kernel to use updated packages.\n",
            "Collecting package metadata (current_repodata.json): done\n",
            "Solving environment: done\n",
            "\n",
            "## Package Plan ##\n",
            "\n",
            "  environment location: /Users/aliounebenmordiankha/opt/miniconda3/envs/tensorflow\n",
            "\n",
            "  added / updated specs:\n",
            "    - pytorch\n",
            "    - torchaudio\n",
            "    - torchvision\n",
            "\n",
            "\n",
            "The following packages will be UPDATED:\n",
            "\n",
            "  ca-certificates    conda-forge::ca-certificates-2022.9.2~ --> pkgs/main::ca-certificates-2022.10.11-hca03da5_0 None\n",
            "\n",
            "The following packages will be SUPERSEDED by a higher-priority channel:\n",
            "\n",
            "  certifi            conda-forge/noarch::certifi-2022.9.24~ --> pkgs/main/osx-arm64::certifi-2022.9.24-py39hca03da5_0 None\n",
            "  openssl            conda-forge::openssl-1.1.1s-h03a7124_0 --> pkgs/main::openssl-1.1.1s-h1a28f6b_0 None\n",
            "\n",
            "\n",
            "Preparing transaction: done\n",
            "Verifying transaction: done\n",
            "Executing transaction: done\n",
            "Retrieving notices: ...working... done\n",
            "\n",
            "Note: you may need to restart the kernel to use updated packages.\n",
            "Collecting package metadata (current_repodata.json): done\n",
            "Solving environment: done\n",
            "\n",
            "## Package Plan ##\n",
            "\n",
            "  environment location: /Users/aliounebenmordiankha/opt/miniconda3/envs/tensorflow\n",
            "\n",
            "  added / updated specs:\n",
            "    - jaxlib\n",
            "\n",
            "\n",
            "The following packages will be SUPERSEDED by a higher-priority channel:\n",
            "\n",
            "  ca-certificates    pkgs/main::ca-certificates-2022.10.11~ --> conda-forge::ca-certificates-2022.9.24-h4653dfc_0 None\n",
            "  certifi            pkgs/main/osx-arm64::certifi-2022.9.2~ --> conda-forge/noarch::certifi-2022.9.24-pyhd8ed1ab_0 None\n",
            "  openssl              pkgs/main::openssl-1.1.1s-h1a28f6b_0 --> conda-forge::openssl-1.1.1s-h03a7124_0 None\n",
            "\n",
            "\n",
            "Preparing transaction: done\n",
            "Verifying transaction: done\n",
            "Executing transaction: done\n",
            "Retrieving notices: ...working... done\n",
            "\n",
            "Note: you may need to restart the kernel to use updated packages.\n",
            "Collecting package metadata (current_repodata.json): done\n",
            "Solving environment: done\n",
            "\n",
            "# All requested packages already installed.\n",
            "\n",
            "Retrieving notices: ...working... done\n",
            "\n",
            "Note: you may need to restart the kernel to use updated packages.\n",
            "Collecting git+https://github.com/google/flax.git\n",
            "  Cloning https://github.com/google/flax.git to /private/var/folders/qq/0x5k9ncx4_18n2rn_80_67080000gn/T/pip-req-build-m9fb61x5\n",
            "  Running command git clone --filter=blob:none --quiet https://github.com/google/flax.git /private/var/folders/qq/0x5k9ncx4_18n2rn_80_67080000gn/T/pip-req-build-m9fb61x5\n",
            "  Resolved https://github.com/google/flax.git to commit 40e8e62c212ecb29f7ce36b9a228430060705592\n",
            "  Preparing metadata (setup.py) ... \u001b[?25ldone\n",
            "\u001b[?25hRequirement already satisfied: numpy>=1.12 in /Users/aliounebenmordiankha/opt/miniconda3/envs/tensorflow/lib/python3.9/site-packages (from flax==0.6.2) (1.23.5)\n",
            "Requirement already satisfied: jax>=0.3.16 in /Users/aliounebenmordiankha/opt/miniconda3/envs/tensorflow/lib/python3.9/site-packages (from flax==0.6.2) (0.3.25)\n",
            "Requirement already satisfied: matplotlib in /Users/aliounebenmordiankha/opt/miniconda3/envs/tensorflow/lib/python3.9/site-packages (from flax==0.6.2) (3.5.3)\n",
            "Requirement already satisfied: msgpack in /Users/aliounebenmordiankha/opt/miniconda3/envs/tensorflow/lib/python3.9/site-packages (from flax==0.6.2) (1.0.4)\n",
            "Requirement already satisfied: optax in /Users/aliounebenmordiankha/opt/miniconda3/envs/tensorflow/lib/python3.9/site-packages (from flax==0.6.2) (0.1.4)\n",
            "Requirement already satisfied: orbax in /Users/aliounebenmordiankha/opt/miniconda3/envs/tensorflow/lib/python3.9/site-packages (from flax==0.6.2) (0.0.18)\n",
            "Requirement already satisfied: tensorstore in /Users/aliounebenmordiankha/opt/miniconda3/envs/tensorflow/lib/python3.9/site-packages (from flax==0.6.2) (0.1.28)\n",
            "Requirement already satisfied: rich>=11.1 in /Users/aliounebenmordiankha/opt/miniconda3/envs/tensorflow/lib/python3.9/site-packages (from flax==0.6.2) (12.6.0)\n",
            "Requirement already satisfied: typing_extensions>=4.1.1 in /Users/aliounebenmordiankha/opt/miniconda3/envs/tensorflow/lib/python3.9/site-packages (from flax==0.6.2) (4.3.0)\n",
            "Requirement already satisfied: PyYAML>=5.4.1 in /Users/aliounebenmordiankha/opt/miniconda3/envs/tensorflow/lib/python3.9/site-packages (from flax==0.6.2) (6.0)\n",
            "Requirement already satisfied: scipy>=1.5 in /Users/aliounebenmordiankha/opt/miniconda3/envs/tensorflow/lib/python3.9/site-packages (from jax>=0.3.16->flax==0.6.2) (1.9.3)\n",
            "Requirement already satisfied: opt-einsum in /Users/aliounebenmordiankha/opt/miniconda3/envs/tensorflow/lib/python3.9/site-packages (from jax>=0.3.16->flax==0.6.2) (3.3.0)\n",
            "Requirement already satisfied: pygments<3.0.0,>=2.6.0 in /Users/aliounebenmordiankha/opt/miniconda3/envs/tensorflow/lib/python3.9/site-packages (from rich>=11.1->flax==0.6.2) (2.11.2)\n",
            "Requirement already satisfied: commonmark<0.10.0,>=0.9.0 in /Users/aliounebenmordiankha/opt/miniconda3/envs/tensorflow/lib/python3.9/site-packages (from rich>=11.1->flax==0.6.2) (0.9.1)\n",
            "Requirement already satisfied: pillow>=6.2.0 in /Users/aliounebenmordiankha/opt/miniconda3/envs/tensorflow/lib/python3.9/site-packages (from matplotlib->flax==0.6.2) (9.2.0)\n",
            "Requirement already satisfied: packaging>=20.0 in /Users/aliounebenmordiankha/opt/miniconda3/envs/tensorflow/lib/python3.9/site-packages (from matplotlib->flax==0.6.2) (21.3)\n",
            "Requirement already satisfied: kiwisolver>=1.0.1 in /Users/aliounebenmordiankha/opt/miniconda3/envs/tensorflow/lib/python3.9/site-packages (from matplotlib->flax==0.6.2) (1.4.2)\n",
            "Requirement already satisfied: cycler>=0.10 in /Users/aliounebenmordiankha/opt/miniconda3/envs/tensorflow/lib/python3.9/site-packages (from matplotlib->flax==0.6.2) (0.11.0)\n",
            "Requirement already satisfied: pyparsing>=2.2.1 in /Users/aliounebenmordiankha/opt/miniconda3/envs/tensorflow/lib/python3.9/site-packages (from matplotlib->flax==0.6.2) (3.0.9)\n",
            "Requirement already satisfied: fonttools>=4.22.0 in /Users/aliounebenmordiankha/opt/miniconda3/envs/tensorflow/lib/python3.9/site-packages (from matplotlib->flax==0.6.2) (4.25.0)\n",
            "Requirement already satisfied: python-dateutil>=2.7 in /Users/aliounebenmordiankha/opt/miniconda3/envs/tensorflow/lib/python3.9/site-packages (from matplotlib->flax==0.6.2) (2.8.2)\n",
            "Requirement already satisfied: jaxlib>=0.1.37 in /Users/aliounebenmordiankha/opt/miniconda3/envs/tensorflow/lib/python3.9/site-packages (from optax->flax==0.6.2) (0.3.25)\n",
            "Requirement already satisfied: chex>=0.1.5 in /Users/aliounebenmordiankha/opt/miniconda3/envs/tensorflow/lib/python3.9/site-packages (from optax->flax==0.6.2) (0.1.5)\n",
            "Requirement already satisfied: absl-py>=0.7.1 in /Users/aliounebenmordiankha/opt/miniconda3/envs/tensorflow/lib/python3.9/site-packages (from optax->flax==0.6.2) (1.3.0)\n",
            "Requirement already satisfied: importlib-resources in /Users/aliounebenmordiankha/opt/miniconda3/envs/tensorflow/lib/python3.9/site-packages (from orbax->flax==0.6.2) (5.10.0)\n",
            "Requirement already satisfied: cached-property in /Users/aliounebenmordiankha/opt/miniconda3/envs/tensorflow/lib/python3.9/site-packages (from orbax->flax==0.6.2) (1.5.2)\n",
            "Requirement already satisfied: etils in /Users/aliounebenmordiankha/opt/miniconda3/envs/tensorflow/lib/python3.9/site-packages (from orbax->flax==0.6.2) (0.9.0)\n",
            "Requirement already satisfied: dm-tree>=0.1.5 in /Users/aliounebenmordiankha/opt/miniconda3/envs/tensorflow/lib/python3.9/site-packages (from chex>=0.1.5->optax->flax==0.6.2) (0.1.7)\n",
            "Requirement already satisfied: toolz>=0.9.0 in /Users/aliounebenmordiankha/opt/miniconda3/envs/tensorflow/lib/python3.9/site-packages (from chex>=0.1.5->optax->flax==0.6.2) (0.12.0)\n",
            "Requirement already satisfied: six>=1.5 in /Users/aliounebenmordiankha/opt/miniconda3/envs/tensorflow/lib/python3.9/site-packages (from python-dateutil>=2.7->matplotlib->flax==0.6.2) (1.16.0)\n",
            "Requirement already satisfied: zipp>=3.1.0 in /Users/aliounebenmordiankha/opt/miniconda3/envs/tensorflow/lib/python3.9/site-packages (from importlib-resources->orbax->flax==0.6.2) (3.8.0)\n",
            "Note: you may need to restart the kernel to use updated packages.\n",
            "Collecting package metadata (current_repodata.json): done\n",
            "Solving environment: done\n",
            "\n",
            "# All requested packages already installed.\n",
            "\n",
            "Retrieving notices: ...working... done\n",
            "\n",
            "Note: you may need to restart the kernel to use updated packages.\n",
            "Collecting package metadata (current_repodata.json): done\n",
            "Solving environment: done\n",
            "\n",
            "## Package Plan ##\n",
            "\n",
            "  environment location: /Users/aliounebenmordiankha/opt/miniconda3/envs/tensorflow\n",
            "\n",
            "  added / updated specs:\n",
            "    - plotly\n",
            "\n",
            "\n",
            "The following packages will be UPDATED:\n",
            "\n",
            "  ca-certificates    conda-forge::ca-certificates-2022.9.2~ --> pkgs/main::ca-certificates-2022.10.11-hca03da5_0 None\n",
            "\n",
            "The following packages will be SUPERSEDED by a higher-priority channel:\n",
            "\n",
            "  certifi            conda-forge/noarch::certifi-2022.9.24~ --> pkgs/main/osx-arm64::certifi-2022.9.24-py39hca03da5_0 None\n",
            "  openssl            conda-forge::openssl-1.1.1s-h03a7124_0 --> pkgs/main::openssl-1.1.1s-h1a28f6b_0 None\n",
            "\n",
            "\n",
            "Preparing transaction: done\n",
            "Verifying transaction: done\n",
            "Executing transaction: done\n",
            "Retrieving notices: ...working... done\n",
            "\n",
            "Note: you may need to restart the kernel to use updated packages.\n",
            "Collecting package metadata (current_repodata.json): done\n",
            "Solving environment: done\n",
            "\n",
            "## Package Plan ##\n",
            "\n",
            "  environment location: /Users/aliounebenmordiankha/opt/miniconda3/envs/tensorflow\n",
            "\n",
            "  added / updated specs:\n",
            "    - optuna\n",
            "\n",
            "\n",
            "The following packages will be SUPERSEDED by a higher-priority channel:\n",
            "\n",
            "  ca-certificates    pkgs/main::ca-certificates-2022.10.11~ --> conda-forge::ca-certificates-2022.9.24-h4653dfc_0 None\n",
            "  certifi            pkgs/main/osx-arm64::certifi-2022.9.2~ --> conda-forge/noarch::certifi-2022.9.24-pyhd8ed1ab_0 None\n",
            "  openssl              pkgs/main::openssl-1.1.1s-h1a28f6b_0 --> conda-forge::openssl-1.1.1s-h03a7124_0 None\n",
            "\n",
            "\n",
            "Preparing transaction: done\n",
            "Verifying transaction: done\n",
            "Executing transaction: done\n",
            "Retrieving notices: ...working... done\n",
            "\n",
            "Note: you may need to restart the kernel to use updated packages.\n"
          ]
        }
      ],
      "source": [
        "%pip install pytorch-lightning\n",
        "%conda install pytorch torchvision torchaudio -c pytorch -y\n",
        "%conda install -c conda-forge jaxlib -y\n",
        "%conda install -c conda-forge jax -y\n",
        "%pip install --upgrade git+https://github.com/google/flax.git\n",
        "%conda install seaborn -c conda-forge -y\n",
        "%conda install -c plotly plotly -y #will need to restart the kernel to work\n",
        "%conda install -c conda-forge optuna -y"
      ]
    },
    {
      "cell_type": "code",
      "execution_count": 10,
      "id": "b66ed17f",
      "metadata": {
        "id": "b66ed17f"
      },
      "outputs": [],
      "source": [
        "# Standard libraries\n",
        "import os\n",
        "import sys\n",
        "from typing import Any, Sequence, Optional, Tuple, Iterator, Dict, Callable, Union\n",
        "import json\n",
        "import time\n",
        "from tqdm.auto import tqdm\n",
        "import numpy as np\n",
        "from copy import copy\n",
        "from glob import glob\n",
        "from collections import defaultdict\n",
        "\n",
        "# JAX/Flax\n",
        "# If you run this code on Colab, remember to install flax and optax\n",
        "# !pip install --quiet --upgrade flax optax\n",
        "import jax\n",
        "import jax.numpy as jnp\n",
        "from jax import random\n",
        "from flax import linen as nn\n",
        "from flax.training import train_state, checkpoints\n",
        "import optax\n",
        "\n",
        "# PyTorch for data loading\n",
        "import torch\n",
        "import torch.utils.data as data\n",
        "\n",
        "# Logging with Tensorboard or Weights and Biases\n",
        "# If you run this code on Colab, remember to install pytorch_lightning\n",
        "# !pip install --quiet --upgrade pytorch_lightning\n",
        "from pytorch_lightning.loggers import TensorBoardLogger, WandbLogger"
      ]
    },
    {
      "cell_type": "code",
      "execution_count": 11,
      "id": "4c1c5542",
      "metadata": {},
      "outputs": [
        {
          "data": {
            "text/plain": [
              "'0.3.25'"
            ]
          },
          "execution_count": 11,
          "metadata": {},
          "output_type": "execute_result"
        }
      ],
      "source": [
        "jax.__version__"
      ]
    },
    {
      "cell_type": "markdown",
      "id": "2199fd59",
      "metadata": {
        "id": "2199fd59"
      },
      "source": [
        "## Trainer module for JAX with Flax\n",
        "\n",
        "As seen in previous tutorials, [Flax](https://flax.readthedocs.io/en/latest/) gives us already some basic functionalities for training models. One part of it is the `TrainState`, which holds the model parameters and optimizers, and allows updating it. However, there might be more model aspects that we would like to add to the `TrainState`. For instance, if a model uses Batch Normalization as in [Tutorial 5](https://uvadlc-notebooks.readthedocs.io/en/latest/tutorial_notebooks/JAX/tutorial5/Inception_ResNet_DenseNet.html), we need to keep the batch statistics in order to evaluate the models on a test dataset. Furthermore, many models contain stochastic elements such as dropout or sampling in generative models (e.g. [Normalizing Flows](https://uvadlc-notebooks.readthedocs.io/en/latest/tutorial_notebooks/JAX/tutorial11/NF_image_modeling.html)). Thus, we extend the `TrainState` class from Flax to also include the batch statistics as `batch_stats` and a pseudo-random number generation `rng`. Note that if models do not require these elements, they can simply be `None` without breaking our code."
      ]
    },
    {
      "cell_type": "code",
      "execution_count": 12,
      "id": "7963119b",
      "metadata": {
        "id": "7963119b"
      },
      "outputs": [],
      "source": [
        "class TrainState(train_state.TrainState):\n",
        "    # A simple extension of TrainState to also include batch statistics\n",
        "    # If a model has no batch statistics, it is None\n",
        "    batch_stats : Any = None\n",
        "    # You can further extend the TrainState by any additional part here\n",
        "    # For example, rng to keep for init, dropout, etc.\n",
        "    rng : Any = None"
      ]
    },
    {
      "cell_type": "markdown",
      "id": "cdb3e264",
      "metadata": {
        "id": "cdb3e264"
      },
      "source": [
        "Now we already come to the main part of this guide: the Trainer module for JAX/Flax. The shown module here is not meant to be the 'one and only' way of doing it, and is more meant as showcasing one possible option of obtaining a Lightning-like API in JAX. The module can easily be extended by more functionalities, depending on what is needed/preferred by the individual users.\n",
        "\n",
        "First let's make a list of functionalities that we would want the Trainer module to include:\n",
        "\n",
        "* **Logging**: For basically all usecases and models, we want to log our hyperparameters, training/validation performance, and model checkpoints. For the second point, we can make use of PyTorch Lightning's logger classes like `TensorBoardLogger` and `WandbLogger`. For the model checkpoints, we use `flax.checkpoints`. In terms of flexibility, the trainer should support arbitrary sets of hyperparameters, since different models may require different hyperparameters. Similarly, it should be easy to add new metrics for logging, like accuracy for classification or intersection over union for segmentation.\n",
        "    * Implemented in: `init_logger`, `save_model`, `load_model`, `save_metrics`\n",
        "* **Model state initialization**: In contrast to PyTorch, JAX separates the model itself from the learnable parameters. Creating a set of parameters for a model requires some boiler-template code, like creating a PRNG for the parameter generation and creating an initial `TrainState`. At the same time, we need to allow overwriting the `model.init` code, since different architectures will have different input arguments for the forward pass (e.g. models with dropout require a dropout-PRNG).\n",
        "    * Implemented in: `init_model`, `run_model_init`, `print_tabulate`\n",
        "* **Optimizer initialization**: Following with the parameter initialization, we also need to create an optimizer and its eventual parameters (e.g. momentum and adaptive learning rate parameters in Adam). Since most models use a similar set of optimizers (SGD or Adam) and extra functionalities like gradient clipping and learning rate scheduling, we can write a template method that creates an optimizers based on some hyperparameters. However, it should be possible to overwrite this method if very specific optimizer settings/learning rate schedulers are needed. Since some schedulers require information about the overall number of training iterations, we create the optimizer right before starting the training.\n",
        "    * Implemented in: `init_optimizer`\n",
        "* **Training loop**: Most models follow a similar training procedure where we train a model for several epoch on the training dataset, and evaluate it in between on the validation dataset. If a model is better than all previous models, we want to save its weight for loading them potentially later. Importantly, however, each model will have a very different training and validation step. Thus, similarly to PyTorch Lightning, we expect that an inheriting Trainer module has to define a training step function and evaluation step function, that can be jitted and used in the training loop. This is implemented in the function `train_model`, `train_epoch`, `eval_model`, `create_functions`, `create_jitted_functions`. Additional aspects to consider include:\n",
        "    * Whether a model is better than the previous ones or not depends on the task at hand. For example, classification models are usually compared by their accuracy, trying to achieve the maximum value, while regression models aim for the lowest loss. Hence, we need a flexible API to support different ways of comparing models and finding the best one. Implemented in: `is_new_model_better`\n",
        "    * Within the training loop, we might want to perform additional operations, like logging reconstruction examples of an autoencoder after every few epochs. To do so, PyTorch Lightning provides functions that are called at different stages during training, which we can similarly integrate in our Trainer module. Implemented in: `on_training_start`, `on_training_epoch_end`, `on_validation_epoch_end`\n",
        "    * Depending on whether we run the model on a cluster with no display or on our local machine, we might want to see progress bars that track the training progress. Hence, the Trainer module should have to switch to enable or disable these progress bars. Implemented in: `tracker`\n",
        "* **Inference**: After we have finished training, we might want to load a model at a later time and perform inference experiments with it. For example, in [Tutorial 9](https://uvadlc-notebooks.readthedocs.io/en/latest/tutorial_notebooks/JAX/tutorial9/AE_CIFAR10.html), we use a trained autoencoder for an image search engine. To support this, two functionalities are needed: (1) loading a model from disk, including its hyperparameters (i.e. the function `load_from_checkpoint` in PyTorch Lightning), and (2) binding parameters to a model to reduce code overhead. Both parts can be implemented in our Trainer module.\n",
        "    * Implemented in: `load_from_checkpoint`, `bind_model` \n",
        "\n",
        "With these requirements in mind, let's finally implement the module. Note that it is a considerably long code cell since we want to support many different settings. We recommend to take some time to go through the code and understand how all the elements are implemented, and how one can extend it depending on their own needs."
      ]
    },
    {
      "cell_type": "code",
      "execution_count": 13,
      "id": "00113c86",
      "metadata": {
        "id": "00113c86"
      },
      "outputs": [],
      "source": [
        "class TrainerModule:\n",
        "\n",
        "    def __init__(self, \n",
        "                 model_class : nn.Module,\n",
        "                 model_hparams : Dict[str, Any],\n",
        "                 optimizer_hparams : Dict[str, Any],\n",
        "                 exmp_input : Any,\n",
        "                 seed : int = 42,\n",
        "                 logger_params : Dict[str, Any] = None,\n",
        "                 enable_progress_bar : bool = True,\n",
        "                 debug : bool = False,\n",
        "                 check_val_every_n_epoch : int = 1,\n",
        "                 **kwargs):\n",
        "        \"\"\"\n",
        "        A basic Trainer module summarizing most common training functionalities\n",
        "        like logging, model initialization, training loop, etc.\n",
        "        \n",
        "        Atributes:\n",
        "          model_class: The class of the model that should be trained.\n",
        "          model_hparams: A dictionary of all hyperparameters of the model. Is\n",
        "            used as input to the model when created.\n",
        "          optimizer_hparams: A dictionary of all hyperparameters of the optimizer.\n",
        "            Used during initialization of the optimizer.\n",
        "          exmp_input: Input to the model for initialization and tabulate.\n",
        "          seed: Seed to initialize PRNG.\n",
        "          logger_params: A dictionary containing the specification of the logger.\n",
        "          enable_progress_bar: If False, no progress bar is shown.\n",
        "          debug: If True, no jitting is applied. Can be helpful for debugging.\n",
        "          check_val_every_n_epoch: The frequency with which the model is evaluated\n",
        "            on the validation set.\n",
        "        \"\"\"\n",
        "        super().__init__()\n",
        "        self.model_class = model_class\n",
        "        self.model_hparams = model_hparams\n",
        "        self.optimizer_hparams = optimizer_hparams\n",
        "        self.enable_progress_bar = enable_progress_bar\n",
        "        self.debug = debug\n",
        "        self.seed = seed\n",
        "        self.check_val_every_n_epoch = check_val_every_n_epoch\n",
        "        self.exmp_input = exmp_input\n",
        "        # Set of hyperparameters to save\n",
        "        self.config = {\n",
        "            'model_class': model_class.__name__,\n",
        "            'model_hparams': model_hparams,\n",
        "            'optimizer_hparams': optimizer_hparams,\n",
        "            'logger_params': logger_params,\n",
        "            'enable_progress_bar': self.enable_progress_bar,\n",
        "            'debug': self.debug,\n",
        "            'check_val_every_n_epoch': check_val_every_n_epoch,\n",
        "            'seed': self.seed\n",
        "        }\n",
        "        self.config.update(kwargs)\n",
        "        # Create empty model. Note: no parameters yet\n",
        "        self.model = self.model_class(**self.model_hparams)\n",
        "        self.print_tabulate(exmp_input)\n",
        "        # Init trainer parts\n",
        "        self.init_logger(logger_params)\n",
        "        self.create_jitted_functions()\n",
        "        self.init_model(exmp_input)\n",
        "\n",
        "    def init_logger(self, \n",
        "                    logger_params : Optional[Dict] = None):\n",
        "        \"\"\"\n",
        "        Initializes a logger and creates a logging directory.\n",
        "        \n",
        "        Args:\n",
        "          logger_params: A dictionary containing the specification of the logger.\n",
        "        \"\"\"\n",
        "        if logger_params is None:\n",
        "            logger_params = dict()\n",
        "        # Determine logging directory\n",
        "        log_dir = logger_params.get('log_dir', None)\n",
        "        if not log_dir:\n",
        "            base_log_dir = logger_params.get('base_log_dir', 'checkpoints/')\n",
        "            # Prepare logging\n",
        "            log_dir = os.path.join(base_log_dir, self.config[\"model_class\"])\n",
        "            if 'logger_name' in logger_params:\n",
        "                log_dir = os.path.join(log_dir, logger_params['logger_name'])\n",
        "            version = None\n",
        "        else:\n",
        "            version = ''\n",
        "        # Create logger object\n",
        "        logger_type = logger_params.get('logger_type', 'TensorBoard').lower()\n",
        "        if logger_type == 'tensorboard':\n",
        "            self.logger = TensorBoardLogger(save_dir=log_dir, \n",
        "                                            version=version,\n",
        "                                            name='')\n",
        "        elif logger_type == 'wandb':\n",
        "            self.logger = WandbLogger(name=logger_params.get('project_name', None),\n",
        "                                      save_dir=log_dir, \n",
        "                                      version=version,\n",
        "                                      config=self.config)\n",
        "        else:\n",
        "            assert False, f'Unknown logger type \\\"{logger_type}\\\"'\n",
        "        # Save hyperparameters\n",
        "        log_dir = self.logger.log_dir\n",
        "        if not os.path.isfile(os.path.join(log_dir, 'hparams.json')):\n",
        "            os.makedirs(os.path.join(log_dir, 'metrics/'), exist_ok=True)\n",
        "            with open(os.path.join(log_dir, 'hparams.json'), 'w') as f:\n",
        "                json.dump(self.config, f, indent=4)\n",
        "        self.log_dir = log_dir\n",
        "\n",
        "    def init_model(self, \n",
        "                   exmp_input : Any):\n",
        "        \"\"\"\n",
        "        Creates an initial training state with newly generated network parameters.\n",
        "        \n",
        "        Args:\n",
        "          exmp_input: An input to the model with which the shapes are inferred.\n",
        "        \"\"\"\n",
        "        # Prepare PRNG and input\n",
        "        model_rng = random.PRNGKey(self.seed)\n",
        "        model_rng, init_rng = random.split(model_rng)\n",
        "        exmp_input = [exmp_input] if not isinstance(exmp_input, (list, tuple)) else exmp_input\n",
        "        # Run model initialization\n",
        "        variables = self.run_model_init(exmp_input, init_rng)\n",
        "        # Create default state. Optimizer is initialized later\n",
        "        self.state = TrainState(step=0, \n",
        "                                apply_fn=self.model.apply,\n",
        "                                params=variables['params'],\n",
        "                                batch_stats=variables.get('batch_stats'),\n",
        "                                rng=model_rng,\n",
        "                                tx=None,\n",
        "                                opt_state=None)\n",
        "\n",
        "    def run_model_init(self, \n",
        "                       exmp_input : Any, \n",
        "                       init_rng : Any) -> Dict:\n",
        "        \"\"\"\n",
        "        The model initialization call\n",
        "        \n",
        "        Args:\n",
        "          exmp_input: An input to the model with which the shapes are inferred.\n",
        "          init_rng: A jax.random.PRNGKey.\n",
        "          \n",
        "        Returns:\n",
        "          The initialized variable dictionary.\n",
        "        \"\"\"\n",
        "        return self.model.init(init_rng, *exmp_input, train=True)\n",
        "\n",
        "    def print_tabulate(self, \n",
        "                       exmp_input : Any):\n",
        "        \"\"\"\n",
        "        Prints a summary of the Module represented as table.\n",
        "        \n",
        "        Args:\n",
        "          exmp_input: An input to the model with which the shapes are inferred.\n",
        "        \"\"\"\n",
        "        print(self.model.tabulate(random.PRNGKey(0), *exmp_input, train=True))\n",
        "\n",
        "    def init_optimizer(self, \n",
        "                       num_epochs : int, \n",
        "                       num_steps_per_epoch : int):\n",
        "        \"\"\"\n",
        "        Initializes the optimizer and learning rate scheduler.\n",
        "        \n",
        "        Args:\n",
        "          num_epochs: Number of epochs the model will be trained for.\n",
        "          num_steps_per_epoch: Number of training steps per epoch.\n",
        "        \"\"\"\n",
        "        hparams = copy(self.optimizer_hparams)\n",
        "\n",
        "        # Initialize optimizer\n",
        "        optimizer_name = hparams.pop('optimizer', 'adamw')\n",
        "        if optimizer_name.lower() == 'adam':\n",
        "            opt_class = optax.adam\n",
        "        elif optimizer_name.lower() == 'adamw':\n",
        "            opt_class = optax.adamw\n",
        "        elif optimizer_name.lower() == 'sgd':\n",
        "            opt_class = optax.sgd\n",
        "        else:\n",
        "            assert False, f'Unknown optimizer \"{opt_class}\"'\n",
        "        # Initialize learning rate scheduler\n",
        "        # A cosine decay scheduler is used, but others are also possible\n",
        "        lr = hparams.pop('lr', 1e-3)\n",
        "        warmup = hparams.pop('warmup', 0)\n",
        "        lr_schedule = optax.warmup_cosine_decay_schedule(\n",
        "            init_value=0.0,\n",
        "            peak_value=lr,\n",
        "            warmup_steps=warmup,\n",
        "            decay_steps=int(num_epochs * num_steps_per_epoch),\n",
        "            end_value=0.01 * lr\n",
        "        )\n",
        "        # Clip gradients at max value, and evt. apply weight decay\n",
        "        transf = [optax.clip_by_global_norm(hparams.pop('gradient_clip', 1.0))]\n",
        "        if opt_class == optax.sgd and 'weight_decay' in hparams:  # wd is integrated in adamw\n",
        "            transf.append(optax.add_decayed_weights(hparams.pop('weight_decay', 0.0)))\n",
        "        optimizer = optax.chain(\n",
        "            *transf,\n",
        "            opt_class(lr_schedule, **hparams)\n",
        "        )\n",
        "        # Initialize training state\n",
        "        self.state = TrainState.create(apply_fn=self.state.apply_fn,\n",
        "                                       params=self.state.params,\n",
        "                                       batch_stats=self.state.batch_stats,\n",
        "                                       tx=optimizer,\n",
        "                                       rng=self.state.rng)\n",
        "    \n",
        "    def create_jitted_functions(self):\n",
        "        \"\"\"\n",
        "        Creates jitted versions of the training and evaluation functions.\n",
        "        If self.debug is True, not jitting is applied.\n",
        "        \"\"\"\n",
        "        train_step, eval_step = self.create_functions()\n",
        "        if self.debug:  # Skip jitting \n",
        "            print('Skipping jitting due to debug=True')\n",
        "            self.train_step = train_step\n",
        "            self.eval_step = eval_step\n",
        "        else:\n",
        "            self.train_step = jax.jit(train_step)\n",
        "            self.eval_step = jax.jit(eval_step)\n",
        "\n",
        "    def create_functions(self) -> Tuple[Callable[[TrainState, Any], Tuple[TrainState, Dict]],\n",
        "                                        Callable[[TrainState, Any], Tuple[TrainState, Dict]]]:\n",
        "        \"\"\"\n",
        "        Creates and returns functions for the training and evaluation step. The\n",
        "        functions take as input the training state and a batch from the train/\n",
        "        val/test loader. Both functions are expected to return a dictionary of\n",
        "        logging metrics, and the training function a new train state. This\n",
        "        function needs to be overwritten by a subclass. The train_step and \n",
        "        eval_step functions here are examples for the signature of the functions.\n",
        "        \"\"\"\n",
        "        def train_step(state : TrainState, \n",
        "                       batch : Any):\n",
        "            metrics = {}\n",
        "            return state, metrics\n",
        "        def eval_step(state : TrainState, \n",
        "                      batch : Any):\n",
        "            metrics = {}\n",
        "            return metrics\n",
        "        raise NotImplementedError\n",
        "\n",
        "    def train_model(self, \n",
        "                    train_loader : Iterator, \n",
        "                    val_loader : Iterator, \n",
        "                    test_loader : Optional[Iterator] = None, \n",
        "                    num_epochs : int = 500) -> Dict[str, Any]:\n",
        "        \"\"\"\n",
        "        Starts a training loop for the given number of epochs.\n",
        "        \n",
        "        Args:\n",
        "          train_loader: Data loader of the training set.\n",
        "          val_loader: Data loader of the validation set.\n",
        "          test_loader: If given, best model will be evaluated on the test set.\n",
        "          num_epochs: Number of epochs for which to train the model.\n",
        "          \n",
        "        Returns:\n",
        "          A dictionary of the train, validation and evt. test metrics for the\n",
        "          best model on the validation set.\n",
        "        \"\"\"\n",
        "        # Create optimizer and the scheduler for the given number of epochs\n",
        "        self.init_optimizer(num_epochs, len(train_loader))\n",
        "        # Prepare training loop\n",
        "        self.on_training_start()\n",
        "        best_eval_metrics = None\n",
        "        for epoch_idx in self.tracker(range(1, num_epochs+1), desc='Epochs'):\n",
        "            train_metrics = self.train_epoch(train_loader)\n",
        "            self.logger.log_metrics(train_metrics, step=epoch_idx)\n",
        "            self.on_training_epoch_end(epoch_idx)\n",
        "            # Validation every N epochs\n",
        "            if epoch_idx % self.check_val_every_n_epoch == 0:\n",
        "                eval_metrics = self.eval_model(val_loader, log_prefix='val/')\n",
        "                self.on_validation_epoch_end(epoch_idx, eval_metrics, val_loader)\n",
        "                self.logger.log_metrics(eval_metrics, step=epoch_idx)\n",
        "                self.save_metrics(f'eval_epoch_{str(epoch_idx).zfill(3)}', eval_metrics)\n",
        "                # Save best model\n",
        "                if self.is_new_model_better(eval_metrics, best_eval_metrics):\n",
        "                    best_eval_metrics = eval_metrics\n",
        "                    best_eval_metrics.update(train_metrics)\n",
        "                    self.save_model(step=epoch_idx)\n",
        "                    self.save_metrics('best_eval', eval_metrics)\n",
        "        # Test best model if possible\n",
        "        if test_loader is not None:\n",
        "            self.load_model()\n",
        "            test_metrics = self.eval_model(test_loader, log_prefix='test/')\n",
        "            self.logger.log_metrics(test_metrics, step=epoch_idx)\n",
        "            self.save_metrics('test', test_metrics)\n",
        "            best_eval_metrics.update(test_metrics)\n",
        "        # Close logger\n",
        "        self.logger.finalize('success')\n",
        "        return best_eval_metrics\n",
        "\n",
        "    def train_epoch(self, \n",
        "                    train_loader : Iterator) -> Dict[str, Any]:\n",
        "        \"\"\"\n",
        "        Trains a model for one epoch.\n",
        "        \n",
        "        Args:\n",
        "          train_loader: Data loader of the training set.\n",
        "          \n",
        "        Returns:\n",
        "          A dictionary of the average training metrics over all batches\n",
        "          for logging.\n",
        "        \"\"\"\n",
        "        # Train model for one epoch, and log avg loss and accuracy\n",
        "        metrics = defaultdict(float)\n",
        "        num_train_steps = len(train_loader)\n",
        "        start_time = time.time()\n",
        "        for batch in self.tracker(train_loader, desc='Training', leave=False):\n",
        "            self.state, step_metrics = self.train_step(self.state, batch)\n",
        "            for key in step_metrics:\n",
        "                metrics['train/' + key] += step_metrics[key] / num_train_steps\n",
        "        metrics = {key: metrics[key].item() for key in metrics}\n",
        "        metrics['epoch_time'] = time.time() - start_time\n",
        "        return metrics\n",
        "\n",
        "    def eval_model(self, \n",
        "                   data_loader : Iterator, \n",
        "                   log_prefix : Optional[str] = '') -> Dict[str, Any]:\n",
        "        \"\"\"\n",
        "        Evaluates the model on a dataset.\n",
        "        \n",
        "        Args:\n",
        "          data_loader: Data loader of the dataset to evaluate on.\n",
        "          log_prefix: Prefix to add to all metrics (e.g. 'val/' or 'test/')\n",
        "          \n",
        "        Returns:\n",
        "          A dictionary of the evaluation metrics, averaged over data points\n",
        "          in the dataset.\n",
        "        \"\"\"\n",
        "        # Test model on all images of a data loader and return avg loss\n",
        "        metrics = defaultdict(float)\n",
        "        num_elements = 0\n",
        "        for batch in data_loader:\n",
        "            step_metrics = self.eval_step(self.state, batch)\n",
        "            batch_size = batch[0].shape[0] if isinstance(batch, (list, tuple)) else batch.shape[0]\n",
        "            for key in step_metrics:\n",
        "                metrics[key] += step_metrics[key] * batch_size\n",
        "            num_elements += batch_size\n",
        "        metrics = {(log_prefix + key): (metrics[key] / num_elements).item() for key in metrics}\n",
        "        return metrics\n",
        "\n",
        "    def is_new_model_better(self, \n",
        "                            new_metrics : Dict[str, Any], \n",
        "                            old_metrics : Dict[str, Any]) -> bool:\n",
        "        \"\"\"\n",
        "        Compares two sets of evaluation metrics to decide whether the\n",
        "        new model is better than the previous ones or not.\n",
        "        \n",
        "        Args:\n",
        "          new_metrics: A dictionary of the evaluation metrics of the new model.\n",
        "          old_metrics: A dictionary of the evaluation metrics of the previously\n",
        "            best model, i.e. the one to compare to.\n",
        "            \n",
        "        Returns:\n",
        "          True if the new model is better than the old one, and False otherwise.\n",
        "        \"\"\"\n",
        "        if old_metrics is None:\n",
        "            return True\n",
        "        for key, is_larger in [('val/val_metric', False), ('val/acc', True), ('val/loss', False)]:\n",
        "            if key in new_metrics:\n",
        "                if is_larger:\n",
        "                    return new_metrics[key] > old_metrics[key]\n",
        "                else:\n",
        "                    return new_metrics[key] < old_metrics[key]\n",
        "        assert False, f'No known metrics to log on: {new_metrics}'\n",
        "\n",
        "    def tracker(self, \n",
        "                iterator : Iterator, \n",
        "                **kwargs) -> Iterator:\n",
        "        \"\"\"\n",
        "        Wraps an iterator in a progress bar tracker (tqdm) if the progress bar \n",
        "        is enabled.\n",
        "        \n",
        "        Args:\n",
        "          iterator: Iterator to wrap in tqdm.\n",
        "          kwargs: Additional arguments to tqdm.\n",
        "          \n",
        "        Returns:\n",
        "          Wrapped iterator if progress bar is enabled, otherwise same iterator\n",
        "          as input.\n",
        "        \"\"\"\n",
        "        if self.enable_progress_bar:\n",
        "            return tqdm(iterator, **kwargs)\n",
        "        else:\n",
        "            return iterator\n",
        "\n",
        "    def save_metrics(self, \n",
        "                     filename : str, \n",
        "                     metrics : Dict[str, Any]):\n",
        "        \"\"\"\n",
        "        Saves a dictionary of metrics to file. Can be used as a textual\n",
        "        representation of the validation performance for checking in the terminal.\n",
        "        \n",
        "        Args:\n",
        "          filename: Name of the metrics file without folders and postfix.\n",
        "          metrics: A dictionary of metrics to save in the file.\n",
        "        \"\"\"\n",
        "        with open(os.path.join(self.log_dir, f'metrics/{filename}.json'), 'w') as f:\n",
        "            json.dump(metrics, f, indent=4)\n",
        "\n",
        "    def on_training_start(self):\n",
        "        \"\"\"\n",
        "        Method called before training is started. Can be used for additional\n",
        "        initialization operations etc.\n",
        "        \"\"\"\n",
        "        pass\n",
        "\n",
        "    def on_training_epoch_end(self, \n",
        "                              epoch_idx : int):\n",
        "        \"\"\"\n",
        "        Method called at the end of each training epoch. Can be used for additional\n",
        "        logging or similar.\n",
        "        \n",
        "        Args:\n",
        "          epoch_idx: Index of the training epoch that has finished.\n",
        "        \"\"\"\n",
        "        pass\n",
        "\n",
        "    def on_validation_epoch_end(self, \n",
        "                                epoch_idx : int, \n",
        "                                eval_metrics : Dict[str, Any], \n",
        "                                val_loader : Iterator):\n",
        "        \"\"\"\n",
        "        Method called at the end of each validation epoch. Can be used for additional\n",
        "        logging and evaluation.\n",
        "        \n",
        "        Args:\n",
        "          epoch_idx: Index of the training epoch at which validation was performed.\n",
        "          eval_metrics: A dictionary of the validation metrics. New metrics added to\n",
        "            this dictionary will be logged as well.\n",
        "          val_loader: Data loader of the validation set, to support additional \n",
        "            evaluation.\n",
        "        \"\"\"\n",
        "        pass\n",
        "\n",
        "    def save_model(self, \n",
        "                   step : int = 0):\n",
        "        \"\"\"\n",
        "        Saves current training state at certain training iteration. Only the model\n",
        "        parameters and batch statistics are saved to reduce memory footprint. To\n",
        "        support the training to be continued from a checkpoint, this method can be\n",
        "        extended to include the optimizer state as well.\n",
        "        \n",
        "        Args:\n",
        "          step: Index of the step to save the model at, e.g. epoch.\n",
        "        \"\"\"\n",
        "        checkpoints.save_checkpoint(ckpt_dir=self.log_dir,\n",
        "                                    target={'params': self.state.params,\n",
        "                                            'batch_stats': self.state.batch_stats},\n",
        "                                    step=step,\n",
        "                                    overwrite=True)\n",
        "\n",
        "    def load_model(self):\n",
        "        \"\"\"\n",
        "        Loads model parameters and batch statistics from the logging directory.\n",
        "        \"\"\"\n",
        "        state_dict = checkpoints.restore_checkpoint(ckpt_dir=self.log_dir, target=None)\n",
        "        self.state = TrainState.create(apply_fn=self.model.apply,\n",
        "                                       params=state_dict['params'],\n",
        "                                       batch_stats=state_dict['batch_stats'],\n",
        "                                       # Optimizer will be overwritten when training starts\n",
        "                                       tx=self.state.tx if self.state.tx else optax.sgd(0.1),\n",
        "                                       rng=self.state.rng\n",
        "                                      )\n",
        "            \n",
        "    def bind_model(self):\n",
        "        \"\"\"\n",
        "        Returns a model with parameters bound to it. Enables an easier inference\n",
        "        access.\n",
        "        \n",
        "        Returns:\n",
        "          The model with parameters and evt. batch statistics bound to it.\n",
        "        \"\"\"\n",
        "        params = {'params': self.state.params}\n",
        "        if self.state.batch_stats:\n",
        "            params['batch_stats'] = self.state.batch_stats\n",
        "        return self.model.bind(params)\n",
        "\n",
        "    @classmethod\n",
        "    def load_from_checkpoint(cls, \n",
        "                             checkpoint : str, \n",
        "                             exmp_input : Any) -> Any:\n",
        "        \"\"\"\n",
        "        Creates a Trainer object with same hyperparameters and loaded model from\n",
        "        a checkpoint directory.\n",
        "        \n",
        "        Args:\n",
        "          checkpoint: Folder in which the checkpoint and hyperparameter file is stored.\n",
        "          exmp_input: An input to the model for shape inference.\n",
        "          \n",
        "        Returns:\n",
        "          A Trainer object with model loaded from the checkpoint folder. \n",
        "        \"\"\"\n",
        "        hparams_file = os.path.join(checkpoint, 'hparams.json')\n",
        "        assert os.path.isfile(hparams_file), 'Could not find hparams file'\n",
        "        with open(hparams_file, 'r') as f:\n",
        "            hparams = json.load(f)\n",
        "        hparams.pop('model_class')\n",
        "        hparams.update(hparams.pop('model_hparams'))\n",
        "        if not hparams['logger_params']:\n",
        "            hparams['logger_params'] = dict()\n",
        "        hparams['logger_params']['log_dir'] = checkpoint\n",
        "        trainer = cls(exmp_input=exmp_input,\n",
        "                      **hparams)\n",
        "        trainer.load_model()\n",
        "        return trainer"
      ]
    },
    {
      "cell_type": "markdown",
      "id": "4745efac",
      "metadata": {
        "id": "4745efac"
      },
      "source": [
        "### Utility functions\n",
        "\n",
        "Besides the Trainer module, we have seen other functionalities re-occurring several times in the tutorials. One of them is `numpy_collate`, which is needed for PyTorch's data loader to purely work with NumPy arrays. Similarly, creating Data Loaders for our datasets often follows the same structure, which we can also summarize in a function called `create_data_loaders`."
      ]
    },
    {
      "cell_type": "code",
      "execution_count": 14,
      "id": "57eaa392",
      "metadata": {
        "id": "57eaa392"
      },
      "outputs": [],
      "source": [
        "def numpy_collate(batch):\n",
        "    if isinstance(batch[0], np.ndarray):\n",
        "        return np.stack(batch)\n",
        "    elif isinstance(batch[0], (tuple,list)):\n",
        "        transposed = zip(*batch)\n",
        "        return [numpy_collate(samples) for samples in transposed]\n",
        "    else:\n",
        "        return np.array(batch)\n",
        "\n",
        "def create_data_loaders(*datasets : Sequence[data.Dataset], \n",
        "                        train : Union[bool, Sequence[bool]] = True, \n",
        "                        batch_size : int = 128, \n",
        "                        num_workers : int = 10, \n",
        "                        seed : int = 42):\n",
        "    \"\"\"\n",
        "    Creates data loaders used in JAX for a set of datasets.\n",
        "    \n",
        "    Args:\n",
        "      datasets: Datasets for which data loaders are created.\n",
        "      train: Sequence indicating which datasets are used for \n",
        "        training and which not. If single bool, the same value\n",
        "        is used for all datasets.\n",
        "      batch_size: Batch size to use in the data loaders.\n",
        "      num_workers: Number of workers for each dataset.\n",
        "      seed: Seed to initialize the workers and shuffling with.\n",
        "    \"\"\"\n",
        "    loaders = []\n",
        "    if not isinstance(train, (list, tuple)):\n",
        "        train = [train for _ in datasets]\n",
        "    for dataset, is_train in zip(datasets, train):\n",
        "        loader = data.DataLoader(dataset,\n",
        "                                 batch_size=batch_size,\n",
        "                                 shuffle=is_train,\n",
        "                                 drop_last=is_train,\n",
        "                                 collate_fn=numpy_collate,\n",
        "                                 num_workers=num_workers,\n",
        "                                 persistent_workers=is_train,\n",
        "                                 generator=torch.Generator().manual_seed(seed))\n",
        "        loaders.append(loader)\n",
        "    return loaders"
      ]
    },
    {
      "cell_type": "markdown",
      "id": "d5f6bd64",
      "metadata": {
        "id": "d5f6bd64"
      },
      "source": [
        "## Example 1: Function regression\n",
        "\n",
        "Using the `TrainerModule` and our few utility functions, we can now write a full training scenario with logging etc. in a few lines. To showcase this, we first consider a very simple scenario: regressing a sine-wave with a neural network."
      ]
    },
    {
      "cell_type": "markdown",
      "id": "b3558d13",
      "metadata": {
        "id": "b3558d13"
      },
      "source": [
        "### Dataset\n",
        "\n",
        "The first step is to create a dataset. Since we can use PyTorch's data package, this is straightforward. First, let's import needed plotting libraries for visualization and set the data and checkpoint path, similarly as in any other tutorial."
      ]
    },
    {
      "cell_type": "code",
      "execution_count": 15,
      "id": "7e6bbdfe",
      "metadata": {
        "id": "7e6bbdfe"
      },
      "outputs": [
        {
          "name": "stderr",
          "output_type": "stream",
          "text": [
            "/var/folders/qq/0x5k9ncx4_18n2rn_80_67080000gn/T/ipykernel_20185/2952286410.py:5: DeprecationWarning: `set_matplotlib_formats` is deprecated since IPython 7.23, directly use `matplotlib_inline.backend_inline.set_matplotlib_formats()`\n",
            "  set_matplotlib_formats('svg', 'pdf') # For export\n"
          ]
        }
      ],
      "source": [
        "## Imports for plotting\n",
        "import matplotlib.pyplot as plt\n",
        "%matplotlib inline\n",
        "from IPython.display import set_matplotlib_formats\n",
        "set_matplotlib_formats('svg', 'pdf') # For export\n",
        "from matplotlib.colors import to_rgb\n",
        "import matplotlib\n",
        "matplotlib.rcParams['lines.linewidth'] = 2.0\n",
        "import seaborn as sns\n",
        "sns.reset_orig()\n",
        "sns.set()\n",
        "\n",
        "DATASET_PATH = '/Users/aliounebenmordiankha/Downloads/Notebook'\n",
        "CHECKPOINT_PATH = '/Users/aliounebenmordiankha/Downloads/saved_models'"
      ]
    },
    {
      "cell_type": "markdown",
      "id": "26cc39bf",
      "metadata": {
        "id": "26cc39bf"
      },
      "source": [
        "The dataset is kept very simple and contains pairs of input-output of a sine function:"
      ]
    },
    {
      "cell_type": "code",
      "execution_count": 16,
      "id": "e6ad10f1",
      "metadata": {
        "id": "e6ad10f1"
      },
      "outputs": [],
      "source": [
        "def target_function(x):\n",
        "    return np.sin(x * 3.0)\n",
        "\n",
        "class RegressionDataset(data.Dataset):\n",
        "    \n",
        "    def __init__(self, num_points, seed):\n",
        "        super().__init__()\n",
        "        rng = np.random.default_rng(seed)\n",
        "        self.x = rng.uniform(low=-2.0, high=2.0, size=num_points)\n",
        "        self.y = target_function(self.x)\n",
        "        \n",
        "    def __len__(self):\n",
        "        return self.x.shape[0]\n",
        "    \n",
        "    def __getitem__(self, idx):\n",
        "        return self.x[idx:idx+1], self.y[idx:idx+1]"
      ]
    },
    {
      "cell_type": "markdown",
      "id": "256736e3",
      "metadata": {
        "id": "256736e3"
      },
      "source": [
        "We can create our needed data loaders with the utility function `create_data_loaders` and visualize the dataset for debugging:"
      ]
    },
    {
      "cell_type": "code",
      "execution_count": 17,
      "id": "2079293e",
      "metadata": {
        "id": "2079293e",
        "outputId": "81d2706b-f38f-4362-fde2-d894968791c1"
      },
      "outputs": [
        {
          "data": {
            "application/pdf": "[encoded data removed]",
            "image/svg+xml": "<?xml version=\"1.0\" encoding=\"utf-8\" standalone=\"no\"?>\n<!DOCTYPE svg PUBLIC \"-//W3C//DTD SVG 1.1//EN\"\n  \"http://www.w3.org/Graphics/SVG/1.1/DTD/svg11.dtd\">\n<svg xmlns:xlink=\"http://www.w3.org/1999/xlink\" width=\"408.851719pt\" height=\"314.807469pt\" viewBox=\"0 0 408.851719 314.807469\" xmlns=\"http://www.w3.org/2000/svg\" version=\"1.1\">\n <metadata>\n  <rdf:RDF xmlns:dc=\"http://purl.org/dc/elements/1.1/\" xmlns:cc=\"http://creativecommons.org/ns#\" xmlns:rdf=\"http://www.w3.org/1999/02/22-rdf-syntax-ns#\">\n   <cc:Work>\n    <dc:type rdf:resource=\"http://purl.org/dc/dcmitype/StillImage\"/>\n    <dc:date>2022-11-24T00:40:38.278249</dc:date>\n    <dc:format>image/svg+xml</dc:format>\n    <dc:creator>\n     <cc:Agent>\n      <dc:title>Matplotlib v3.5.3, https://matplotlib.org/</dc:title>\n     </cc:Agent>\n    </dc:creator>\n   </cc:Work>\n  </rdf:RDF>\n </metadata>\n <defs>\n  <style type=\"text/css\">*{stroke-linejoin: round; stroke-linecap: butt}</style>\n </defs>\n <g id=\"figure_1\">\n  <g id=\"patch_1\">\n   <path d=\"M 0 314.807469 \nL 408.851719 314.807469 \nL 408.851719 0 \nL 0 0 \nz\n\" style=\"fill: #ffffff\"/>\n  </g>\n  <g id=\"axes_1\">\n   <g id=\"patch_2\">\n    <path d=\"M 44.531719 288.047625 \nL 401.651719 288.047625 \nL 401.651719 21.935625 \nL 44.531719 21.935625 \nz\n\" style=\"fill: #eaeaf2\"/>\n   </g>\n   <g id=\"matplotlib.axis_1\">\n    <g id=\"xtick_1\">\n     <g id=\"line2d_1\">\n      <path d=\"M 60.764446 288.047625 \nL 60.764446 21.935625 \n\" clip-path=\"url(#p8005a02ed2)\" style=\"fill: none; stroke: #ffffff; stroke-linecap: round\"/>\n     </g>\n     <g id=\"text_1\">\n      <!-- −2.0 -->\n      <g style=\"fill: #262626\" transform=\"translate(49.907102 305.421219)scale(0.11 -0.11)\">\n       <defs>\n        <path id=\"ArialMT-2212\" d=\"M 3381 1997 \nL 356 1997 \nL 356 2522 \nL 3381 2522 \nL 3381 1997 \nz\n\" transform=\"scale(0.015625)\"/>\n        <path id=\"ArialMT-32\" d=\"M 3222 541 \nL 3222 0 \nL 194 0 \nQ 188 203 259 391 \nQ 375 700 629 1000 \nQ 884 1300 1366 1694 \nQ 2113 2306 2375 2664 \nQ 2638 3022 2638 3341 \nQ 2638 3675 2398 3904 \nQ 2159 4134 1775 4134 \nQ 1369 4134 1125 3890 \nQ 881 3647 878 3216 \nL 300 3275 \nQ 359 3922 746 4261 \nQ 1134 4600 1788 4600 \nQ 2447 4600 2831 4234 \nQ 3216 3869 3216 3328 \nQ 3216 3053 3103 2787 \nQ 2991 2522 2730 2228 \nQ 2469 1934 1863 1422 \nQ 1356 997 1212 845 \nQ 1069 694 975 541 \nL 3222 541 \nz\n\" transform=\"scale(0.015625)\"/>\n        <path id=\"ArialMT-2e\" d=\"M 581 0 \nL 581 641 \nL 1222 641 \nL 1222 0 \nL 581 0 \nz\n\" transform=\"scale(0.015625)\"/>\n        <path id=\"ArialMT-30\" d=\"M 266 2259 \nQ 266 3072 433 3567 \nQ 600 4063 929 4331 \nQ 1259 4600 1759 4600 \nQ 2128 4600 2406 4451 \nQ 2684 4303 2865 4023 \nQ 3047 3744 3150 3342 \nQ 3253 2941 3253 2259 \nQ 3253 1453 3087 958 \nQ 2922 463 2592 192 \nQ 2263 -78 1759 -78 \nQ 1097 -78 719 397 \nQ 266 969 266 2259 \nz\nM 844 2259 \nQ 844 1131 1108 757 \nQ 1372 384 1759 384 \nQ 2147 384 2411 759 \nQ 2675 1134 2675 2259 \nQ 2675 3391 2411 3762 \nQ 2147 4134 1753 4134 \nQ 1366 4134 1134 3806 \nQ 844 3388 844 2259 \nz\n\" transform=\"scale(0.015625)\"/>\n       </defs>\n       <use xlink:href=\"#ArialMT-2212\"/>\n       <use xlink:href=\"#ArialMT-32\" x=\"58.398438\"/>\n       <use xlink:href=\"#ArialMT-2e\" x=\"114.013672\"/>\n       <use xlink:href=\"#ArialMT-30\" x=\"141.796875\"/>\n      </g>\n     </g>\n    </g>\n    <g id=\"xtick_2\">\n     <g id=\"line2d_2\">\n      <path d=\"M 101.346264 288.047625 \nL 101.346264 21.935625 \n\" clip-path=\"url(#p8005a02ed2)\" style=\"fill: none; stroke: #ffffff; stroke-linecap: round\"/>\n     </g>\n     <g id=\"text_2\">\n      <!-- −1.5 -->\n      <g style=\"fill: #262626\" transform=\"translate(90.48892 305.421219)scale(0.11 -0.11)\">\n       <defs>\n        <path id=\"ArialMT-31\" d=\"M 2384 0 \nL 1822 0 \nL 1822 3584 \nQ 1619 3391 1289 3197 \nQ 959 3003 697 2906 \nL 697 3450 \nQ 1169 3672 1522 3987 \nQ 1875 4303 2022 4600 \nL 2384 4600 \nL 2384 0 \nz\n\" transform=\"scale(0.015625)\"/>\n        <path id=\"ArialMT-35\" d=\"M 266 1200 \nL 856 1250 \nQ 922 819 1161 601 \nQ 1400 384 1738 384 \nQ 2144 384 2425 690 \nQ 2706 997 2706 1503 \nQ 2706 1984 2436 2262 \nQ 2166 2541 1728 2541 \nQ 1456 2541 1237 2417 \nQ 1019 2294 894 2097 \nL 366 2166 \nL 809 4519 \nL 3088 4519 \nL 3088 3981 \nL 1259 3981 \nL 1013 2750 \nQ 1425 3038 1878 3038 \nQ 2478 3038 2890 2622 \nQ 3303 2206 3303 1553 \nQ 3303 931 2941 478 \nQ 2500 -78 1738 -78 \nQ 1113 -78 717 272 \nQ 322 622 266 1200 \nz\n\" transform=\"scale(0.015625)\"/>\n       </defs>\n       <use xlink:href=\"#ArialMT-2212\"/>\n       <use xlink:href=\"#ArialMT-31\" x=\"58.398438\"/>\n       <use xlink:href=\"#ArialMT-2e\" x=\"114.013672\"/>\n       <use xlink:href=\"#ArialMT-35\" x=\"141.796875\"/>\n      </g>\n     </g>\n    </g>\n    <g id=\"xtick_3\">\n     <g id=\"line2d_3\">\n      <path d=\"M 141.928082 288.047625 \nL 141.928082 21.935625 \n\" clip-path=\"url(#p8005a02ed2)\" style=\"fill: none; stroke: #ffffff; stroke-linecap: round\"/>\n     </g>\n     <g id=\"text_3\">\n      <!-- −1.0 -->\n      <g style=\"fill: #262626\" transform=\"translate(131.070739 305.421219)scale(0.11 -0.11)\">\n       <use xlink:href=\"#ArialMT-2212\"/>\n       <use xlink:href=\"#ArialMT-31\" x=\"58.398438\"/>\n       <use xlink:href=\"#ArialMT-2e\" x=\"114.013672\"/>\n       <use xlink:href=\"#ArialMT-30\" x=\"141.796875\"/>\n      </g>\n     </g>\n    </g>\n    <g id=\"xtick_4\">\n     <g id=\"line2d_4\">\n      <path d=\"M 182.509901 288.047625 \nL 182.509901 21.935625 \n\" clip-path=\"url(#p8005a02ed2)\" style=\"fill: none; stroke: #ffffff; stroke-linecap: round\"/>\n     </g>\n     <g id=\"text_4\">\n      <!-- −0.5 -->\n      <g style=\"fill: #262626\" transform=\"translate(171.652557 305.421219)scale(0.11 -0.11)\">\n       <use xlink:href=\"#ArialMT-2212\"/>\n       <use xlink:href=\"#ArialMT-30\" x=\"58.398438\"/>\n       <use xlink:href=\"#ArialMT-2e\" x=\"114.013672\"/>\n       <use xlink:href=\"#ArialMT-35\" x=\"141.796875\"/>\n      </g>\n     </g>\n    </g>\n    <g id=\"xtick_5\">\n     <g id=\"line2d_5\">\n      <path d=\"M 223.091719 288.047625 \nL 223.091719 21.935625 \n\" clip-path=\"url(#p8005a02ed2)\" style=\"fill: none; stroke: #ffffff; stroke-linecap: round\"/>\n     </g>\n     <g id=\"text_5\">\n      <!-- 0.0 -->\n      <g style=\"fill: #262626\" transform=\"translate(215.446719 305.421219)scale(0.11 -0.11)\">\n       <use xlink:href=\"#ArialMT-30\"/>\n       <use xlink:href=\"#ArialMT-2e\" x=\"55.615234\"/>\n       <use xlink:href=\"#ArialMT-30\" x=\"83.398438\"/>\n      </g>\n     </g>\n    </g>\n    <g id=\"xtick_6\">\n     <g id=\"line2d_6\">\n      <path d=\"M 263.673537 288.047625 \nL 263.673537 21.935625 \n\" clip-path=\"url(#p8005a02ed2)\" style=\"fill: none; stroke: #ffffff; stroke-linecap: round\"/>\n     </g>\n     <g id=\"text_6\">\n      <!-- 0.5 -->\n      <g style=\"fill: #262626\" transform=\"translate(256.028537 305.421219)scale(0.11 -0.11)\">\n       <use xlink:href=\"#ArialMT-30\"/>\n       <use xlink:href=\"#ArialMT-2e\" x=\"55.615234\"/>\n       <use xlink:href=\"#ArialMT-35\" x=\"83.398438\"/>\n      </g>\n     </g>\n    </g>\n    <g id=\"xtick_7\">\n     <g id=\"line2d_7\">\n      <path d=\"M 304.255355 288.047625 \nL 304.255355 21.935625 \n\" clip-path=\"url(#p8005a02ed2)\" style=\"fill: none; stroke: #ffffff; stroke-linecap: round\"/>\n     </g>\n     <g id=\"text_7\">\n      <!-- 1.0 -->\n      <g style=\"fill: #262626\" transform=\"translate(296.610355 305.421219)scale(0.11 -0.11)\">\n       <use xlink:href=\"#ArialMT-31\"/>\n       <use xlink:href=\"#ArialMT-2e\" x=\"55.615234\"/>\n       <use xlink:href=\"#ArialMT-30\" x=\"83.398438\"/>\n      </g>\n     </g>\n    </g>\n    <g id=\"xtick_8\">\n     <g id=\"line2d_8\">\n      <path d=\"M 344.837173 288.047625 \nL 344.837173 21.935625 \n\" clip-path=\"url(#p8005a02ed2)\" style=\"fill: none; stroke: #ffffff; stroke-linecap: round\"/>\n     </g>\n     <g id=\"text_8\">\n      <!-- 1.5 -->\n      <g style=\"fill: #262626\" transform=\"translate(337.192173 305.421219)scale(0.11 -0.11)\">\n       <use xlink:href=\"#ArialMT-31\"/>\n       <use xlink:href=\"#ArialMT-2e\" x=\"55.615234\"/>\n       <use xlink:href=\"#ArialMT-35\" x=\"83.398438\"/>\n      </g>\n     </g>\n    </g>\n    <g id=\"xtick_9\">\n     <g id=\"line2d_9\">\n      <path d=\"M 385.418991 288.047625 \nL 385.418991 21.935625 \n\" clip-path=\"url(#p8005a02ed2)\" style=\"fill: none; stroke: #ffffff; stroke-linecap: round\"/>\n     </g>\n     <g id=\"text_9\">\n      <!-- 2.0 -->\n      <g style=\"fill: #262626\" transform=\"translate(377.773991 305.421219)scale(0.11 -0.11)\">\n       <use xlink:href=\"#ArialMT-32\"/>\n       <use xlink:href=\"#ArialMT-2e\" x=\"55.615234\"/>\n       <use xlink:href=\"#ArialMT-30\" x=\"83.398438\"/>\n      </g>\n     </g>\n    </g>\n   </g>\n   <g id=\"matplotlib.axis_2\">\n    <g id=\"ytick_1\">\n     <g id=\"line2d_10\">\n      <path d=\"M 44.531719 275.951952 \nL 401.651719 275.951952 \n\" clip-path=\"url(#p8005a02ed2)\" style=\"fill: none; stroke: #ffffff; stroke-linecap: round\"/>\n     </g>\n     <g id=\"text_10\">\n      <!-- −1.00 -->\n      <g style=\"fill: #262626\" transform=\"translate(7.2 279.888749)scale(0.11 -0.11)\">\n       <use xlink:href=\"#ArialMT-2212\"/>\n       <use xlink:href=\"#ArialMT-31\" x=\"58.398438\"/>\n       <use xlink:href=\"#ArialMT-2e\" x=\"114.013672\"/>\n       <use xlink:href=\"#ArialMT-30\" x=\"141.796875\"/>\n       <use xlink:href=\"#ArialMT-30\" x=\"197.412109\"/>\n      </g>\n     </g>\n    </g>\n    <g id=\"ytick_2\">\n     <g id=\"line2d_11\">\n      <path d=\"M 44.531719 245.711906 \nL 401.651719 245.711906 \n\" clip-path=\"url(#p8005a02ed2)\" style=\"fill: none; stroke: #ffffff; stroke-linecap: round\"/>\n     </g>\n     <g id=\"text_11\">\n      <!-- −0.75 -->\n      <g style=\"fill: #262626\" transform=\"translate(7.2 249.648703)scale(0.11 -0.11)\">\n       <defs>\n        <path id=\"ArialMT-37\" d=\"M 303 3981 \nL 303 4522 \nL 3269 4522 \nL 3269 4084 \nQ 2831 3619 2401 2847 \nQ 1972 2075 1738 1259 \nQ 1569 684 1522 0 \nL 944 0 \nQ 953 541 1156 1306 \nQ 1359 2072 1739 2783 \nQ 2119 3494 2547 3981 \nL 303 3981 \nz\n\" transform=\"scale(0.015625)\"/>\n       </defs>\n       <use xlink:href=\"#ArialMT-2212\"/>\n       <use xlink:href=\"#ArialMT-30\" x=\"58.398438\"/>\n       <use xlink:href=\"#ArialMT-2e\" x=\"114.013672\"/>\n       <use xlink:href=\"#ArialMT-37\" x=\"141.796875\"/>\n       <use xlink:href=\"#ArialMT-35\" x=\"197.412109\"/>\n      </g>\n     </g>\n    </g>\n    <g id=\"ytick_3\">\n     <g id=\"line2d_12\">\n      <path d=\"M 44.531719 215.47186 \nL 401.651719 215.47186 \n\" clip-path=\"url(#p8005a02ed2)\" style=\"fill: none; stroke: #ffffff; stroke-linecap: round\"/>\n     </g>\n     <g id=\"text_12\">\n      <!-- −0.50 -->\n      <g style=\"fill: #262626\" transform=\"translate(7.2 219.408657)scale(0.11 -0.11)\">\n       <use xlink:href=\"#ArialMT-2212\"/>\n       <use xlink:href=\"#ArialMT-30\" x=\"58.398438\"/>\n       <use xlink:href=\"#ArialMT-2e\" x=\"114.013672\"/>\n       <use xlink:href=\"#ArialMT-35\" x=\"141.796875\"/>\n       <use xlink:href=\"#ArialMT-30\" x=\"197.412109\"/>\n      </g>\n     </g>\n    </g>\n    <g id=\"ytick_4\">\n     <g id=\"line2d_13\">\n      <path d=\"M 44.531719 185.231815 \nL 401.651719 185.231815 \n\" clip-path=\"url(#p8005a02ed2)\" style=\"fill: none; stroke: #ffffff; stroke-linecap: round\"/>\n     </g>\n     <g id=\"text_13\">\n      <!-- −0.25 -->\n      <g style=\"fill: #262626\" transform=\"translate(7.2 189.168611)scale(0.11 -0.11)\">\n       <use xlink:href=\"#ArialMT-2212\"/>\n       <use xlink:href=\"#ArialMT-30\" x=\"58.398438\"/>\n       <use xlink:href=\"#ArialMT-2e\" x=\"114.013672\"/>\n       <use xlink:href=\"#ArialMT-32\" x=\"141.796875\"/>\n       <use xlink:href=\"#ArialMT-35\" x=\"197.412109\"/>\n      </g>\n     </g>\n    </g>\n    <g id=\"ytick_5\">\n     <g id=\"line2d_14\">\n      <path d=\"M 44.531719 154.991769 \nL 401.651719 154.991769 \n\" clip-path=\"url(#p8005a02ed2)\" style=\"fill: none; stroke: #ffffff; stroke-linecap: round\"/>\n     </g>\n     <g id=\"text_14\">\n      <!-- 0.00 -->\n      <g style=\"fill: #262626\" transform=\"translate(13.624688 158.928566)scale(0.11 -0.11)\">\n       <use xlink:href=\"#ArialMT-30\"/>\n       <use xlink:href=\"#ArialMT-2e\" x=\"55.615234\"/>\n       <use xlink:href=\"#ArialMT-30\" x=\"83.398438\"/>\n       <use xlink:href=\"#ArialMT-30\" x=\"139.013672\"/>\n      </g>\n     </g>\n    </g>\n    <g id=\"ytick_6\">\n     <g id=\"line2d_15\">\n      <path d=\"M 44.531719 124.751723 \nL 401.651719 124.751723 \n\" clip-path=\"url(#p8005a02ed2)\" style=\"fill: none; stroke: #ffffff; stroke-linecap: round\"/>\n     </g>\n     <g id=\"text_15\">\n      <!-- 0.25 -->\n      <g style=\"fill: #262626\" transform=\"translate(13.624688 128.68852)scale(0.11 -0.11)\">\n       <use xlink:href=\"#ArialMT-30\"/>\n       <use xlink:href=\"#ArialMT-2e\" x=\"55.615234\"/>\n       <use xlink:href=\"#ArialMT-32\" x=\"83.398438\"/>\n       <use xlink:href=\"#ArialMT-35\" x=\"139.013672\"/>\n      </g>\n     </g>\n    </g>\n    <g id=\"ytick_7\">\n     <g id=\"line2d_16\">\n      <path d=\"M 44.531719 94.511677 \nL 401.651719 94.511677 \n\" clip-path=\"url(#p8005a02ed2)\" style=\"fill: none; stroke: #ffffff; stroke-linecap: round\"/>\n     </g>\n     <g id=\"text_16\">\n      <!-- 0.50 -->\n      <g style=\"fill: #262626\" transform=\"translate(13.624688 98.448474)scale(0.11 -0.11)\">\n       <use xlink:href=\"#ArialMT-30\"/>\n       <use xlink:href=\"#ArialMT-2e\" x=\"55.615234\"/>\n       <use xlink:href=\"#ArialMT-35\" x=\"83.398438\"/>\n       <use xlink:href=\"#ArialMT-30\" x=\"139.013672\"/>\n      </g>\n     </g>\n    </g>\n    <g id=\"ytick_8\">\n     <g id=\"line2d_17\">\n      <path d=\"M 44.531719 64.271631 \nL 401.651719 64.271631 \n\" clip-path=\"url(#p8005a02ed2)\" style=\"fill: none; stroke: #ffffff; stroke-linecap: round\"/>\n     </g>\n     <g id=\"text_17\">\n      <!-- 0.75 -->\n      <g style=\"fill: #262626\" transform=\"translate(13.624688 68.208428)scale(0.11 -0.11)\">\n       <use xlink:href=\"#ArialMT-30\"/>\n       <use xlink:href=\"#ArialMT-2e\" x=\"55.615234\"/>\n       <use xlink:href=\"#ArialMT-37\" x=\"83.398438\"/>\n       <use xlink:href=\"#ArialMT-35\" x=\"139.013672\"/>\n      </g>\n     </g>\n    </g>\n    <g id=\"ytick_9\">\n     <g id=\"line2d_18\">\n      <path d=\"M 44.531719 34.031585 \nL 401.651719 34.031585 \n\" clip-path=\"url(#p8005a02ed2)\" style=\"fill: none; stroke: #ffffff; stroke-linecap: round\"/>\n     </g>\n     <g id=\"text_18\">\n      <!-- 1.00 -->\n      <g style=\"fill: #262626\" transform=\"translate(13.624688 37.968382)scale(0.11 -0.11)\">\n       <use xlink:href=\"#ArialMT-31\"/>\n       <use xlink:href=\"#ArialMT-2e\" x=\"55.615234\"/>\n       <use xlink:href=\"#ArialMT-30\" x=\"83.398438\"/>\n       <use xlink:href=\"#ArialMT-30\" x=\"139.013672\"/>\n      </g>\n     </g>\n    </g>\n   </g>\n   <g id=\"PathCollection_1\">\n    <defs>\n     <path id=\"m27b1108822\" d=\"M -3 3 \nL 3 -3 \nM -3 -3 \nL 3 3 \n\" style=\"stroke: #dd8452; stroke-opacity: 0.5; stroke-width: 1.5\"/>\n    </defs>\n    <g clip-path=\"url(#p8005a02ed2)\">\n     <use xlink:href=\"#m27b1108822\" x=\"312.032795\" y=\"172.574912\" style=\"fill: #dd8452; fill-opacity: 0.5; stroke: #dd8452; stroke-opacity: 0.5; stroke-width: 1.5\"/>\n     <use xlink:href=\"#m27b1108822\" x=\"203.248326\" y=\"235.967716\" style=\"fill: #dd8452; fill-opacity: 0.5; stroke: #dd8452; stroke-opacity: 0.5; stroke-width: 1.5\"/>\n     <use xlink:href=\"#m27b1108822\" x=\"339.512163\" y=\"265.964738\" style=\"fill: #dd8452; fill-opacity: 0.5; stroke: #dd8452; stroke-opacity: 0.5; stroke-width: 1.5\"/>\n     <use xlink:href=\"#m27b1108822\" x=\"287.168147\" y=\"70.511722\" style=\"fill: #dd8452; fill-opacity: 0.5; stroke: #dd8452; stroke-opacity: 0.5; stroke-width: 1.5\"/>\n     <use xlink:href=\"#m27b1108822\" x=\"91.33955\" y=\"35.528445\" style=\"fill: #dd8452; fill-opacity: 0.5; stroke: #dd8452; stroke-opacity: 0.5; stroke-width: 1.5\"/>\n     <use xlink:href=\"#m27b1108822\" x=\"377.504677\" y=\"220.846899\" style=\"fill: #dd8452; fill-opacity: 0.5; stroke: #dd8452; stroke-opacity: 0.5; stroke-width: 1.5\"/>\n     <use xlink:href=\"#m27b1108822\" x=\"307.87191\" y=\"154.03423\" style=\"fill: #dd8452; fill-opacity: 0.5; stroke: #dd8452; stroke-opacity: 0.5; stroke-width: 1.5\"/>\n     <use xlink:href=\"#m27b1108822\" x=\"315.963796\" y=\"189.717237\" style=\"fill: #dd8452; fill-opacity: 0.5; stroke: #dd8452; stroke-opacity: 0.5; stroke-width: 1.5\"/>\n     <use xlink:href=\"#m27b1108822\" x=\"102.357119\" y=\"37.784544\" style=\"fill: #dd8452; fill-opacity: 0.5; stroke: #dd8452; stroke-opacity: 0.5; stroke-width: 1.5\"/>\n     <use xlink:href=\"#m27b1108822\" x=\"206.984288\" y=\"222.827944\" style=\"fill: #dd8452; fill-opacity: 0.5; stroke: #dd8452; stroke-opacity: 0.5; stroke-width: 1.5\"/>\n     <use xlink:href=\"#m27b1108822\" x=\"181.14571\" y=\"275.926851\" style=\"fill: #dd8452; fill-opacity: 0.5; stroke: #dd8452; stroke-opacity: 0.5; stroke-width: 1.5\"/>\n     <use xlink:href=\"#m27b1108822\" x=\"361.642912\" y=\"265.985089\" style=\"fill: #dd8452; fill-opacity: 0.5; stroke: #dd8452; stroke-opacity: 0.5; stroke-width: 1.5\"/>\n     <use xlink:href=\"#m27b1108822\" x=\"269.798184\" y=\"35.49266\" style=\"fill: #dd8452; fill-opacity: 0.5; stroke: #dd8452; stroke-opacity: 0.5; stroke-width: 1.5\"/>\n     <use xlink:href=\"#m27b1108822\" x=\"327.877744\" y=\"235.79576\" style=\"fill: #dd8452; fill-opacity: 0.5; stroke: #dd8452; stroke-opacity: 0.5; stroke-width: 1.5\"/>\n     <use xlink:href=\"#m27b1108822\" x=\"204.720881\" y=\"230.959382\" style=\"fill: #dd8452; fill-opacity: 0.5; stroke: #dd8452; stroke-opacity: 0.5; stroke-width: 1.5\"/>\n     <use xlink:href=\"#m27b1108822\" x=\"134.53853\" y=\"139.126189\" style=\"fill: #dd8452; fill-opacity: 0.5; stroke: #dd8452; stroke-opacity: 0.5; stroke-width: 1.5\"/>\n     <use xlink:href=\"#m27b1108822\" x=\"240.812918\" y=\"81.306082\" style=\"fill: #dd8452; fill-opacity: 0.5; stroke: #dd8452; stroke-opacity: 0.5; stroke-width: 1.5\"/>\n     <use xlink:href=\"#m27b1108822\" x=\"81.483008\" y=\"50.128794\" style=\"fill: #dd8452; fill-opacity: 0.5; stroke: #dd8452; stroke-opacity: 0.5; stroke-width: 1.5\"/>\n     <use xlink:href=\"#m27b1108822\" x=\"329.458668\" y=\"240.914648\" style=\"fill: #dd8452; fill-opacity: 0.5; stroke: #dd8452; stroke-opacity: 0.5; stroke-width: 1.5\"/>\n     <use xlink:href=\"#m27b1108822\" x=\"265.837164\" y=\"34.036678\" style=\"fill: #dd8452; fill-opacity: 0.5; stroke: #dd8452; stroke-opacity: 0.5; stroke-width: 1.5\"/>\n     <use xlink:href=\"#m27b1108822\" x=\"306.881077\" y=\"149.606011\" style=\"fill: #dd8452; fill-opacity: 0.5; stroke: #dd8452; stroke-opacity: 0.5; stroke-width: 1.5\"/>\n     <use xlink:href=\"#m27b1108822\" x=\"175.862913\" y=\"274.106744\" style=\"fill: #dd8452; fill-opacity: 0.5; stroke: #dd8452; stroke-opacity: 0.5; stroke-width: 1.5\"/>\n     <use xlink:href=\"#m27b1108822\" x=\"375.905972\" y=\"226.72403\" style=\"fill: #dd8452; fill-opacity: 0.5; stroke: #dd8452; stroke-opacity: 0.5; stroke-width: 1.5\"/>\n     <use xlink:href=\"#m27b1108822\" x=\"350.720278\" y=\"275.950401\" style=\"fill: #dd8452; fill-opacity: 0.5; stroke: #dd8452; stroke-opacity: 0.5; stroke-width: 1.5\"/>\n     <use xlink:href=\"#m27b1108822\" x=\"313.470186\" y=\"178.90539\" style=\"fill: #dd8452; fill-opacity: 0.5; stroke: #dd8452; stroke-opacity: 0.5; stroke-width: 1.5\"/>\n     <use xlink:href=\"#m27b1108822\" x=\"123.954787\" y=\"94.601361\" style=\"fill: #dd8452; fill-opacity: 0.5; stroke: #dd8452; stroke-opacity: 0.5; stroke-width: 1.5\"/>\n     <use xlink:href=\"#m27b1108822\" x=\"212.287541\" y=\"202.023227\" style=\"fill: #dd8452; fill-opacity: 0.5; stroke: #dd8452; stroke-opacity: 0.5; stroke-width: 1.5\"/>\n     <use xlink:href=\"#m27b1108822\" x=\"74.985538\" y=\"67.479458\" style=\"fill: #dd8452; fill-opacity: 0.5; stroke: #dd8452; stroke-opacity: 0.5; stroke-width: 1.5\"/>\n     <use xlink:href=\"#m27b1108822\" x=\"110.855231\" y=\"52.756599\" style=\"fill: #dd8452; fill-opacity: 0.5; stroke: #dd8452; stroke-opacity: 0.5; stroke-width: 1.5\"/>\n     <use xlink:href=\"#m27b1108822\" x=\"282.519393\" y=\"56.953542\" style=\"fill: #dd8452; fill-opacity: 0.5; stroke: #dd8452; stroke-opacity: 0.5; stroke-width: 1.5\"/>\n     <use xlink:href=\"#m27b1108822\" x=\"302.554865\" y=\"130.433768\" style=\"fill: #dd8452; fill-opacity: 0.5; stroke: #dd8452; stroke-opacity: 0.5; stroke-width: 1.5\"/>\n     <use xlink:href=\"#m27b1108822\" x=\"374.870878\" y=\"230.396923\" style=\"fill: #dd8452; fill-opacity: 0.5; stroke: #dd8452; stroke-opacity: 0.5; stroke-width: 1.5\"/>\n     <use xlink:href=\"#m27b1108822\" x=\"166.54513\" y=\"260.00542\" style=\"fill: #dd8452; fill-opacity: 0.5; stroke: #dd8452; stroke-opacity: 0.5; stroke-width: 1.5\"/>\n     <use xlink:href=\"#m27b1108822\" x=\"181.035873\" y=\"275.935858\" style=\"fill: #dd8452; fill-opacity: 0.5; stroke: #dd8452; stroke-opacity: 0.5; stroke-width: 1.5\"/>\n     <use xlink:href=\"#m27b1108822\" x=\"213.207874\" y=\"198.205736\" style=\"fill: #dd8452; fill-opacity: 0.5; stroke: #dd8452; stroke-opacity: 0.5; stroke-width: 1.5\"/>\n     <use xlink:href=\"#m27b1108822\" x=\"122.277184\" y=\"88.222739\" style=\"fill: #dd8452; fill-opacity: 0.5; stroke: #dd8452; stroke-opacity: 0.5; stroke-width: 1.5\"/>\n     <use xlink:href=\"#m27b1108822\" x=\"102.944053\" y=\"38.460674\" style=\"fill: #dd8452; fill-opacity: 0.5; stroke: #dd8452; stroke-opacity: 0.5; stroke-width: 1.5\"/>\n     <use xlink:href=\"#m27b1108822\" x=\"215.204213\" y=\"189.759164\" style=\"fill: #dd8452; fill-opacity: 0.5; stroke: #dd8452; stroke-opacity: 0.5; stroke-width: 1.5\"/>\n     <use xlink:href=\"#m27b1108822\" x=\"134.431598\" y=\"138.652353\" style=\"fill: #dd8452; fill-opacity: 0.5; stroke: #dd8452; stroke-opacity: 0.5; stroke-width: 1.5\"/>\n     <use xlink:href=\"#m27b1108822\" x=\"278.222604\" y=\"46.982101\" style=\"fill: #dd8452; fill-opacity: 0.5; stroke: #dd8452; stroke-opacity: 0.5; stroke-width: 1.5\"/>\n     <use xlink:href=\"#m27b1108822\" x=\"202.687804\" y=\"237.811882\" style=\"fill: #dd8452; fill-opacity: 0.5; stroke: #dd8452; stroke-opacity: 0.5; stroke-width: 1.5\"/>\n     <use xlink:href=\"#m27b1108822\" x=\"331.097207\" y=\"245.910335\" style=\"fill: #dd8452; fill-opacity: 0.5; stroke: #dd8452; stroke-opacity: 0.5; stroke-width: 1.5\"/>\n     <use xlink:href=\"#m27b1108822\" x=\"288.108694\" y=\"73.571782\" style=\"fill: #dd8452; fill-opacity: 0.5; stroke: #dd8452; stroke-opacity: 0.5; stroke-width: 1.5\"/>\n     <use xlink:href=\"#m27b1108822\" x=\"162.175696\" y=\"248.985927\" style=\"fill: #dd8452; fill-opacity: 0.5; stroke: #dd8452; stroke-opacity: 0.5; stroke-width: 1.5\"/>\n     <use xlink:href=\"#m27b1108822\" x=\"330.961374\" y=\"245.508626\" style=\"fill: #dd8452; fill-opacity: 0.5; stroke: #dd8452; stroke-opacity: 0.5; stroke-width: 1.5\"/>\n     <use xlink:href=\"#m27b1108822\" x=\"322.034853\" y=\"214.629883\" style=\"fill: #dd8452; fill-opacity: 0.5; stroke: #dd8452; stroke-opacity: 0.5; stroke-width: 1.5\"/>\n     <use xlink:href=\"#m27b1108822\" x=\"186.561063\" y=\"273.022314\" style=\"fill: #dd8452; fill-opacity: 0.5; stroke: #dd8452; stroke-opacity: 0.5; stroke-width: 1.5\"/>\n     <use xlink:href=\"#m27b1108822\" x=\"154.371476\" y=\"223.44368\" style=\"fill: #dd8452; fill-opacity: 0.5; stroke: #dd8452; stroke-opacity: 0.5; stroke-width: 1.5\"/>\n     <use xlink:href=\"#m27b1108822\" x=\"282.339714\" y=\"56.485158\" style=\"fill: #dd8452; fill-opacity: 0.5; stroke: #dd8452; stroke-opacity: 0.5; stroke-width: 1.5\"/>\n     <use xlink:href=\"#m27b1108822\" x=\"106.135725\" y=\"43.087889\" style=\"fill: #dd8452; fill-opacity: 0.5; stroke: #dd8452; stroke-opacity: 0.5; stroke-width: 1.5\"/>\n     <use xlink:href=\"#m27b1108822\" x=\"125.665553\" y=\"101.344958\" style=\"fill: #dd8452; fill-opacity: 0.5; stroke: #dd8452; stroke-opacity: 0.5; stroke-width: 1.5\"/>\n     <use xlink:href=\"#m27b1108822\" x=\"63.15464\" y=\"111.077919\" style=\"fill: #dd8452; fill-opacity: 0.5; stroke: #dd8452; stroke-opacity: 0.5; stroke-width: 1.5\"/>\n     <use xlink:href=\"#m27b1108822\" x=\"316.243022\" y=\"190.911229\" style=\"fill: #dd8452; fill-opacity: 0.5; stroke: #dd8452; stroke-opacity: 0.5; stroke-width: 1.5\"/>\n     <use xlink:href=\"#m27b1108822\" x=\"276.611299\" y=\"43.932348\" style=\"fill: #dd8452; fill-opacity: 0.5; stroke: #dd8452; stroke-opacity: 0.5; stroke-width: 1.5\"/>\n     <use xlink:href=\"#m27b1108822\" x=\"289.699591\" y=\"78.969714\" style=\"fill: #dd8452; fill-opacity: 0.5; stroke: #dd8452; stroke-opacity: 0.5; stroke-width: 1.5\"/>\n     <use xlink:href=\"#m27b1108822\" x=\"314.231675\" y=\"182.232876\" style=\"fill: #dd8452; fill-opacity: 0.5; stroke: #dd8452; stroke-opacity: 0.5; stroke-width: 1.5\"/>\n     <use xlink:href=\"#m27b1108822\" x=\"209.753539\" y=\"212.239827\" style=\"fill: #dd8452; fill-opacity: 0.5; stroke: #dd8452; stroke-opacity: 0.5; stroke-width: 1.5\"/>\n     <use xlink:href=\"#m27b1108822\" x=\"245.40886\" y=\"66.149406\" style=\"fill: #dd8452; fill-opacity: 0.5; stroke: #dd8452; stroke-opacity: 0.5; stroke-width: 1.5\"/>\n     <use xlink:href=\"#m27b1108822\" x=\"106.150177\" y=\"43.112436\" style=\"fill: #dd8452; fill-opacity: 0.5; stroke: #dd8452; stroke-opacity: 0.5; stroke-width: 1.5\"/>\n     <use xlink:href=\"#m27b1108822\" x=\"97.947155\" y=\"34.486445\" style=\"fill: #dd8452; fill-opacity: 0.5; stroke: #dd8452; stroke-opacity: 0.5; stroke-width: 1.5\"/>\n     <use xlink:href=\"#m27b1108822\" x=\"277.764506\" y=\"46.075585\" style=\"fill: #dd8452; fill-opacity: 0.5; stroke: #dd8452; stroke-opacity: 0.5; stroke-width: 1.5\"/>\n     <use xlink:href=\"#m27b1108822\" x=\"213.707971\" y=\"196.110112\" style=\"fill: #dd8452; fill-opacity: 0.5; stroke: #dd8452; stroke-opacity: 0.5; stroke-width: 1.5\"/>\n     <use xlink:href=\"#m27b1108822\" x=\"244.270917\" y=\"69.679663\" style=\"fill: #dd8452; fill-opacity: 0.5; stroke: #dd8452; stroke-opacity: 0.5; stroke-width: 1.5\"/>\n     <use xlink:href=\"#m27b1108822\" x=\"309.124802\" y=\"159.634729\" style=\"fill: #dd8452; fill-opacity: 0.5; stroke: #dd8452; stroke-opacity: 0.5; stroke-width: 1.5\"/>\n     <use xlink:href=\"#m27b1108822\" x=\"266.828634\" y=\"34.158559\" style=\"fill: #dd8452; fill-opacity: 0.5; stroke: #dd8452; stroke-opacity: 0.5; stroke-width: 1.5\"/>\n     <use xlink:href=\"#m27b1108822\" x=\"240.486515\" y=\"82.468728\" style=\"fill: #dd8452; fill-opacity: 0.5; stroke: #dd8452; stroke-opacity: 0.5; stroke-width: 1.5\"/>\n     <use xlink:href=\"#m27b1108822\" x=\"242.313593\" y=\"76.101271\" style=\"fill: #dd8452; fill-opacity: 0.5; stroke: #dd8452; stroke-opacity: 0.5; stroke-width: 1.5\"/>\n     <use xlink:href=\"#m27b1108822\" x=\"159.443227\" y=\"240.830525\" style=\"fill: #dd8452; fill-opacity: 0.5; stroke: #dd8452; stroke-opacity: 0.5; stroke-width: 1.5\"/>\n     <use xlink:href=\"#m27b1108822\" x=\"70.769596\" y=\"81.499822\" style=\"fill: #dd8452; fill-opacity: 0.5; stroke: #dd8452; stroke-opacity: 0.5; stroke-width: 1.5\"/>\n     <use xlink:href=\"#m27b1108822\" x=\"202.546732\" y=\"238.270452\" style=\"fill: #dd8452; fill-opacity: 0.5; stroke: #dd8452; stroke-opacity: 0.5; stroke-width: 1.5\"/>\n     <use xlink:href=\"#m27b1108822\" x=\"130.430335\" y=\"121.169698\" style=\"fill: #dd8452; fill-opacity: 0.5; stroke: #dd8452; stroke-opacity: 0.5; stroke-width: 1.5\"/>\n     <use xlink:href=\"#m27b1108822\" x=\"193.395127\" y=\"262.663485\" style=\"fill: #dd8452; fill-opacity: 0.5; stroke: #dd8452; stroke-opacity: 0.5; stroke-width: 1.5\"/>\n     <use xlink:href=\"#m27b1108822\" x=\"337.825633\" y=\"262.750877\" style=\"fill: #dd8452; fill-opacity: 0.5; stroke: #dd8452; stroke-opacity: 0.5; stroke-width: 1.5\"/>\n     <use xlink:href=\"#m27b1108822\" x=\"136.713963\" y=\"148.809344\" style=\"fill: #dd8452; fill-opacity: 0.5; stroke: #dd8452; stroke-opacity: 0.5; stroke-width: 1.5\"/>\n     <use xlink:href=\"#m27b1108822\" x=\"79.692696\" y=\"54.34517\" style=\"fill: #dd8452; fill-opacity: 0.5; stroke: #dd8452; stroke-opacity: 0.5; stroke-width: 1.5\"/>\n     <use xlink:href=\"#m27b1108822\" x=\"152.117006\" y=\"214.905368\" style=\"fill: #dd8452; fill-opacity: 0.5; stroke: #dd8452; stroke-opacity: 0.5; stroke-width: 1.5\"/>\n     <use xlink:href=\"#m27b1108822\" x=\"156.080994\" y=\"229.604485\" style=\"fill: #dd8452; fill-opacity: 0.5; stroke: #dd8452; stroke-opacity: 0.5; stroke-width: 1.5\"/>\n     <use xlink:href=\"#m27b1108822\" x=\"275.658651\" y=\"42.313867\" style=\"fill: #dd8452; fill-opacity: 0.5; stroke: #dd8452; stroke-opacity: 0.5; stroke-width: 1.5\"/>\n     <use xlink:href=\"#m27b1108822\" x=\"241.607466\" y=\"78.521072\" style=\"fill: #dd8452; fill-opacity: 0.5; stroke: #dd8452; stroke-opacity: 0.5; stroke-width: 1.5\"/>\n     <use xlink:href=\"#m27b1108822\" x=\"315.260563\" y=\"186.694058\" style=\"fill: #dd8452; fill-opacity: 0.5; stroke: #dd8452; stroke-opacity: 0.5; stroke-width: 1.5\"/>\n     <use xlink:href=\"#m27b1108822\" x=\"276.436856\" y=\"43.625624\" style=\"fill: #dd8452; fill-opacity: 0.5; stroke: #dd8452; stroke-opacity: 0.5; stroke-width: 1.5\"/>\n     <use xlink:href=\"#m27b1108822\" x=\"192.699788\" y=\"264.044419\" style=\"fill: #dd8452; fill-opacity: 0.5; stroke: #dd8452; stroke-opacity: 0.5; stroke-width: 1.5\"/>\n     <use xlink:href=\"#m27b1108822\" x=\"325.039864\" y=\"225.927194\" style=\"fill: #dd8452; fill-opacity: 0.5; stroke: #dd8452; stroke-opacity: 0.5; stroke-width: 1.5\"/>\n     <use xlink:href=\"#m27b1108822\" x=\"114.972963\" y=\"63.739984\" style=\"fill: #dd8452; fill-opacity: 0.5; stroke: #dd8452; stroke-opacity: 0.5; stroke-width: 1.5\"/>\n     <use xlink:href=\"#m27b1108822\" x=\"68.138024\" y=\"91.177562\" style=\"fill: #dd8452; fill-opacity: 0.5; stroke: #dd8452; stroke-opacity: 0.5; stroke-width: 1.5\"/>\n     <use xlink:href=\"#m27b1108822\" x=\"89.998893\" y=\"36.614769\" style=\"fill: #dd8452; fill-opacity: 0.5; stroke: #dd8452; stroke-opacity: 0.5; stroke-width: 1.5\"/>\n     <use xlink:href=\"#m27b1108822\" x=\"295.281693\" y=\"99.857079\" style=\"fill: #dd8452; fill-opacity: 0.5; stroke: #dd8452; stroke-opacity: 0.5; stroke-width: 1.5\"/>\n     <use xlink:href=\"#m27b1108822\" x=\"210.714988\" y=\"208.417775\" style=\"fill: #dd8452; fill-opacity: 0.5; stroke: #dd8452; stroke-opacity: 0.5; stroke-width: 1.5\"/>\n     <use xlink:href=\"#m27b1108822\" x=\"113.122062\" y=\"58.525588\" style=\"fill: #dd8452; fill-opacity: 0.5; stroke: #dd8452; stroke-opacity: 0.5; stroke-width: 1.5\"/>\n     <use xlink:href=\"#m27b1108822\" x=\"223.43091\" y=\"153.475294\" style=\"fill: #dd8452; fill-opacity: 0.5; stroke: #dd8452; stroke-opacity: 0.5; stroke-width: 1.5\"/>\n     <use xlink:href=\"#m27b1108822\" x=\"110.213262\" y=\"51.251517\" style=\"fill: #dd8452; fill-opacity: 0.5; stroke: #dd8452; stroke-opacity: 0.5; stroke-width: 1.5\"/>\n     <use xlink:href=\"#m27b1108822\" x=\"286.828021\" y=\"69.430073\" style=\"fill: #dd8452; fill-opacity: 0.5; stroke: #dd8452; stroke-opacity: 0.5; stroke-width: 1.5\"/>\n     <use xlink:href=\"#m27b1108822\" x=\"205.611109\" y=\"227.821508\" style=\"fill: #dd8452; fill-opacity: 0.5; stroke: #dd8452; stroke-opacity: 0.5; stroke-width: 1.5\"/>\n     <use xlink:href=\"#m27b1108822\" x=\"184.464719\" y=\"274.716421\" style=\"fill: #dd8452; fill-opacity: 0.5; stroke: #dd8452; stroke-opacity: 0.5; stroke-width: 1.5\"/>\n     <use xlink:href=\"#m27b1108822\" x=\"158.651716\" y=\"238.300835\" style=\"fill: #dd8452; fill-opacity: 0.5; stroke: #dd8452; stroke-opacity: 0.5; stroke-width: 1.5\"/>\n     <use xlink:href=\"#m27b1108822\" x=\"265.388555\" y=\"34.034902\" style=\"fill: #dd8452; fill-opacity: 0.5; stroke: #dd8452; stroke-opacity: 0.5; stroke-width: 1.5\"/>\n     <use xlink:href=\"#m27b1108822\" x=\"178.228555\" y=\"275.4897\" style=\"fill: #dd8452; fill-opacity: 0.5; stroke: #dd8452; stroke-opacity: 0.5; stroke-width: 1.5\"/>\n     <use xlink:href=\"#m27b1108822\" x=\"89.220391\" y=\"37.379164\" style=\"fill: #dd8452; fill-opacity: 0.5; stroke: #dd8452; stroke-opacity: 0.5; stroke-width: 1.5\"/>\n     <use xlink:href=\"#m27b1108822\" x=\"99.075599\" y=\"35.028251\" style=\"fill: #dd8452; fill-opacity: 0.5; stroke: #dd8452; stroke-opacity: 0.5; stroke-width: 1.5\"/>\n     <use xlink:href=\"#m27b1108822\" x=\"373.048895\" y=\"236.590672\" style=\"fill: #dd8452; fill-opacity: 0.5; stroke: #dd8452; stroke-opacity: 0.5; stroke-width: 1.5\"/>\n     <use xlink:href=\"#m27b1108822\" x=\"355.739297\" y=\"273.761927\" style=\"fill: #dd8452; fill-opacity: 0.5; stroke: #dd8452; stroke-opacity: 0.5; stroke-width: 1.5\"/>\n     <use xlink:href=\"#m27b1108822\" x=\"287.927548\" y=\"72.974656\" style=\"fill: #dd8452; fill-opacity: 0.5; stroke: #dd8452; stroke-opacity: 0.5; stroke-width: 1.5\"/>\n     <use xlink:href=\"#m27b1108822\" x=\"147.080338\" y=\"194.420542\" style=\"fill: #dd8452; fill-opacity: 0.5; stroke: #dd8452; stroke-opacity: 0.5; stroke-width: 1.5\"/>\n     <use xlink:href=\"#m27b1108822\" x=\"375.411962\" y=\"228.490389\" style=\"fill: #dd8452; fill-opacity: 0.5; stroke: #dd8452; stroke-opacity: 0.5; stroke-width: 1.5\"/>\n     <use xlink:href=\"#m27b1108822\" x=\"313.589467\" y=\"179.42793\" style=\"fill: #dd8452; fill-opacity: 0.5; stroke: #dd8452; stroke-opacity: 0.5; stroke-width: 1.5\"/>\n     <use xlink:href=\"#m27b1108822\" x=\"293.506105\" y=\"92.914868\" style=\"fill: #dd8452; fill-opacity: 0.5; stroke: #dd8452; stroke-opacity: 0.5; stroke-width: 1.5\"/>\n     <use xlink:href=\"#m27b1108822\" x=\"206.6517\" y=\"224.05393\" style=\"fill: #dd8452; fill-opacity: 0.5; stroke: #dd8452; stroke-opacity: 0.5; stroke-width: 1.5\"/>\n     <use xlink:href=\"#m27b1108822\" x=\"149.148907\" y=\"203.040214\" style=\"fill: #dd8452; fill-opacity: 0.5; stroke: #dd8452; stroke-opacity: 0.5; stroke-width: 1.5\"/>\n     <use xlink:href=\"#m27b1108822\" x=\"92.05821\" y=\"35.066729\" style=\"fill: #dd8452; fill-opacity: 0.5; stroke: #dd8452; stroke-opacity: 0.5; stroke-width: 1.5\"/>\n     <use xlink:href=\"#m27b1108822\" x=\"353.798417\" y=\"275.098803\" style=\"fill: #dd8452; fill-opacity: 0.5; stroke: #dd8452; stroke-opacity: 0.5; stroke-width: 1.5\"/>\n     <use xlink:href=\"#m27b1108822\" x=\"208.73429\" y=\"216.2126\" style=\"fill: #dd8452; fill-opacity: 0.5; stroke: #dd8452; stroke-opacity: 0.5; stroke-width: 1.5\"/>\n     <use xlink:href=\"#m27b1108822\" x=\"126.462632\" y=\"104.561836\" style=\"fill: #dd8452; fill-opacity: 0.5; stroke: #dd8452; stroke-opacity: 0.5; stroke-width: 1.5\"/>\n     <use xlink:href=\"#m27b1108822\" x=\"160.094655\" y=\"242.857487\" style=\"fill: #dd8452; fill-opacity: 0.5; stroke: #dd8452; stroke-opacity: 0.5; stroke-width: 1.5\"/>\n     <use xlink:href=\"#m27b1108822\" x=\"248.810712\" y=\"56.556233\" style=\"fill: #dd8452; fill-opacity: 0.5; stroke: #dd8452; stroke-opacity: 0.5; stroke-width: 1.5\"/>\n     <use xlink:href=\"#m27b1108822\" x=\"118.154534\" y=\"73.686125\" style=\"fill: #dd8452; fill-opacity: 0.5; stroke: #dd8452; stroke-opacity: 0.5; stroke-width: 1.5\"/>\n     <use xlink:href=\"#m27b1108822\" x=\"338.868167\" y=\"264.787772\" style=\"fill: #dd8452; fill-opacity: 0.5; stroke: #dd8452; stroke-opacity: 0.5; stroke-width: 1.5\"/>\n     <use xlink:href=\"#m27b1108822\" x=\"307.021259\" y=\"150.232211\" style=\"fill: #dd8452; fill-opacity: 0.5; stroke: #dd8452; stroke-opacity: 0.5; stroke-width: 1.5\"/>\n     <use xlink:href=\"#m27b1108822\" x=\"294.341365\" y=\"96.149083\" style=\"fill: #dd8452; fill-opacity: 0.5; stroke: #dd8452; stroke-opacity: 0.5; stroke-width: 1.5\"/>\n     <use xlink:href=\"#m27b1108822\" x=\"201.045415\" y=\"243.007927\" style=\"fill: #dd8452; fill-opacity: 0.5; stroke: #dd8452; stroke-opacity: 0.5; stroke-width: 1.5\"/>\n     <use xlink:href=\"#m27b1108822\" x=\"264.423113\" y=\"34.143866\" style=\"fill: #dd8452; fill-opacity: 0.5; stroke: #dd8452; stroke-opacity: 0.5; stroke-width: 1.5\"/>\n     <use xlink:href=\"#m27b1108822\" x=\"250.394507\" y=\"52.611904\" style=\"fill: #dd8452; fill-opacity: 0.5; stroke: #dd8452; stroke-opacity: 0.5; stroke-width: 1.5\"/>\n     <use xlink:href=\"#m27b1108822\" x=\"271.740099\" y=\"37.144591\" style=\"fill: #dd8452; fill-opacity: 0.5; stroke: #dd8452; stroke-opacity: 0.5; stroke-width: 1.5\"/>\n     <use xlink:href=\"#m27b1108822\" x=\"88.179679\" y=\"38.552994\" style=\"fill: #dd8452; fill-opacity: 0.5; stroke: #dd8452; stroke-opacity: 0.5; stroke-width: 1.5\"/>\n     <use xlink:href=\"#m27b1108822\" x=\"195.758209\" y=\"257.444718\" style=\"fill: #dd8452; fill-opacity: 0.5; stroke: #dd8452; stroke-opacity: 0.5; stroke-width: 1.5\"/>\n     <use xlink:href=\"#m27b1108822\" x=\"74.274677\" y=\"69.703495\" style=\"fill: #dd8452; fill-opacity: 0.5; stroke: #dd8452; stroke-opacity: 0.5; stroke-width: 1.5\"/>\n     <use xlink:href=\"#m27b1108822\" x=\"221.140811\" y=\"163.706671\" style=\"fill: #dd8452; fill-opacity: 0.5; stroke: #dd8452; stroke-opacity: 0.5; stroke-width: 1.5\"/>\n     <use xlink:href=\"#m27b1108822\" x=\"167.855388\" y=\"262.78838\" style=\"fill: #dd8452; fill-opacity: 0.5; stroke: #dd8452; stroke-opacity: 0.5; stroke-width: 1.5\"/>\n     <use xlink:href=\"#m27b1108822\" x=\"107.684881\" y=\"45.899407\" style=\"fill: #dd8452; fill-opacity: 0.5; stroke: #dd8452; stroke-opacity: 0.5; stroke-width: 1.5\"/>\n     <use xlink:href=\"#m27b1108822\" x=\"94.33469\" y=\"34.163888\" style=\"fill: #dd8452; fill-opacity: 0.5; stroke: #dd8452; stroke-opacity: 0.5; stroke-width: 1.5\"/>\n     <use xlink:href=\"#m27b1108822\" x=\"251.545927\" y=\"49.963839\" style=\"fill: #dd8452; fill-opacity: 0.5; stroke: #dd8452; stroke-opacity: 0.5; stroke-width: 1.5\"/>\n     <use xlink:href=\"#m27b1108822\" x=\"116.148229\" y=\"67.2742\" style=\"fill: #dd8452; fill-opacity: 0.5; stroke: #dd8452; stroke-opacity: 0.5; stroke-width: 1.5\"/>\n     <use xlink:href=\"#m27b1108822\" x=\"361.108898\" y=\"266.912464\" style=\"fill: #dd8452; fill-opacity: 0.5; stroke: #dd8452; stroke-opacity: 0.5; stroke-width: 1.5\"/>\n     <use xlink:href=\"#m27b1108822\" x=\"249.408586\" y=\"55.026889\" style=\"fill: #dd8452; fill-opacity: 0.5; stroke: #dd8452; stroke-opacity: 0.5; stroke-width: 1.5\"/>\n     <use xlink:href=\"#m27b1108822\" x=\"173.377305\" y=\"271.673404\" style=\"fill: #dd8452; fill-opacity: 0.5; stroke: #dd8452; stroke-opacity: 0.5; stroke-width: 1.5\"/>\n     <use xlink:href=\"#m27b1108822\" x=\"252.607846\" y=\"47.690113\" style=\"fill: #dd8452; fill-opacity: 0.5; stroke: #dd8452; stroke-opacity: 0.5; stroke-width: 1.5\"/>\n     <use xlink:href=\"#m27b1108822\" x=\"68.167826\" y=\"91.064405\" style=\"fill: #dd8452; fill-opacity: 0.5; stroke: #dd8452; stroke-opacity: 0.5; stroke-width: 1.5\"/>\n     <use xlink:href=\"#m27b1108822\" x=\"371.965052\" y=\"240.101391\" style=\"fill: #dd8452; fill-opacity: 0.5; stroke: #dd8452; stroke-opacity: 0.5; stroke-width: 1.5\"/>\n     <use xlink:href=\"#m27b1108822\" x=\"217.346449\" y=\"180.486094\" style=\"fill: #dd8452; fill-opacity: 0.5; stroke: #dd8452; stroke-opacity: 0.5; stroke-width: 1.5\"/>\n     <use xlink:href=\"#m27b1108822\" x=\"314.882995\" y=\"185.061939\" style=\"fill: #dd8452; fill-opacity: 0.5; stroke: #dd8452; stroke-opacity: 0.5; stroke-width: 1.5\"/>\n     <use xlink:href=\"#m27b1108822\" x=\"87.623117\" y=\"39.251568\" style=\"fill: #dd8452; fill-opacity: 0.5; stroke: #dd8452; stroke-opacity: 0.5; stroke-width: 1.5\"/>\n     <use xlink:href=\"#m27b1108822\" x=\"218.760285\" y=\"174.274873\" style=\"fill: #dd8452; fill-opacity: 0.5; stroke: #dd8452; stroke-opacity: 0.5; stroke-width: 1.5\"/>\n     <use xlink:href=\"#m27b1108822\" x=\"220.074702\" y=\"168.452832\" style=\"fill: #dd8452; fill-opacity: 0.5; stroke: #dd8452; stroke-opacity: 0.5; stroke-width: 1.5\"/>\n     <use xlink:href=\"#m27b1108822\" x=\"365.234067\" y=\"258.645191\" style=\"fill: #dd8452; fill-opacity: 0.5; stroke: #dd8452; stroke-opacity: 0.5; stroke-width: 1.5\"/>\n     <use xlink:href=\"#m27b1108822\" x=\"246.378557\" y=\"63.264884\" style=\"fill: #dd8452; fill-opacity: 0.5; stroke: #dd8452; stroke-opacity: 0.5; stroke-width: 1.5\"/>\n     <use xlink:href=\"#m27b1108822\" x=\"214.484932\" y=\"192.826695\" style=\"fill: #dd8452; fill-opacity: 0.5; stroke: #dd8452; stroke-opacity: 0.5; stroke-width: 1.5\"/>\n     <use xlink:href=\"#m27b1108822\" x=\"147.439309\" y=\"195.934318\" style=\"fill: #dd8452; fill-opacity: 0.5; stroke: #dd8452; stroke-opacity: 0.5; stroke-width: 1.5\"/>\n     <use xlink:href=\"#m27b1108822\" x=\"168.409828\" y=\"263.890241\" style=\"fill: #dd8452; fill-opacity: 0.5; stroke: #dd8452; stroke-opacity: 0.5; stroke-width: 1.5\"/>\n     <use xlink:href=\"#m27b1108822\" x=\"229.803108\" y=\"125.292129\" style=\"fill: #dd8452; fill-opacity: 0.5; stroke: #dd8452; stroke-opacity: 0.5; stroke-width: 1.5\"/>\n     <use xlink:href=\"#m27b1108822\" x=\"203.259047\" y=\"235.932104\" style=\"fill: #dd8452; fill-opacity: 0.5; stroke: #dd8452; stroke-opacity: 0.5; stroke-width: 1.5\"/>\n     <use xlink:href=\"#m27b1108822\" x=\"67.780906\" y=\"92.539473\" style=\"fill: #dd8452; fill-opacity: 0.5; stroke: #dd8452; stroke-opacity: 0.5; stroke-width: 1.5\"/>\n     <use xlink:href=\"#m27b1108822\" x=\"329.023875\" y=\"239.535347\" style=\"fill: #dd8452; fill-opacity: 0.5; stroke: #dd8452; stroke-opacity: 0.5; stroke-width: 1.5\"/>\n     <use xlink:href=\"#m27b1108822\" x=\"351.707114\" y=\"275.847603\" style=\"fill: #dd8452; fill-opacity: 0.5; stroke: #dd8452; stroke-opacity: 0.5; stroke-width: 1.5\"/>\n     <use xlink:href=\"#m27b1108822\" x=\"106.29695\" y=\"43.36354\" style=\"fill: #dd8452; fill-opacity: 0.5; stroke: #dd8452; stroke-opacity: 0.5; stroke-width: 1.5\"/>\n     <use xlink:href=\"#m27b1108822\" x=\"240.634798\" y=\"81.939224\" style=\"fill: #dd8452; fill-opacity: 0.5; stroke: #dd8452; stroke-opacity: 0.5; stroke-width: 1.5\"/>\n     <use xlink:href=\"#m27b1108822\" x=\"96.014054\" y=\"34.045739\" style=\"fill: #dd8452; fill-opacity: 0.5; stroke: #dd8452; stroke-opacity: 0.5; stroke-width: 1.5\"/>\n     <use xlink:href=\"#m27b1108822\" x=\"279.010248\" y=\"48.612987\" style=\"fill: #dd8452; fill-opacity: 0.5; stroke: #dd8452; stroke-opacity: 0.5; stroke-width: 1.5\"/>\n     <use xlink:href=\"#m27b1108822\" x=\"152.068272\" y=\"214.715991\" style=\"fill: #dd8452; fill-opacity: 0.5; stroke: #dd8452; stroke-opacity: 0.5; stroke-width: 1.5\"/>\n     <use xlink:href=\"#m27b1108822\" x=\"274.849002\" y=\"41.048069\" style=\"fill: #dd8452; fill-opacity: 0.5; stroke: #dd8452; stroke-opacity: 0.5; stroke-width: 1.5\"/>\n     <use xlink:href=\"#m27b1108822\" x=\"296.786552\" y=\"105.927872\" style=\"fill: #dd8452; fill-opacity: 0.5; stroke: #dd8452; stroke-opacity: 0.5; stroke-width: 1.5\"/>\n     <use xlink:href=\"#m27b1108822\" x=\"310.309348\" y=\"164.92076\" style=\"fill: #dd8452; fill-opacity: 0.5; stroke: #dd8452; stroke-opacity: 0.5; stroke-width: 1.5\"/>\n     <use xlink:href=\"#m27b1108822\" x=\"95.743034\" y=\"34.033272\" style=\"fill: #dd8452; fill-opacity: 0.5; stroke: #dd8452; stroke-opacity: 0.5; stroke-width: 1.5\"/>\n     <use xlink:href=\"#m27b1108822\" x=\"358.151855\" y=\"271.249459\" style=\"fill: #dd8452; fill-opacity: 0.5; stroke: #dd8452; stroke-opacity: 0.5; stroke-width: 1.5\"/>\n     <use xlink:href=\"#m27b1108822\" x=\"135.504465\" y=\"143.416749\" style=\"fill: #dd8452; fill-opacity: 0.5; stroke: #dd8452; stroke-opacity: 0.5; stroke-width: 1.5\"/>\n     <use xlink:href=\"#m27b1108822\" x=\"72.910602\" y=\"74.13475\" style=\"fill: #dd8452; fill-opacity: 0.5; stroke: #dd8452; stroke-opacity: 0.5; stroke-width: 1.5\"/>\n     <use xlink:href=\"#m27b1108822\" x=\"240.899822\" y=\"80.99833\" style=\"fill: #dd8452; fill-opacity: 0.5; stroke: #dd8452; stroke-opacity: 0.5; stroke-width: 1.5\"/>\n     <use xlink:href=\"#m27b1108822\" x=\"181.186051\" y=\"275.923042\" style=\"fill: #dd8452; fill-opacity: 0.5; stroke: #dd8452; stroke-opacity: 0.5; stroke-width: 1.5\"/>\n     <use xlink:href=\"#m27b1108822\" x=\"330.159458\" y=\"243.090917\" style=\"fill: #dd8452; fill-opacity: 0.5; stroke: #dd8452; stroke-opacity: 0.5; stroke-width: 1.5\"/>\n     <use xlink:href=\"#m27b1108822\" x=\"323.16696\" y=\"218.98004\" style=\"fill: #dd8452; fill-opacity: 0.5; stroke: #dd8452; stroke-opacity: 0.5; stroke-width: 1.5\"/>\n     <use xlink:href=\"#m27b1108822\" x=\"163.725029\" y=\"253.189456\" style=\"fill: #dd8452; fill-opacity: 0.5; stroke: #dd8452; stroke-opacity: 0.5; stroke-width: 1.5\"/>\n     <use xlink:href=\"#m27b1108822\" x=\"370.127566\" y=\"245.738343\" style=\"fill: #dd8452; fill-opacity: 0.5; stroke: #dd8452; stroke-opacity: 0.5; stroke-width: 1.5\"/>\n     <use xlink:href=\"#m27b1108822\" x=\"155.212245\" y=\"226.509362\" style=\"fill: #dd8452; fill-opacity: 0.5; stroke: #dd8452; stroke-opacity: 0.5; stroke-width: 1.5\"/>\n     <use xlink:href=\"#m27b1108822\" x=\"227.980084\" y=\"133.254739\" style=\"fill: #dd8452; fill-opacity: 0.5; stroke: #dd8452; stroke-opacity: 0.5; stroke-width: 1.5\"/>\n     <use xlink:href=\"#m27b1108822\" x=\"143.864676\" y=\"180.582451\" style=\"fill: #dd8452; fill-opacity: 0.5; stroke: #dd8452; stroke-opacity: 0.5; stroke-width: 1.5\"/>\n     <use xlink:href=\"#m27b1108822\" x=\"364.655246\" y=\"259.95529\" style=\"fill: #dd8452; fill-opacity: 0.5; stroke: #dd8452; stroke-opacity: 0.5; stroke-width: 1.5\"/>\n     <use xlink:href=\"#m27b1108822\" x=\"114.205122\" y=\"61.523545\" style=\"fill: #dd8452; fill-opacity: 0.5; stroke: #dd8452; stroke-opacity: 0.5; stroke-width: 1.5\"/>\n     <use xlink:href=\"#m27b1108822\" x=\"75.344883\" y=\"66.378086\" style=\"fill: #dd8452; fill-opacity: 0.5; stroke: #dd8452; stroke-opacity: 0.5; stroke-width: 1.5\"/>\n     <use xlink:href=\"#m27b1108822\" x=\"202.020684\" y=\"239.960362\" style=\"fill: #dd8452; fill-opacity: 0.5; stroke: #dd8452; stroke-opacity: 0.5; stroke-width: 1.5\"/>\n     <use xlink:href=\"#m27b1108822\" x=\"382.943684\" y=\"199.259977\" style=\"fill: #dd8452; fill-opacity: 0.5; stroke: #dd8452; stroke-opacity: 0.5; stroke-width: 1.5\"/>\n     <use xlink:href=\"#m27b1108822\" x=\"350.251524\" y=\"275.942859\" style=\"fill: #dd8452; fill-opacity: 0.5; stroke: #dd8452; stroke-opacity: 0.5; stroke-width: 1.5\"/>\n     <use xlink:href=\"#m27b1108822\" x=\"303.803442\" y=\"135.92407\" style=\"fill: #dd8452; fill-opacity: 0.5; stroke: #dd8452; stroke-opacity: 0.5; stroke-width: 1.5\"/>\n     <use xlink:href=\"#m27b1108822\" x=\"349.964277\" y=\"275.920295\" style=\"fill: #dd8452; fill-opacity: 0.5; stroke: #dd8452; stroke-opacity: 0.5; stroke-width: 1.5\"/>\n     <use xlink:href=\"#m27b1108822\" x=\"350.825959\" y=\"275.947085\" style=\"fill: #dd8452; fill-opacity: 0.5; stroke: #dd8452; stroke-opacity: 0.5; stroke-width: 1.5\"/>\n     <use xlink:href=\"#m27b1108822\" x=\"229.214171\" y=\"127.851482\" style=\"fill: #dd8452; fill-opacity: 0.5; stroke: #dd8452; stroke-opacity: 0.5; stroke-width: 1.5\"/>\n     <use xlink:href=\"#m27b1108822\" x=\"163.332249\" y=\"252.153732\" style=\"fill: #dd8452; fill-opacity: 0.5; stroke: #dd8452; stroke-opacity: 0.5; stroke-width: 1.5\"/>\n     <use xlink:href=\"#m27b1108822\" x=\"311.401791\" y=\"169.779146\" style=\"fill: #dd8452; fill-opacity: 0.5; stroke: #dd8452; stroke-opacity: 0.5; stroke-width: 1.5\"/>\n     <use xlink:href=\"#m27b1108822\" x=\"275.575783\" y=\"42.179655\" style=\"fill: #dd8452; fill-opacity: 0.5; stroke: #dd8452; stroke-opacity: 0.5; stroke-width: 1.5\"/>\n     <use xlink:href=\"#m27b1108822\" x=\"182.074126\" y=\"275.771108\" style=\"fill: #dd8452; fill-opacity: 0.5; stroke: #dd8452; stroke-opacity: 0.5; stroke-width: 1.5\"/>\n     <use xlink:href=\"#m27b1108822\" x=\"91.433479\" y=\"35.463303\" style=\"fill: #dd8452; fill-opacity: 0.5; stroke: #dd8452; stroke-opacity: 0.5; stroke-width: 1.5\"/>\n     <use xlink:href=\"#m27b1108822\" x=\"303.213088\" y=\"133.322357\" style=\"fill: #dd8452; fill-opacity: 0.5; stroke: #dd8452; stroke-opacity: 0.5; stroke-width: 1.5\"/>\n     <use xlink:href=\"#m27b1108822\" x=\"145.973446\" y=\"189.710265\" style=\"fill: #dd8452; fill-opacity: 0.5; stroke: #dd8452; stroke-opacity: 0.5; stroke-width: 1.5\"/>\n     <use xlink:href=\"#m27b1108822\" x=\"364.905094\" y=\"259.395645\" style=\"fill: #dd8452; fill-opacity: 0.5; stroke: #dd8452; stroke-opacity: 0.5; stroke-width: 1.5\"/>\n     <use xlink:href=\"#m27b1108822\" x=\"138.996639\" y=\"159.011691\" style=\"fill: #dd8452; fill-opacity: 0.5; stroke: #dd8452; stroke-opacity: 0.5; stroke-width: 1.5\"/>\n     <use xlink:href=\"#m27b1108822\" x=\"100.618367\" y=\"36.106406\" style=\"fill: #dd8452; fill-opacity: 0.5; stroke: #dd8452; stroke-opacity: 0.5; stroke-width: 1.5\"/>\n     <use xlink:href=\"#m27b1108822\" x=\"330.588953\" y=\"244.395571\" style=\"fill: #dd8452; fill-opacity: 0.5; stroke: #dd8452; stroke-opacity: 0.5; stroke-width: 1.5\"/>\n     <use xlink:href=\"#m27b1108822\" x=\"110.528896\" y=\"51.984266\" style=\"fill: #dd8452; fill-opacity: 0.5; stroke: #dd8452; stroke-opacity: 0.5; stroke-width: 1.5\"/>\n     <use xlink:href=\"#m27b1108822\" x=\"118.964717\" y=\"76.404129\" style=\"fill: #dd8452; fill-opacity: 0.5; stroke: #dd8452; stroke-opacity: 0.5; stroke-width: 1.5\"/>\n     <use xlink:href=\"#m27b1108822\" x=\"255.356794\" y=\"42.579873\" style=\"fill: #dd8452; fill-opacity: 0.5; stroke: #dd8452; stroke-opacity: 0.5; stroke-width: 1.5\"/>\n     <use xlink:href=\"#m27b1108822\" x=\"344.694988\" y=\"273.098354\" style=\"fill: #dd8452; fill-opacity: 0.5; stroke: #dd8452; stroke-opacity: 0.5; stroke-width: 1.5\"/>\n     <use xlink:href=\"#m27b1108822\" x=\"124.537853\" y=\"96.873943\" style=\"fill: #dd8452; fill-opacity: 0.5; stroke: #dd8452; stroke-opacity: 0.5; stroke-width: 1.5\"/>\n     <use xlink:href=\"#m27b1108822\" x=\"161.512437\" y=\"247.091385\" style=\"fill: #dd8452; fill-opacity: 0.5; stroke: #dd8452; stroke-opacity: 0.5; stroke-width: 1.5\"/>\n     <use xlink:href=\"#m27b1108822\" x=\"313.15246\" y=\"177.511266\" style=\"fill: #dd8452; fill-opacity: 0.5; stroke: #dd8452; stroke-opacity: 0.5; stroke-width: 1.5\"/>\n     <use xlink:href=\"#m27b1108822\" x=\"376.272313\" y=\"225.398682\" style=\"fill: #dd8452; fill-opacity: 0.5; stroke: #dd8452; stroke-opacity: 0.5; stroke-width: 1.5\"/>\n     <use xlink:href=\"#m27b1108822\" x=\"223.332348\" y=\"153.915935\" style=\"fill: #dd8452; fill-opacity: 0.5; stroke: #dd8452; stroke-opacity: 0.5; stroke-width: 1.5\"/>\n     <use xlink:href=\"#m27b1108822\" x=\"107.481424\" y=\"45.509551\" style=\"fill: #dd8452; fill-opacity: 0.5; stroke: #dd8452; stroke-opacity: 0.5; stroke-width: 1.5\"/>\n     <use xlink:href=\"#m27b1108822\" x=\"65.288925\" y=\"102.332434\" style=\"fill: #dd8452; fill-opacity: 0.5; stroke: #dd8452; stroke-opacity: 0.5; stroke-width: 1.5\"/>\n     <use xlink:href=\"#m27b1108822\" x=\"135.32332\" y=\"142.610839\" style=\"fill: #dd8452; fill-opacity: 0.5; stroke: #dd8452; stroke-opacity: 0.5; stroke-width: 1.5\"/>\n     <use xlink:href=\"#m27b1108822\" x=\"103.561128\" y=\"39.230659\" style=\"fill: #dd8452; fill-opacity: 0.5; stroke: #dd8452; stroke-opacity: 0.5; stroke-width: 1.5\"/>\n     <use xlink:href=\"#m27b1108822\" x=\"280.769415\" y=\"52.578874\" style=\"fill: #dd8452; fill-opacity: 0.5; stroke: #dd8452; stroke-opacity: 0.5; stroke-width: 1.5\"/>\n     <use xlink:href=\"#m27b1108822\" x=\"100.317922\" y=\"35.866011\" style=\"fill: #dd8452; fill-opacity: 0.5; stroke: #dd8452; stroke-opacity: 0.5; stroke-width: 1.5\"/>\n     <use xlink:href=\"#m27b1108822\" x=\"225.14676\" y=\"145.812565\" style=\"fill: #dd8452; fill-opacity: 0.5; stroke: #dd8452; stroke-opacity: 0.5; stroke-width: 1.5\"/>\n     <use xlink:href=\"#m27b1108822\" x=\"286.159901\" y=\"67.344885\" style=\"fill: #dd8452; fill-opacity: 0.5; stroke: #dd8452; stroke-opacity: 0.5; stroke-width: 1.5\"/>\n     <use xlink:href=\"#m27b1108822\" x=\"249.426595\" y=\"54.981578\" style=\"fill: #dd8452; fill-opacity: 0.5; stroke: #dd8452; stroke-opacity: 0.5; stroke-width: 1.5\"/>\n     <use xlink:href=\"#m27b1108822\" x=\"125.622519\" y=\"101.172583\" style=\"fill: #dd8452; fill-opacity: 0.5; stroke: #dd8452; stroke-opacity: 0.5; stroke-width: 1.5\"/>\n     <use xlink:href=\"#m27b1108822\" x=\"321.827129\" y=\"213.820132\" style=\"fill: #dd8452; fill-opacity: 0.5; stroke: #dd8452; stroke-opacity: 0.5; stroke-width: 1.5\"/>\n     <use xlink:href=\"#m27b1108822\" x=\"293.024623\" y=\"91.077207\" style=\"fill: #dd8452; fill-opacity: 0.5; stroke: #dd8452; stroke-opacity: 0.5; stroke-width: 1.5\"/>\n     <use xlink:href=\"#m27b1108822\" x=\"300.678962\" y=\"122.286916\" style=\"fill: #dd8452; fill-opacity: 0.5; stroke: #dd8452; stroke-opacity: 0.5; stroke-width: 1.5\"/>\n     <use xlink:href=\"#m27b1108822\" x=\"103.312941\" y=\"38.913708\" style=\"fill: #dd8452; fill-opacity: 0.5; stroke: #dd8452; stroke-opacity: 0.5; stroke-width: 1.5\"/>\n     <use xlink:href=\"#m27b1108822\" x=\"100.941681\" y=\"36.381477\" style=\"fill: #dd8452; fill-opacity: 0.5; stroke: #dd8452; stroke-opacity: 0.5; stroke-width: 1.5\"/>\n     <use xlink:href=\"#m27b1108822\" x=\"361.901844\" y=\"265.519835\" style=\"fill: #dd8452; fill-opacity: 0.5; stroke: #dd8452; stroke-opacity: 0.5; stroke-width: 1.5\"/>\n     <use xlink:href=\"#m27b1108822\" x=\"189.840014\" y=\"268.957401\" style=\"fill: #dd8452; fill-opacity: 0.5; stroke: #dd8452; stroke-opacity: 0.5; stroke-width: 1.5\"/>\n     <use xlink:href=\"#m27b1108822\" x=\"158.468807\" y=\"237.706028\" style=\"fill: #dd8452; fill-opacity: 0.5; stroke: #dd8452; stroke-opacity: 0.5; stroke-width: 1.5\"/>\n     <use xlink:href=\"#m27b1108822\" x=\"219.385477\" y=\"171.5105\" style=\"fill: #dd8452; fill-opacity: 0.5; stroke: #dd8452; stroke-opacity: 0.5; stroke-width: 1.5\"/>\n     <use xlink:href=\"#m27b1108822\" x=\"275.966326\" y=\"42.821405\" style=\"fill: #dd8452; fill-opacity: 0.5; stroke: #dd8452; stroke-opacity: 0.5; stroke-width: 1.5\"/>\n     <use xlink:href=\"#m27b1108822\" x=\"371.01188\" y=\"243.076159\" style=\"fill: #dd8452; fill-opacity: 0.5; stroke: #dd8452; stroke-opacity: 0.5; stroke-width: 1.5\"/>\n     <use xlink:href=\"#m27b1108822\" x=\"153.760516\" y=\"221.174305\" style=\"fill: #dd8452; fill-opacity: 0.5; stroke: #dd8452; stroke-opacity: 0.5; stroke-width: 1.5\"/>\n     <use xlink:href=\"#m27b1108822\" x=\"361.007706\" y=\"267.08329\" style=\"fill: #dd8452; fill-opacity: 0.5; stroke: #dd8452; stroke-opacity: 0.5; stroke-width: 1.5\"/>\n     <use xlink:href=\"#m27b1108822\" x=\"68.835193\" y=\"88.55108\" style=\"fill: #dd8452; fill-opacity: 0.5; stroke: #dd8452; stroke-opacity: 0.5; stroke-width: 1.5\"/>\n     <use xlink:href=\"#m27b1108822\" x=\"241.012014\" y=\"80.602158\" style=\"fill: #dd8452; fill-opacity: 0.5; stroke: #dd8452; stroke-opacity: 0.5; stroke-width: 1.5\"/>\n     <use xlink:href=\"#m27b1108822\" x=\"266.587348\" y=\"34.113949\" style=\"fill: #dd8452; fill-opacity: 0.5; stroke: #dd8452; stroke-opacity: 0.5; stroke-width: 1.5\"/>\n     <use xlink:href=\"#m27b1108822\" x=\"95.14452\" y=\"34.048741\" style=\"fill: #dd8452; fill-opacity: 0.5; stroke: #dd8452; stroke-opacity: 0.5; stroke-width: 1.5\"/>\n     <use xlink:href=\"#m27b1108822\" x=\"106.326334\" y=\"43.414206\" style=\"fill: #dd8452; fill-opacity: 0.5; stroke: #dd8452; stroke-opacity: 0.5; stroke-width: 1.5\"/>\n     <use xlink:href=\"#m27b1108822\" x=\"196.831815\" y=\"254.81303\" style=\"fill: #dd8452; fill-opacity: 0.5; stroke: #dd8452; stroke-opacity: 0.5; stroke-width: 1.5\"/>\n     <use xlink:href=\"#m27b1108822\" x=\"374.456028\" y=\"231.838281\" style=\"fill: #dd8452; fill-opacity: 0.5; stroke: #dd8452; stroke-opacity: 0.5; stroke-width: 1.5\"/>\n     <use xlink:href=\"#m27b1108822\" x=\"254.27237\" y=\"44.459971\" style=\"fill: #dd8452; fill-opacity: 0.5; stroke: #dd8452; stroke-opacity: 0.5; stroke-width: 1.5\"/>\n     <use xlink:href=\"#m27b1108822\" x=\"363.674676\" y=\"262.064761\" style=\"fill: #dd8452; fill-opacity: 0.5; stroke: #dd8452; stroke-opacity: 0.5; stroke-width: 1.5\"/>\n     <use xlink:href=\"#m27b1108822\" x=\"321.903873\" y=\"214.119706\" style=\"fill: #dd8452; fill-opacity: 0.5; stroke: #dd8452; stroke-opacity: 0.5; stroke-width: 1.5\"/>\n     <use xlink:href=\"#m27b1108822\" x=\"212.502007\" y=\"201.138336\" style=\"fill: #dd8452; fill-opacity: 0.5; stroke: #dd8452; stroke-opacity: 0.5; stroke-width: 1.5\"/>\n     <use xlink:href=\"#m27b1108822\" x=\"315.541467\" y=\"187.90434\" style=\"fill: #dd8452; fill-opacity: 0.5; stroke: #dd8452; stroke-opacity: 0.5; stroke-width: 1.5\"/>\n     <use xlink:href=\"#m27b1108822\" x=\"66.555239\" y=\"97.294982\" style=\"fill: #dd8452; fill-opacity: 0.5; stroke: #dd8452; stroke-opacity: 0.5; stroke-width: 1.5\"/>\n     <use xlink:href=\"#m27b1108822\" x=\"96.198541\" y=\"34.061169\" style=\"fill: #dd8452; fill-opacity: 0.5; stroke: #dd8452; stroke-opacity: 0.5; stroke-width: 1.5\"/>\n     <use xlink:href=\"#m27b1108822\" x=\"330.042216\" y=\"242.730906\" style=\"fill: #dd8452; fill-opacity: 0.5; stroke: #dd8452; stroke-opacity: 0.5; stroke-width: 1.5\"/>\n     <use xlink:href=\"#m27b1108822\" x=\"319.454736\" y=\"204.338007\" style=\"fill: #dd8452; fill-opacity: 0.5; stroke: #dd8452; stroke-opacity: 0.5; stroke-width: 1.5\"/>\n     <use xlink:href=\"#m27b1108822\" x=\"136.29232\" y=\"146.92748\" style=\"fill: #dd8452; fill-opacity: 0.5; stroke: #dd8452; stroke-opacity: 0.5; stroke-width: 1.5\"/>\n     <use xlink:href=\"#m27b1108822\" x=\"233.081206\" y=\"111.336975\" style=\"fill: #dd8452; fill-opacity: 0.5; stroke: #dd8452; stroke-opacity: 0.5; stroke-width: 1.5\"/>\n     <use xlink:href=\"#m27b1108822\" x=\"257.510237\" y=\"39.384391\" style=\"fill: #dd8452; fill-opacity: 0.5; stroke: #dd8452; stroke-opacity: 0.5; stroke-width: 1.5\"/>\n     <use xlink:href=\"#m27b1108822\" x=\"342.479842\" y=\"270.566536\" style=\"fill: #dd8452; fill-opacity: 0.5; stroke: #dd8452; stroke-opacity: 0.5; stroke-width: 1.5\"/>\n     <use xlink:href=\"#m27b1108822\" x=\"256.565926\" y=\"40.696614\" style=\"fill: #dd8452; fill-opacity: 0.5; stroke: #dd8452; stroke-opacity: 0.5; stroke-width: 1.5\"/>\n     <use xlink:href=\"#m27b1108822\" x=\"194.707681\" y=\"259.863713\" style=\"fill: #dd8452; fill-opacity: 0.5; stroke: #dd8452; stroke-opacity: 0.5; stroke-width: 1.5\"/>\n     <use xlink:href=\"#m27b1108822\" x=\"182.244997\" y=\"275.72694\" style=\"fill: #dd8452; fill-opacity: 0.5; stroke: #dd8452; stroke-opacity: 0.5; stroke-width: 1.5\"/>\n     <use xlink:href=\"#m27b1108822\" x=\"199.029001\" y=\"248.941953\" style=\"fill: #dd8452; fill-opacity: 0.5; stroke: #dd8452; stroke-opacity: 0.5; stroke-width: 1.5\"/>\n     <use xlink:href=\"#m27b1108822\" x=\"272.416817\" y=\"37.863379\" style=\"fill: #dd8452; fill-opacity: 0.5; stroke: #dd8452; stroke-opacity: 0.5; stroke-width: 1.5\"/>\n     <use xlink:href=\"#m27b1108822\" x=\"342.399223\" y=\"270.459669\" style=\"fill: #dd8452; fill-opacity: 0.5; stroke: #dd8452; stroke-opacity: 0.5; stroke-width: 1.5\"/>\n     <use xlink:href=\"#m27b1108822\" x=\"208.124132\" y=\"218.549627\" style=\"fill: #dd8452; fill-opacity: 0.5; stroke: #dd8452; stroke-opacity: 0.5; stroke-width: 1.5\"/>\n     <use xlink:href=\"#m27b1108822\" x=\"141.226687\" y=\"168.951743\" style=\"fill: #dd8452; fill-opacity: 0.5; stroke: #dd8452; stroke-opacity: 0.5; stroke-width: 1.5\"/>\n     <use xlink:href=\"#m27b1108822\" x=\"137.597958\" y=\"152.759093\" style=\"fill: #dd8452; fill-opacity: 0.5; stroke: #dd8452; stroke-opacity: 0.5; stroke-width: 1.5\"/>\n     <use xlink:href=\"#m27b1108822\" x=\"302.961373\" y=\"132.216107\" style=\"fill: #dd8452; fill-opacity: 0.5; stroke: #dd8452; stroke-opacity: 0.5; stroke-width: 1.5\"/>\n     <use xlink:href=\"#m27b1108822\" x=\"325.867207\" y=\"228.889757\" style=\"fill: #dd8452; fill-opacity: 0.5; stroke: #dd8452; stroke-opacity: 0.5; stroke-width: 1.5\"/>\n     <use xlink:href=\"#m27b1108822\" x=\"94.943453\" y=\"34.06722\" style=\"fill: #dd8452; fill-opacity: 0.5; stroke: #dd8452; stroke-opacity: 0.5; stroke-width: 1.5\"/>\n     <use xlink:href=\"#m27b1108822\" x=\"82.373081\" y=\"48.202338\" style=\"fill: #dd8452; fill-opacity: 0.5; stroke: #dd8452; stroke-opacity: 0.5; stroke-width: 1.5\"/>\n     <use xlink:href=\"#m27b1108822\" x=\"253.750037\" y=\"45.429113\" style=\"fill: #dd8452; fill-opacity: 0.5; stroke: #dd8452; stroke-opacity: 0.5; stroke-width: 1.5\"/>\n     <use xlink:href=\"#m27b1108822\" x=\"108.220254\" y=\"46.954686\" style=\"fill: #dd8452; fill-opacity: 0.5; stroke: #dd8452; stroke-opacity: 0.5; stroke-width: 1.5\"/>\n     <use xlink:href=\"#m27b1108822\" x=\"328.495424\" y=\"237.82957\" style=\"fill: #dd8452; fill-opacity: 0.5; stroke: #dd8452; stroke-opacity: 0.5; stroke-width: 1.5\"/>\n     <use xlink:href=\"#m27b1108822\" x=\"161.516009\" y=\"247.101736\" style=\"fill: #dd8452; fill-opacity: 0.5; stroke: #dd8452; stroke-opacity: 0.5; stroke-width: 1.5\"/>\n     <use xlink:href=\"#m27b1108822\" x=\"107.473123\" y=\"45.493776\" style=\"fill: #dd8452; fill-opacity: 0.5; stroke: #dd8452; stroke-opacity: 0.5; stroke-width: 1.5\"/>\n     <use xlink:href=\"#m27b1108822\" x=\"359.761696\" y=\"269.057499\" style=\"fill: #dd8452; fill-opacity: 0.5; stroke: #dd8452; stroke-opacity: 0.5; stroke-width: 1.5\"/>\n     <use xlink:href=\"#m27b1108822\" x=\"114.505072\" y=\"62.380513\" style=\"fill: #dd8452; fill-opacity: 0.5; stroke: #dd8452; stroke-opacity: 0.5; stroke-width: 1.5\"/>\n     <use xlink:href=\"#m27b1108822\" x=\"153.200115\" y=\"219.063025\" style=\"fill: #dd8452; fill-opacity: 0.5; stroke: #dd8452; stroke-opacity: 0.5; stroke-width: 1.5\"/>\n     <use xlink:href=\"#m27b1108822\" x=\"110.635733\" y=\"52.235471\" style=\"fill: #dd8452; fill-opacity: 0.5; stroke: #dd8452; stroke-opacity: 0.5; stroke-width: 1.5\"/>\n     <use xlink:href=\"#m27b1108822\" x=\"98.25882\" y=\"34.615168\" style=\"fill: #dd8452; fill-opacity: 0.5; stroke: #dd8452; stroke-opacity: 0.5; stroke-width: 1.5\"/>\n     <use xlink:href=\"#m27b1108822\" x=\"67.630246\" y=\"93.117311\" style=\"fill: #dd8452; fill-opacity: 0.5; stroke: #dd8452; stroke-opacity: 0.5; stroke-width: 1.5\"/>\n     <use xlink:href=\"#m27b1108822\" x=\"78.748817\" y=\"56.746722\" style=\"fill: #dd8452; fill-opacity: 0.5; stroke: #dd8452; stroke-opacity: 0.5; stroke-width: 1.5\"/>\n     <use xlink:href=\"#m27b1108822\" x=\"117.462593\" y=\"71.422435\" style=\"fill: #dd8452; fill-opacity: 0.5; stroke: #dd8452; stroke-opacity: 0.5; stroke-width: 1.5\"/>\n     <use xlink:href=\"#m27b1108822\" x=\"78.095133\" y=\"58.480179\" style=\"fill: #dd8452; fill-opacity: 0.5; stroke: #dd8452; stroke-opacity: 0.5; stroke-width: 1.5\"/>\n     <use xlink:href=\"#m27b1108822\" x=\"252.681973\" y=\"47.53753\" style=\"fill: #dd8452; fill-opacity: 0.5; stroke: #dd8452; stroke-opacity: 0.5; stroke-width: 1.5\"/>\n     <use xlink:href=\"#m27b1108822\" x=\"281.761511\" y=\"55.007507\" style=\"fill: #dd8452; fill-opacity: 0.5; stroke: #dd8452; stroke-opacity: 0.5; stroke-width: 1.5\"/>\n     <use xlink:href=\"#m27b1108822\" x=\"188.558363\" y=\"270.749152\" style=\"fill: #dd8452; fill-opacity: 0.5; stroke: #dd8452; stroke-opacity: 0.5; stroke-width: 1.5\"/>\n     <use xlink:href=\"#m27b1108822\" x=\"164.001701\" y=\"253.906601\" style=\"fill: #dd8452; fill-opacity: 0.5; stroke: #dd8452; stroke-opacity: 0.5; stroke-width: 1.5\"/>\n     <use xlink:href=\"#m27b1108822\" x=\"224.561182\" y=\"148.425065\" style=\"fill: #dd8452; fill-opacity: 0.5; stroke: #dd8452; stroke-opacity: 0.5; stroke-width: 1.5\"/>\n     <use xlink:href=\"#m27b1108822\" x=\"344.838778\" y=\"273.235503\" style=\"fill: #dd8452; fill-opacity: 0.5; stroke: #dd8452; stroke-opacity: 0.5; stroke-width: 1.5\"/>\n     <use xlink:href=\"#m27b1108822\" x=\"337.088197\" y=\"261.213282\" style=\"fill: #dd8452; fill-opacity: 0.5; stroke: #dd8452; stroke-opacity: 0.5; stroke-width: 1.5\"/>\n     <use xlink:href=\"#m27b1108822\" x=\"74.878823\" y=\"67.809516\" style=\"fill: #dd8452; fill-opacity: 0.5; stroke: #dd8452; stroke-opacity: 0.5; stroke-width: 1.5\"/>\n     <use xlink:href=\"#m27b1108822\" x=\"119.68873\" y=\"78.892748\" style=\"fill: #dd8452; fill-opacity: 0.5; stroke: #dd8452; stroke-opacity: 0.5; stroke-width: 1.5\"/>\n     <use xlink:href=\"#m27b1108822\" x=\"137.624745\" y=\"152.878836\" style=\"fill: #dd8452; fill-opacity: 0.5; stroke: #dd8452; stroke-opacity: 0.5; stroke-width: 1.5\"/>\n     <use xlink:href=\"#m27b1108822\" x=\"141.729256\" y=\"171.181167\" style=\"fill: #dd8452; fill-opacity: 0.5; stroke: #dd8452; stroke-opacity: 0.5; stroke-width: 1.5\"/>\n     <use xlink:href=\"#m27b1108822\" x=\"246.217723\" y=\"63.735259\" style=\"fill: #dd8452; fill-opacity: 0.5; stroke: #dd8452; stroke-opacity: 0.5; stroke-width: 1.5\"/>\n     <use xlink:href=\"#m27b1108822\" x=\"195.905935\" y=\"257.092085\" style=\"fill: #dd8452; fill-opacity: 0.5; stroke: #dd8452; stroke-opacity: 0.5; stroke-width: 1.5\"/>\n     <use xlink:href=\"#m27b1108822\" x=\"76.75502\" y=\"62.208927\" style=\"fill: #dd8452; fill-opacity: 0.5; stroke: #dd8452; stroke-opacity: 0.5; stroke-width: 1.5\"/>\n     <use xlink:href=\"#m27b1108822\" x=\"182.059974\" y=\"275.77455\" style=\"fill: #dd8452; fill-opacity: 0.5; stroke: #dd8452; stroke-opacity: 0.5; stroke-width: 1.5\"/>\n     <use xlink:href=\"#m27b1108822\" x=\"230.803222\" y=\"120.978804\" style=\"fill: #dd8452; fill-opacity: 0.5; stroke: #dd8452; stroke-opacity: 0.5; stroke-width: 1.5\"/>\n     <use xlink:href=\"#m27b1108822\" x=\"93.772691\" y=\"34.307436\" style=\"fill: #dd8452; fill-opacity: 0.5; stroke: #dd8452; stroke-opacity: 0.5; stroke-width: 1.5\"/>\n     <use xlink:href=\"#m27b1108822\" x=\"331.350554\" y=\"246.65344\" style=\"fill: #dd8452; fill-opacity: 0.5; stroke: #dd8452; stroke-opacity: 0.5; stroke-width: 1.5\"/>\n     <use xlink:href=\"#m27b1108822\" x=\"77.634102\" y=\"59.736694\" style=\"fill: #dd8452; fill-opacity: 0.5; stroke: #dd8452; stroke-opacity: 0.5; stroke-width: 1.5\"/>\n     <use xlink:href=\"#m27b1108822\" x=\"361.018563\" y=\"267.065038\" style=\"fill: #dd8452; fill-opacity: 0.5; stroke: #dd8452; stroke-opacity: 0.5; stroke-width: 1.5\"/>\n     <use xlink:href=\"#m27b1108822\" x=\"92.941978\" y=\"34.614973\" style=\"fill: #dd8452; fill-opacity: 0.5; stroke: #dd8452; stroke-opacity: 0.5; stroke-width: 1.5\"/>\n     <use xlink:href=\"#m27b1108822\" x=\"334.634888\" y=\"255.536844\" style=\"fill: #dd8452; fill-opacity: 0.5; stroke: #dd8452; stroke-opacity: 0.5; stroke-width: 1.5\"/>\n     <use xlink:href=\"#m27b1108822\" x=\"353.814892\" y=\"275.090048\" style=\"fill: #dd8452; fill-opacity: 0.5; stroke: #dd8452; stroke-opacity: 0.5; stroke-width: 1.5\"/>\n     <use xlink:href=\"#m27b1108822\" x=\"378.78652\" y=\"215.967545\" style=\"fill: #dd8452; fill-opacity: 0.5; stroke: #dd8452; stroke-opacity: 0.5; stroke-width: 1.5\"/>\n     <use xlink:href=\"#m27b1108822\" x=\"321.145794\" y=\"211.140063\" style=\"fill: #dd8452; fill-opacity: 0.5; stroke: #dd8452; stroke-opacity: 0.5; stroke-width: 1.5\"/>\n     <use xlink:href=\"#m27b1108822\" x=\"313.825373\" y=\"180.459971\" style=\"fill: #dd8452; fill-opacity: 0.5; stroke: #dd8452; stroke-opacity: 0.5; stroke-width: 1.5\"/>\n     <use xlink:href=\"#m27b1108822\" x=\"269.349562\" y=\"35.198291\" style=\"fill: #dd8452; fill-opacity: 0.5; stroke: #dd8452; stroke-opacity: 0.5; stroke-width: 1.5\"/>\n     <use xlink:href=\"#m27b1108822\" x=\"313.669153\" y=\"179.776755\" style=\"fill: #dd8452; fill-opacity: 0.5; stroke: #dd8452; stroke-opacity: 0.5; stroke-width: 1.5\"/>\n     <use xlink:href=\"#m27b1108822\" x=\"104.447432\" y=\"40.441841\" style=\"fill: #dd8452; fill-opacity: 0.5; stroke: #dd8452; stroke-opacity: 0.5; stroke-width: 1.5\"/>\n     <use xlink:href=\"#m27b1108822\" x=\"234.801371\" y=\"104.257538\" style=\"fill: #dd8452; fill-opacity: 0.5; stroke: #dd8452; stroke-opacity: 0.5; stroke-width: 1.5\"/>\n     <use xlink:href=\"#m27b1108822\" x=\"227.709238\" y=\"134.447041\" style=\"fill: #dd8452; fill-opacity: 0.5; stroke: #dd8452; stroke-opacity: 0.5; stroke-width: 1.5\"/>\n     <use xlink:href=\"#m27b1108822\" x=\"339.179141\" y=\"265.363915\" style=\"fill: #dd8452; fill-opacity: 0.5; stroke: #dd8452; stroke-opacity: 0.5; stroke-width: 1.5\"/>\n     <use xlink:href=\"#m27b1108822\" x=\"211.014364\" y=\"207.213664\" style=\"fill: #dd8452; fill-opacity: 0.5; stroke: #dd8452; stroke-opacity: 0.5; stroke-width: 1.5\"/>\n     <use xlink:href=\"#m27b1108822\" x=\"185.785501\" y=\"273.732248\" style=\"fill: #dd8452; fill-opacity: 0.5; stroke: #dd8452; stroke-opacity: 0.5; stroke-width: 1.5\"/>\n     <use xlink:href=\"#m27b1108822\" x=\"268.401569\" y=\"34.684683\" style=\"fill: #dd8452; fill-opacity: 0.5; stroke: #dd8452; stroke-opacity: 0.5; stroke-width: 1.5\"/>\n     <use xlink:href=\"#m27b1108822\" x=\"147.272973\" y=\"195.233765\" style=\"fill: #dd8452; fill-opacity: 0.5; stroke: #dd8452; stroke-opacity: 0.5; stroke-width: 1.5\"/>\n     <use xlink:href=\"#m27b1108822\" x=\"106.140896\" y=\"43.096669\" style=\"fill: #dd8452; fill-opacity: 0.5; stroke: #dd8452; stroke-opacity: 0.5; stroke-width: 1.5\"/>\n     <use xlink:href=\"#m27b1108822\" x=\"215.909475\" y=\"186.727542\" style=\"fill: #dd8452; fill-opacity: 0.5; stroke: #dd8452; stroke-opacity: 0.5; stroke-width: 1.5\"/>\n     <use xlink:href=\"#m27b1108822\" x=\"196.109474\" y=\"256.601234\" style=\"fill: #dd8452; fill-opacity: 0.5; stroke: #dd8452; stroke-opacity: 0.5; stroke-width: 1.5\"/>\n     <use xlink:href=\"#m27b1108822\" x=\"136.269334\" y=\"146.824941\" style=\"fill: #dd8452; fill-opacity: 0.5; stroke: #dd8452; stroke-opacity: 0.5; stroke-width: 1.5\"/>\n     <use xlink:href=\"#m27b1108822\" x=\"180.078826\" y=\"275.929977\" style=\"fill: #dd8452; fill-opacity: 0.5; stroke: #dd8452; stroke-opacity: 0.5; stroke-width: 1.5\"/>\n     <use xlink:href=\"#m27b1108822\" x=\"179.71542\" y=\"275.888098\" style=\"fill: #dd8452; fill-opacity: 0.5; stroke: #dd8452; stroke-opacity: 0.5; stroke-width: 1.5\"/>\n     <use xlink:href=\"#m27b1108822\" x=\"167.08737\" y=\"261.18738\" style=\"fill: #dd8452; fill-opacity: 0.5; stroke: #dd8452; stroke-opacity: 0.5; stroke-width: 1.5\"/>\n     <use xlink:href=\"#m27b1108822\" x=\"183.959184\" y=\"275.017728\" style=\"fill: #dd8452; fill-opacity: 0.5; stroke: #dd8452; stroke-opacity: 0.5; stroke-width: 1.5\"/>\n     <use xlink:href=\"#m27b1108822\" x=\"283.39414\" y=\"59.295189\" style=\"fill: #dd8452; fill-opacity: 0.5; stroke: #dd8452; stroke-opacity: 0.5; stroke-width: 1.5\"/>\n     <use xlink:href=\"#m27b1108822\" x=\"157.146743\" y=\"233.29607\" style=\"fill: #dd8452; fill-opacity: 0.5; stroke: #dd8452; stroke-opacity: 0.5; stroke-width: 1.5\"/>\n     <use xlink:href=\"#m27b1108822\" x=\"368.815485\" y=\"249.508851\" style=\"fill: #dd8452; fill-opacity: 0.5; stroke: #dd8452; stroke-opacity: 0.5; stroke-width: 1.5\"/>\n     <use xlink:href=\"#m27b1108822\" x=\"358.260996\" y=\"271.113777\" style=\"fill: #dd8452; fill-opacity: 0.5; stroke: #dd8452; stroke-opacity: 0.5; stroke-width: 1.5\"/>\n     <use xlink:href=\"#m27b1108822\" x=\"216.894203\" y=\"182.459002\" style=\"fill: #dd8452; fill-opacity: 0.5; stroke: #dd8452; stroke-opacity: 0.5; stroke-width: 1.5\"/>\n     <use xlink:href=\"#m27b1108822\" x=\"167.368404\" y=\"261.783217\" style=\"fill: #dd8452; fill-opacity: 0.5; stroke: #dd8452; stroke-opacity: 0.5; stroke-width: 1.5\"/>\n     <use xlink:href=\"#m27b1108822\" x=\"234.595784\" y=\"105.093407\" style=\"fill: #dd8452; fill-opacity: 0.5; stroke: #dd8452; stroke-opacity: 0.5; stroke-width: 1.5\"/>\n     <use xlink:href=\"#m27b1108822\" x=\"336.253466\" y=\"259.377665\" style=\"fill: #dd8452; fill-opacity: 0.5; stroke: #dd8452; stroke-opacity: 0.5; stroke-width: 1.5\"/>\n     <use xlink:href=\"#m27b1108822\" x=\"272.629892\" y=\"38.104892\" style=\"fill: #dd8452; fill-opacity: 0.5; stroke: #dd8452; stroke-opacity: 0.5; stroke-width: 1.5\"/>\n     <use xlink:href=\"#m27b1108822\" x=\"321.913909\" y=\"214.158846\" style=\"fill: #dd8452; fill-opacity: 0.5; stroke: #dd8452; stroke-opacity: 0.5; stroke-width: 1.5\"/>\n     <use xlink:href=\"#m27b1108822\" x=\"233.715154\" y=\"108.705861\" style=\"fill: #dd8452; fill-opacity: 0.5; stroke: #dd8452; stroke-opacity: 0.5; stroke-width: 1.5\"/>\n     <use xlink:href=\"#m27b1108822\" x=\"266.244031\" y=\"34.067048\" style=\"fill: #dd8452; fill-opacity: 0.5; stroke: #dd8452; stroke-opacity: 0.5; stroke-width: 1.5\"/>\n     <use xlink:href=\"#m27b1108822\" x=\"154.315476\" y=\"223.237109\" style=\"fill: #dd8452; fill-opacity: 0.5; stroke: #dd8452; stroke-opacity: 0.5; stroke-width: 1.5\"/>\n     <use xlink:href=\"#m27b1108822\" x=\"299.350852\" y=\"116.611825\" style=\"fill: #dd8452; fill-opacity: 0.5; stroke: #dd8452; stroke-opacity: 0.5; stroke-width: 1.5\"/>\n     <use xlink:href=\"#m27b1108822\" x=\"126.476017\" y=\"104.616237\" style=\"fill: #dd8452; fill-opacity: 0.5; stroke: #dd8452; stroke-opacity: 0.5; stroke-width: 1.5\"/>\n     <use xlink:href=\"#m27b1108822\" x=\"286.333817\" y=\"67.882577\" style=\"fill: #dd8452; fill-opacity: 0.5; stroke: #dd8452; stroke-opacity: 0.5; stroke-width: 1.5\"/>\n     <use xlink:href=\"#m27b1108822\" x=\"340.200804\" y=\"267.153714\" style=\"fill: #dd8452; fill-opacity: 0.5; stroke: #dd8452; stroke-opacity: 0.5; stroke-width: 1.5\"/>\n     <use xlink:href=\"#m27b1108822\" x=\"103.652233\" y=\"39.349451\" style=\"fill: #dd8452; fill-opacity: 0.5; stroke: #dd8452; stroke-opacity: 0.5; stroke-width: 1.5\"/>\n     <use xlink:href=\"#m27b1108822\" x=\"260.225621\" y=\"36.400611\" style=\"fill: #dd8452; fill-opacity: 0.5; stroke: #dd8452; stroke-opacity: 0.5; stroke-width: 1.5\"/>\n     <use xlink:href=\"#m27b1108822\" x=\"91.637713\" y=\"35.326634\" style=\"fill: #dd8452; fill-opacity: 0.5; stroke: #dd8452; stroke-opacity: 0.5; stroke-width: 1.5\"/>\n     <use xlink:href=\"#m27b1108822\" x=\"296.371323\" y=\"104.23682\" style=\"fill: #dd8452; fill-opacity: 0.5; stroke: #dd8452; stroke-opacity: 0.5; stroke-width: 1.5\"/>\n     <use xlink:href=\"#m27b1108822\" x=\"88.195554\" y=\"38.53379\" style=\"fill: #dd8452; fill-opacity: 0.5; stroke: #dd8452; stroke-opacity: 0.5; stroke-width: 1.5\"/>\n     <use xlink:href=\"#m27b1108822\" x=\"364.621564\" y=\"260.030052\" style=\"fill: #dd8452; fill-opacity: 0.5; stroke: #dd8452; stroke-opacity: 0.5; stroke-width: 1.5\"/>\n     <use xlink:href=\"#m27b1108822\" x=\"105.374555\" y=\"41.840329\" style=\"fill: #dd8452; fill-opacity: 0.5; stroke: #dd8452; stroke-opacity: 0.5; stroke-width: 1.5\"/>\n     <use xlink:href=\"#m27b1108822\" x=\"372.069276\" y=\"239.76964\" style=\"fill: #dd8452; fill-opacity: 0.5; stroke: #dd8452; stroke-opacity: 0.5; stroke-width: 1.5\"/>\n     <use xlink:href=\"#m27b1108822\" x=\"320.775134\" y=\"209.666989\" style=\"fill: #dd8452; fill-opacity: 0.5; stroke: #dd8452; stroke-opacity: 0.5; stroke-width: 1.5\"/>\n     <use xlink:href=\"#m27b1108822\" x=\"253.506007\" y=\"45.895907\" style=\"fill: #dd8452; fill-opacity: 0.5; stroke: #dd8452; stroke-opacity: 0.5; stroke-width: 1.5\"/>\n     <use xlink:href=\"#m27b1108822\" x=\"314.846919\" y=\"184.905679\" style=\"fill: #dd8452; fill-opacity: 0.5; stroke: #dd8452; stroke-opacity: 0.5; stroke-width: 1.5\"/>\n     <use xlink:href=\"#m27b1108822\" x=\"318.902093\" y=\"202.071974\" style=\"fill: #dd8452; fill-opacity: 0.5; stroke: #dd8452; stroke-opacity: 0.5; stroke-width: 1.5\"/>\n     <use xlink:href=\"#m27b1108822\" x=\"367.896432\" y=\"252.018058\" style=\"fill: #dd8452; fill-opacity: 0.5; stroke: #dd8452; stroke-opacity: 0.5; stroke-width: 1.5\"/>\n     <use xlink:href=\"#m27b1108822\" x=\"143.026504\" y=\"176.908135\" style=\"fill: #dd8452; fill-opacity: 0.5; stroke: #dd8452; stroke-opacity: 0.5; stroke-width: 1.5\"/>\n     <use xlink:href=\"#m27b1108822\" x=\"252.335268\" y=\"48.258112\" style=\"fill: #dd8452; fill-opacity: 0.5; stroke: #dd8452; stroke-opacity: 0.5; stroke-width: 1.5\"/>\n     <use xlink:href=\"#m27b1108822\" x=\"91.6226\" y=\"35.336514\" style=\"fill: #dd8452; fill-opacity: 0.5; stroke: #dd8452; stroke-opacity: 0.5; stroke-width: 1.5\"/>\n     <use xlink:href=\"#m27b1108822\" x=\"260.805441\" y=\"35.917336\" style=\"fill: #dd8452; fill-opacity: 0.5; stroke: #dd8452; stroke-opacity: 0.5; stroke-width: 1.5\"/>\n     <use xlink:href=\"#m27b1108822\" x=\"116.374946\" y=\"67.975233\" style=\"fill: #dd8452; fill-opacity: 0.5; stroke: #dd8452; stroke-opacity: 0.5; stroke-width: 1.5\"/>\n     <use xlink:href=\"#m27b1108822\" x=\"244.17823\" y=\"69.973941\" style=\"fill: #dd8452; fill-opacity: 0.5; stroke: #dd8452; stroke-opacity: 0.5; stroke-width: 1.5\"/>\n     <use xlink:href=\"#m27b1108822\" x=\"246.606614\" y=\"62.60347\" style=\"fill: #dd8452; fill-opacity: 0.5; stroke: #dd8452; stroke-opacity: 0.5; stroke-width: 1.5\"/>\n     <use xlink:href=\"#m27b1108822\" x=\"212.048644\" y=\"203.005441\" style=\"fill: #dd8452; fill-opacity: 0.5; stroke: #dd8452; stroke-opacity: 0.5; stroke-width: 1.5\"/>\n     <use xlink:href=\"#m27b1108822\" x=\"230.439228\" y=\"122.54358\" style=\"fill: #dd8452; fill-opacity: 0.5; stroke: #dd8452; stroke-opacity: 0.5; stroke-width: 1.5\"/>\n     <use xlink:href=\"#m27b1108822\" x=\"308.775647\" y=\"158.074471\" style=\"fill: #dd8452; fill-opacity: 0.5; stroke: #dd8452; stroke-opacity: 0.5; stroke-width: 1.5\"/>\n     <use xlink:href=\"#m27b1108822\" x=\"320.242876\" y=\"207.533812\" style=\"fill: #dd8452; fill-opacity: 0.5; stroke: #dd8452; stroke-opacity: 0.5; stroke-width: 1.5\"/>\n     <use xlink:href=\"#m27b1108822\" x=\"220.544225\" y=\"166.364727\" style=\"fill: #dd8452; fill-opacity: 0.5; stroke: #dd8452; stroke-opacity: 0.5; stroke-width: 1.5\"/>\n     <use xlink:href=\"#m27b1108822\" x=\"255.425182\" y=\"42.467329\" style=\"fill: #dd8452; fill-opacity: 0.5; stroke: #dd8452; stroke-opacity: 0.5; stroke-width: 1.5\"/>\n     <use xlink:href=\"#m27b1108822\" x=\"363.094523\" y=\"263.246777\" style=\"fill: #dd8452; fill-opacity: 0.5; stroke: #dd8452; stroke-opacity: 0.5; stroke-width: 1.5\"/>\n     <use xlink:href=\"#m27b1108822\" x=\"99.6365\" y=\"35.375272\" style=\"fill: #dd8452; fill-opacity: 0.5; stroke: #dd8452; stroke-opacity: 0.5; stroke-width: 1.5\"/>\n     <use xlink:href=\"#m27b1108822\" x=\"98.782651\" y=\"34.867498\" style=\"fill: #dd8452; fill-opacity: 0.5; stroke: #dd8452; stroke-opacity: 0.5; stroke-width: 1.5\"/>\n     <use xlink:href=\"#m27b1108822\" x=\"89.239575\" y=\"37.359154\" style=\"fill: #dd8452; fill-opacity: 0.5; stroke: #dd8452; stroke-opacity: 0.5; stroke-width: 1.5\"/>\n     <use xlink:href=\"#m27b1108822\" x=\"274.342752\" y=\"40.308383\" style=\"fill: #dd8452; fill-opacity: 0.5; stroke: #dd8452; stroke-opacity: 0.5; stroke-width: 1.5\"/>\n     <use xlink:href=\"#m27b1108822\" x=\"196.667534\" y=\"255.226017\" style=\"fill: #dd8452; fill-opacity: 0.5; stroke: #dd8452; stroke-opacity: 0.5; stroke-width: 1.5\"/>\n     <use xlink:href=\"#m27b1108822\" x=\"312.151413\" y=\"173.099448\" style=\"fill: #dd8452; fill-opacity: 0.5; stroke: #dd8452; stroke-opacity: 0.5; stroke-width: 1.5\"/>\n     <use xlink:href=\"#m27b1108822\" x=\"278.682775\" y=\"47.923895\" style=\"fill: #dd8452; fill-opacity: 0.5; stroke: #dd8452; stroke-opacity: 0.5; stroke-width: 1.5\"/>\n     <use xlink:href=\"#m27b1108822\" x=\"169.081461\" y=\"265.163705\" style=\"fill: #dd8452; fill-opacity: 0.5; stroke: #dd8452; stroke-opacity: 0.5; stroke-width: 1.5\"/>\n     <use xlink:href=\"#m27b1108822\" x=\"352.423229\" y=\"275.672321\" style=\"fill: #dd8452; fill-opacity: 0.5; stroke: #dd8452; stroke-opacity: 0.5; stroke-width: 1.5\"/>\n     <use xlink:href=\"#m27b1108822\" x=\"308.323974\" y=\"156.055371\" style=\"fill: #dd8452; fill-opacity: 0.5; stroke: #dd8452; stroke-opacity: 0.5; stroke-width: 1.5\"/>\n     <use xlink:href=\"#m27b1108822\" x=\"148.594844\" y=\"200.75692\" style=\"fill: #dd8452; fill-opacity: 0.5; stroke: #dd8452; stroke-opacity: 0.5; stroke-width: 1.5\"/>\n     <use xlink:href=\"#m27b1108822\" x=\"179.00104\" y=\"275.742198\" style=\"fill: #dd8452; fill-opacity: 0.5; stroke: #dd8452; stroke-opacity: 0.5; stroke-width: 1.5\"/>\n     <use xlink:href=\"#m27b1108822\" x=\"162.848815\" y=\"250.850873\" style=\"fill: #dd8452; fill-opacity: 0.5; stroke: #dd8452; stroke-opacity: 0.5; stroke-width: 1.5\"/>\n     <use xlink:href=\"#m27b1108822\" x=\"111.933784\" y=\"55.414387\" style=\"fill: #dd8452; fill-opacity: 0.5; stroke: #dd8452; stroke-opacity: 0.5; stroke-width: 1.5\"/>\n     <use xlink:href=\"#m27b1108822\" x=\"108.74299\" y=\"48.025877\" style=\"fill: #dd8452; fill-opacity: 0.5; stroke: #dd8452; stroke-opacity: 0.5; stroke-width: 1.5\"/>\n     <use xlink:href=\"#m27b1108822\" x=\"364.682482\" y=\"259.894716\" style=\"fill: #dd8452; fill-opacity: 0.5; stroke: #dd8452; stroke-opacity: 0.5; stroke-width: 1.5\"/>\n     <use xlink:href=\"#m27b1108822\" x=\"202.931982\" y=\"237.012838\" style=\"fill: #dd8452; fill-opacity: 0.5; stroke: #dd8452; stroke-opacity: 0.5; stroke-width: 1.5\"/>\n     <use xlink:href=\"#m27b1108822\" x=\"185.210969\" y=\"274.19528\" style=\"fill: #dd8452; fill-opacity: 0.5; stroke: #dd8452; stroke-opacity: 0.5; stroke-width: 1.5\"/>\n     <use xlink:href=\"#m27b1108822\" x=\"297.660228\" y=\"109.523246\" style=\"fill: #dd8452; fill-opacity: 0.5; stroke: #dd8452; stroke-opacity: 0.5; stroke-width: 1.5\"/>\n     <use xlink:href=\"#m27b1108822\" x=\"240.296158\" y=\"83.15166\" style=\"fill: #dd8452; fill-opacity: 0.5; stroke: #dd8452; stroke-opacity: 0.5; stroke-width: 1.5\"/>\n     <use xlink:href=\"#m27b1108822\" x=\"364.686548\" y=\"259.885664\" style=\"fill: #dd8452; fill-opacity: 0.5; stroke: #dd8452; stroke-opacity: 0.5; stroke-width: 1.5\"/>\n     <use xlink:href=\"#m27b1108822\" x=\"314.092873\" y=\"181.627883\" style=\"fill: #dd8452; fill-opacity: 0.5; stroke: #dd8452; stroke-opacity: 0.5; stroke-width: 1.5\"/>\n     <use xlink:href=\"#m27b1108822\" x=\"216.393954\" y=\"184.632354\" style=\"fill: #dd8452; fill-opacity: 0.5; stroke: #dd8452; stroke-opacity: 0.5; stroke-width: 1.5\"/>\n     <use xlink:href=\"#m27b1108822\" x=\"182.95126\" y=\"275.49331\" style=\"fill: #dd8452; fill-opacity: 0.5; stroke: #dd8452; stroke-opacity: 0.5; stroke-width: 1.5\"/>\n     <use xlink:href=\"#m27b1108822\" x=\"381.078862\" y=\"206.907869\" style=\"fill: #dd8452; fill-opacity: 0.5; stroke: #dd8452; stroke-opacity: 0.5; stroke-width: 1.5\"/>\n     <use xlink:href=\"#m27b1108822\" x=\"293.788569\" y=\"94.002132\" style=\"fill: #dd8452; fill-opacity: 0.5; stroke: #dd8452; stroke-opacity: 0.5; stroke-width: 1.5\"/>\n     <use xlink:href=\"#m27b1108822\" x=\"369.574116\" y=\"247.35533\" style=\"fill: #dd8452; fill-opacity: 0.5; stroke: #dd8452; stroke-opacity: 0.5; stroke-width: 1.5\"/>\n     <use xlink:href=\"#m27b1108822\" x=\"99.229055\" y=\"35.118075\" style=\"fill: #dd8452; fill-opacity: 0.5; stroke: #dd8452; stroke-opacity: 0.5; stroke-width: 1.5\"/>\n     <use xlink:href=\"#m27b1108822\" x=\"336.894071\" y=\"260.795349\" style=\"fill: #dd8452; fill-opacity: 0.5; stroke: #dd8452; stroke-opacity: 0.5; stroke-width: 1.5\"/>\n     <use xlink:href=\"#m27b1108822\" x=\"267.593378\" y=\"34.363431\" style=\"fill: #dd8452; fill-opacity: 0.5; stroke: #dd8452; stroke-opacity: 0.5; stroke-width: 1.5\"/>\n     <use xlink:href=\"#m27b1108822\" x=\"100.346873\" y=\"35.888537\" style=\"fill: #dd8452; fill-opacity: 0.5; stroke: #dd8452; stroke-opacity: 0.5; stroke-width: 1.5\"/>\n     <use xlink:href=\"#m27b1108822\" x=\"251.74508\" y=\"49.52499\" style=\"fill: #dd8452; fill-opacity: 0.5; stroke: #dd8452; stroke-opacity: 0.5; stroke-width: 1.5\"/>\n     <use xlink:href=\"#m27b1108822\" x=\"283.50875\" y=\"59.609458\" style=\"fill: #dd8452; fill-opacity: 0.5; stroke: #dd8452; stroke-opacity: 0.5; stroke-width: 1.5\"/>\n     <use xlink:href=\"#m27b1108822\" x=\"64.758569\" y=\"104.47713\" style=\"fill: #dd8452; fill-opacity: 0.5; stroke: #dd8452; stroke-opacity: 0.5; stroke-width: 1.5\"/>\n     <use xlink:href=\"#m27b1108822\" x=\"208.260837\" y=\"218.028786\" style=\"fill: #dd8452; fill-opacity: 0.5; stroke: #dd8452; stroke-opacity: 0.5; stroke-width: 1.5\"/>\n     <use xlink:href=\"#m27b1108822\" x=\"328.734149\" y=\"238.6041\" style=\"fill: #dd8452; fill-opacity: 0.5; stroke: #dd8452; stroke-opacity: 0.5; stroke-width: 1.5\"/>\n     <use xlink:href=\"#m27b1108822\" x=\"156.654096\" y=\"231.604377\" style=\"fill: #dd8452; fill-opacity: 0.5; stroke: #dd8452; stroke-opacity: 0.5; stroke-width: 1.5\"/>\n     <use xlink:href=\"#m27b1108822\" x=\"209.634165\" y=\"212.709424\" style=\"fill: #dd8452; fill-opacity: 0.5; stroke: #dd8452; stroke-opacity: 0.5; stroke-width: 1.5\"/>\n     <use xlink:href=\"#m27b1108822\" x=\"204.363738\" y=\"232.195313\" style=\"fill: #dd8452; fill-opacity: 0.5; stroke: #dd8452; stroke-opacity: 0.5; stroke-width: 1.5\"/>\n     <use xlink:href=\"#m27b1108822\" x=\"158.786546\" y=\"238.736853\" style=\"fill: #dd8452; fill-opacity: 0.5; stroke: #dd8452; stroke-opacity: 0.5; stroke-width: 1.5\"/>\n     <use xlink:href=\"#m27b1108822\" x=\"358.940782\" y=\"270.226226\" style=\"fill: #dd8452; fill-opacity: 0.5; stroke: #dd8452; stroke-opacity: 0.5; stroke-width: 1.5\"/>\n     <use xlink:href=\"#m27b1108822\" x=\"314.415106\" y=\"183.031292\" style=\"fill: #dd8452; fill-opacity: 0.5; stroke: #dd8452; stroke-opacity: 0.5; stroke-width: 1.5\"/>\n     <use xlink:href=\"#m27b1108822\" x=\"96.667476\" y=\"34.125698\" style=\"fill: #dd8452; fill-opacity: 0.5; stroke: #dd8452; stroke-opacity: 0.5; stroke-width: 1.5\"/>\n     <use xlink:href=\"#m27b1108822\" x=\"384.45628\" y=\"192.900473\" style=\"fill: #dd8452; fill-opacity: 0.5; stroke: #dd8452; stroke-opacity: 0.5; stroke-width: 1.5\"/>\n     <use xlink:href=\"#m27b1108822\" x=\"346.20073\" y=\"274.368402\" style=\"fill: #dd8452; fill-opacity: 0.5; stroke: #dd8452; stroke-opacity: 0.5; stroke-width: 1.5\"/>\n     <use xlink:href=\"#m27b1108822\" x=\"152.936611\" y=\"218.06073\" style=\"fill: #dd8452; fill-opacity: 0.5; stroke: #dd8452; stroke-opacity: 0.5; stroke-width: 1.5\"/>\n     <use xlink:href=\"#m27b1108822\" x=\"332.466725\" y=\"249.830765\" style=\"fill: #dd8452; fill-opacity: 0.5; stroke: #dd8452; stroke-opacity: 0.5; stroke-width: 1.5\"/>\n     <use xlink:href=\"#m27b1108822\" x=\"95.314031\" y=\"34.038351\" style=\"fill: #dd8452; fill-opacity: 0.5; stroke: #dd8452; stroke-opacity: 0.5; stroke-width: 1.5\"/>\n     <use xlink:href=\"#m27b1108822\" x=\"385.128338\" y=\"190.035689\" style=\"fill: #dd8452; fill-opacity: 0.5; stroke: #dd8452; stroke-opacity: 0.5; stroke-width: 1.5\"/>\n     <use xlink:href=\"#m27b1108822\" x=\"276.882021\" y=\"44.417503\" style=\"fill: #dd8452; fill-opacity: 0.5; stroke: #dd8452; stroke-opacity: 0.5; stroke-width: 1.5\"/>\n     <use xlink:href=\"#m27b1108822\" x=\"271.830487\" y=\"37.236342\" style=\"fill: #dd8452; fill-opacity: 0.5; stroke: #dd8452; stroke-opacity: 0.5; stroke-width: 1.5\"/>\n     <use xlink:href=\"#m27b1108822\" x=\"90.126439\" y=\"36.498863\" style=\"fill: #dd8452; fill-opacity: 0.5; stroke: #dd8452; stroke-opacity: 0.5; stroke-width: 1.5\"/>\n     <use xlink:href=\"#m27b1108822\" x=\"351.990416\" y=\"275.788377\" style=\"fill: #dd8452; fill-opacity: 0.5; stroke: #dd8452; stroke-opacity: 0.5; stroke-width: 1.5\"/>\n     <use xlink:href=\"#m27b1108822\" x=\"70.179267\" y=\"83.613492\" style=\"fill: #dd8452; fill-opacity: 0.5; stroke: #dd8452; stroke-opacity: 0.5; stroke-width: 1.5\"/>\n     <use xlink:href=\"#m27b1108822\" x=\"138.95037\" y=\"158.804933\" style=\"fill: #dd8452; fill-opacity: 0.5; stroke: #dd8452; stroke-opacity: 0.5; stroke-width: 1.5\"/>\n     <use xlink:href=\"#m27b1108822\" x=\"107.197148\" y=\"44.975206\" style=\"fill: #dd8452; fill-opacity: 0.5; stroke: #dd8452; stroke-opacity: 0.5; stroke-width: 1.5\"/>\n     <use xlink:href=\"#m27b1108822\" x=\"312.945689\" y=\"176.602309\" style=\"fill: #dd8452; fill-opacity: 0.5; stroke: #dd8452; stroke-opacity: 0.5; stroke-width: 1.5\"/>\n     <use xlink:href=\"#m27b1108822\" x=\"125.112349\" y=\"99.139529\" style=\"fill: #dd8452; fill-opacity: 0.5; stroke: #dd8452; stroke-opacity: 0.5; stroke-width: 1.5\"/>\n     <use xlink:href=\"#m27b1108822\" x=\"356.407286\" y=\"273.160047\" style=\"fill: #dd8452; fill-opacity: 0.5; stroke: #dd8452; stroke-opacity: 0.5; stroke-width: 1.5\"/>\n     <use xlink:href=\"#m27b1108822\" x=\"273.825173\" y=\"39.593659\" style=\"fill: #dd8452; fill-opacity: 0.5; stroke: #dd8452; stroke-opacity: 0.5; stroke-width: 1.5\"/>\n     <use xlink:href=\"#m27b1108822\" x=\"72.504834\" y=\"75.493086\" style=\"fill: #dd8452; fill-opacity: 0.5; stroke: #dd8452; stroke-opacity: 0.5; stroke-width: 1.5\"/>\n     <use xlink:href=\"#m27b1108822\" x=\"62.527266\" y=\"113.703087\" style=\"fill: #dd8452; fill-opacity: 0.5; stroke: #dd8452; stroke-opacity: 0.5; stroke-width: 1.5\"/>\n     <use xlink:href=\"#m27b1108822\" x=\"77.535424\" y=\"60.009243\" style=\"fill: #dd8452; fill-opacity: 0.5; stroke: #dd8452; stroke-opacity: 0.5; stroke-width: 1.5\"/>\n     <use xlink:href=\"#m27b1108822\" x=\"257.480809\" y=\"39.423166\" style=\"fill: #dd8452; fill-opacity: 0.5; stroke: #dd8452; stroke-opacity: 0.5; stroke-width: 1.5\"/>\n     <use xlink:href=\"#m27b1108822\" x=\"320.969159\" y=\"210.43938\" style=\"fill: #dd8452; fill-opacity: 0.5; stroke: #dd8452; stroke-opacity: 0.5; stroke-width: 1.5\"/>\n     <use xlink:href=\"#m27b1108822\" x=\"138.211704\" y=\"155.503006\" style=\"fill: #dd8452; fill-opacity: 0.5; stroke: #dd8452; stroke-opacity: 0.5; stroke-width: 1.5\"/>\n     <use xlink:href=\"#m27b1108822\" x=\"336.528888\" y=\"259.994403\" style=\"fill: #dd8452; fill-opacity: 0.5; stroke: #dd8452; stroke-opacity: 0.5; stroke-width: 1.5\"/>\n     <use xlink:href=\"#m27b1108822\" x=\"79.345056\" y=\"55.215589\" style=\"fill: #dd8452; fill-opacity: 0.5; stroke: #dd8452; stroke-opacity: 0.5; stroke-width: 1.5\"/>\n     <use xlink:href=\"#m27b1108822\" x=\"320.801002\" y=\"209.770129\" style=\"fill: #dd8452; fill-opacity: 0.5; stroke: #dd8452; stroke-opacity: 0.5; stroke-width: 1.5\"/>\n     <use xlink:href=\"#m27b1108822\" x=\"361.97745\" y=\"265.382075\" style=\"fill: #dd8452; fill-opacity: 0.5; stroke: #dd8452; stroke-opacity: 0.5; stroke-width: 1.5\"/>\n     <use xlink:href=\"#m27b1108822\" x=\"311.432947\" y=\"169.91739\" style=\"fill: #dd8452; fill-opacity: 0.5; stroke: #dd8452; stroke-opacity: 0.5; stroke-width: 1.5\"/>\n     <use xlink:href=\"#m27b1108822\" x=\"287.412532\" y=\"71.297156\" style=\"fill: #dd8452; fill-opacity: 0.5; stroke: #dd8452; stroke-opacity: 0.5; stroke-width: 1.5\"/>\n     <use xlink:href=\"#m27b1108822\" x=\"332.818533\" y=\"250.799028\" style=\"fill: #dd8452; fill-opacity: 0.5; stroke: #dd8452; stroke-opacity: 0.5; stroke-width: 1.5\"/>\n     <use xlink:href=\"#m27b1108822\" x=\"73.799748\" y=\"71.222288\" style=\"fill: #dd8452; fill-opacity: 0.5; stroke: #dd8452; stroke-opacity: 0.5; stroke-width: 1.5\"/>\n     <use xlink:href=\"#m27b1108822\" x=\"126.273925\" y=\"103.796188\" style=\"fill: #dd8452; fill-opacity: 0.5; stroke: #dd8452; stroke-opacity: 0.5; stroke-width: 1.5\"/>\n     <use xlink:href=\"#m27b1108822\" x=\"101.321486\" y=\"36.726244\" style=\"fill: #dd8452; fill-opacity: 0.5; stroke: #dd8452; stroke-opacity: 0.5; stroke-width: 1.5\"/>\n     <use xlink:href=\"#m27b1108822\" x=\"224.562725\" y=\"148.418176\" style=\"fill: #dd8452; fill-opacity: 0.5; stroke: #dd8452; stroke-opacity: 0.5; stroke-width: 1.5\"/>\n     <use xlink:href=\"#m27b1108822\" x=\"302.693159\" y=\"131.039517\" style=\"fill: #dd8452; fill-opacity: 0.5; stroke: #dd8452; stroke-opacity: 0.5; stroke-width: 1.5\"/>\n     <use xlink:href=\"#m27b1108822\" x=\"265.300655\" y=\"34.038451\" style=\"fill: #dd8452; fill-opacity: 0.5; stroke: #dd8452; stroke-opacity: 0.5; stroke-width: 1.5\"/>\n     <use xlink:href=\"#m27b1108822\" x=\"337.088026\" y=\"261.212916\" style=\"fill: #dd8452; fill-opacity: 0.5; stroke: #dd8452; stroke-opacity: 0.5; stroke-width: 1.5\"/>\n     <use xlink:href=\"#m27b1108822\" x=\"111.15505\" y=\"53.479289\" style=\"fill: #dd8452; fill-opacity: 0.5; stroke: #dd8452; stroke-opacity: 0.5; stroke-width: 1.5\"/>\n     <use xlink:href=\"#m27b1108822\" x=\"299.262523\" y=\"116.23752\" style=\"fill: #dd8452; fill-opacity: 0.5; stroke: #dd8452; stroke-opacity: 0.5; stroke-width: 1.5\"/>\n     <use xlink:href=\"#m27b1108822\" x=\"123.436243\" y=\"92.603795\" style=\"fill: #dd8452; fill-opacity: 0.5; stroke: #dd8452; stroke-opacity: 0.5; stroke-width: 1.5\"/>\n     <use xlink:href=\"#m27b1108822\" x=\"148.667505\" y=\"201.057471\" style=\"fill: #dd8452; fill-opacity: 0.5; stroke: #dd8452; stroke-opacity: 0.5; stroke-width: 1.5\"/>\n     <use xlink:href=\"#m27b1108822\" x=\"291.238233\" y=\"84.440534\" style=\"fill: #dd8452; fill-opacity: 0.5; stroke: #dd8452; stroke-opacity: 0.5; stroke-width: 1.5\"/>\n     <use xlink:href=\"#m27b1108822\" x=\"378.992385\" y=\"215.170873\" style=\"fill: #dd8452; fill-opacity: 0.5; stroke: #dd8452; stroke-opacity: 0.5; stroke-width: 1.5\"/>\n     <use xlink:href=\"#m27b1108822\" x=\"259.304857\" y=\"37.279889\" style=\"fill: #dd8452; fill-opacity: 0.5; stroke: #dd8452; stroke-opacity: 0.5; stroke-width: 1.5\"/>\n     <use xlink:href=\"#m27b1108822\" x=\"78.458221\" y=\"57.510311\" style=\"fill: #dd8452; fill-opacity: 0.5; stroke: #dd8452; stroke-opacity: 0.5; stroke-width: 1.5\"/>\n     <use xlink:href=\"#m27b1108822\" x=\"260.851955\" y=\"35.880934\" style=\"fill: #dd8452; fill-opacity: 0.5; stroke: #dd8452; stroke-opacity: 0.5; stroke-width: 1.5\"/>\n     <use xlink:href=\"#m27b1108822\" x=\"74.513745\" y=\"68.948885\" style=\"fill: #dd8452; fill-opacity: 0.5; stroke: #dd8452; stroke-opacity: 0.5; stroke-width: 1.5\"/>\n     <use xlink:href=\"#m27b1108822\" x=\"347.80637\" y=\"275.31535\" style=\"fill: #dd8452; fill-opacity: 0.5; stroke: #dd8452; stroke-opacity: 0.5; stroke-width: 1.5\"/>\n     <use xlink:href=\"#m27b1108822\" x=\"291.132262\" y=\"84.05622\" style=\"fill: #dd8452; fill-opacity: 0.5; stroke: #dd8452; stroke-opacity: 0.5; stroke-width: 1.5\"/>\n     <use xlink:href=\"#m27b1108822\" x=\"116.971188\" y=\"69.847906\" style=\"fill: #dd8452; fill-opacity: 0.5; stroke: #dd8452; stroke-opacity: 0.5; stroke-width: 1.5\"/>\n     <use xlink:href=\"#m27b1108822\" x=\"90.542087\" y=\"36.139435\" style=\"fill: #dd8452; fill-opacity: 0.5; stroke: #dd8452; stroke-opacity: 0.5; stroke-width: 1.5\"/>\n     <use xlink:href=\"#m27b1108822\" x=\"120.349343\" y=\"81.21104\" style=\"fill: #dd8452; fill-opacity: 0.5; stroke: #dd8452; stroke-opacity: 0.5; stroke-width: 1.5\"/>\n     <use xlink:href=\"#m27b1108822\" x=\"378.934725\" y=\"215.394365\" style=\"fill: #dd8452; fill-opacity: 0.5; stroke: #dd8452; stroke-opacity: 0.5; stroke-width: 1.5\"/>\n     <use xlink:href=\"#m27b1108822\" x=\"209.638243\" y=\"212.693401\" style=\"fill: #dd8452; fill-opacity: 0.5; stroke: #dd8452; stroke-opacity: 0.5; stroke-width: 1.5\"/>\n     <use xlink:href=\"#m27b1108822\" x=\"315.31989\" y=\"186.949959\" style=\"fill: #dd8452; fill-opacity: 0.5; stroke: #dd8452; stroke-opacity: 0.5; stroke-width: 1.5\"/>\n     <use xlink:href=\"#m27b1108822\" x=\"267.377307\" y=\"34.29577\" style=\"fill: #dd8452; fill-opacity: 0.5; stroke: #dd8452; stroke-opacity: 0.5; stroke-width: 1.5\"/>\n     <use xlink:href=\"#m27b1108822\" x=\"246.600977\" y=\"62.61974\" style=\"fill: #dd8452; fill-opacity: 0.5; stroke: #dd8452; stroke-opacity: 0.5; stroke-width: 1.5\"/>\n     <use xlink:href=\"#m27b1108822\" x=\"107.881643\" y=\"46.282303\" style=\"fill: #dd8452; fill-opacity: 0.5; stroke: #dd8452; stroke-opacity: 0.5; stroke-width: 1.5\"/>\n     <use xlink:href=\"#m27b1108822\" x=\"367.895585\" y=\"252.02032\" style=\"fill: #dd8452; fill-opacity: 0.5; stroke: #dd8452; stroke-opacity: 0.5; stroke-width: 1.5\"/>\n     <use xlink:href=\"#m27b1108822\" x=\"158.596701\" y=\"238.12233\" style=\"fill: #dd8452; fill-opacity: 0.5; stroke: #dd8452; stroke-opacity: 0.5; stroke-width: 1.5\"/>\n     <use xlink:href=\"#m27b1108822\" x=\"248.420362\" y=\"57.58072\" style=\"fill: #dd8452; fill-opacity: 0.5; stroke: #dd8452; stroke-opacity: 0.5; stroke-width: 1.5\"/>\n     <use xlink:href=\"#m27b1108822\" x=\"287.949887\" y=\"73.048098\" style=\"fill: #dd8452; fill-opacity: 0.5; stroke: #dd8452; stroke-opacity: 0.5; stroke-width: 1.5\"/>\n     <use xlink:href=\"#m27b1108822\" x=\"271.540941\" y=\"36.947075\" style=\"fill: #dd8452; fill-opacity: 0.5; stroke: #dd8452; stroke-opacity: 0.5; stroke-width: 1.5\"/>\n     <use xlink:href=\"#m27b1108822\" x=\"366.132697\" y=\"256.517465\" style=\"fill: #dd8452; fill-opacity: 0.5; stroke: #dd8452; stroke-opacity: 0.5; stroke-width: 1.5\"/>\n     <use xlink:href=\"#m27b1108822\" x=\"108.955839\" y=\"48.473512\" style=\"fill: #dd8452; fill-opacity: 0.5; stroke: #dd8452; stroke-opacity: 0.5; stroke-width: 1.5\"/>\n     <use xlink:href=\"#m27b1108822\" x=\"225.803473\" y=\"142.887874\" style=\"fill: #dd8452; fill-opacity: 0.5; stroke: #dd8452; stroke-opacity: 0.5; stroke-width: 1.5\"/>\n     <use xlink:href=\"#m27b1108822\" x=\"191.936047\" y=\"265.478153\" style=\"fill: #dd8452; fill-opacity: 0.5; stroke: #dd8452; stroke-opacity: 0.5; stroke-width: 1.5\"/>\n     <use xlink:href=\"#m27b1108822\" x=\"214.705479\" y=\"191.888866\" style=\"fill: #dd8452; fill-opacity: 0.5; stroke: #dd8452; stroke-opacity: 0.5; stroke-width: 1.5\"/>\n     <use xlink:href=\"#m27b1108822\" x=\"99.468958\" y=\"35.266225\" style=\"fill: #dd8452; fill-opacity: 0.5; stroke: #dd8452; stroke-opacity: 0.5; stroke-width: 1.5\"/>\n     <use xlink:href=\"#m27b1108822\" x=\"104.298871\" y=\"40.230211\" style=\"fill: #dd8452; fill-opacity: 0.5; stroke: #dd8452; stroke-opacity: 0.5; stroke-width: 1.5\"/>\n     <use xlink:href=\"#m27b1108822\" x=\"151.042936\" y=\"210.687578\" style=\"fill: #dd8452; fill-opacity: 0.5; stroke: #dd8452; stroke-opacity: 0.5; stroke-width: 1.5\"/>\n     <use xlink:href=\"#m27b1108822\" x=\"159.688181\" y=\"241.598617\" style=\"fill: #dd8452; fill-opacity: 0.5; stroke: #dd8452; stroke-opacity: 0.5; stroke-width: 1.5\"/>\n     <use xlink:href=\"#m27b1108822\" x=\"199.685169\" y=\"247.066656\" style=\"fill: #dd8452; fill-opacity: 0.5; stroke: #dd8452; stroke-opacity: 0.5; stroke-width: 1.5\"/>\n     <use xlink:href=\"#m27b1108822\" x=\"259.12433\" y=\"37.468302\" style=\"fill: #dd8452; fill-opacity: 0.5; stroke: #dd8452; stroke-opacity: 0.5; stroke-width: 1.5\"/>\n     <use xlink:href=\"#m27b1108822\" x=\"266.799674\" y=\"34.152697\" style=\"fill: #dd8452; fill-opacity: 0.5; stroke: #dd8452; stroke-opacity: 0.5; stroke-width: 1.5\"/>\n     <use xlink:href=\"#m27b1108822\" x=\"194.460725\" y=\"260.409543\" style=\"fill: #dd8452; fill-opacity: 0.5; stroke: #dd8452; stroke-opacity: 0.5; stroke-width: 1.5\"/>\n     <use xlink:href=\"#m27b1108822\" x=\"193.477741\" y=\"262.494671\" style=\"fill: #dd8452; fill-opacity: 0.5; stroke: #dd8452; stroke-opacity: 0.5; stroke-width: 1.5\"/>\n     <use xlink:href=\"#m27b1108822\" x=\"131.418536\" y=\"125.433305\" style=\"fill: #dd8452; fill-opacity: 0.5; stroke: #dd8452; stroke-opacity: 0.5; stroke-width: 1.5\"/>\n     <use xlink:href=\"#m27b1108822\" x=\"251.760744\" y=\"49.490715\" style=\"fill: #dd8452; fill-opacity: 0.5; stroke: #dd8452; stroke-opacity: 0.5; stroke-width: 1.5\"/>\n     <use xlink:href=\"#m27b1108822\" x=\"163.693219\" y=\"253.106343\" style=\"fill: #dd8452; fill-opacity: 0.5; stroke: #dd8452; stroke-opacity: 0.5; stroke-width: 1.5\"/>\n     <use xlink:href=\"#m27b1108822\" x=\"72.471435\" y=\"75.605692\" style=\"fill: #dd8452; fill-opacity: 0.5; stroke: #dd8452; stroke-opacity: 0.5; stroke-width: 1.5\"/>\n     <use xlink:href=\"#m27b1108822\" x=\"196.599922\" y=\"255.394913\" style=\"fill: #dd8452; fill-opacity: 0.5; stroke: #dd8452; stroke-opacity: 0.5; stroke-width: 1.5\"/>\n     <use xlink:href=\"#m27b1108822\" x=\"214.693774\" y=\"191.938702\" style=\"fill: #dd8452; fill-opacity: 0.5; stroke: #dd8452; stroke-opacity: 0.5; stroke-width: 1.5\"/>\n     <use xlink:href=\"#m27b1108822\" x=\"134.004196\" y=\"136.761083\" style=\"fill: #dd8452; fill-opacity: 0.5; stroke: #dd8452; stroke-opacity: 0.5; stroke-width: 1.5\"/>\n     <use xlink:href=\"#m27b1108822\" x=\"246.615516\" y=\"62.577786\" style=\"fill: #dd8452; fill-opacity: 0.5; stroke: #dd8452; stroke-opacity: 0.5; stroke-width: 1.5\"/>\n     <use xlink:href=\"#m27b1108822\" x=\"244.444865\" y=\"69.130093\" style=\"fill: #dd8452; fill-opacity: 0.5; stroke: #dd8452; stroke-opacity: 0.5; stroke-width: 1.5\"/>\n     <use xlink:href=\"#m27b1108822\" x=\"288.672645\" y=\"75.454015\" style=\"fill: #dd8452; fill-opacity: 0.5; stroke: #dd8452; stroke-opacity: 0.5; stroke-width: 1.5\"/>\n     <use xlink:href=\"#m27b1108822\" x=\"271.123866\" y=\"36.554175\" style=\"fill: #dd8452; fill-opacity: 0.5; stroke: #dd8452; stroke-opacity: 0.5; stroke-width: 1.5\"/>\n     <use xlink:href=\"#m27b1108822\" x=\"272.579803\" y=\"38.047466\" style=\"fill: #dd8452; fill-opacity: 0.5; stroke: #dd8452; stroke-opacity: 0.5; stroke-width: 1.5\"/>\n     <use xlink:href=\"#m27b1108822\" x=\"163.424808\" y=\"252.399654\" style=\"fill: #dd8452; fill-opacity: 0.5; stroke: #dd8452; stroke-opacity: 0.5; stroke-width: 1.5\"/>\n     <use xlink:href=\"#m27b1108822\" x=\"316.407896\" y=\"191.614454\" style=\"fill: #dd8452; fill-opacity: 0.5; stroke: #dd8452; stroke-opacity: 0.5; stroke-width: 1.5\"/>\n     <use xlink:href=\"#m27b1108822\" x=\"239.046666\" y=\"87.721116\" style=\"fill: #dd8452; fill-opacity: 0.5; stroke: #dd8452; stroke-opacity: 0.5; stroke-width: 1.5\"/>\n     <use xlink:href=\"#m27b1108822\" x=\"200.826324\" y=\"243.67696\" style=\"fill: #dd8452; fill-opacity: 0.5; stroke: #dd8452; stroke-opacity: 0.5; stroke-width: 1.5\"/>\n     <use xlink:href=\"#m27b1108822\" x=\"264.002243\" y=\"34.239542\" style=\"fill: #dd8452; fill-opacity: 0.5; stroke: #dd8452; stroke-opacity: 0.5; stroke-width: 1.5\"/>\n     <use xlink:href=\"#m27b1108822\" x=\"177.853489\" y=\"275.331663\" style=\"fill: #dd8452; fill-opacity: 0.5; stroke: #dd8452; stroke-opacity: 0.5; stroke-width: 1.5\"/>\n     <use xlink:href=\"#m27b1108822\" x=\"227.227572\" y=\"136.57241\" style=\"fill: #dd8452; fill-opacity: 0.5; stroke: #dd8452; stroke-opacity: 0.5; stroke-width: 1.5\"/>\n     <use xlink:href=\"#m27b1108822\" x=\"299.939296\" y=\"119.115681\" style=\"fill: #dd8452; fill-opacity: 0.5; stroke: #dd8452; stroke-opacity: 0.5; stroke-width: 1.5\"/>\n     <use xlink:href=\"#m27b1108822\" x=\"348.539172\" y=\"275.606868\" style=\"fill: #dd8452; fill-opacity: 0.5; stroke: #dd8452; stroke-opacity: 0.5; stroke-width: 1.5\"/>\n     <use xlink:href=\"#m27b1108822\" x=\"359.789852\" y=\"269.015545\" style=\"fill: #dd8452; fill-opacity: 0.5; stroke: #dd8452; stroke-opacity: 0.5; stroke-width: 1.5\"/>\n     <use xlink:href=\"#m27b1108822\" x=\"224.271164\" y=\"149.720167\" style=\"fill: #dd8452; fill-opacity: 0.5; stroke: #dd8452; stroke-opacity: 0.5; stroke-width: 1.5\"/>\n     <use xlink:href=\"#m27b1108822\" x=\"229.674127\" y=\"125.851483\" style=\"fill: #dd8452; fill-opacity: 0.5; stroke: #dd8452; stroke-opacity: 0.5; stroke-width: 1.5\"/>\n     <use xlink:href=\"#m27b1108822\" x=\"320.446011\" y=\"208.350376\" style=\"fill: #dd8452; fill-opacity: 0.5; stroke: #dd8452; stroke-opacity: 0.5; stroke-width: 1.5\"/>\n     <use xlink:href=\"#m27b1108822\" x=\"162.852292\" y=\"250.860355\" style=\"fill: #dd8452; fill-opacity: 0.5; stroke: #dd8452; stroke-opacity: 0.5; stroke-width: 1.5\"/>\n     <use xlink:href=\"#m27b1108822\" x=\"332.624436\" y=\"250.266819\" style=\"fill: #dd8452; fill-opacity: 0.5; stroke: #dd8452; stroke-opacity: 0.5; stroke-width: 1.5\"/>\n     <use xlink:href=\"#m27b1108822\" x=\"221.189778\" y=\"163.488296\" style=\"fill: #dd8452; fill-opacity: 0.5; stroke: #dd8452; stroke-opacity: 0.5; stroke-width: 1.5\"/>\n     <use xlink:href=\"#m27b1108822\" x=\"98.377858\" y=\"34.66855\" style=\"fill: #dd8452; fill-opacity: 0.5; stroke: #dd8452; stroke-opacity: 0.5; stroke-width: 1.5\"/>\n     <use xlink:href=\"#m27b1108822\" x=\"84.158776\" y=\"44.687926\" style=\"fill: #dd8452; fill-opacity: 0.5; stroke: #dd8452; stroke-opacity: 0.5; stroke-width: 1.5\"/>\n     <use xlink:href=\"#m27b1108822\" x=\"334.121369\" y=\"254.242416\" style=\"fill: #dd8452; fill-opacity: 0.5; stroke: #dd8452; stroke-opacity: 0.5; stroke-width: 1.5\"/>\n     <use xlink:href=\"#m27b1108822\" x=\"78.804823\" y=\"56.600858\" style=\"fill: #dd8452; fill-opacity: 0.5; stroke: #dd8452; stroke-opacity: 0.5; stroke-width: 1.5\"/>\n     <use xlink:href=\"#m27b1108822\" x=\"151.866224\" y=\"213.928775\" style=\"fill: #dd8452; fill-opacity: 0.5; stroke: #dd8452; stroke-opacity: 0.5; stroke-width: 1.5\"/>\n     <use xlink:href=\"#m27b1108822\" x=\"169.241282\" y=\"265.456766\" style=\"fill: #dd8452; fill-opacity: 0.5; stroke: #dd8452; stroke-opacity: 0.5; stroke-width: 1.5\"/>\n     <use xlink:href=\"#m27b1108822\" x=\"116.927879\" y=\"69.710477\" style=\"fill: #dd8452; fill-opacity: 0.5; stroke: #dd8452; stroke-opacity: 0.5; stroke-width: 1.5\"/>\n     <use xlink:href=\"#m27b1108822\" x=\"162.671355\" y=\"250.364916\" style=\"fill: #dd8452; fill-opacity: 0.5; stroke: #dd8452; stroke-opacity: 0.5; stroke-width: 1.5\"/>\n     <use xlink:href=\"#m27b1108822\" x=\"301.882964\" y=\"127.500152\" style=\"fill: #dd8452; fill-opacity: 0.5; stroke: #dd8452; stroke-opacity: 0.5; stroke-width: 1.5\"/>\n     <use xlink:href=\"#m27b1108822\" x=\"65.531298\" y=\"101.358996\" style=\"fill: #dd8452; fill-opacity: 0.5; stroke: #dd8452; stroke-opacity: 0.5; stroke-width: 1.5\"/>\n     <use xlink:href=\"#m27b1108822\" x=\"329.310058\" y=\"240.445689\" style=\"fill: #dd8452; fill-opacity: 0.5; stroke: #dd8452; stroke-opacity: 0.5; stroke-width: 1.5\"/>\n     <use xlink:href=\"#m27b1108822\" x=\"338.846655\" y=\"264.747379\" style=\"fill: #dd8452; fill-opacity: 0.5; stroke: #dd8452; stroke-opacity: 0.5; stroke-width: 1.5\"/>\n     <use xlink:href=\"#m27b1108822\" x=\"181.620858\" y=\"275.864927\" style=\"fill: #dd8452; fill-opacity: 0.5; stroke: #dd8452; stroke-opacity: 0.5; stroke-width: 1.5\"/>\n     <use xlink:href=\"#m27b1108822\" x=\"110.635572\" y=\"52.235091\" style=\"fill: #dd8452; fill-opacity: 0.5; stroke: #dd8452; stroke-opacity: 0.5; stroke-width: 1.5\"/>\n     <use xlink:href=\"#m27b1108822\" x=\"255.830016\" y=\"41.815861\" style=\"fill: #dd8452; fill-opacity: 0.5; stroke: #dd8452; stroke-opacity: 0.5; stroke-width: 1.5\"/>\n     <use xlink:href=\"#m27b1108822\" x=\"99.616685\" y=\"35.362136\" style=\"fill: #dd8452; fill-opacity: 0.5; stroke: #dd8452; stroke-opacity: 0.5; stroke-width: 1.5\"/>\n     <use xlink:href=\"#m27b1108822\" x=\"179.237175\" y=\"275.799746\" style=\"fill: #dd8452; fill-opacity: 0.5; stroke: #dd8452; stroke-opacity: 0.5; stroke-width: 1.5\"/>\n     <use xlink:href=\"#m27b1108822\" x=\"371.922836\" y=\"240.235406\" style=\"fill: #dd8452; fill-opacity: 0.5; stroke: #dd8452; stroke-opacity: 0.5; stroke-width: 1.5\"/>\n     <use xlink:href=\"#m27b1108822\" x=\"383.946512\" y=\"195.057955\" style=\"fill: #dd8452; fill-opacity: 0.5; stroke: #dd8452; stroke-opacity: 0.5; stroke-width: 1.5\"/>\n     <use xlink:href=\"#m27b1108822\" x=\"311.431809\" y=\"169.912337\" style=\"fill: #dd8452; fill-opacity: 0.5; stroke: #dd8452; stroke-opacity: 0.5; stroke-width: 1.5\"/>\n     <use xlink:href=\"#m27b1108822\" x=\"161.719514\" y=\"247.688879\" style=\"fill: #dd8452; fill-opacity: 0.5; stroke: #dd8452; stroke-opacity: 0.5; stroke-width: 1.5\"/>\n     <use xlink:href=\"#m27b1108822\" x=\"284.01803\" y=\"61.02657\" style=\"fill: #dd8452; fill-opacity: 0.5; stroke: #dd8452; stroke-opacity: 0.5; stroke-width: 1.5\"/>\n     <use xlink:href=\"#m27b1108822\" x=\"289.777829\" y=\"79.242111\" style=\"fill: #dd8452; fill-opacity: 0.5; stroke: #dd8452; stroke-opacity: 0.5; stroke-width: 1.5\"/>\n     <use xlink:href=\"#m27b1108822\" x=\"186.679015\" y=\"272.905831\" style=\"fill: #dd8452; fill-opacity: 0.5; stroke: #dd8452; stroke-opacity: 0.5; stroke-width: 1.5\"/>\n     <use xlink:href=\"#m27b1108822\" x=\"268.831854\" y=\"34.899533\" style=\"fill: #dd8452; fill-opacity: 0.5; stroke: #dd8452; stroke-opacity: 0.5; stroke-width: 1.5\"/>\n     <use xlink:href=\"#m27b1108822\" x=\"64.247225\" y=\"106.563332\" style=\"fill: #dd8452; fill-opacity: 0.5; stroke: #dd8452; stroke-opacity: 0.5; stroke-width: 1.5\"/>\n     <use xlink:href=\"#m27b1108822\" x=\"128.635965\" y=\"113.547122\" style=\"fill: #dd8452; fill-opacity: 0.5; stroke: #dd8452; stroke-opacity: 0.5; stroke-width: 1.5\"/>\n     <use xlink:href=\"#m27b1108822\" x=\"231.23675\" y=\"119.123161\" style=\"fill: #dd8452; fill-opacity: 0.5; stroke: #dd8452; stroke-opacity: 0.5; stroke-width: 1.5\"/>\n     <use xlink:href=\"#m27b1108822\" x=\"113.927051\" y=\"60.739346\" style=\"fill: #dd8452; fill-opacity: 0.5; stroke: #dd8452; stroke-opacity: 0.5; stroke-width: 1.5\"/>\n     <use xlink:href=\"#m27b1108822\" x=\"114.626865\" y=\"62.731735\" style=\"fill: #dd8452; fill-opacity: 0.5; stroke: #dd8452; stroke-opacity: 0.5; stroke-width: 1.5\"/>\n     <use xlink:href=\"#m27b1108822\" x=\"332.274435\" y=\"249.294749\" style=\"fill: #dd8452; fill-opacity: 0.5; stroke: #dd8452; stroke-opacity: 0.5; stroke-width: 1.5\"/>\n     <use xlink:href=\"#m27b1108822\" x=\"381.890971\" y=\"203.605491\" style=\"fill: #dd8452; fill-opacity: 0.5; stroke: #dd8452; stroke-opacity: 0.5; stroke-width: 1.5\"/>\n     <use xlink:href=\"#m27b1108822\" x=\"241.262448\" y=\"79.72245\" style=\"fill: #dd8452; fill-opacity: 0.5; stroke: #dd8452; stroke-opacity: 0.5; stroke-width: 1.5\"/>\n     <use xlink:href=\"#m27b1108822\" x=\"333.172248\" y=\"251.756207\" style=\"fill: #dd8452; fill-opacity: 0.5; stroke: #dd8452; stroke-opacity: 0.5; stroke-width: 1.5\"/>\n     <use xlink:href=\"#m27b1108822\" x=\"382.276876\" y=\"202.020707\" style=\"fill: #dd8452; fill-opacity: 0.5; stroke: #dd8452; stroke-opacity: 0.5; stroke-width: 1.5\"/>\n     <use xlink:href=\"#m27b1108822\" x=\"106.734195\" y=\"44.131033\" style=\"fill: #dd8452; fill-opacity: 0.5; stroke: #dd8452; stroke-opacity: 0.5; stroke-width: 1.5\"/>\n     <use xlink:href=\"#m27b1108822\" x=\"206.289422\" y=\"225.377479\" style=\"fill: #dd8452; fill-opacity: 0.5; stroke: #dd8452; stroke-opacity: 0.5; stroke-width: 1.5\"/>\n     <use xlink:href=\"#m27b1108822\" x=\"188.214963\" y=\"271.18526\" style=\"fill: #dd8452; fill-opacity: 0.5; stroke: #dd8452; stroke-opacity: 0.5; stroke-width: 1.5\"/>\n     <use xlink:href=\"#m27b1108822\" x=\"86.75281\" y=\"40.442002\" style=\"fill: #dd8452; fill-opacity: 0.5; stroke: #dd8452; stroke-opacity: 0.5; stroke-width: 1.5\"/>\n     <use xlink:href=\"#m27b1108822\" x=\"305.98582\" y=\"145.610988\" style=\"fill: #dd8452; fill-opacity: 0.5; stroke: #dd8452; stroke-opacity: 0.5; stroke-width: 1.5\"/>\n     <use xlink:href=\"#m27b1108822\" x=\"201.592779\" y=\"241.31133\" style=\"fill: #dd8452; fill-opacity: 0.5; stroke: #dd8452; stroke-opacity: 0.5; stroke-width: 1.5\"/>\n     <use xlink:href=\"#m27b1108822\" x=\"213.133569\" y=\"198.515868\" style=\"fill: #dd8452; fill-opacity: 0.5; stroke: #dd8452; stroke-opacity: 0.5; stroke-width: 1.5\"/>\n     <use xlink:href=\"#m27b1108822\" x=\"109.681112\" y=\"50.048141\" style=\"fill: #dd8452; fill-opacity: 0.5; stroke: #dd8452; stroke-opacity: 0.5; stroke-width: 1.5\"/>\n     <use xlink:href=\"#m27b1108822\" x=\"119.503106\" y=\"78.249445\" style=\"fill: #dd8452; fill-opacity: 0.5; stroke: #dd8452; stroke-opacity: 0.5; stroke-width: 1.5\"/>\n     <use xlink:href=\"#m27b1108822\" x=\"355.25976\" y=\"274.149382\" style=\"fill: #dd8452; fill-opacity: 0.5; stroke: #dd8452; stroke-opacity: 0.5; stroke-width: 1.5\"/>\n     <use xlink:href=\"#m27b1108822\" x=\"75.259976\" y=\"66.636918\" style=\"fill: #dd8452; fill-opacity: 0.5; stroke: #dd8452; stroke-opacity: 0.5; stroke-width: 1.5\"/>\n     <use xlink:href=\"#m27b1108822\" x=\"136.360999\" y=\"147.233881\" style=\"fill: #dd8452; fill-opacity: 0.5; stroke: #dd8452; stroke-opacity: 0.5; stroke-width: 1.5\"/>\n     <use xlink:href=\"#m27b1108822\" x=\"155.582835\" y=\"227.838884\" style=\"fill: #dd8452; fill-opacity: 0.5; stroke: #dd8452; stroke-opacity: 0.5; stroke-width: 1.5\"/>\n     <use xlink:href=\"#m27b1108822\" x=\"219.909306\" y=\"169.187464\" style=\"fill: #dd8452; fill-opacity: 0.5; stroke: #dd8452; stroke-opacity: 0.5; stroke-width: 1.5\"/>\n     <use xlink:href=\"#m27b1108822\" x=\"251.156537\" y=\"50.838315\" style=\"fill: #dd8452; fill-opacity: 0.5; stroke: #dd8452; stroke-opacity: 0.5; stroke-width: 1.5\"/>\n     <use xlink:href=\"#m27b1108822\" x=\"220.913279\" y=\"164.720997\" style=\"fill: #dd8452; fill-opacity: 0.5; stroke: #dd8452; stroke-opacity: 0.5; stroke-width: 1.5\"/>\n     <use xlink:href=\"#m27b1108822\" x=\"88.072872\" y=\"38.683242\" style=\"fill: #dd8452; fill-opacity: 0.5; stroke: #dd8452; stroke-opacity: 0.5; stroke-width: 1.5\"/>\n     <use xlink:href=\"#m27b1108822\" x=\"139.872193\" y=\"162.921321\" style=\"fill: #dd8452; fill-opacity: 0.5; stroke: #dd8452; stroke-opacity: 0.5; stroke-width: 1.5\"/>\n     <use xlink:href=\"#m27b1108822\" x=\"334.63925\" y=\"255.547683\" style=\"fill: #dd8452; fill-opacity: 0.5; stroke: #dd8452; stroke-opacity: 0.5; stroke-width: 1.5\"/>\n     <use xlink:href=\"#m27b1108822\" x=\"267.760516\" y=\"34.421047\" style=\"fill: #dd8452; fill-opacity: 0.5; stroke: #dd8452; stroke-opacity: 0.5; stroke-width: 1.5\"/>\n     <use xlink:href=\"#m27b1108822\" x=\"271.513636\" y=\"36.920493\" style=\"fill: #dd8452; fill-opacity: 0.5; stroke: #dd8452; stroke-opacity: 0.5; stroke-width: 1.5\"/>\n     <use xlink:href=\"#m27b1108822\" x=\"278.348979\" y=\"47.237642\" style=\"fill: #dd8452; fill-opacity: 0.5; stroke: #dd8452; stroke-opacity: 0.5; stroke-width: 1.5\"/>\n     <use xlink:href=\"#m27b1108822\" x=\"308.444379\" y=\"156.593667\" style=\"fill: #dd8452; fill-opacity: 0.5; stroke: #dd8452; stroke-opacity: 0.5; stroke-width: 1.5\"/>\n     <use xlink:href=\"#m27b1108822\" x=\"79.629629\" y=\"54.501848\" style=\"fill: #dd8452; fill-opacity: 0.5; stroke: #dd8452; stroke-opacity: 0.5; stroke-width: 1.5\"/>\n     <use xlink:href=\"#m27b1108822\" x=\"179.785525\" y=\"275.897875\" style=\"fill: #dd8452; fill-opacity: 0.5; stroke: #dd8452; stroke-opacity: 0.5; stroke-width: 1.5\"/>\n     <use xlink:href=\"#m27b1108822\" x=\"235.92448\" y=\"99.744194\" style=\"fill: #dd8452; fill-opacity: 0.5; stroke: #dd8452; stroke-opacity: 0.5; stroke-width: 1.5\"/>\n     <use xlink:href=\"#m27b1108822\" x=\"170.645882\" y=\"267.865436\" style=\"fill: #dd8452; fill-opacity: 0.5; stroke: #dd8452; stroke-opacity: 0.5; stroke-width: 1.5\"/>\n     <use xlink:href=\"#m27b1108822\" x=\"334.928351\" y=\"256.260338\" style=\"fill: #dd8452; fill-opacity: 0.5; stroke: #dd8452; stroke-opacity: 0.5; stroke-width: 1.5\"/>\n     <use xlink:href=\"#m27b1108822\" x=\"217.433804\" y=\"180.104171\" style=\"fill: #dd8452; fill-opacity: 0.5; stroke: #dd8452; stroke-opacity: 0.5; stroke-width: 1.5\"/>\n     <use xlink:href=\"#m27b1108822\" x=\"310.302887\" y=\"164.891968\" style=\"fill: #dd8452; fill-opacity: 0.5; stroke: #dd8452; stroke-opacity: 0.5; stroke-width: 1.5\"/>\n     <use xlink:href=\"#m27b1108822\" x=\"337.375156\" y=\"261.821051\" style=\"fill: #dd8452; fill-opacity: 0.5; stroke: #dd8452; stroke-opacity: 0.5; stroke-width: 1.5\"/>\n     <use xlink:href=\"#m27b1108822\" x=\"224.647295\" y=\"148.040656\" style=\"fill: #dd8452; fill-opacity: 0.5; stroke: #dd8452; stroke-opacity: 0.5; stroke-width: 1.5\"/>\n     <use xlink:href=\"#m27b1108822\" x=\"356.054716\" y=\"273.486725\" style=\"fill: #dd8452; fill-opacity: 0.5; stroke: #dd8452; stroke-opacity: 0.5; stroke-width: 1.5\"/>\n     <use xlink:href=\"#m27b1108822\" x=\"251.376902\" y=\"50.340767\" style=\"fill: #dd8452; fill-opacity: 0.5; stroke: #dd8452; stroke-opacity: 0.5; stroke-width: 1.5\"/>\n     <use xlink:href=\"#m27b1108822\" x=\"336.809862\" y=\"260.61236\" style=\"fill: #dd8452; fill-opacity: 0.5; stroke: #dd8452; stroke-opacity: 0.5; stroke-width: 1.5\"/>\n     <use xlink:href=\"#m27b1108822\" x=\"171.338796\" y=\"268.94201\" style=\"fill: #dd8452; fill-opacity: 0.5; stroke: #dd8452; stroke-opacity: 0.5; stroke-width: 1.5\"/>\n     <use xlink:href=\"#m27b1108822\" x=\"222.707639\" y=\"156.708922\" style=\"fill: #dd8452; fill-opacity: 0.5; stroke: #dd8452; stroke-opacity: 0.5; stroke-width: 1.5\"/>\n     <use xlink:href=\"#m27b1108822\" x=\"233.289456\" y=\"110.469949\" style=\"fill: #dd8452; fill-opacity: 0.5; stroke: #dd8452; stroke-opacity: 0.5; stroke-width: 1.5\"/>\n     <use xlink:href=\"#m27b1108822\" x=\"94.846588\" y=\"34.078507\" style=\"fill: #dd8452; fill-opacity: 0.5; stroke: #dd8452; stroke-opacity: 0.5; stroke-width: 1.5\"/>\n     <use xlink:href=\"#m27b1108822\" x=\"190.156329\" y=\"268.475681\" style=\"fill: #dd8452; fill-opacity: 0.5; stroke: #dd8452; stroke-opacity: 0.5; stroke-width: 1.5\"/>\n     <use xlink:href=\"#m27b1108822\" x=\"358.582291\" y=\"270.703386\" style=\"fill: #dd8452; fill-opacity: 0.5; stroke: #dd8452; stroke-opacity: 0.5; stroke-width: 1.5\"/>\n     <use xlink:href=\"#m27b1108822\" x=\"265.567\" y=\"34.031625\" style=\"fill: #dd8452; fill-opacity: 0.5; stroke: #dd8452; stroke-opacity: 0.5; stroke-width: 1.5\"/>\n     <use xlink:href=\"#m27b1108822\" x=\"118.392765\" y=\"74.477884\" style=\"fill: #dd8452; fill-opacity: 0.5; stroke: #dd8452; stroke-opacity: 0.5; stroke-width: 1.5\"/>\n     <use xlink:href=\"#m27b1108822\" x=\"170.775468\" y=\"268.072424\" style=\"fill: #dd8452; fill-opacity: 0.5; stroke: #dd8452; stroke-opacity: 0.5; stroke-width: 1.5\"/>\n     <use xlink:href=\"#m27b1108822\" x=\"122.969234\" y=\"90.824347\" style=\"fill: #dd8452; fill-opacity: 0.5; stroke: #dd8452; stroke-opacity: 0.5; stroke-width: 1.5\"/>\n     <use xlink:href=\"#m27b1108822\" x=\"68.823389\" y=\"88.595189\" style=\"fill: #dd8452; fill-opacity: 0.5; stroke: #dd8452; stroke-opacity: 0.5; stroke-width: 1.5\"/>\n     <use xlink:href=\"#m27b1108822\" x=\"361.8687\" y=\"265.579956\" style=\"fill: #dd8452; fill-opacity: 0.5; stroke: #dd8452; stroke-opacity: 0.5; stroke-width: 1.5\"/>\n     <use xlink:href=\"#m27b1108822\" x=\"206.276992\" y=\"225.422666\" style=\"fill: #dd8452; fill-opacity: 0.5; stroke: #dd8452; stroke-opacity: 0.5; stroke-width: 1.5\"/>\n     <use xlink:href=\"#m27b1108822\" x=\"160.607105\" y=\"244.416272\" style=\"fill: #dd8452; fill-opacity: 0.5; stroke: #dd8452; stroke-opacity: 0.5; stroke-width: 1.5\"/>\n     <use xlink:href=\"#m27b1108822\" x=\"255.062787\" y=\"43.07188\" style=\"fill: #dd8452; fill-opacity: 0.5; stroke: #dd8452; stroke-opacity: 0.5; stroke-width: 1.5\"/>\n     <use xlink:href=\"#m27b1108822\" x=\"63.139118\" y=\"111.142594\" style=\"fill: #dd8452; fill-opacity: 0.5; stroke: #dd8452; stroke-opacity: 0.5; stroke-width: 1.5\"/>\n     <use xlink:href=\"#m27b1108822\" x=\"151.025587\" y=\"210.61871\" style=\"fill: #dd8452; fill-opacity: 0.5; stroke: #dd8452; stroke-opacity: 0.5; stroke-width: 1.5\"/>\n     <use xlink:href=\"#m27b1108822\" x=\"289.007456\" y=\"76.587878\" style=\"fill: #dd8452; fill-opacity: 0.5; stroke: #dd8452; stroke-opacity: 0.5; stroke-width: 1.5\"/>\n     <use xlink:href=\"#m27b1108822\" x=\"266.520684\" y=\"34.103318\" style=\"fill: #dd8452; fill-opacity: 0.5; stroke: #dd8452; stroke-opacity: 0.5; stroke-width: 1.5\"/>\n     <use xlink:href=\"#m27b1108822\" x=\"379.51221\" y=\"213.143812\" style=\"fill: #dd8452; fill-opacity: 0.5; stroke: #dd8452; stroke-opacity: 0.5; stroke-width: 1.5\"/>\n     <use xlink:href=\"#m27b1108822\" x=\"262.166396\" y=\"34.998171\" style=\"fill: #dd8452; fill-opacity: 0.5; stroke: #dd8452; stroke-opacity: 0.5; stroke-width: 1.5\"/>\n     <use xlink:href=\"#m27b1108822\" x=\"215.788898\" y=\"187.247435\" style=\"fill: #dd8452; fill-opacity: 0.5; stroke: #dd8452; stroke-opacity: 0.5; stroke-width: 1.5\"/>\n     <use xlink:href=\"#m27b1108822\" x=\"307.966989\" y=\"154.459316\" style=\"fill: #dd8452; fill-opacity: 0.5; stroke: #dd8452; stroke-opacity: 0.5; stroke-width: 1.5\"/>\n     <use xlink:href=\"#m27b1108822\" x=\"354.033946\" y=\"274.969404\" style=\"fill: #dd8452; fill-opacity: 0.5; stroke: #dd8452; stroke-opacity: 0.5; stroke-width: 1.5\"/>\n     <use xlink:href=\"#m27b1108822\" x=\"294.741661\" y=\"97.719141\" style=\"fill: #dd8452; fill-opacity: 0.5; stroke: #dd8452; stroke-opacity: 0.5; stroke-width: 1.5\"/>\n     <use xlink:href=\"#m27b1108822\" x=\"373.475348\" y=\"235.173117\" style=\"fill: #dd8452; fill-opacity: 0.5; stroke: #dd8452; stroke-opacity: 0.5; stroke-width: 1.5\"/>\n     <use xlink:href=\"#m27b1108822\" x=\"314.645979\" y=\"184.034371\" style=\"fill: #dd8452; fill-opacity: 0.5; stroke: #dd8452; stroke-opacity: 0.5; stroke-width: 1.5\"/>\n     <use xlink:href=\"#m27b1108822\" x=\"342.175473\" y=\"270.157701\" style=\"fill: #dd8452; fill-opacity: 0.5; stroke: #dd8452; stroke-opacity: 0.5; stroke-width: 1.5\"/>\n     <use xlink:href=\"#m27b1108822\" x=\"97.808851\" y=\"34.434445\" style=\"fill: #dd8452; fill-opacity: 0.5; stroke: #dd8452; stroke-opacity: 0.5; stroke-width: 1.5\"/>\n     <use xlink:href=\"#m27b1108822\" x=\"298.545819\" y=\"113.216023\" style=\"fill: #dd8452; fill-opacity: 0.5; stroke: #dd8452; stroke-opacity: 0.5; stroke-width: 1.5\"/>\n     <use xlink:href=\"#m27b1108822\" x=\"203.641243\" y=\"234.65422\" style=\"fill: #dd8452; fill-opacity: 0.5; stroke: #dd8452; stroke-opacity: 0.5; stroke-width: 1.5\"/>\n     <use xlink:href=\"#m27b1108822\" x=\"240.33211\" y=\"83.022406\" style=\"fill: #dd8452; fill-opacity: 0.5; stroke: #dd8452; stroke-opacity: 0.5; stroke-width: 1.5\"/>\n     <use xlink:href=\"#m27b1108822\" x=\"273.121766\" y=\"38.690074\" style=\"fill: #dd8452; fill-opacity: 0.5; stroke: #dd8452; stroke-opacity: 0.5; stroke-width: 1.5\"/>\n     <use xlink:href=\"#m27b1108822\" x=\"375.619332\" y=\"227.751878\" style=\"fill: #dd8452; fill-opacity: 0.5; stroke: #dd8452; stroke-opacity: 0.5; stroke-width: 1.5\"/>\n     <use xlink:href=\"#m27b1108822\" x=\"380.412196\" y=\"209.583985\" style=\"fill: #dd8452; fill-opacity: 0.5; stroke: #dd8452; stroke-opacity: 0.5; stroke-width: 1.5\"/>\n     <use xlink:href=\"#m27b1108822\" x=\"154.339056\" y=\"223.324127\" style=\"fill: #dd8452; fill-opacity: 0.5; stroke: #dd8452; stroke-opacity: 0.5; stroke-width: 1.5\"/>\n     <use xlink:href=\"#m27b1108822\" x=\"298.980854\" y=\"115.046694\" style=\"fill: #dd8452; fill-opacity: 0.5; stroke: #dd8452; stroke-opacity: 0.5; stroke-width: 1.5\"/>\n     <use xlink:href=\"#m27b1108822\" x=\"304.250011\" y=\"137.898211\" style=\"fill: #dd8452; fill-opacity: 0.5; stroke: #dd8452; stroke-opacity: 0.5; stroke-width: 1.5\"/>\n     <use xlink:href=\"#m27b1108822\" x=\"173.254928\" y=\"271.527977\" style=\"fill: #dd8452; fill-opacity: 0.5; stroke: #dd8452; stroke-opacity: 0.5; stroke-width: 1.5\"/>\n     <use xlink:href=\"#m27b1108822\" x=\"100.979331\" y=\"36.414612\" style=\"fill: #dd8452; fill-opacity: 0.5; stroke: #dd8452; stroke-opacity: 0.5; stroke-width: 1.5\"/>\n     <use xlink:href=\"#m27b1108822\" x=\"74.058063\" y=\"70.392981\" style=\"fill: #dd8452; fill-opacity: 0.5; stroke: #dd8452; stroke-opacity: 0.5; stroke-width: 1.5\"/>\n     <use xlink:href=\"#m27b1108822\" x=\"313.132426\" y=\"177.423251\" style=\"fill: #dd8452; fill-opacity: 0.5; stroke: #dd8452; stroke-opacity: 0.5; stroke-width: 1.5\"/>\n     <use xlink:href=\"#m27b1108822\" x=\"219.747693\" y=\"169.904782\" style=\"fill: #dd8452; fill-opacity: 0.5; stroke: #dd8452; stroke-opacity: 0.5; stroke-width: 1.5\"/>\n     <use xlink:href=\"#m27b1108822\" x=\"380.724542\" y=\"208.334201\" style=\"fill: #dd8452; fill-opacity: 0.5; stroke: #dd8452; stroke-opacity: 0.5; stroke-width: 1.5\"/>\n     <use xlink:href=\"#m27b1108822\" x=\"211.720192\" y=\"204.349726\" style=\"fill: #dd8452; fill-opacity: 0.5; stroke: #dd8452; stroke-opacity: 0.5; stroke-width: 1.5\"/>\n     <use xlink:href=\"#m27b1108822\" x=\"378.249638\" y=\"218.028487\" style=\"fill: #dd8452; fill-opacity: 0.5; stroke: #dd8452; stroke-opacity: 0.5; stroke-width: 1.5\"/>\n     <use xlink:href=\"#m27b1108822\" x=\"194.384466\" y=\"260.576322\" style=\"fill: #dd8452; fill-opacity: 0.5; stroke: #dd8452; stroke-opacity: 0.5; stroke-width: 1.5\"/>\n     <use xlink:href=\"#m27b1108822\" x=\"318.436964\" y=\"200.149518\" style=\"fill: #dd8452; fill-opacity: 0.5; stroke: #dd8452; stroke-opacity: 0.5; stroke-width: 1.5\"/>\n     <use xlink:href=\"#m27b1108822\" x=\"88.301408\" y=\"38.406761\" style=\"fill: #dd8452; fill-opacity: 0.5; stroke: #dd8452; stroke-opacity: 0.5; stroke-width: 1.5\"/>\n     <use xlink:href=\"#m27b1108822\" x=\"241.097615\" y=\"80.300744\" style=\"fill: #dd8452; fill-opacity: 0.5; stroke: #dd8452; stroke-opacity: 0.5; stroke-width: 1.5\"/>\n     <use xlink:href=\"#m27b1108822\" x=\"321.156802\" y=\"211.183651\" style=\"fill: #dd8452; fill-opacity: 0.5; stroke: #dd8452; stroke-opacity: 0.5; stroke-width: 1.5\"/>\n     <use xlink:href=\"#m27b1108822\" x=\"360.973045\" y=\"267.141443\" style=\"fill: #dd8452; fill-opacity: 0.5; stroke: #dd8452; stroke-opacity: 0.5; stroke-width: 1.5\"/>\n     <use xlink:href=\"#m27b1108822\" x=\"327.819785\" y=\"235.602746\" style=\"fill: #dd8452; fill-opacity: 0.5; stroke: #dd8452; stroke-opacity: 0.5; stroke-width: 1.5\"/>\n     <use xlink:href=\"#m27b1108822\" x=\"72.767161\" y=\"74.612868\" style=\"fill: #dd8452; fill-opacity: 0.5; stroke: #dd8452; stroke-opacity: 0.5; stroke-width: 1.5\"/>\n     <use xlink:href=\"#m27b1108822\" x=\"181.763955\" y=\"275.838972\" style=\"fill: #dd8452; fill-opacity: 0.5; stroke: #dd8452; stroke-opacity: 0.5; stroke-width: 1.5\"/>\n     <use xlink:href=\"#m27b1108822\" x=\"76.574626\" y=\"62.728446\" style=\"fill: #dd8452; fill-opacity: 0.5; stroke: #dd8452; stroke-opacity: 0.5; stroke-width: 1.5\"/>\n     <use xlink:href=\"#m27b1108822\" x=\"96.243439\" y=\"34.065774\" style=\"fill: #dd8452; fill-opacity: 0.5; stroke: #dd8452; stroke-opacity: 0.5; stroke-width: 1.5\"/>\n     <use xlink:href=\"#m27b1108822\" x=\"280.005488\" y=\"50.80247\" style=\"fill: #dd8452; fill-opacity: 0.5; stroke: #dd8452; stroke-opacity: 0.5; stroke-width: 1.5\"/>\n     <use xlink:href=\"#m27b1108822\" x=\"292.326962\" y=\"88.45053\" style=\"fill: #dd8452; fill-opacity: 0.5; stroke: #dd8452; stroke-opacity: 0.5; stroke-width: 1.5\"/>\n     <use xlink:href=\"#m27b1108822\" x=\"311.956383\" y=\"172.236833\" style=\"fill: #dd8452; fill-opacity: 0.5; stroke: #dd8452; stroke-opacity: 0.5; stroke-width: 1.5\"/>\n     <use xlink:href=\"#m27b1108822\" x=\"341.738848\" y=\"269.545779\" style=\"fill: #dd8452; fill-opacity: 0.5; stroke: #dd8452; stroke-opacity: 0.5; stroke-width: 1.5\"/>\n     <use xlink:href=\"#m27b1108822\" x=\"300.824233\" y=\"122.912698\" style=\"fill: #dd8452; fill-opacity: 0.5; stroke: #dd8452; stroke-opacity: 0.5; stroke-width: 1.5\"/>\n     <use xlink:href=\"#m27b1108822\" x=\"320.771049\" y=\"209.650695\" style=\"fill: #dd8452; fill-opacity: 0.5; stroke: #dd8452; stroke-opacity: 0.5; stroke-width: 1.5\"/>\n     <use xlink:href=\"#m27b1108822\" x=\"76.660737\" y=\"62.479941\" style=\"fill: #dd8452; fill-opacity: 0.5; stroke: #dd8452; stroke-opacity: 0.5; stroke-width: 1.5\"/>\n     <use xlink:href=\"#m27b1108822\" x=\"136.907349\" y=\"149.672985\" style=\"fill: #dd8452; fill-opacity: 0.5; stroke: #dd8452; stroke-opacity: 0.5; stroke-width: 1.5\"/>\n     <use xlink:href=\"#m27b1108822\" x=\"262.666385\" y=\"34.73664\" style=\"fill: #dd8452; fill-opacity: 0.5; stroke: #dd8452; stroke-opacity: 0.5; stroke-width: 1.5\"/>\n     <use xlink:href=\"#m27b1108822\" x=\"339.358727\" y=\"265.689999\" style=\"fill: #dd8452; fill-opacity: 0.5; stroke: #dd8452; stroke-opacity: 0.5; stroke-width: 1.5\"/>\n     <use xlink:href=\"#m27b1108822\" x=\"62.225432\" y=\"114.974073\" style=\"fill: #dd8452; fill-opacity: 0.5; stroke: #dd8452; stroke-opacity: 0.5; stroke-width: 1.5\"/>\n     <use xlink:href=\"#m27b1108822\" x=\"227.841201\" y=\"133.865857\" style=\"fill: #dd8452; fill-opacity: 0.5; stroke: #dd8452; stroke-opacity: 0.5; stroke-width: 1.5\"/>\n     <use xlink:href=\"#m27b1108822\" x=\"280.648879\" y=\"52.293123\" style=\"fill: #dd8452; fill-opacity: 0.5; stroke: #dd8452; stroke-opacity: 0.5; stroke-width: 1.5\"/>\n     <use xlink:href=\"#m27b1108822\" x=\"70.376587\" y=\"82.903157\" style=\"fill: #dd8452; fill-opacity: 0.5; stroke: #dd8452; stroke-opacity: 0.5; stroke-width: 1.5\"/>\n     <use xlink:href=\"#m27b1108822\" x=\"191.066352\" y=\"267.00352\" style=\"fill: #dd8452; fill-opacity: 0.5; stroke: #dd8452; stroke-opacity: 0.5; stroke-width: 1.5\"/>\n     <use xlink:href=\"#m27b1108822\" x=\"351.536381\" y=\"275.876897\" style=\"fill: #dd8452; fill-opacity: 0.5; stroke: #dd8452; stroke-opacity: 0.5; stroke-width: 1.5\"/>\n     <use xlink:href=\"#m27b1108822\" x=\"278.806597\" y=\"48.182611\" style=\"fill: #dd8452; fill-opacity: 0.5; stroke: #dd8452; stroke-opacity: 0.5; stroke-width: 1.5\"/>\n     <use xlink:href=\"#m27b1108822\" x=\"137.921314\" y=\"154.204688\" style=\"fill: #dd8452; fill-opacity: 0.5; stroke: #dd8452; stroke-opacity: 0.5; stroke-width: 1.5\"/>\n     <use xlink:href=\"#m27b1108822\" x=\"337.623716\" y=\"262.337781\" style=\"fill: #dd8452; fill-opacity: 0.5; stroke: #dd8452; stroke-opacity: 0.5; stroke-width: 1.5\"/>\n     <use xlink:href=\"#m27b1108822\" x=\"173.75443\" y=\"272.106536\" style=\"fill: #dd8452; fill-opacity: 0.5; stroke: #dd8452; stroke-opacity: 0.5; stroke-width: 1.5\"/>\n     <use xlink:href=\"#m27b1108822\" x=\"337.806672\" y=\"262.712341\" style=\"fill: #dd8452; fill-opacity: 0.5; stroke: #dd8452; stroke-opacity: 0.5; stroke-width: 1.5\"/>\n     <use xlink:href=\"#m27b1108822\" x=\"157.817861\" y=\"235.558729\" style=\"fill: #dd8452; fill-opacity: 0.5; stroke: #dd8452; stroke-opacity: 0.5; stroke-width: 1.5\"/>\n     <use xlink:href=\"#m27b1108822\" x=\"252.414599\" y=\"48.091681\" style=\"fill: #dd8452; fill-opacity: 0.5; stroke: #dd8452; stroke-opacity: 0.5; stroke-width: 1.5\"/>\n     <use xlink:href=\"#m27b1108822\" x=\"189.632843\" y=\"269.264465\" style=\"fill: #dd8452; fill-opacity: 0.5; stroke: #dd8452; stroke-opacity: 0.5; stroke-width: 1.5\"/>\n     <use xlink:href=\"#m27b1108822\" x=\"149.987648\" y=\"206.458021\" style=\"fill: #dd8452; fill-opacity: 0.5; stroke: #dd8452; stroke-opacity: 0.5; stroke-width: 1.5\"/>\n     <use xlink:href=\"#m27b1108822\" x=\"348.589388\" y=\"275.623607\" style=\"fill: #dd8452; fill-opacity: 0.5; stroke: #dd8452; stroke-opacity: 0.5; stroke-width: 1.5\"/>\n     <use xlink:href=\"#m27b1108822\" x=\"121.667588\" y=\"85.967231\" style=\"fill: #dd8452; fill-opacity: 0.5; stroke: #dd8452; stroke-opacity: 0.5; stroke-width: 1.5\"/>\n     <use xlink:href=\"#m27b1108822\" x=\"88.298915\" y=\"38.409733\" style=\"fill: #dd8452; fill-opacity: 0.5; stroke: #dd8452; stroke-opacity: 0.5; stroke-width: 1.5\"/>\n     <use xlink:href=\"#m27b1108822\" x=\"171.772581\" y=\"269.577978\" style=\"fill: #dd8452; fill-opacity: 0.5; stroke: #dd8452; stroke-opacity: 0.5; stroke-width: 1.5\"/>\n     <use xlink:href=\"#m27b1108822\" x=\"293.749257\" y=\"93.850412\" style=\"fill: #dd8452; fill-opacity: 0.5; stroke: #dd8452; stroke-opacity: 0.5; stroke-width: 1.5\"/>\n     <use xlink:href=\"#m27b1108822\" x=\"322.900787\" y=\"217.967056\" style=\"fill: #dd8452; fill-opacity: 0.5; stroke: #dd8452; stroke-opacity: 0.5; stroke-width: 1.5\"/>\n     <use xlink:href=\"#m27b1108822\" x=\"385.011021\" y=\"190.537385\" style=\"fill: #dd8452; fill-opacity: 0.5; stroke: #dd8452; stroke-opacity: 0.5; stroke-width: 1.5\"/>\n     <use xlink:href=\"#m27b1108822\" x=\"156.979735\" y=\"232.725465\" style=\"fill: #dd8452; fill-opacity: 0.5; stroke: #dd8452; stroke-opacity: 0.5; stroke-width: 1.5\"/>\n     <use xlink:href=\"#m27b1108822\" x=\"193.204655\" y=\"263.048873\" style=\"fill: #dd8452; fill-opacity: 0.5; stroke: #dd8452; stroke-opacity: 0.5; stroke-width: 1.5\"/>\n     <use xlink:href=\"#m27b1108822\" x=\"105.184096\" y=\"41.542138\" style=\"fill: #dd8452; fill-opacity: 0.5; stroke: #dd8452; stroke-opacity: 0.5; stroke-width: 1.5\"/>\n     <use xlink:href=\"#m27b1108822\" x=\"247.399231\" y=\"60.356069\" style=\"fill: #dd8452; fill-opacity: 0.5; stroke: #dd8452; stroke-opacity: 0.5; stroke-width: 1.5\"/>\n     <use xlink:href=\"#m27b1108822\" x=\"384.63334\" y=\"192.147917\" style=\"fill: #dd8452; fill-opacity: 0.5; stroke: #dd8452; stroke-opacity: 0.5; stroke-width: 1.5\"/>\n     <use xlink:href=\"#m27b1108822\" x=\"288.308652\" y=\"74.23515\" style=\"fill: #dd8452; fill-opacity: 0.5; stroke: #dd8452; stroke-opacity: 0.5; stroke-width: 1.5\"/>\n     <use xlink:href=\"#m27b1108822\" x=\"254.003\" y=\"44.95464\" style=\"fill: #dd8452; fill-opacity: 0.5; stroke: #dd8452; stroke-opacity: 0.5; stroke-width: 1.5\"/>\n     <use xlink:href=\"#m27b1108822\" x=\"188.148856\" y=\"271.267068\" style=\"fill: #dd8452; fill-opacity: 0.5; stroke: #dd8452; stroke-opacity: 0.5; stroke-width: 1.5\"/>\n     <use xlink:href=\"#m27b1108822\" x=\"357.920349\" y=\"271.530998\" style=\"fill: #dd8452; fill-opacity: 0.5; stroke: #dd8452; stroke-opacity: 0.5; stroke-width: 1.5\"/>\n     <use xlink:href=\"#m27b1108822\" x=\"222.090678\" y=\"159.466377\" style=\"fill: #dd8452; fill-opacity: 0.5; stroke: #dd8452; stroke-opacity: 0.5; stroke-width: 1.5\"/>\n     <use xlink:href=\"#m27b1108822\" x=\"104.387275\" y=\"40.35573\" style=\"fill: #dd8452; fill-opacity: 0.5; stroke: #dd8452; stroke-opacity: 0.5; stroke-width: 1.5\"/>\n     <use xlink:href=\"#m27b1108822\" x=\"179.386225\" y=\"275.831332\" style=\"fill: #dd8452; fill-opacity: 0.5; stroke: #dd8452; stroke-opacity: 0.5; stroke-width: 1.5\"/>\n     <use xlink:href=\"#m27b1108822\" x=\"82.57041\" y=\"47.790825\" style=\"fill: #dd8452; fill-opacity: 0.5; stroke: #dd8452; stroke-opacity: 0.5; stroke-width: 1.5\"/>\n     <use xlink:href=\"#m27b1108822\" x=\"126.337859\" y=\"104.05531\" style=\"fill: #dd8452; fill-opacity: 0.5; stroke: #dd8452; stroke-opacity: 0.5; stroke-width: 1.5\"/>\n     <use xlink:href=\"#m27b1108822\" x=\"66.500696\" y=\"97.509429\" style=\"fill: #dd8452; fill-opacity: 0.5; stroke: #dd8452; stroke-opacity: 0.5; stroke-width: 1.5\"/>\n     <use xlink:href=\"#m27b1108822\" x=\"207.923831\" y=\"219.309828\" style=\"fill: #dd8452; fill-opacity: 0.5; stroke: #dd8452; stroke-opacity: 0.5; stroke-width: 1.5\"/>\n     <use xlink:href=\"#m27b1108822\" x=\"266.770827\" y=\"34.146996\" style=\"fill: #dd8452; fill-opacity: 0.5; stroke: #dd8452; stroke-opacity: 0.5; stroke-width: 1.5\"/>\n     <use xlink:href=\"#m27b1108822\" x=\"172.215904\" y=\"270.197493\" style=\"fill: #dd8452; fill-opacity: 0.5; stroke: #dd8452; stroke-opacity: 0.5; stroke-width: 1.5\"/>\n     <use xlink:href=\"#m27b1108822\" x=\"197.243299\" y=\"253.762476\" style=\"fill: #dd8452; fill-opacity: 0.5; stroke: #dd8452; stroke-opacity: 0.5; stroke-width: 1.5\"/>\n     <use xlink:href=\"#m27b1108822\" x=\"372.176096\" y=\"239.428323\" style=\"fill: #dd8452; fill-opacity: 0.5; stroke: #dd8452; stroke-opacity: 0.5; stroke-width: 1.5\"/>\n     <use xlink:href=\"#m27b1108822\" x=\"304.892691\" y=\"140.74734\" style=\"fill: #dd8452; fill-opacity: 0.5; stroke: #dd8452; stroke-opacity: 0.5; stroke-width: 1.5\"/>\n     <use xlink:href=\"#m27b1108822\" x=\"236.356012\" y=\"98.034932\" style=\"fill: #dd8452; fill-opacity: 0.5; stroke: #dd8452; stroke-opacity: 0.5; stroke-width: 1.5\"/>\n     <use xlink:href=\"#m27b1108822\" x=\"153.141934\" y=\"218.842242\" style=\"fill: #dd8452; fill-opacity: 0.5; stroke: #dd8452; stroke-opacity: 0.5; stroke-width: 1.5\"/>\n     <use xlink:href=\"#m27b1108822\" x=\"351.978534\" y=\"275.791127\" style=\"fill: #dd8452; fill-opacity: 0.5; stroke: #dd8452; stroke-opacity: 0.5; stroke-width: 1.5\"/>\n     <use xlink:href=\"#m27b1108822\" x=\"137.089794\" y=\"150.488018\" style=\"fill: #dd8452; fill-opacity: 0.5; stroke: #dd8452; stroke-opacity: 0.5; stroke-width: 1.5\"/>\n     <use xlink:href=\"#m27b1108822\" x=\"166.388442\" y=\"259.656\" style=\"fill: #dd8452; fill-opacity: 0.5; stroke: #dd8452; stroke-opacity: 0.5; stroke-width: 1.5\"/>\n     <use xlink:href=\"#m27b1108822\" x=\"355.89647\" y=\"273.62681\" style=\"fill: #dd8452; fill-opacity: 0.5; stroke: #dd8452; stroke-opacity: 0.5; stroke-width: 1.5\"/>\n     <use xlink:href=\"#m27b1108822\" x=\"232.682681\" y=\"113.00336\" style=\"fill: #dd8452; fill-opacity: 0.5; stroke: #dd8452; stroke-opacity: 0.5; stroke-width: 1.5\"/>\n     <use xlink:href=\"#m27b1108822\" x=\"301.761342\" y=\"126.970897\" style=\"fill: #dd8452; fill-opacity: 0.5; stroke: #dd8452; stroke-opacity: 0.5; stroke-width: 1.5\"/>\n     <use xlink:href=\"#m27b1108822\" x=\"252.552429\" y=\"47.804712\" style=\"fill: #dd8452; fill-opacity: 0.5; stroke: #dd8452; stroke-opacity: 0.5; stroke-width: 1.5\"/>\n     <use xlink:href=\"#m27b1108822\" x=\"272.906455\" y=\"38.429176\" style=\"fill: #dd8452; fill-opacity: 0.5; stroke: #dd8452; stroke-opacity: 0.5; stroke-width: 1.5\"/>\n     <use xlink:href=\"#m27b1108822\" x=\"157.960592\" y=\"236.033598\" style=\"fill: #dd8452; fill-opacity: 0.5; stroke: #dd8452; stroke-opacity: 0.5; stroke-width: 1.5\"/>\n     <use xlink:href=\"#m27b1108822\" x=\"139.126983\" y=\"159.594087\" style=\"fill: #dd8452; fill-opacity: 0.5; stroke: #dd8452; stroke-opacity: 0.5; stroke-width: 1.5\"/>\n     <use xlink:href=\"#m27b1108822\" x=\"165.463052\" y=\"257.521142\" style=\"fill: #dd8452; fill-opacity: 0.5; stroke: #dd8452; stroke-opacity: 0.5; stroke-width: 1.5\"/>\n     <use xlink:href=\"#m27b1108822\" x=\"111.229256\" y=\"53.660087\" style=\"fill: #dd8452; fill-opacity: 0.5; stroke: #dd8452; stroke-opacity: 0.5; stroke-width: 1.5\"/>\n     <use xlink:href=\"#m27b1108822\" x=\"344.614579\" y=\"273.020204\" style=\"fill: #dd8452; fill-opacity: 0.5; stroke: #dd8452; stroke-opacity: 0.5; stroke-width: 1.5\"/>\n     <use xlink:href=\"#m27b1108822\" x=\"152.72185\" y=\"217.239412\" style=\"fill: #dd8452; fill-opacity: 0.5; stroke: #dd8452; stroke-opacity: 0.5; stroke-width: 1.5\"/>\n     <use xlink:href=\"#m27b1108822\" x=\"243.05453\" y=\"73.619982\" style=\"fill: #dd8452; fill-opacity: 0.5; stroke: #dd8452; stroke-opacity: 0.5; stroke-width: 1.5\"/>\n     <use xlink:href=\"#m27b1108822\" x=\"317.882543\" y=\"197.840614\" style=\"fill: #dd8452; fill-opacity: 0.5; stroke: #dd8452; stroke-opacity: 0.5; stroke-width: 1.5\"/>\n     <use xlink:href=\"#m27b1108822\" x=\"315.236506\" y=\"186.590248\" style=\"fill: #dd8452; fill-opacity: 0.5; stroke: #dd8452; stroke-opacity: 0.5; stroke-width: 1.5\"/>\n     <use xlink:href=\"#m27b1108822\" x=\"203.088538\" y=\"236.497011\" style=\"fill: #dd8452; fill-opacity: 0.5; stroke: #dd8452; stroke-opacity: 0.5; stroke-width: 1.5\"/>\n     <use xlink:href=\"#m27b1108822\" x=\"215.383546\" y=\"188.990445\" style=\"fill: #dd8452; fill-opacity: 0.5; stroke: #dd8452; stroke-opacity: 0.5; stroke-width: 1.5\"/>\n     <use xlink:href=\"#m27b1108822\" x=\"383.69889\" y=\"196.100874\" style=\"fill: #dd8452; fill-opacity: 0.5; stroke: #dd8452; stroke-opacity: 0.5; stroke-width: 1.5\"/>\n     <use xlink:href=\"#m27b1108822\" x=\"279.775583\" y=\"50.284058\" style=\"fill: #dd8452; fill-opacity: 0.5; stroke: #dd8452; stroke-opacity: 0.5; stroke-width: 1.5\"/>\n     <use xlink:href=\"#m27b1108822\" x=\"325.240519\" y=\"226.651904\" style=\"fill: #dd8452; fill-opacity: 0.5; stroke: #dd8452; stroke-opacity: 0.5; stroke-width: 1.5\"/>\n     <use xlink:href=\"#m27b1108822\" x=\"353.782695\" y=\"275.107117\" style=\"fill: #dd8452; fill-opacity: 0.5; stroke: #dd8452; stroke-opacity: 0.5; stroke-width: 1.5\"/>\n     <use xlink:href=\"#m27b1108822\" x=\"316.459066\" y=\"191.832431\" style=\"fill: #dd8452; fill-opacity: 0.5; stroke: #dd8452; stroke-opacity: 0.5; stroke-width: 1.5\"/>\n     <use xlink:href=\"#m27b1108822\" x=\"120.883762\" y=\"83.11873\" style=\"fill: #dd8452; fill-opacity: 0.5; stroke: #dd8452; stroke-opacity: 0.5; stroke-width: 1.5\"/>\n     <use xlink:href=\"#m27b1108822\" x=\"243.27573\" y=\"72.890963\" style=\"fill: #dd8452; fill-opacity: 0.5; stroke: #dd8452; stroke-opacity: 0.5; stroke-width: 1.5\"/>\n     <use xlink:href=\"#m27b1108822\" x=\"93.844847\" y=\"34.286091\" style=\"fill: #dd8452; fill-opacity: 0.5; stroke: #dd8452; stroke-opacity: 0.5; stroke-width: 1.5\"/>\n     <use xlink:href=\"#m27b1108822\" x=\"272.738582\" y=\"38.230882\" style=\"fill: #dd8452; fill-opacity: 0.5; stroke: #dd8452; stroke-opacity: 0.5; stroke-width: 1.5\"/>\n     <use xlink:href=\"#m27b1108822\" x=\"370.92298\" y=\"243.34809\" style=\"fill: #dd8452; fill-opacity: 0.5; stroke: #dd8452; stroke-opacity: 0.5; stroke-width: 1.5\"/>\n     <use xlink:href=\"#m27b1108822\" x=\"227.225241\" y=\"136.582711\" style=\"fill: #dd8452; fill-opacity: 0.5; stroke: #dd8452; stroke-opacity: 0.5; stroke-width: 1.5\"/>\n     <use xlink:href=\"#m27b1108822\" x=\"201.330934\" y=\"242.127391\" style=\"fill: #dd8452; fill-opacity: 0.5; stroke: #dd8452; stroke-opacity: 0.5; stroke-width: 1.5\"/>\n     <use xlink:href=\"#m27b1108822\" x=\"72.400958\" y=\"75.843705\" style=\"fill: #dd8452; fill-opacity: 0.5; stroke: #dd8452; stroke-opacity: 0.5; stroke-width: 1.5\"/>\n     <use xlink:href=\"#m27b1108822\" x=\"372.359607\" y=\"238.838889\" style=\"fill: #dd8452; fill-opacity: 0.5; stroke: #dd8452; stroke-opacity: 0.5; stroke-width: 1.5\"/>\n     <use xlink:href=\"#m27b1108822\" x=\"94.204736\" y=\"34.192449\" style=\"fill: #dd8452; fill-opacity: 0.5; stroke: #dd8452; stroke-opacity: 0.5; stroke-width: 1.5\"/>\n     <use xlink:href=\"#m27b1108822\" x=\"74.10096\" y=\"70.256005\" style=\"fill: #dd8452; fill-opacity: 0.5; stroke: #dd8452; stroke-opacity: 0.5; stroke-width: 1.5\"/>\n     <use xlink:href=\"#m27b1108822\" x=\"140.65109\" y=\"166.392494\" style=\"fill: #dd8452; fill-opacity: 0.5; stroke: #dd8452; stroke-opacity: 0.5; stroke-width: 1.5\"/>\n     <use xlink:href=\"#m27b1108822\" x=\"82.039199\" y=\"48.91155\" style=\"fill: #dd8452; fill-opacity: 0.5; stroke: #dd8452; stroke-opacity: 0.5; stroke-width: 1.5\"/>\n     <use xlink:href=\"#m27b1108822\" x=\"208.520522\" y=\"217.034979\" style=\"fill: #dd8452; fill-opacity: 0.5; stroke: #dd8452; stroke-opacity: 0.5; stroke-width: 1.5\"/>\n     <use xlink:href=\"#m27b1108822\" x=\"228.314697\" y=\"131.78475\" style=\"fill: #dd8452; fill-opacity: 0.5; stroke: #dd8452; stroke-opacity: 0.5; stroke-width: 1.5\"/>\n     <use xlink:href=\"#m27b1108822\" x=\"162.241701\" y=\"249.171392\" style=\"fill: #dd8452; fill-opacity: 0.5; stroke: #dd8452; stroke-opacity: 0.5; stroke-width: 1.5\"/>\n     <use xlink:href=\"#m27b1108822\" x=\"77.308998\" y=\"60.639398\" style=\"fill: #dd8452; fill-opacity: 0.5; stroke: #dd8452; stroke-opacity: 0.5; stroke-width: 1.5\"/>\n     <use xlink:href=\"#m27b1108822\" x=\"96.996013\" y=\"34.19254\" style=\"fill: #dd8452; fill-opacity: 0.5; stroke: #dd8452; stroke-opacity: 0.5; stroke-width: 1.5\"/>\n     <use xlink:href=\"#m27b1108822\" x=\"185.59554\" y=\"273.891279\" style=\"fill: #dd8452; fill-opacity: 0.5; stroke: #dd8452; stroke-opacity: 0.5; stroke-width: 1.5\"/>\n     <use xlink:href=\"#m27b1108822\" x=\"80.415283\" y=\"52.589293\" style=\"fill: #dd8452; fill-opacity: 0.5; stroke: #dd8452; stroke-opacity: 0.5; stroke-width: 1.5\"/>\n     <use xlink:href=\"#m27b1108822\" x=\"287.434914\" y=\"71.369433\" style=\"fill: #dd8452; fill-opacity: 0.5; stroke: #dd8452; stroke-opacity: 0.5; stroke-width: 1.5\"/>\n     <use xlink:href=\"#m27b1108822\" x=\"127.974606\" y=\"110.781842\" style=\"fill: #dd8452; fill-opacity: 0.5; stroke: #dd8452; stroke-opacity: 0.5; stroke-width: 1.5\"/>\n     <use xlink:href=\"#m27b1108822\" x=\"158.833354\" y=\"238.887737\" style=\"fill: #dd8452; fill-opacity: 0.5; stroke: #dd8452; stroke-opacity: 0.5; stroke-width: 1.5\"/>\n     <use xlink:href=\"#m27b1108822\" x=\"188.719171\" y=\"270.538514\" style=\"fill: #dd8452; fill-opacity: 0.5; stroke: #dd8452; stroke-opacity: 0.5; stroke-width: 1.5\"/>\n     <use xlink:href=\"#m27b1108822\" x=\"196.018657\" y=\"256.820959\" style=\"fill: #dd8452; fill-opacity: 0.5; stroke: #dd8452; stroke-opacity: 0.5; stroke-width: 1.5\"/>\n     <use xlink:href=\"#m27b1108822\" x=\"61.303602\" y=\"118.885941\" style=\"fill: #dd8452; fill-opacity: 0.5; stroke: #dd8452; stroke-opacity: 0.5; stroke-width: 1.5\"/>\n     <use xlink:href=\"#m27b1108822\" x=\"97.148601\" y=\"34.229644\" style=\"fill: #dd8452; fill-opacity: 0.5; stroke: #dd8452; stroke-opacity: 0.5; stroke-width: 1.5\"/>\n     <use xlink:href=\"#m27b1108822\" x=\"340.864883\" y=\"268.231468\" style=\"fill: #dd8452; fill-opacity: 0.5; stroke: #dd8452; stroke-opacity: 0.5; stroke-width: 1.5\"/>\n     <use xlink:href=\"#m27b1108822\" x=\"61.164765\" y=\"119.478852\" style=\"fill: #dd8452; fill-opacity: 0.5; stroke: #dd8452; stroke-opacity: 0.5; stroke-width: 1.5\"/>\n     <use xlink:href=\"#m27b1108822\" x=\"225.743288\" y=\"143.155641\" style=\"fill: #dd8452; fill-opacity: 0.5; stroke: #dd8452; stroke-opacity: 0.5; stroke-width: 1.5\"/>\n     <use xlink:href=\"#m27b1108822\" x=\"219.683497\" y=\"170.189567\" style=\"fill: #dd8452; fill-opacity: 0.5; stroke: #dd8452; stroke-opacity: 0.5; stroke-width: 1.5\"/>\n     <use xlink:href=\"#m27b1108822\" x=\"168.904979\" y=\"264.835628\" style=\"fill: #dd8452; fill-opacity: 0.5; stroke: #dd8452; stroke-opacity: 0.5; stroke-width: 1.5\"/>\n     <use xlink:href=\"#m27b1108822\" x=\"200.796724\" y=\"243.766905\" style=\"fill: #dd8452; fill-opacity: 0.5; stroke: #dd8452; stroke-opacity: 0.5; stroke-width: 1.5\"/>\n     <use xlink:href=\"#m27b1108822\" x=\"314.18366\" y=\"182.023677\" style=\"fill: #dd8452; fill-opacity: 0.5; stroke: #dd8452; stroke-opacity: 0.5; stroke-width: 1.5\"/>\n     <use xlink:href=\"#m27b1108822\" x=\"333.865053\" y=\"253.582913\" style=\"fill: #dd8452; fill-opacity: 0.5; stroke: #dd8452; stroke-opacity: 0.5; stroke-width: 1.5\"/>\n     <use xlink:href=\"#m27b1108822\" x=\"145.287784\" y=\"186.762844\" style=\"fill: #dd8452; fill-opacity: 0.5; stroke: #dd8452; stroke-opacity: 0.5; stroke-width: 1.5\"/>\n     <use xlink:href=\"#m27b1108822\" x=\"165.462434\" y=\"257.519674\" style=\"fill: #dd8452; fill-opacity: 0.5; stroke: #dd8452; stroke-opacity: 0.5; stroke-width: 1.5\"/>\n     <use xlink:href=\"#m27b1108822\" x=\"139.487606\" y=\"161.204801\" style=\"fill: #dd8452; fill-opacity: 0.5; stroke: #dd8452; stroke-opacity: 0.5; stroke-width: 1.5\"/>\n     <use xlink:href=\"#m27b1108822\" x=\"216.55428\" y=\"183.936877\" style=\"fill: #dd8452; fill-opacity: 0.5; stroke: #dd8452; stroke-opacity: 0.5; stroke-width: 1.5\"/>\n     <use xlink:href=\"#m27b1108822\" x=\"282.587378\" y=\"57.131889\" style=\"fill: #dd8452; fill-opacity: 0.5; stroke: #dd8452; stroke-opacity: 0.5; stroke-width: 1.5\"/>\n     <use xlink:href=\"#m27b1108822\" x=\"134.86778\" y=\"140.586677\" style=\"fill: #dd8452; fill-opacity: 0.5; stroke: #dd8452; stroke-opacity: 0.5; stroke-width: 1.5\"/>\n     <use xlink:href=\"#m27b1108822\" x=\"168.139308\" y=\"263.35831\" style=\"fill: #dd8452; fill-opacity: 0.5; stroke: #dd8452; stroke-opacity: 0.5; stroke-width: 1.5\"/>\n     <use xlink:href=\"#m27b1108822\" x=\"362.818041\" y=\"263.792605\" style=\"fill: #dd8452; fill-opacity: 0.5; stroke: #dd8452; stroke-opacity: 0.5; stroke-width: 1.5\"/>\n     <use xlink:href=\"#m27b1108822\" x=\"76.532687\" y=\"62.849817\" style=\"fill: #dd8452; fill-opacity: 0.5; stroke: #dd8452; stroke-opacity: 0.5; stroke-width: 1.5\"/>\n     <use xlink:href=\"#m27b1108822\" x=\"210.355393\" y=\"209.855433\" style=\"fill: #dd8452; fill-opacity: 0.5; stroke: #dd8452; stroke-opacity: 0.5; stroke-width: 1.5\"/>\n     <use xlink:href=\"#m27b1108822\" x=\"291.774999\" y=\"86.403667\" style=\"fill: #dd8452; fill-opacity: 0.5; stroke: #dd8452; stroke-opacity: 0.5; stroke-width: 1.5\"/>\n     <use xlink:href=\"#m27b1108822\" x=\"109.610025\" y=\"49.890452\" style=\"fill: #dd8452; fill-opacity: 0.5; stroke: #dd8452; stroke-opacity: 0.5; stroke-width: 1.5\"/>\n     <use xlink:href=\"#m27b1108822\" x=\"76.144637\" y=\"63.983278\" style=\"fill: #dd8452; fill-opacity: 0.5; stroke: #dd8452; stroke-opacity: 0.5; stroke-width: 1.5\"/>\n     <use xlink:href=\"#m27b1108822\" x=\"105.633448\" y=\"42.254654\" style=\"fill: #dd8452; fill-opacity: 0.5; stroke: #dd8452; stroke-opacity: 0.5; stroke-width: 1.5\"/>\n     <use xlink:href=\"#m27b1108822\" x=\"359.064572\" y=\"270.056754\" style=\"fill: #dd8452; fill-opacity: 0.5; stroke: #dd8452; stroke-opacity: 0.5; stroke-width: 1.5\"/>\n     <use xlink:href=\"#m27b1108822\" x=\"63.770676\" y=\"108.523163\" style=\"fill: #dd8452; fill-opacity: 0.5; stroke: #dd8452; stroke-opacity: 0.5; stroke-width: 1.5\"/>\n     <use xlink:href=\"#m27b1108822\" x=\"121.904031\" y=\"86.837976\" style=\"fill: #dd8452; fill-opacity: 0.5; stroke: #dd8452; stroke-opacity: 0.5; stroke-width: 1.5\"/>\n     <use xlink:href=\"#m27b1108822\" x=\"70.920781\" y=\"80.964095\" style=\"fill: #dd8452; fill-opacity: 0.5; stroke: #dd8452; stroke-opacity: 0.5; stroke-width: 1.5\"/>\n     <use xlink:href=\"#m27b1108822\" x=\"96.680806\" y=\"34.128063\" style=\"fill: #dd8452; fill-opacity: 0.5; stroke: #dd8452; stroke-opacity: 0.5; stroke-width: 1.5\"/>\n     <use xlink:href=\"#m27b1108822\" x=\"262.098731\" y=\"35.036716\" style=\"fill: #dd8452; fill-opacity: 0.5; stroke: #dd8452; stroke-opacity: 0.5; stroke-width: 1.5\"/>\n     <use xlink:href=\"#m27b1108822\" x=\"139.213616\" y=\"159.981117\" style=\"fill: #dd8452; fill-opacity: 0.5; stroke: #dd8452; stroke-opacity: 0.5; stroke-width: 1.5\"/>\n     <use xlink:href=\"#m27b1108822\" x=\"245.561726\" y=\"65.68701\" style=\"fill: #dd8452; fill-opacity: 0.5; stroke: #dd8452; stroke-opacity: 0.5; stroke-width: 1.5\"/>\n     <use xlink:href=\"#m27b1108822\" x=\"252.37406\" y=\"48.176614\" style=\"fill: #dd8452; fill-opacity: 0.5; stroke: #dd8452; stroke-opacity: 0.5; stroke-width: 1.5\"/>\n     <use xlink:href=\"#m27b1108822\" x=\"336.537488\" y=\"260.013486\" style=\"fill: #dd8452; fill-opacity: 0.5; stroke: #dd8452; stroke-opacity: 0.5; stroke-width: 1.5\"/>\n     <use xlink:href=\"#m27b1108822\" x=\"62.303761\" y=\"114.643756\" style=\"fill: #dd8452; fill-opacity: 0.5; stroke: #dd8452; stroke-opacity: 0.5; stroke-width: 1.5\"/>\n     <use xlink:href=\"#m27b1108822\" x=\"337.81472\" y=\"262.728703\" style=\"fill: #dd8452; fill-opacity: 0.5; stroke: #dd8452; stroke-opacity: 0.5; stroke-width: 1.5\"/>\n     <use xlink:href=\"#m27b1108822\" x=\"261.764272\" y=\"35.238251\" style=\"fill: #dd8452; fill-opacity: 0.5; stroke: #dd8452; stroke-opacity: 0.5; stroke-width: 1.5\"/>\n     <use xlink:href=\"#m27b1108822\" x=\"113.599859\" y=\"59.829374\" style=\"fill: #dd8452; fill-opacity: 0.5; stroke: #dd8452; stroke-opacity: 0.5; stroke-width: 1.5\"/>\n     <use xlink:href=\"#m27b1108822\" x=\"311.702082\" y=\"171.110732\" style=\"fill: #dd8452; fill-opacity: 0.5; stroke: #dd8452; stroke-opacity: 0.5; stroke-width: 1.5\"/>\n     <use xlink:href=\"#m27b1108822\" x=\"338.503664\" y=\"264.093992\" style=\"fill: #dd8452; fill-opacity: 0.5; stroke: #dd8452; stroke-opacity: 0.5; stroke-width: 1.5\"/>\n     <use xlink:href=\"#m27b1108822\" x=\"143.312242\" y=\"178.163272\" style=\"fill: #dd8452; fill-opacity: 0.5; stroke: #dd8452; stroke-opacity: 0.5; stroke-width: 1.5\"/>\n     <use xlink:href=\"#m27b1108822\" x=\"359.054991\" y=\"270.069958\" style=\"fill: #dd8452; fill-opacity: 0.5; stroke: #dd8452; stroke-opacity: 0.5; stroke-width: 1.5\"/>\n     <use xlink:href=\"#m27b1108822\" x=\"208.306116\" y=\"217.85592\" style=\"fill: #dd8452; fill-opacity: 0.5; stroke: #dd8452; stroke-opacity: 0.5; stroke-width: 1.5\"/>\n     <use xlink:href=\"#m27b1108822\" x=\"256.668938\" y=\"40.546672\" style=\"fill: #dd8452; fill-opacity: 0.5; stroke: #dd8452; stroke-opacity: 0.5; stroke-width: 1.5\"/>\n     <use xlink:href=\"#m27b1108822\" x=\"380.435393\" y=\"209.491415\" style=\"fill: #dd8452; fill-opacity: 0.5; stroke: #dd8452; stroke-opacity: 0.5; stroke-width: 1.5\"/>\n     <use xlink:href=\"#m27b1108822\" x=\"178.138777\" y=\"275.453979\" style=\"fill: #dd8452; fill-opacity: 0.5; stroke: #dd8452; stroke-opacity: 0.5; stroke-width: 1.5\"/>\n     <use xlink:href=\"#m27b1108822\" x=\"324.760324\" y=\"224.911079\" style=\"fill: #dd8452; fill-opacity: 0.5; stroke: #dd8452; stroke-opacity: 0.5; stroke-width: 1.5\"/>\n     <use xlink:href=\"#m27b1108822\" x=\"164.134167\" y=\"254.246301\" style=\"fill: #dd8452; fill-opacity: 0.5; stroke: #dd8452; stroke-opacity: 0.5; stroke-width: 1.5\"/>\n     <use xlink:href=\"#m27b1108822\" x=\"320.232749\" y=\"207.493024\" style=\"fill: #dd8452; fill-opacity: 0.5; stroke: #dd8452; stroke-opacity: 0.5; stroke-width: 1.5\"/>\n     <use xlink:href=\"#m27b1108822\" x=\"255.795443\" y=\"41.870508\" style=\"fill: #dd8452; fill-opacity: 0.5; stroke: #dd8452; stroke-opacity: 0.5; stroke-width: 1.5\"/>\n     <use xlink:href=\"#m27b1108822\" x=\"131.005306\" y=\"123.645291\" style=\"fill: #dd8452; fill-opacity: 0.5; stroke: #dd8452; stroke-opacity: 0.5; stroke-width: 1.5\"/>\n     <use xlink:href=\"#m27b1108822\" x=\"195.179899\" y=\"258.79571\" style=\"fill: #dd8452; fill-opacity: 0.5; stroke: #dd8452; stroke-opacity: 0.5; stroke-width: 1.5\"/>\n     <use xlink:href=\"#m27b1108822\" x=\"163.886299\" y=\"253.608726\" style=\"fill: #dd8452; fill-opacity: 0.5; stroke: #dd8452; stroke-opacity: 0.5; stroke-width: 1.5\"/>\n     <use xlink:href=\"#m27b1108822\" x=\"86.122691\" y=\"41.377949\" style=\"fill: #dd8452; fill-opacity: 0.5; stroke: #dd8452; stroke-opacity: 0.5; stroke-width: 1.5\"/>\n     <use xlink:href=\"#m27b1108822\" x=\"70.45044\" y=\"82.638278\" style=\"fill: #dd8452; fill-opacity: 0.5; stroke: #dd8452; stroke-opacity: 0.5; stroke-width: 1.5\"/>\n     <use xlink:href=\"#m27b1108822\" x=\"173.250316\" y=\"271.52245\" style=\"fill: #dd8452; fill-opacity: 0.5; stroke: #dd8452; stroke-opacity: 0.5; stroke-width: 1.5\"/>\n     <use xlink:href=\"#m27b1108822\" x=\"66.943969\" y=\"95.773446\" style=\"fill: #dd8452; fill-opacity: 0.5; stroke: #dd8452; stroke-opacity: 0.5; stroke-width: 1.5\"/>\n     <use xlink:href=\"#m27b1108822\" x=\"114.490799\" y=\"62.339475\" style=\"fill: #dd8452; fill-opacity: 0.5; stroke: #dd8452; stroke-opacity: 0.5; stroke-width: 1.5\"/>\n     <use xlink:href=\"#m27b1108822\" x=\"296.198507\" y=\"103.536513\" style=\"fill: #dd8452; fill-opacity: 0.5; stroke: #dd8452; stroke-opacity: 0.5; stroke-width: 1.5\"/>\n     <use xlink:href=\"#m27b1108822\" x=\"290.649484\" y=\"82.319244\" style=\"fill: #dd8452; fill-opacity: 0.5; stroke: #dd8452; stroke-opacity: 0.5; stroke-width: 1.5\"/>\n     <use xlink:href=\"#m27b1108822\" x=\"300.547926\" y=\"121.723263\" style=\"fill: #dd8452; fill-opacity: 0.5; stroke: #dd8452; stroke-opacity: 0.5; stroke-width: 1.5\"/>\n     <use xlink:href=\"#m27b1108822\" x=\"163.729665\" y=\"253.201556\" style=\"fill: #dd8452; fill-opacity: 0.5; stroke: #dd8452; stroke-opacity: 0.5; stroke-width: 1.5\"/>\n     <use xlink:href=\"#m27b1108822\" x=\"349.713308\" y=\"275.889423\" style=\"fill: #dd8452; fill-opacity: 0.5; stroke: #dd8452; stroke-opacity: 0.5; stroke-width: 1.5\"/>\n     <use xlink:href=\"#m27b1108822\" x=\"253.554233\" y=\"45.802954\" style=\"fill: #dd8452; fill-opacity: 0.5; stroke: #dd8452; stroke-opacity: 0.5; stroke-width: 1.5\"/>\n     <use xlink:href=\"#m27b1108822\" x=\"101.679471\" y=\"37.072541\" style=\"fill: #dd8452; fill-opacity: 0.5; stroke: #dd8452; stroke-opacity: 0.5; stroke-width: 1.5\"/>\n     <use xlink:href=\"#m27b1108822\" x=\"107.423363\" y=\"45.399431\" style=\"fill: #dd8452; fill-opacity: 0.5; stroke: #dd8452; stroke-opacity: 0.5; stroke-width: 1.5\"/>\n     <use xlink:href=\"#m27b1108822\" x=\"285.781027\" y=\"66.186094\" style=\"fill: #dd8452; fill-opacity: 0.5; stroke: #dd8452; stroke-opacity: 0.5; stroke-width: 1.5\"/>\n     <use xlink:href=\"#m27b1108822\" x=\"116.911481\" y=\"69.6585\" style=\"fill: #dd8452; fill-opacity: 0.5; stroke: #dd8452; stroke-opacity: 0.5; stroke-width: 1.5\"/>\n     <use xlink:href=\"#m27b1108822\" x=\"225.459327\" y=\"144.419757\" style=\"fill: #dd8452; fill-opacity: 0.5; stroke: #dd8452; stroke-opacity: 0.5; stroke-width: 1.5\"/>\n     <use xlink:href=\"#m27b1108822\" x=\"382.748538\" y=\"200.070782\" style=\"fill: #dd8452; fill-opacity: 0.5; stroke: #dd8452; stroke-opacity: 0.5; stroke-width: 1.5\"/>\n     <use xlink:href=\"#m27b1108822\" x=\"62.065533\" y=\"115.649415\" style=\"fill: #dd8452; fill-opacity: 0.5; stroke: #dd8452; stroke-opacity: 0.5; stroke-width: 1.5\"/>\n     <use xlink:href=\"#m27b1108822\" x=\"66.147154\" y=\"98.905086\" style=\"fill: #dd8452; fill-opacity: 0.5; stroke: #dd8452; stroke-opacity: 0.5; stroke-width: 1.5\"/>\n     <use xlink:href=\"#m27b1108822\" x=\"383.17387\" y=\"198.300628\" style=\"fill: #dd8452; fill-opacity: 0.5; stroke: #dd8452; stroke-opacity: 0.5; stroke-width: 1.5\"/>\n     <use xlink:href=\"#m27b1108822\" x=\"250.570101\" y=\"52.195963\" style=\"fill: #dd8452; fill-opacity: 0.5; stroke: #dd8452; stroke-opacity: 0.5; stroke-width: 1.5\"/>\n     <use xlink:href=\"#m27b1108822\" x=\"101.966346\" y=\"37.364955\" style=\"fill: #dd8452; fill-opacity: 0.5; stroke: #dd8452; stroke-opacity: 0.5; stroke-width: 1.5\"/>\n     <use xlink:href=\"#m27b1108822\" x=\"352.077684\" y=\"275.767464\" style=\"fill: #dd8452; fill-opacity: 0.5; stroke: #dd8452; stroke-opacity: 0.5; stroke-width: 1.5\"/>\n     <use xlink:href=\"#m27b1108822\" x=\"346.583912\" y=\"274.632725\" style=\"fill: #dd8452; fill-opacity: 0.5; stroke: #dd8452; stroke-opacity: 0.5; stroke-width: 1.5\"/>\n     <use xlink:href=\"#m27b1108822\" x=\"234.844347\" y=\"104.083172\" style=\"fill: #dd8452; fill-opacity: 0.5; stroke: #dd8452; stroke-opacity: 0.5; stroke-width: 1.5\"/>\n     <use xlink:href=\"#m27b1108822\" x=\"262.632055\" y=\"34.753285\" style=\"fill: #dd8452; fill-opacity: 0.5; stroke: #dd8452; stroke-opacity: 0.5; stroke-width: 1.5\"/>\n     <use xlink:href=\"#m27b1108822\" x=\"149.45591\" y=\"204.29676\" style=\"fill: #dd8452; fill-opacity: 0.5; stroke: #dd8452; stroke-opacity: 0.5; stroke-width: 1.5\"/>\n     <use xlink:href=\"#m27b1108822\" x=\"77.165895\" y=\"61.041074\" style=\"fill: #dd8452; fill-opacity: 0.5; stroke: #dd8452; stroke-opacity: 0.5; stroke-width: 1.5\"/>\n     <use xlink:href=\"#m27b1108822\" x=\"253.793523\" y=\"45.346866\" style=\"fill: #dd8452; fill-opacity: 0.5; stroke: #dd8452; stroke-opacity: 0.5; stroke-width: 1.5\"/>\n     <use xlink:href=\"#m27b1108822\" x=\"156.458059\" y=\"230.924112\" style=\"fill: #dd8452; fill-opacity: 0.5; stroke: #dd8452; stroke-opacity: 0.5; stroke-width: 1.5\"/>\n     <use xlink:href=\"#m27b1108822\" x=\"276.212035\" y=\"43.237148\" style=\"fill: #dd8452; fill-opacity: 0.5; stroke: #dd8452; stroke-opacity: 0.5; stroke-width: 1.5\"/>\n     <use xlink:href=\"#m27b1108822\" x=\"332.255244\" y=\"249.24099\" style=\"fill: #dd8452; fill-opacity: 0.5; stroke: #dd8452; stroke-opacity: 0.5; stroke-width: 1.5\"/>\n     <use xlink:href=\"#m27b1108822\" x=\"66.660349\" y=\"96.88238\" style=\"fill: #dd8452; fill-opacity: 0.5; stroke: #dd8452; stroke-opacity: 0.5; stroke-width: 1.5\"/>\n     <use xlink:href=\"#m27b1108822\" x=\"254.165631\" y=\"44.654679\" style=\"fill: #dd8452; fill-opacity: 0.5; stroke: #dd8452; stroke-opacity: 0.5; stroke-width: 1.5\"/>\n     <use xlink:href=\"#m27b1108822\" x=\"135.850725\" y=\"144.95867\" style=\"fill: #dd8452; fill-opacity: 0.5; stroke: #dd8452; stroke-opacity: 0.5; stroke-width: 1.5\"/>\n     <use xlink:href=\"#m27b1108822\" x=\"344.476319\" y=\"272.883392\" style=\"fill: #dd8452; fill-opacity: 0.5; stroke: #dd8452; stroke-opacity: 0.5; stroke-width: 1.5\"/>\n     <use xlink:href=\"#m27b1108822\" x=\"143.117781\" y=\"177.309354\" style=\"fill: #dd8452; fill-opacity: 0.5; stroke: #dd8452; stroke-opacity: 0.5; stroke-width: 1.5\"/>\n     <use xlink:href=\"#m27b1108822\" x=\"259.053746\" y=\"37.543394\" style=\"fill: #dd8452; fill-opacity: 0.5; stroke: #dd8452; stroke-opacity: 0.5; stroke-width: 1.5\"/>\n     <use xlink:href=\"#m27b1108822\" x=\"240.473996\" y=\"82.513531\" style=\"fill: #dd8452; fill-opacity: 0.5; stroke: #dd8452; stroke-opacity: 0.5; stroke-width: 1.5\"/>\n     <use xlink:href=\"#m27b1108822\" x=\"189.381701\" y=\"269.627716\" style=\"fill: #dd8452; fill-opacity: 0.5; stroke: #dd8452; stroke-opacity: 0.5; stroke-width: 1.5\"/>\n     <use xlink:href=\"#m27b1108822\" x=\"280.757107\" y=\"52.549603\" style=\"fill: #dd8452; fill-opacity: 0.5; stroke: #dd8452; stroke-opacity: 0.5; stroke-width: 1.5\"/>\n     <use xlink:href=\"#m27b1108822\" x=\"296.388857\" y=\"104.307987\" style=\"fill: #dd8452; fill-opacity: 0.5; stroke: #dd8452; stroke-opacity: 0.5; stroke-width: 1.5\"/>\n     <use xlink:href=\"#m27b1108822\" x=\"244.823378\" y=\"67.946516\" style=\"fill: #dd8452; fill-opacity: 0.5; stroke: #dd8452; stroke-opacity: 0.5; stroke-width: 1.5\"/>\n     <use xlink:href=\"#m27b1108822\" x=\"306.989673\" y=\"150.091101\" style=\"fill: #dd8452; fill-opacity: 0.5; stroke: #dd8452; stroke-opacity: 0.5; stroke-width: 1.5\"/>\n     <use xlink:href=\"#m27b1108822\" x=\"380.03527\" y=\"211.082466\" style=\"fill: #dd8452; fill-opacity: 0.5; stroke: #dd8452; stroke-opacity: 0.5; stroke-width: 1.5\"/>\n     <use xlink:href=\"#m27b1108822\" x=\"196.883133\" y=\"254.683267\" style=\"fill: #dd8452; fill-opacity: 0.5; stroke: #dd8452; stroke-opacity: 0.5; stroke-width: 1.5\"/>\n     <use xlink:href=\"#m27b1108822\" x=\"227.826173\" y=\"133.932019\" style=\"fill: #dd8452; fill-opacity: 0.5; stroke: #dd8452; stroke-opacity: 0.5; stroke-width: 1.5\"/>\n     <use xlink:href=\"#m27b1108822\" x=\"64.812849\" y=\"104.256724\" style=\"fill: #dd8452; fill-opacity: 0.5; stroke: #dd8452; stroke-opacity: 0.5; stroke-width: 1.5\"/>\n     <use xlink:href=\"#m27b1108822\" x=\"319.198735\" y=\"203.290816\" style=\"fill: #dd8452; fill-opacity: 0.5; stroke: #dd8452; stroke-opacity: 0.5; stroke-width: 1.5\"/>\n     <use xlink:href=\"#m27b1108822\" x=\"229.659502\" y=\"125.91495\" style=\"fill: #dd8452; fill-opacity: 0.5; stroke: #dd8452; stroke-opacity: 0.5; stroke-width: 1.5\"/>\n     <use xlink:href=\"#m27b1108822\" x=\"193.210979\" y=\"263.036163\" style=\"fill: #dd8452; fill-opacity: 0.5; stroke: #dd8452; stroke-opacity: 0.5; stroke-width: 1.5\"/>\n     <use xlink:href=\"#m27b1108822\" x=\"91.305336\" y=\"35.552531\" style=\"fill: #dd8452; fill-opacity: 0.5; stroke: #dd8452; stroke-opacity: 0.5; stroke-width: 1.5\"/>\n     <use xlink:href=\"#m27b1108822\" x=\"349.595447\" y=\"275.871334\" style=\"fill: #dd8452; fill-opacity: 0.5; stroke: #dd8452; stroke-opacity: 0.5; stroke-width: 1.5\"/>\n     <use xlink:href=\"#m27b1108822\" x=\"189.005342\" y=\"270.153577\" style=\"fill: #dd8452; fill-opacity: 0.5; stroke: #dd8452; stroke-opacity: 0.5; stroke-width: 1.5\"/>\n     <use xlink:href=\"#m27b1108822\" x=\"282.367665\" y=\"56.557734\" style=\"fill: #dd8452; fill-opacity: 0.5; stroke: #dd8452; stroke-opacity: 0.5; stroke-width: 1.5\"/>\n     <use xlink:href=\"#m27b1108822\" x=\"109.259445\" y=\"49.123415\" style=\"fill: #dd8452; fill-opacity: 0.5; stroke: #dd8452; stroke-opacity: 0.5; stroke-width: 1.5\"/>\n     <use xlink:href=\"#m27b1108822\" x=\"372.935904\" y=\"236.962879\" style=\"fill: #dd8452; fill-opacity: 0.5; stroke: #dd8452; stroke-opacity: 0.5; stroke-width: 1.5\"/>\n     <use xlink:href=\"#m27b1108822\" x=\"118.696375\" y=\"75.495969\" style=\"fill: #dd8452; fill-opacity: 0.5; stroke: #dd8452; stroke-opacity: 0.5; stroke-width: 1.5\"/>\n     <use xlink:href=\"#m27b1108822\" x=\"125.546661\" y=\"100.869055\" style=\"fill: #dd8452; fill-opacity: 0.5; stroke: #dd8452; stroke-opacity: 0.5; stroke-width: 1.5\"/>\n     <use xlink:href=\"#m27b1108822\" x=\"339.637136\" y=\"266.185873\" style=\"fill: #dd8452; fill-opacity: 0.5; stroke: #dd8452; stroke-opacity: 0.5; stroke-width: 1.5\"/>\n     <use xlink:href=\"#m27b1108822\" x=\"357.038582\" y=\"272.525014\" style=\"fill: #dd8452; fill-opacity: 0.5; stroke: #dd8452; stroke-opacity: 0.5; stroke-width: 1.5\"/>\n     <use xlink:href=\"#m27b1108822\" x=\"129.639066\" y=\"117.788013\" style=\"fill: #dd8452; fill-opacity: 0.5; stroke: #dd8452; stroke-opacity: 0.5; stroke-width: 1.5\"/>\n     <use xlink:href=\"#m27b1108822\" x=\"213.28744\" y=\"197.873291\" style=\"fill: #dd8452; fill-opacity: 0.5; stroke: #dd8452; stroke-opacity: 0.5; stroke-width: 1.5\"/>\n     <use xlink:href=\"#m27b1108822\" x=\"298.896901\" y=\"114.692591\" style=\"fill: #dd8452; fill-opacity: 0.5; stroke: #dd8452; stroke-opacity: 0.5; stroke-width: 1.5\"/>\n     <use xlink:href=\"#m27b1108822\" x=\"345.929874\" y=\"274.167112\" style=\"fill: #dd8452; fill-opacity: 0.5; stroke: #dd8452; stroke-opacity: 0.5; stroke-width: 1.5\"/>\n     <use xlink:href=\"#m27b1108822\" x=\"183.825626\" y=\"275.090337\" style=\"fill: #dd8452; fill-opacity: 0.5; stroke: #dd8452; stroke-opacity: 0.5; stroke-width: 1.5\"/>\n     <use xlink:href=\"#m27b1108822\" x=\"228.617173\" y=\"130.458989\" style=\"fill: #dd8452; fill-opacity: 0.5; stroke: #dd8452; stroke-opacity: 0.5; stroke-width: 1.5\"/>\n     <use xlink:href=\"#m27b1108822\" x=\"301.56605\" y=\"126.122239\" style=\"fill: #dd8452; fill-opacity: 0.5; stroke: #dd8452; stroke-opacity: 0.5; stroke-width: 1.5\"/>\n     <use xlink:href=\"#m27b1108822\" x=\"298.131064\" y=\"111.480745\" style=\"fill: #dd8452; fill-opacity: 0.5; stroke: #dd8452; stroke-opacity: 0.5; stroke-width: 1.5\"/>\n     <use xlink:href=\"#m27b1108822\" x=\"314.956011\" y=\"185.378032\" style=\"fill: #dd8452; fill-opacity: 0.5; stroke: #dd8452; stroke-opacity: 0.5; stroke-width: 1.5\"/>\n     <use xlink:href=\"#m27b1108822\" x=\"245.796051\" y=\"64.983748\" style=\"fill: #dd8452; fill-opacity: 0.5; stroke: #dd8452; stroke-opacity: 0.5; stroke-width: 1.5\"/>\n     <use xlink:href=\"#m27b1108822\" x=\"94.728213\" y=\"34.094404\" style=\"fill: #dd8452; fill-opacity: 0.5; stroke: #dd8452; stroke-opacity: 0.5; stroke-width: 1.5\"/>\n     <use xlink:href=\"#m27b1108822\" x=\"354.243484\" y=\"274.846641\" style=\"fill: #dd8452; fill-opacity: 0.5; stroke: #dd8452; stroke-opacity: 0.5; stroke-width: 1.5\"/>\n     <use xlink:href=\"#m27b1108822\" x=\"341.776505\" y=\"269.599732\" style=\"fill: #dd8452; fill-opacity: 0.5; stroke: #dd8452; stroke-opacity: 0.5; stroke-width: 1.5\"/>\n     <use xlink:href=\"#m27b1108822\" x=\"319.870406\" y=\"206.028887\" style=\"fill: #dd8452; fill-opacity: 0.5; stroke: #dd8452; stroke-opacity: 0.5; stroke-width: 1.5\"/>\n     <use xlink:href=\"#m27b1108822\" x=\"93.185253\" y=\"34.513145\" style=\"fill: #dd8452; fill-opacity: 0.5; stroke: #dd8452; stroke-opacity: 0.5; stroke-width: 1.5\"/>\n     <use xlink:href=\"#m27b1108822\" x=\"127.12298\" y=\"107.260163\" style=\"fill: #dd8452; fill-opacity: 0.5; stroke: #dd8452; stroke-opacity: 0.5; stroke-width: 1.5\"/>\n     <use xlink:href=\"#m27b1108822\" x=\"302.177685\" y=\"128.784964\" style=\"fill: #dd8452; fill-opacity: 0.5; stroke: #dd8452; stroke-opacity: 0.5; stroke-width: 1.5\"/>\n     <use xlink:href=\"#m27b1108822\" x=\"68.276983\" y=\"90.650616\" style=\"fill: #dd8452; fill-opacity: 0.5; stroke: #dd8452; stroke-opacity: 0.5; stroke-width: 1.5\"/>\n     <use xlink:href=\"#m27b1108822\" x=\"378.674174\" y=\"216.400823\" style=\"fill: #dd8452; fill-opacity: 0.5; stroke: #dd8452; stroke-opacity: 0.5; stroke-width: 1.5\"/>\n     <use xlink:href=\"#m27b1108822\" x=\"183.206181\" y=\"275.388805\" style=\"fill: #dd8452; fill-opacity: 0.5; stroke: #dd8452; stroke-opacity: 0.5; stroke-width: 1.5\"/>\n     <use xlink:href=\"#m27b1108822\" x=\"294.29253\" y=\"95.958414\" style=\"fill: #dd8452; fill-opacity: 0.5; stroke: #dd8452; stroke-opacity: 0.5; stroke-width: 1.5\"/>\n     <use xlink:href=\"#m27b1108822\" x=\"348.918434\" y=\"275.723006\" style=\"fill: #dd8452; fill-opacity: 0.5; stroke: #dd8452; stroke-opacity: 0.5; stroke-width: 1.5\"/>\n     <use xlink:href=\"#m27b1108822\" x=\"188.882833\" y=\"270.319947\" style=\"fill: #dd8452; fill-opacity: 0.5; stroke: #dd8452; stroke-opacity: 0.5; stroke-width: 1.5\"/>\n     <use xlink:href=\"#m27b1108822\" x=\"164.372259\" y=\"254.850885\" style=\"fill: #dd8452; fill-opacity: 0.5; stroke: #dd8452; stroke-opacity: 0.5; stroke-width: 1.5\"/>\n     <use xlink:href=\"#m27b1108822\" x=\"258.395021\" y=\"38.282651\" style=\"fill: #dd8452; fill-opacity: 0.5; stroke: #dd8452; stroke-opacity: 0.5; stroke-width: 1.5\"/>\n     <use xlink:href=\"#m27b1108822\" x=\"249.385287\" y=\"55.085578\" style=\"fill: #dd8452; fill-opacity: 0.5; stroke: #dd8452; stroke-opacity: 0.5; stroke-width: 1.5\"/>\n     <use xlink:href=\"#m27b1108822\" x=\"193.593599\" y=\"262.256234\" style=\"fill: #dd8452; fill-opacity: 0.5; stroke: #dd8452; stroke-opacity: 0.5; stroke-width: 1.5\"/>\n     <use xlink:href=\"#m27b1108822\" x=\"256.133356\" y=\"41.344318\" style=\"fill: #dd8452; fill-opacity: 0.5; stroke: #dd8452; stroke-opacity: 0.5; stroke-width: 1.5\"/>\n     <use xlink:href=\"#m27b1108822\" x=\"364.440259\" y=\"260.429683\" style=\"fill: #dd8452; fill-opacity: 0.5; stroke: #dd8452; stroke-opacity: 0.5; stroke-width: 1.5\"/>\n     <use xlink:href=\"#m27b1108822\" x=\"212.585981\" y=\"200.791066\" style=\"fill: #dd8452; fill-opacity: 0.5; stroke: #dd8452; stroke-opacity: 0.5; stroke-width: 1.5\"/>\n     <use xlink:href=\"#m27b1108822\" x=\"124.637689\" y=\"97.265805\" style=\"fill: #dd8452; fill-opacity: 0.5; stroke: #dd8452; stroke-opacity: 0.5; stroke-width: 1.5\"/>\n     <use xlink:href=\"#m27b1108822\" x=\"183.226083\" y=\"275.380196\" style=\"fill: #dd8452; fill-opacity: 0.5; stroke: #dd8452; stroke-opacity: 0.5; stroke-width: 1.5\"/>\n     <use xlink:href=\"#m27b1108822\" x=\"188.713069\" y=\"270.546581\" style=\"fill: #dd8452; fill-opacity: 0.5; stroke: #dd8452; stroke-opacity: 0.5; stroke-width: 1.5\"/>\n     <use xlink:href=\"#m27b1108822\" x=\"103.329479\" y=\"38.934525\" style=\"fill: #dd8452; fill-opacity: 0.5; stroke: #dd8452; stroke-opacity: 0.5; stroke-width: 1.5\"/>\n     <use xlink:href=\"#m27b1108822\" x=\"113.641419\" y=\"59.944191\" style=\"fill: #dd8452; fill-opacity: 0.5; stroke: #dd8452; stroke-opacity: 0.5; stroke-width: 1.5\"/>\n     <use xlink:href=\"#m27b1108822\" x=\"283.010635\" y=\"58.256106\" style=\"fill: #dd8452; fill-opacity: 0.5; stroke: #dd8452; stroke-opacity: 0.5; stroke-width: 1.5\"/>\n     <use xlink:href=\"#m27b1108822\" x=\"170.977442\" y=\"268.38986\" style=\"fill: #dd8452; fill-opacity: 0.5; stroke: #dd8452; stroke-opacity: 0.5; stroke-width: 1.5\"/>\n     <use xlink:href=\"#m27b1108822\" x=\"370.776549\" y=\"243.793918\" style=\"fill: #dd8452; fill-opacity: 0.5; stroke: #dd8452; stroke-opacity: 0.5; stroke-width: 1.5\"/>\n     <use xlink:href=\"#m27b1108822\" x=\"139.849237\" y=\"162.818903\" style=\"fill: #dd8452; fill-opacity: 0.5; stroke: #dd8452; stroke-opacity: 0.5; stroke-width: 1.5\"/>\n     <use xlink:href=\"#m27b1108822\" x=\"92.880736\" y=\"34.642141\" style=\"fill: #dd8452; fill-opacity: 0.5; stroke: #dd8452; stroke-opacity: 0.5; stroke-width: 1.5\"/>\n     <use xlink:href=\"#m27b1108822\" x=\"305.393127\" y=\"142.971518\" style=\"fill: #dd8452; fill-opacity: 0.5; stroke: #dd8452; stroke-opacity: 0.5; stroke-width: 1.5\"/>\n     <use xlink:href=\"#m27b1108822\" x=\"346.796805\" y=\"274.769214\" style=\"fill: #dd8452; fill-opacity: 0.5; stroke: #dd8452; stroke-opacity: 0.5; stroke-width: 1.5\"/>\n     <use xlink:href=\"#m27b1108822\" x=\"151.055211\" y=\"210.736291\" style=\"fill: #dd8452; fill-opacity: 0.5; stroke: #dd8452; stroke-opacity: 0.5; stroke-width: 1.5\"/>\n     <use xlink:href=\"#m27b1108822\" x=\"126.373267\" y=\"104.198942\" style=\"fill: #dd8452; fill-opacity: 0.5; stroke: #dd8452; stroke-opacity: 0.5; stroke-width: 1.5\"/>\n     <use xlink:href=\"#m27b1108822\" x=\"121.074266\" y=\"83.805582\" style=\"fill: #dd8452; fill-opacity: 0.5; stroke: #dd8452; stroke-opacity: 0.5; stroke-width: 1.5\"/>\n     <use xlink:href=\"#m27b1108822\" x=\"230.238112\" y=\"123.410693\" style=\"fill: #dd8452; fill-opacity: 0.5; stroke: #dd8452; stroke-opacity: 0.5; stroke-width: 1.5\"/>\n     <use xlink:href=\"#m27b1108822\" x=\"212.838038\" y=\"199.746057\" style=\"fill: #dd8452; fill-opacity: 0.5; stroke: #dd8452; stroke-opacity: 0.5; stroke-width: 1.5\"/>\n     <use xlink:href=\"#m27b1108822\" x=\"144.992769\" y=\"185.488289\" style=\"fill: #dd8452; fill-opacity: 0.5; stroke: #dd8452; stroke-opacity: 0.5; stroke-width: 1.5\"/>\n     <use xlink:href=\"#m27b1108822\" x=\"75.430104\" y=\"66.119174\" style=\"fill: #dd8452; fill-opacity: 0.5; stroke: #dd8452; stroke-opacity: 0.5; stroke-width: 1.5\"/>\n     <use xlink:href=\"#m27b1108822\" x=\"217.082798\" y=\"181.637162\" style=\"fill: #dd8452; fill-opacity: 0.5; stroke: #dd8452; stroke-opacity: 0.5; stroke-width: 1.5\"/>\n     <use xlink:href=\"#m27b1108822\" x=\"372.216053\" y=\"239.300312\" style=\"fill: #dd8452; fill-opacity: 0.5; stroke: #dd8452; stroke-opacity: 0.5; stroke-width: 1.5\"/>\n     <use xlink:href=\"#m27b1108822\" x=\"272.607771\" y=\"38.07948\" style=\"fill: #dd8452; fill-opacity: 0.5; stroke: #dd8452; stroke-opacity: 0.5; stroke-width: 1.5\"/>\n     <use xlink:href=\"#m27b1108822\" x=\"221.632902\" y=\"161.510941\" style=\"fill: #dd8452; fill-opacity: 0.5; stroke: #dd8452; stroke-opacity: 0.5; stroke-width: 1.5\"/>\n     <use xlink:href=\"#m27b1108822\" x=\"96.701131\" y=\"34.131726\" style=\"fill: #dd8452; fill-opacity: 0.5; stroke: #dd8452; stroke-opacity: 0.5; stroke-width: 1.5\"/>\n     <use xlink:href=\"#m27b1108822\" x=\"142.719035\" y=\"175.554818\" style=\"fill: #dd8452; fill-opacity: 0.5; stroke: #dd8452; stroke-opacity: 0.5; stroke-width: 1.5\"/>\n     <use xlink:href=\"#m27b1108822\" x=\"156.464149\" y=\"230.945303\" style=\"fill: #dd8452; fill-opacity: 0.5; stroke: #dd8452; stroke-opacity: 0.5; stroke-width: 1.5\"/>\n     <use xlink:href=\"#m27b1108822\" x=\"309.061396\" y=\"159.351436\" style=\"fill: #dd8452; fill-opacity: 0.5; stroke: #dd8452; stroke-opacity: 0.5; stroke-width: 1.5\"/>\n     <use xlink:href=\"#m27b1108822\" x=\"345.392591\" y=\"273.732499\" style=\"fill: #dd8452; fill-opacity: 0.5; stroke: #dd8452; stroke-opacity: 0.5; stroke-width: 1.5\"/>\n     <use xlink:href=\"#m27b1108822\" x=\"353.486572\" y=\"275.256123\" style=\"fill: #dd8452; fill-opacity: 0.5; stroke: #dd8452; stroke-opacity: 0.5; stroke-width: 1.5\"/>\n     <use xlink:href=\"#m27b1108822\" x=\"380.40912\" y=\"209.596255\" style=\"fill: #dd8452; fill-opacity: 0.5; stroke: #dd8452; stroke-opacity: 0.5; stroke-width: 1.5\"/>\n     <use xlink:href=\"#m27b1108822\" x=\"379.694255\" y=\"212.42881\" style=\"fill: #dd8452; fill-opacity: 0.5; stroke: #dd8452; stroke-opacity: 0.5; stroke-width: 1.5\"/>\n     <use xlink:href=\"#m27b1108822\" x=\"370.159946\" y=\"245.642556\" style=\"fill: #dd8452; fill-opacity: 0.5; stroke: #dd8452; stroke-opacity: 0.5; stroke-width: 1.5\"/>\n     <use xlink:href=\"#m27b1108822\" x=\"84.08183\" y=\"44.82956\" style=\"fill: #dd8452; fill-opacity: 0.5; stroke: #dd8452; stroke-opacity: 0.5; stroke-width: 1.5\"/>\n     <use xlink:href=\"#m27b1108822\" x=\"105.499744\" y=\"42.039386\" style=\"fill: #dd8452; fill-opacity: 0.5; stroke: #dd8452; stroke-opacity: 0.5; stroke-width: 1.5\"/>\n     <use xlink:href=\"#m27b1108822\" x=\"159.610888\" y=\"241.357016\" style=\"fill: #dd8452; fill-opacity: 0.5; stroke: #dd8452; stroke-opacity: 0.5; stroke-width: 1.5\"/>\n     <use xlink:href=\"#m27b1108822\" x=\"240.265377\" y=\"83.262426\" style=\"fill: #dd8452; fill-opacity: 0.5; stroke: #dd8452; stroke-opacity: 0.5; stroke-width: 1.5\"/>\n     <use xlink:href=\"#m27b1108822\" x=\"92.248758\" y=\"34.958487\" style=\"fill: #dd8452; fill-opacity: 0.5; stroke: #dd8452; stroke-opacity: 0.5; stroke-width: 1.5\"/>\n     <use xlink:href=\"#m27b1108822\" x=\"335.356273\" y=\"257.293949\" style=\"fill: #dd8452; fill-opacity: 0.5; stroke: #dd8452; stroke-opacity: 0.5; stroke-width: 1.5\"/>\n     <use xlink:href=\"#m27b1108822\" x=\"260.997143\" y=\"35.769574\" style=\"fill: #dd8452; fill-opacity: 0.5; stroke: #dd8452; stroke-opacity: 0.5; stroke-width: 1.5\"/>\n     <use xlink:href=\"#m27b1108822\" x=\"236.845515\" y=\"96.113614\" style=\"fill: #dd8452; fill-opacity: 0.5; stroke: #dd8452; stroke-opacity: 0.5; stroke-width: 1.5\"/>\n     <use xlink:href=\"#m27b1108822\" x=\"114.433519\" y=\"62.175044\" style=\"fill: #dd8452; fill-opacity: 0.5; stroke: #dd8452; stroke-opacity: 0.5; stroke-width: 1.5\"/>\n     <use xlink:href=\"#m27b1108822\" x=\"142.984987\" y=\"176.725561\" style=\"fill: #dd8452; fill-opacity: 0.5; stroke: #dd8452; stroke-opacity: 0.5; stroke-width: 1.5\"/>\n     <use xlink:href=\"#m27b1108822\" x=\"112.810474\" y=\"57.691525\" style=\"fill: #dd8452; fill-opacity: 0.5; stroke: #dd8452; stroke-opacity: 0.5; stroke-width: 1.5\"/>\n     <use xlink:href=\"#m27b1108822\" x=\"337.348418\" y=\"261.764927\" style=\"fill: #dd8452; fill-opacity: 0.5; stroke: #dd8452; stroke-opacity: 0.5; stroke-width: 1.5\"/>\n     <use xlink:href=\"#m27b1108822\" x=\"250.436676\" y=\"52.511619\" style=\"fill: #dd8452; fill-opacity: 0.5; stroke: #dd8452; stroke-opacity: 0.5; stroke-width: 1.5\"/>\n     <use xlink:href=\"#m27b1108822\" x=\"299.427556\" y=\"116.937202\" style=\"fill: #dd8452; fill-opacity: 0.5; stroke: #dd8452; stroke-opacity: 0.5; stroke-width: 1.5\"/>\n     <use xlink:href=\"#m27b1108822\" x=\"156.872861\" y=\"232.358758\" style=\"fill: #dd8452; fill-opacity: 0.5; stroke: #dd8452; stroke-opacity: 0.5; stroke-width: 1.5\"/>\n     <use xlink:href=\"#m27b1108822\" x=\"181.293302\" y=\"275.911609\" style=\"fill: #dd8452; fill-opacity: 0.5; stroke: #dd8452; stroke-opacity: 0.5; stroke-width: 1.5\"/>\n     <use xlink:href=\"#m27b1108822\" x=\"192.20245\" y=\"264.98799\" style=\"fill: #dd8452; fill-opacity: 0.5; stroke: #dd8452; stroke-opacity: 0.5; stroke-width: 1.5\"/>\n     <use xlink:href=\"#m27b1108822\" x=\"307.506761\" y=\"152.401847\" style=\"fill: #dd8452; fill-opacity: 0.5; stroke: #dd8452; stroke-opacity: 0.5; stroke-width: 1.5\"/>\n     <use xlink:href=\"#m27b1108822\" x=\"311.512354\" y=\"170.269638\" style=\"fill: #dd8452; fill-opacity: 0.5; stroke: #dd8452; stroke-opacity: 0.5; stroke-width: 1.5\"/>\n     <use xlink:href=\"#m27b1108822\" x=\"127.907398\" y=\"110.502283\" style=\"fill: #dd8452; fill-opacity: 0.5; stroke: #dd8452; stroke-opacity: 0.5; stroke-width: 1.5\"/>\n     <use xlink:href=\"#m27b1108822\" x=\"366.439316\" y=\"255.76572\" style=\"fill: #dd8452; fill-opacity: 0.5; stroke: #dd8452; stroke-opacity: 0.5; stroke-width: 1.5\"/>\n     <use xlink:href=\"#m27b1108822\" x=\"99.93575\" y=\"35.581456\" style=\"fill: #dd8452; fill-opacity: 0.5; stroke: #dd8452; stroke-opacity: 0.5; stroke-width: 1.5\"/>\n     <use xlink:href=\"#m27b1108822\" x=\"351.694553\" y=\"275.849922\" style=\"fill: #dd8452; fill-opacity: 0.5; stroke: #dd8452; stroke-opacity: 0.5; stroke-width: 1.5\"/>\n     <use xlink:href=\"#m27b1108822\" x=\"93.358349\" y=\"34.446624\" style=\"fill: #dd8452; fill-opacity: 0.5; stroke: #dd8452; stroke-opacity: 0.5; stroke-width: 1.5\"/>\n     <use xlink:href=\"#m27b1108822\" x=\"146.648498\" y=\"192.590308\" style=\"fill: #dd8452; fill-opacity: 0.5; stroke: #dd8452; stroke-opacity: 0.5; stroke-width: 1.5\"/>\n     <use xlink:href=\"#m27b1108822\" x=\"335.57755\" y=\"257.818404\" style=\"fill: #dd8452; fill-opacity: 0.5; stroke: #dd8452; stroke-opacity: 0.5; stroke-width: 1.5\"/>\n     <use xlink:href=\"#m27b1108822\" x=\"119.037363\" y=\"76.651322\" style=\"fill: #dd8452; fill-opacity: 0.5; stroke: #dd8452; stroke-opacity: 0.5; stroke-width: 1.5\"/>\n     <use xlink:href=\"#m27b1108822\" x=\"195.031155\" y=\"259.135549\" style=\"fill: #dd8452; fill-opacity: 0.5; stroke: #dd8452; stroke-opacity: 0.5; stroke-width: 1.5\"/>\n     <use xlink:href=\"#m27b1108822\" x=\"206.813313\" y=\"223.459486\" style=\"fill: #dd8452; fill-opacity: 0.5; stroke: #dd8452; stroke-opacity: 0.5; stroke-width: 1.5\"/>\n     <use xlink:href=\"#m27b1108822\" x=\"140.388886\" y=\"165.22489\" style=\"fill: #dd8452; fill-opacity: 0.5; stroke: #dd8452; stroke-opacity: 0.5; stroke-width: 1.5\"/>\n     <use xlink:href=\"#m27b1108822\" x=\"291.348779\" y=\"84.842593\" style=\"fill: #dd8452; fill-opacity: 0.5; stroke: #dd8452; stroke-opacity: 0.5; stroke-width: 1.5\"/>\n     <use xlink:href=\"#m27b1108822\" x=\"337.15411\" y=\"261.353942\" style=\"fill: #dd8452; fill-opacity: 0.5; stroke: #dd8452; stroke-opacity: 0.5; stroke-width: 1.5\"/>\n     <use xlink:href=\"#m27b1108822\" x=\"344.699241\" y=\"273.102458\" style=\"fill: #dd8452; fill-opacity: 0.5; stroke: #dd8452; stroke-opacity: 0.5; stroke-width: 1.5\"/>\n     <use xlink:href=\"#m27b1108822\" x=\"170.926923\" y=\"268.311053\" style=\"fill: #dd8452; fill-opacity: 0.5; stroke: #dd8452; stroke-opacity: 0.5; stroke-width: 1.5\"/>\n     <use xlink:href=\"#m27b1108822\" x=\"233.107439\" y=\"111.227612\" style=\"fill: #dd8452; fill-opacity: 0.5; stroke: #dd8452; stroke-opacity: 0.5; stroke-width: 1.5\"/>\n     <use xlink:href=\"#m27b1108822\" x=\"141.410714\" y=\"169.768698\" style=\"fill: #dd8452; fill-opacity: 0.5; stroke: #dd8452; stroke-opacity: 0.5; stroke-width: 1.5\"/>\n     <use xlink:href=\"#m27b1108822\" x=\"140.238743\" y=\"164.555855\" style=\"fill: #dd8452; fill-opacity: 0.5; stroke: #dd8452; stroke-opacity: 0.5; stroke-width: 1.5\"/>\n     <use xlink:href=\"#m27b1108822\" x=\"113.116311\" y=\"58.510076\" style=\"fill: #dd8452; fill-opacity: 0.5; stroke: #dd8452; stroke-opacity: 0.5; stroke-width: 1.5\"/>\n     <use xlink:href=\"#m27b1108822\" x=\"365.945891\" y=\"256.969075\" style=\"fill: #dd8452; fill-opacity: 0.5; stroke: #dd8452; stroke-opacity: 0.5; stroke-width: 1.5\"/>\n     <use xlink:href=\"#m27b1108822\" x=\"349.054056\" y=\"275.758779\" style=\"fill: #dd8452; fill-opacity: 0.5; stroke: #dd8452; stroke-opacity: 0.5; stroke-width: 1.5\"/>\n     <use xlink:href=\"#m27b1108822\" x=\"313.137486\" y=\"177.445482\" style=\"fill: #dd8452; fill-opacity: 0.5; stroke: #dd8452; stroke-opacity: 0.5; stroke-width: 1.5\"/>\n     <use xlink:href=\"#m27b1108822\" x=\"228.825612\" y=\"129.547168\" style=\"fill: #dd8452; fill-opacity: 0.5; stroke: #dd8452; stroke-opacity: 0.5; stroke-width: 1.5\"/>\n     <use xlink:href=\"#m27b1108822\" x=\"220.042536\" y=\"168.595745\" style=\"fill: #dd8452; fill-opacity: 0.5; stroke: #dd8452; stroke-opacity: 0.5; stroke-width: 1.5\"/>\n     <use xlink:href=\"#m27b1108822\" x=\"232.748784\" y=\"112.726317\" style=\"fill: #dd8452; fill-opacity: 0.5; stroke: #dd8452; stroke-opacity: 0.5; stroke-width: 1.5\"/>\n     <use xlink:href=\"#m27b1108822\" x=\"234.963691\" y=\"103.599647\" style=\"fill: #dd8452; fill-opacity: 0.5; stroke: #dd8452; stroke-opacity: 0.5; stroke-width: 1.5\"/>\n     <use xlink:href=\"#m27b1108822\" x=\"201.847327\" y=\"240.510261\" style=\"fill: #dd8452; fill-opacity: 0.5; stroke: #dd8452; stroke-opacity: 0.5; stroke-width: 1.5\"/>\n     <use xlink:href=\"#m27b1108822\" x=\"103.539251\" y=\"39.202329\" style=\"fill: #dd8452; fill-opacity: 0.5; stroke: #dd8452; stroke-opacity: 0.5; stroke-width: 1.5\"/>\n     <use xlink:href=\"#m27b1108822\" x=\"101.561787\" y=\"36.956418\" style=\"fill: #dd8452; fill-opacity: 0.5; stroke: #dd8452; stroke-opacity: 0.5; stroke-width: 1.5\"/>\n     <use xlink:href=\"#m27b1108822\" x=\"369.916645\" y=\"246.359097\" style=\"fill: #dd8452; fill-opacity: 0.5; stroke: #dd8452; stroke-opacity: 0.5; stroke-width: 1.5\"/>\n     <use xlink:href=\"#m27b1108822\" x=\"217.257923\" y=\"180.872863\" style=\"fill: #dd8452; fill-opacity: 0.5; stroke: #dd8452; stroke-opacity: 0.5; stroke-width: 1.5\"/>\n     <use xlink:href=\"#m27b1108822\" x=\"370.226952\" y=\"245.443929\" style=\"fill: #dd8452; fill-opacity: 0.5; stroke: #dd8452; stroke-opacity: 0.5; stroke-width: 1.5\"/>\n     <use xlink:href=\"#m27b1108822\" x=\"113.870423\" y=\"60.580864\" style=\"fill: #dd8452; fill-opacity: 0.5; stroke: #dd8452; stroke-opacity: 0.5; stroke-width: 1.5\"/>\n     <use xlink:href=\"#m27b1108822\" x=\"240.7583\" y=\"81.499889\" style=\"fill: #dd8452; fill-opacity: 0.5; stroke: #dd8452; stroke-opacity: 0.5; stroke-width: 1.5\"/>\n     <use xlink:href=\"#m27b1108822\" x=\"128.200796\" y=\"111.724702\" style=\"fill: #dd8452; fill-opacity: 0.5; stroke: #dd8452; stroke-opacity: 0.5; stroke-width: 1.5\"/>\n     <use xlink:href=\"#m27b1108822\" x=\"142.961979\" y=\"176.624361\" style=\"fill: #dd8452; fill-opacity: 0.5; stroke: #dd8452; stroke-opacity: 0.5; stroke-width: 1.5\"/>\n     <use xlink:href=\"#m27b1108822\" x=\"70.521802\" y=\"82.382845\" style=\"fill: #dd8452; fill-opacity: 0.5; stroke: #dd8452; stroke-opacity: 0.5; stroke-width: 1.5\"/>\n     <use xlink:href=\"#m27b1108822\" x=\"99.383179\" y=\"35.212171\" style=\"fill: #dd8452; fill-opacity: 0.5; stroke: #dd8452; stroke-opacity: 0.5; stroke-width: 1.5\"/>\n     <use xlink:href=\"#m27b1108822\" x=\"358.423449\" y=\"270.908319\" style=\"fill: #dd8452; fill-opacity: 0.5; stroke: #dd8452; stroke-opacity: 0.5; stroke-width: 1.5\"/>\n     <use xlink:href=\"#m27b1108822\" x=\"165.151593\" y=\"256.775505\" style=\"fill: #dd8452; fill-opacity: 0.5; stroke: #dd8452; stroke-opacity: 0.5; stroke-width: 1.5\"/>\n     <use xlink:href=\"#m27b1108822\" x=\"258.196359\" y=\"38.5192\" style=\"fill: #dd8452; fill-opacity: 0.5; stroke: #dd8452; stroke-opacity: 0.5; stroke-width: 1.5\"/>\n     <use xlink:href=\"#m27b1108822\" x=\"211.733398\" y=\"204.295817\" style=\"fill: #dd8452; fill-opacity: 0.5; stroke: #dd8452; stroke-opacity: 0.5; stroke-width: 1.5\"/>\n     <use xlink:href=\"#m27b1108822\" x=\"190.772763\" y=\"267.492394\" style=\"fill: #dd8452; fill-opacity: 0.5; stroke: #dd8452; stroke-opacity: 0.5; stroke-width: 1.5\"/>\n     <use xlink:href=\"#m27b1108822\" x=\"233.443683\" y=\"109.829537\" style=\"fill: #dd8452; fill-opacity: 0.5; stroke: #dd8452; stroke-opacity: 0.5; stroke-width: 1.5\"/>\n     <use xlink:href=\"#m27b1108822\" x=\"121.55242\" y=\"85.545014\" style=\"fill: #dd8452; fill-opacity: 0.5; stroke: #dd8452; stroke-opacity: 0.5; stroke-width: 1.5\"/>\n     <use xlink:href=\"#m27b1108822\" x=\"381.719195\" y=\"204.307758\" style=\"fill: #dd8452; fill-opacity: 0.5; stroke: #dd8452; stroke-opacity: 0.5; stroke-width: 1.5\"/>\n     <use xlink:href=\"#m27b1108822\" x=\"326.431815\" y=\"230.872013\" style=\"fill: #dd8452; fill-opacity: 0.5; stroke: #dd8452; stroke-opacity: 0.5; stroke-width: 1.5\"/>\n     <use xlink:href=\"#m27b1108822\" x=\"301.533008\" y=\"125.978797\" style=\"fill: #dd8452; fill-opacity: 0.5; stroke: #dd8452; stroke-opacity: 0.5; stroke-width: 1.5\"/>\n     <use xlink:href=\"#m27b1108822\" x=\"212.949283\" y=\"199.283604\" style=\"fill: #dd8452; fill-opacity: 0.5; stroke: #dd8452; stroke-opacity: 0.5; stroke-width: 1.5\"/>\n     <use xlink:href=\"#m27b1108822\" x=\"110.396699\" y=\"51.675655\" style=\"fill: #dd8452; fill-opacity: 0.5; stroke: #dd8452; stroke-opacity: 0.5; stroke-width: 1.5\"/>\n     <use xlink:href=\"#m27b1108822\" x=\"359.662802\" y=\"269.203879\" style=\"fill: #dd8452; fill-opacity: 0.5; stroke: #dd8452; stroke-opacity: 0.5; stroke-width: 1.5\"/>\n     <use xlink:href=\"#m27b1108822\" x=\"171.597309\" y=\"269.324552\" style=\"fill: #dd8452; fill-opacity: 0.5; stroke: #dd8452; stroke-opacity: 0.5; stroke-width: 1.5\"/>\n     <use xlink:href=\"#m27b1108822\" x=\"77.031811\" y=\"61.419821\" style=\"fill: #dd8452; fill-opacity: 0.5; stroke: #dd8452; stroke-opacity: 0.5; stroke-width: 1.5\"/>\n     <use xlink:href=\"#m27b1108822\" x=\"171.927356\" y=\"269.797771\" style=\"fill: #dd8452; fill-opacity: 0.5; stroke: #dd8452; stroke-opacity: 0.5; stroke-width: 1.5\"/>\n     <use xlink:href=\"#m27b1108822\" x=\"318.688532\" y=\"201.190986\" style=\"fill: #dd8452; fill-opacity: 0.5; stroke: #dd8452; stroke-opacity: 0.5; stroke-width: 1.5\"/>\n     <use xlink:href=\"#m27b1108822\" x=\"262.929671\" y=\"34.615425\" style=\"fill: #dd8452; fill-opacity: 0.5; stroke: #dd8452; stroke-opacity: 0.5; stroke-width: 1.5\"/>\n     <use xlink:href=\"#m27b1108822\" x=\"304.527605\" y=\"139.127754\" style=\"fill: #dd8452; fill-opacity: 0.5; stroke: #dd8452; stroke-opacity: 0.5; stroke-width: 1.5\"/>\n     <use xlink:href=\"#m27b1108822\" x=\"318.421781\" y=\"200.086536\" style=\"fill: #dd8452; fill-opacity: 0.5; stroke: #dd8452; stroke-opacity: 0.5; stroke-width: 1.5\"/>\n     <use xlink:href=\"#m27b1108822\" x=\"129.576474\" y=\"117.52183\" style=\"fill: #dd8452; fill-opacity: 0.5; stroke: #dd8452; stroke-opacity: 0.5; stroke-width: 1.5\"/>\n     <use xlink:href=\"#m27b1108822\" x=\"360.674899\" y=\"267.634048\" style=\"fill: #dd8452; fill-opacity: 0.5; stroke: #dd8452; stroke-opacity: 0.5; stroke-width: 1.5\"/>\n     <use xlink:href=\"#m27b1108822\" x=\"202.959761\" y=\"236.921509\" style=\"fill: #dd8452; fill-opacity: 0.5; stroke: #dd8452; stroke-opacity: 0.5; stroke-width: 1.5\"/>\n     <use xlink:href=\"#m27b1108822\" x=\"268.223132\" y=\"34.604509\" style=\"fill: #dd8452; fill-opacity: 0.5; stroke: #dd8452; stroke-opacity: 0.5; stroke-width: 1.5\"/>\n     <use xlink:href=\"#m27b1108822\" x=\"61.514\" y=\"117.989245\" style=\"fill: #dd8452; fill-opacity: 0.5; stroke: #dd8452; stroke-opacity: 0.5; stroke-width: 1.5\"/>\n     <use xlink:href=\"#m27b1108822\" x=\"383.266044\" y=\"197.915587\" style=\"fill: #dd8452; fill-opacity: 0.5; stroke: #dd8452; stroke-opacity: 0.5; stroke-width: 1.5\"/>\n     <use xlink:href=\"#m27b1108822\" x=\"151.958735\" y=\"214.289623\" style=\"fill: #dd8452; fill-opacity: 0.5; stroke: #dd8452; stroke-opacity: 0.5; stroke-width: 1.5\"/>\n    </g>\n   </g>\n   <g id=\"line2d_19\">\n    <path d=\"M 60.764446 121.193619 \nL 64.98918 103.542134 \nL 68.563955 89.567782 \nL 71.48877 78.972199 \nL 74.088607 70.29543 \nL 76.688443 62.400185 \nL 78.963299 56.1904 \nL 80.913177 51.421849 \nL 82.863054 47.191047 \nL 84.812931 43.51996 \nL 86.437828 40.902123 \nL 88.062726 38.695708 \nL 89.687624 36.908672 \nL 90.987542 35.785377 \nL 92.28746 34.93723 \nL 93.587378 34.36619 \nL 94.887296 34.073575 \nL 96.187214 34.060059 \nL 97.487132 34.325675 \nL 98.78705 34.869808 \nL 100.086969 35.691203 \nL 101.386887 36.787965 \nL 102.686805 38.157561 \nL 104.311702 40.248354 \nL 105.9366 42.752927 \nL 107.561498 45.662247 \nL 109.511375 49.672825 \nL 111.461252 54.230234 \nL 113.736109 60.206622 \nL 116.010965 66.85276 \nL 118.610801 75.207999 \nL 121.210638 84.299432 \nL 124.135453 95.302583 \nL 127.710228 109.683724 \nL 131.934962 127.677481 \nL 138.434552 156.49932 \nL 145.909082 189.434506 \nL 150.133815 207.048673 \nL 153.70859 220.979858 \nL 156.633406 231.53277 \nL 159.233242 240.166479 \nL 161.833078 248.014252 \nL 164.107935 254.17922 \nL 166.057812 258.907173 \nL 168.007689 263.095584 \nL 169.957566 266.722705 \nL 171.582464 269.302866 \nL 173.207362 271.470807 \nL 174.832259 273.21871 \nL 176.132177 274.310318 \nL 177.432095 275.126517 \nL 178.732014 275.665426 \nL 180.031932 275.925799 \nL 181.33185 275.907035 \nL 182.631768 275.609179 \nL 183.931686 275.032917 \nL 185.231604 274.179579 \nL 186.531522 273.051136 \nL 187.83144 271.650191 \nL 189.456338 269.520792 \nL 191.081236 266.978385 \nL 192.706133 264.032141 \nL 194.65601 259.978642 \nL 196.605887 255.380037 \nL 198.880744 249.358049 \nL 201.155601 242.669273 \nL 203.755437 234.269312 \nL 206.680253 223.949086 \nL 209.930048 211.543425 \nL 213.504823 196.963127 \nL 218.054536 177.382992 \nL 234.628492 104.960231 \nL 238.203267 90.88718 \nL 241.128082 80.193644 \nL 243.727919 71.417794 \nL 246.327755 63.413111 \nL 248.602611 57.099864 \nL 250.877468 51.478319 \nL 252.827345 47.240637 \nL 254.777222 43.562413 \nL 256.40212 40.938459 \nL 258.027018 38.725795 \nL 259.651915 36.932401 \nL 260.951833 35.803958 \nL 262.251752 34.950621 \nL 263.55167 34.374358 \nL 264.851588 34.076502 \nL 266.151506 34.057739 \nL 267.451424 34.318112 \nL 268.751342 34.85702 \nL 270.05126 35.67322 \nL 271.351178 36.764828 \nL 272.651096 38.129323 \nL 274.275994 40.213834 \nL 275.900892 42.712248 \nL 277.525789 45.615557 \nL 279.475666 49.619145 \nL 281.425543 54.169843 \nL 283.375421 59.244022 \nL 285.650277 65.790226 \nL 288.250114 74.040488 \nL 290.84995 83.037717 \nL 293.774765 93.948843 \nL 297.34954 108.239068 \nL 301.574274 126.157946 \nL 307.748885 153.484218 \nL 315.873373 189.329784 \nL 320.098107 206.950055 \nL 323.672882 220.888287 \nL 326.597697 231.448158 \nL 329.197534 240.088886 \nL 331.79737 247.944393 \nL 334.072227 254.11666 \nL 336.022104 258.851224 \nL 337.971981 263.046535 \nL 339.921858 266.680812 \nL 341.546756 269.267103 \nL 343.171653 271.441304 \nL 344.796551 273.195573 \nL 346.096469 274.292334 \nL 347.396387 275.113729 \nL 348.696305 275.657863 \nL 349.996223 275.923478 \nL 351.296141 275.909963 \nL 352.596059 275.617347 \nL 353.895978 275.046307 \nL 355.195896 274.198161 \nL 356.495814 273.074866 \nL 357.795732 271.679015 \nL 359.420629 269.555887 \nL 361.045527 267.019626 \nL 362.670425 264.079379 \nL 364.620302 260.032849 \nL 366.570179 255.440932 \nL 368.845036 249.426345 \nL 371.119892 242.744487 \nL 373.719729 234.351779 \nL 376.644544 224.0388 \nL 379.89434 211.639959 \nL 383.469114 197.065553 \nL 385.418991 188.789919 \nL 385.418991 188.789919 \n\" clip-path=\"url(#p8005a02ed2)\" style=\"fill: none; stroke: #4c72b0; stroke-width: 3; stroke-linecap: round\"/>\n   </g>\n   <g id=\"patch_3\">\n    <path d=\"M 44.531719 288.047625 \nL 44.531719 21.935625 \n\" style=\"fill: none; stroke: #ffffff; stroke-width: 1.25; stroke-linejoin: miter; stroke-linecap: square\"/>\n   </g>\n   <g id=\"patch_4\">\n    <path d=\"M 401.651719 288.047625 \nL 401.651719 21.935625 \n\" style=\"fill: none; stroke: #ffffff; stroke-width: 1.25; stroke-linejoin: miter; stroke-linecap: square\"/>\n   </g>\n   <g id=\"patch_5\">\n    <path d=\"M 44.531719 288.047625 \nL 401.651719 288.047625 \n\" style=\"fill: none; stroke: #ffffff; stroke-width: 1.25; stroke-linejoin: miter; stroke-linecap: square\"/>\n   </g>\n   <g id=\"patch_6\">\n    <path d=\"M 44.531719 21.935625 \nL 401.651719 21.935625 \n\" style=\"fill: none; stroke: #ffffff; stroke-width: 1.25; stroke-linejoin: miter; stroke-linecap: square\"/>\n   </g>\n   <g id=\"text_19\">\n    <!-- Regression function -->\n    <g style=\"fill: #262626\" transform=\"translate(170.064844 15.935625)scale(0.12 -0.12)\">\n     <defs>\n      <path id=\"ArialMT-52\" d=\"M 503 0 \nL 503 4581 \nL 2534 4581 \nQ 3147 4581 3465 4457 \nQ 3784 4334 3975 4021 \nQ 4166 3709 4166 3331 \nQ 4166 2844 3850 2509 \nQ 3534 2175 2875 2084 \nQ 3116 1969 3241 1856 \nQ 3506 1613 3744 1247 \nL 4541 0 \nL 3778 0 \nL 3172 953 \nQ 2906 1366 2734 1584 \nQ 2563 1803 2427 1890 \nQ 2291 1978 2150 2013 \nQ 2047 2034 1813 2034 \nL 1109 2034 \nL 1109 0 \nL 503 0 \nz\nM 1109 2559 \nL 2413 2559 \nQ 2828 2559 3062 2645 \nQ 3297 2731 3419 2920 \nQ 3541 3109 3541 3331 \nQ 3541 3656 3305 3865 \nQ 3069 4075 2559 4075 \nL 1109 4075 \nL 1109 2559 \nz\n\" transform=\"scale(0.015625)\"/>\n      <path id=\"ArialMT-65\" d=\"M 2694 1069 \nL 3275 997 \nQ 3138 488 2766 206 \nQ 2394 -75 1816 -75 \nQ 1088 -75 661 373 \nQ 234 822 234 1631 \nQ 234 2469 665 2931 \nQ 1097 3394 1784 3394 \nQ 2450 3394 2872 2941 \nQ 3294 2488 3294 1666 \nQ 3294 1616 3291 1516 \nL 816 1516 \nQ 847 969 1125 678 \nQ 1403 388 1819 388 \nQ 2128 388 2347 550 \nQ 2566 713 2694 1069 \nz\nM 847 1978 \nL 2700 1978 \nQ 2663 2397 2488 2606 \nQ 2219 2931 1791 2931 \nQ 1403 2931 1139 2672 \nQ 875 2413 847 1978 \nz\n\" transform=\"scale(0.015625)\"/>\n      <path id=\"ArialMT-67\" d=\"M 319 -275 \nL 866 -356 \nQ 900 -609 1056 -725 \nQ 1266 -881 1628 -881 \nQ 2019 -881 2231 -725 \nQ 2444 -569 2519 -288 \nQ 2563 -116 2559 434 \nQ 2191 0 1641 0 \nQ 956 0 581 494 \nQ 206 988 206 1678 \nQ 206 2153 378 2554 \nQ 550 2956 876 3175 \nQ 1203 3394 1644 3394 \nQ 2231 3394 2613 2919 \nL 2613 3319 \nL 3131 3319 \nL 3131 450 \nQ 3131 -325 2973 -648 \nQ 2816 -972 2473 -1159 \nQ 2131 -1347 1631 -1347 \nQ 1038 -1347 672 -1080 \nQ 306 -813 319 -275 \nz\nM 784 1719 \nQ 784 1066 1043 766 \nQ 1303 466 1694 466 \nQ 2081 466 2343 764 \nQ 2606 1063 2606 1700 \nQ 2606 2309 2336 2618 \nQ 2066 2928 1684 2928 \nQ 1309 2928 1046 2623 \nQ 784 2319 784 1719 \nz\n\" transform=\"scale(0.015625)\"/>\n      <path id=\"ArialMT-72\" d=\"M 416 0 \nL 416 3319 \nL 922 3319 \nL 922 2816 \nQ 1116 3169 1280 3281 \nQ 1444 3394 1641 3394 \nQ 1925 3394 2219 3213 \nL 2025 2691 \nQ 1819 2813 1613 2813 \nQ 1428 2813 1281 2702 \nQ 1134 2591 1072 2394 \nQ 978 2094 978 1738 \nL 978 0 \nL 416 0 \nz\n\" transform=\"scale(0.015625)\"/>\n      <path id=\"ArialMT-73\" d=\"M 197 991 \nL 753 1078 \nQ 800 744 1014 566 \nQ 1228 388 1613 388 \nQ 2000 388 2187 545 \nQ 2375 703 2375 916 \nQ 2375 1106 2209 1216 \nQ 2094 1291 1634 1406 \nQ 1016 1563 777 1677 \nQ 538 1791 414 1992 \nQ 291 2194 291 2438 \nQ 291 2659 392 2848 \nQ 494 3038 669 3163 \nQ 800 3259 1026 3326 \nQ 1253 3394 1513 3394 \nQ 1903 3394 2198 3281 \nQ 2494 3169 2634 2976 \nQ 2775 2784 2828 2463 \nL 2278 2388 \nQ 2241 2644 2061 2787 \nQ 1881 2931 1553 2931 \nQ 1166 2931 1000 2803 \nQ 834 2675 834 2503 \nQ 834 2394 903 2306 \nQ 972 2216 1119 2156 \nQ 1203 2125 1616 2013 \nQ 2213 1853 2448 1751 \nQ 2684 1650 2818 1456 \nQ 2953 1263 2953 975 \nQ 2953 694 2789 445 \nQ 2625 197 2315 61 \nQ 2006 -75 1616 -75 \nQ 969 -75 630 194 \nQ 291 463 197 991 \nz\n\" transform=\"scale(0.015625)\"/>\n      <path id=\"ArialMT-69\" d=\"M 425 3934 \nL 425 4581 \nL 988 4581 \nL 988 3934 \nL 425 3934 \nz\nM 425 0 \nL 425 3319 \nL 988 3319 \nL 988 0 \nL 425 0 \nz\n\" transform=\"scale(0.015625)\"/>\n      <path id=\"ArialMT-6f\" d=\"M 213 1659 \nQ 213 2581 725 3025 \nQ 1153 3394 1769 3394 \nQ 2453 3394 2887 2945 \nQ 3322 2497 3322 1706 \nQ 3322 1066 3130 698 \nQ 2938 331 2570 128 \nQ 2203 -75 1769 -75 \nQ 1072 -75 642 372 \nQ 213 819 213 1659 \nz\nM 791 1659 \nQ 791 1022 1069 705 \nQ 1347 388 1769 388 \nQ 2188 388 2466 706 \nQ 2744 1025 2744 1678 \nQ 2744 2294 2464 2611 \nQ 2184 2928 1769 2928 \nQ 1347 2928 1069 2612 \nQ 791 2297 791 1659 \nz\n\" transform=\"scale(0.015625)\"/>\n      <path id=\"ArialMT-6e\" d=\"M 422 0 \nL 422 3319 \nL 928 3319 \nL 928 2847 \nQ 1294 3394 1984 3394 \nQ 2284 3394 2536 3286 \nQ 2788 3178 2913 3003 \nQ 3038 2828 3088 2588 \nQ 3119 2431 3119 2041 \nL 3119 0 \nL 2556 0 \nL 2556 2019 \nQ 2556 2363 2490 2533 \nQ 2425 2703 2258 2804 \nQ 2091 2906 1866 2906 \nQ 1506 2906 1245 2678 \nQ 984 2450 984 1813 \nL 984 0 \nL 422 0 \nz\n\" transform=\"scale(0.015625)\"/>\n      <path id=\"ArialMT-20\" transform=\"scale(0.015625)\"/>\n      <path id=\"ArialMT-66\" d=\"M 556 0 \nL 556 2881 \nL 59 2881 \nL 59 3319 \nL 556 3319 \nL 556 3672 \nQ 556 4006 616 4169 \nQ 697 4388 901 4523 \nQ 1106 4659 1475 4659 \nQ 1713 4659 2000 4603 \nL 1916 4113 \nQ 1741 4144 1584 4144 \nQ 1328 4144 1222 4034 \nQ 1116 3925 1116 3625 \nL 1116 3319 \nL 1763 3319 \nL 1763 2881 \nL 1116 2881 \nL 1116 0 \nL 556 0 \nz\n\" transform=\"scale(0.015625)\"/>\n      <path id=\"ArialMT-75\" d=\"M 2597 0 \nL 2597 488 \nQ 2209 -75 1544 -75 \nQ 1250 -75 995 37 \nQ 741 150 617 320 \nQ 494 491 444 738 \nQ 409 903 409 1263 \nL 409 3319 \nL 972 3319 \nL 972 1478 \nQ 972 1038 1006 884 \nQ 1059 663 1231 536 \nQ 1403 409 1656 409 \nQ 1909 409 2131 539 \nQ 2353 669 2445 892 \nQ 2538 1116 2538 1541 \nL 2538 3319 \nL 3100 3319 \nL 3100 0 \nL 2597 0 \nz\n\" transform=\"scale(0.015625)\"/>\n      <path id=\"ArialMT-63\" d=\"M 2588 1216 \nL 3141 1144 \nQ 3050 572 2676 248 \nQ 2303 -75 1759 -75 \nQ 1078 -75 664 370 \nQ 250 816 250 1647 \nQ 250 2184 428 2587 \nQ 606 2991 970 3192 \nQ 1334 3394 1763 3394 \nQ 2303 3394 2647 3120 \nQ 2991 2847 3088 2344 \nL 2541 2259 \nQ 2463 2594 2264 2762 \nQ 2066 2931 1784 2931 \nQ 1359 2931 1093 2626 \nQ 828 2322 828 1663 \nQ 828 994 1084 691 \nQ 1341 388 1753 388 \nQ 2084 388 2306 591 \nQ 2528 794 2588 1216 \nz\n\" transform=\"scale(0.015625)\"/>\n      <path id=\"ArialMT-74\" d=\"M 1650 503 \nL 1731 6 \nQ 1494 -44 1306 -44 \nQ 1000 -44 831 53 \nQ 663 150 594 308 \nQ 525 466 525 972 \nL 525 2881 \nL 113 2881 \nL 113 3319 \nL 525 3319 \nL 525 4141 \nL 1084 4478 \nL 1084 3319 \nL 1650 3319 \nL 1650 2881 \nL 1084 2881 \nL 1084 941 \nQ 1084 700 1114 631 \nQ 1144 563 1211 522 \nQ 1278 481 1403 481 \nQ 1497 481 1650 503 \nz\n\" transform=\"scale(0.015625)\"/>\n     </defs>\n     <use xlink:href=\"#ArialMT-52\"/>\n     <use xlink:href=\"#ArialMT-65\" x=\"72.216797\"/>\n     <use xlink:href=\"#ArialMT-67\" x=\"127.832031\"/>\n     <use xlink:href=\"#ArialMT-72\" x=\"183.447266\"/>\n     <use xlink:href=\"#ArialMT-65\" x=\"216.748047\"/>\n     <use xlink:href=\"#ArialMT-73\" x=\"272.363281\"/>\n     <use xlink:href=\"#ArialMT-73\" x=\"322.363281\"/>\n     <use xlink:href=\"#ArialMT-69\" x=\"372.363281\"/>\n     <use xlink:href=\"#ArialMT-6f\" x=\"394.580078\"/>\n     <use xlink:href=\"#ArialMT-6e\" x=\"450.195312\"/>\n     <use xlink:href=\"#ArialMT-20\" x=\"505.810547\"/>\n     <use xlink:href=\"#ArialMT-66\" x=\"533.59375\"/>\n     <use xlink:href=\"#ArialMT-75\" x=\"561.376953\"/>\n     <use xlink:href=\"#ArialMT-6e\" x=\"616.992188\"/>\n     <use xlink:href=\"#ArialMT-63\" x=\"672.607422\"/>\n     <use xlink:href=\"#ArialMT-74\" x=\"722.607422\"/>\n     <use xlink:href=\"#ArialMT-69\" x=\"750.390625\"/>\n     <use xlink:href=\"#ArialMT-6f\" x=\"772.607422\"/>\n     <use xlink:href=\"#ArialMT-6e\" x=\"828.222656\"/>\n    </g>\n   </g>\n   <g id=\"legend_1\">\n    <g id=\"patch_7\">\n     <path d=\"M 248.700156 172.265922 \nL 393.951719 172.265922 \nQ 396.151719 172.265922 396.151719 170.065922 \nL 396.151719 139.917328 \nQ 396.151719 137.717328 393.951719 137.717328 \nL 248.700156 137.717328 \nQ 246.500156 137.717328 246.500156 139.917328 \nL 246.500156 170.065922 \nQ 246.500156 172.265922 248.700156 172.265922 \nz\n\" style=\"fill: #eaeaf2; opacity: 0.8; stroke: #cccccc; stroke-linejoin: miter\"/>\n    </g>\n    <g id=\"PathCollection_2\">\n     <g>\n      <use xlink:href=\"#m27b1108822\" x=\"261.900156\" y=\"147.103422\" style=\"fill: #dd8452; fill-opacity: 0.5; stroke: #dd8452; stroke-opacity: 0.5; stroke-width: 1.5\"/>\n     </g>\n    </g>\n    <g id=\"text_20\">\n     <!-- Training set -->\n     <g style=\"fill: #262626\" transform=\"translate(281.700156 149.990922)scale(0.11 -0.11)\">\n      <defs>\n       <path id=\"ArialMT-54\" d=\"M 1659 0 \nL 1659 4041 \nL 150 4041 \nL 150 4581 \nL 3781 4581 \nL 3781 4041 \nL 2266 4041 \nL 2266 0 \nL 1659 0 \nz\n\" transform=\"scale(0.015625)\"/>\n       <path id=\"ArialMT-61\" d=\"M 2588 409 \nQ 2275 144 1986 34 \nQ 1697 -75 1366 -75 \nQ 819 -75 525 192 \nQ 231 459 231 875 \nQ 231 1119 342 1320 \nQ 453 1522 633 1644 \nQ 813 1766 1038 1828 \nQ 1203 1872 1538 1913 \nQ 2219 1994 2541 2106 \nQ 2544 2222 2544 2253 \nQ 2544 2597 2384 2738 \nQ 2169 2928 1744 2928 \nQ 1347 2928 1158 2789 \nQ 969 2650 878 2297 \nL 328 2372 \nQ 403 2725 575 2942 \nQ 747 3159 1072 3276 \nQ 1397 3394 1825 3394 \nQ 2250 3394 2515 3294 \nQ 2781 3194 2906 3042 \nQ 3031 2891 3081 2659 \nQ 3109 2516 3109 2141 \nL 3109 1391 \nQ 3109 606 3145 398 \nQ 3181 191 3288 0 \nL 2700 0 \nQ 2613 175 2588 409 \nz\nM 2541 1666 \nQ 2234 1541 1622 1453 \nQ 1275 1403 1131 1340 \nQ 988 1278 909 1158 \nQ 831 1038 831 891 \nQ 831 666 1001 516 \nQ 1172 366 1500 366 \nQ 1825 366 2078 508 \nQ 2331 650 2450 897 \nQ 2541 1088 2541 1459 \nL 2541 1666 \nz\n\" transform=\"scale(0.015625)\"/>\n      </defs>\n      <use xlink:href=\"#ArialMT-54\"/>\n      <use xlink:href=\"#ArialMT-72\" x=\"57.333984\"/>\n      <use xlink:href=\"#ArialMT-61\" x=\"90.634766\"/>\n      <use xlink:href=\"#ArialMT-69\" x=\"146.25\"/>\n      <use xlink:href=\"#ArialMT-6e\" x=\"168.466797\"/>\n      <use xlink:href=\"#ArialMT-69\" x=\"224.082031\"/>\n      <use xlink:href=\"#ArialMT-6e\" x=\"246.298828\"/>\n      <use xlink:href=\"#ArialMT-67\" x=\"301.914062\"/>\n      <use xlink:href=\"#ArialMT-20\" x=\"357.529297\"/>\n      <use xlink:href=\"#ArialMT-73\" x=\"385.3125\"/>\n      <use xlink:href=\"#ArialMT-65\" x=\"435.3125\"/>\n      <use xlink:href=\"#ArialMT-74\" x=\"490.927734\"/>\n     </g>\n    </g>\n    <g id=\"line2d_20\">\n     <path d=\"M 250.900156 161.829672 \nL 261.900156 161.829672 \nL 272.900156 161.829672 \n\" style=\"fill: none; stroke: #4c72b0; stroke-width: 3; stroke-linecap: round\"/>\n    </g>\n    <g id=\"text_21\">\n     <!-- Ground Truth Function -->\n     <g style=\"fill: #262626\" transform=\"translate(281.700156 165.679672)scale(0.11 -0.11)\">\n      <defs>\n       <path id=\"ArialMT-47\" d=\"M 2638 1797 \nL 2638 2334 \nL 4578 2338 \nL 4578 638 \nQ 4131 281 3656 101 \nQ 3181 -78 2681 -78 \nQ 2006 -78 1454 211 \nQ 903 500 622 1047 \nQ 341 1594 341 2269 \nQ 341 2938 620 3517 \nQ 900 4097 1425 4378 \nQ 1950 4659 2634 4659 \nQ 3131 4659 3532 4498 \nQ 3934 4338 4162 4050 \nQ 4391 3763 4509 3300 \nL 3963 3150 \nQ 3859 3500 3706 3700 \nQ 3553 3900 3268 4020 \nQ 2984 4141 2638 4141 \nQ 2222 4141 1919 4014 \nQ 1616 3888 1430 3681 \nQ 1244 3475 1141 3228 \nQ 966 2803 966 2306 \nQ 966 1694 1177 1281 \nQ 1388 869 1791 669 \nQ 2194 469 2647 469 \nQ 3041 469 3416 620 \nQ 3791 772 3984 944 \nL 3984 1797 \nL 2638 1797 \nz\n\" transform=\"scale(0.015625)\"/>\n       <path id=\"ArialMT-64\" d=\"M 2575 0 \nL 2575 419 \nQ 2259 -75 1647 -75 \nQ 1250 -75 917 144 \nQ 584 363 401 755 \nQ 219 1147 219 1656 \nQ 219 2153 384 2558 \nQ 550 2963 881 3178 \nQ 1213 3394 1622 3394 \nQ 1922 3394 2156 3267 \nQ 2391 3141 2538 2938 \nL 2538 4581 \nL 3097 4581 \nL 3097 0 \nL 2575 0 \nz\nM 797 1656 \nQ 797 1019 1065 703 \nQ 1334 388 1700 388 \nQ 2069 388 2326 689 \nQ 2584 991 2584 1609 \nQ 2584 2291 2321 2609 \nQ 2059 2928 1675 2928 \nQ 1300 2928 1048 2622 \nQ 797 2316 797 1656 \nz\n\" transform=\"scale(0.015625)\"/>\n       <path id=\"ArialMT-68\" d=\"M 422 0 \nL 422 4581 \nL 984 4581 \nL 984 2938 \nQ 1378 3394 1978 3394 \nQ 2347 3394 2619 3248 \nQ 2891 3103 3008 2847 \nQ 3125 2591 3125 2103 \nL 3125 0 \nL 2563 0 \nL 2563 2103 \nQ 2563 2525 2380 2717 \nQ 2197 2909 1863 2909 \nQ 1613 2909 1392 2779 \nQ 1172 2650 1078 2428 \nQ 984 2206 984 1816 \nL 984 0 \nL 422 0 \nz\n\" transform=\"scale(0.015625)\"/>\n       <path id=\"ArialMT-46\" d=\"M 525 0 \nL 525 4581 \nL 3616 4581 \nL 3616 4041 \nL 1131 4041 \nL 1131 2622 \nL 3281 2622 \nL 3281 2081 \nL 1131 2081 \nL 1131 0 \nL 525 0 \nz\n\" transform=\"scale(0.015625)\"/>\n      </defs>\n      <use xlink:href=\"#ArialMT-47\"/>\n      <use xlink:href=\"#ArialMT-72\" x=\"77.783203\"/>\n      <use xlink:href=\"#ArialMT-6f\" x=\"111.083984\"/>\n      <use xlink:href=\"#ArialMT-75\" x=\"166.699219\"/>\n      <use xlink:href=\"#ArialMT-6e\" x=\"222.314453\"/>\n      <use xlink:href=\"#ArialMT-64\" x=\"277.929688\"/>\n      <use xlink:href=\"#ArialMT-20\" x=\"333.544922\"/>\n      <use xlink:href=\"#ArialMT-54\" x=\"359.578125\"/>\n      <use xlink:href=\"#ArialMT-72\" x=\"416.912109\"/>\n      <use xlink:href=\"#ArialMT-75\" x=\"450.212891\"/>\n      <use xlink:href=\"#ArialMT-74\" x=\"505.828125\"/>\n      <use xlink:href=\"#ArialMT-68\" x=\"533.611328\"/>\n      <use xlink:href=\"#ArialMT-20\" x=\"589.226562\"/>\n      <use xlink:href=\"#ArialMT-46\" x=\"617.009766\"/>\n      <use xlink:href=\"#ArialMT-75\" x=\"678.09375\"/>\n      <use xlink:href=\"#ArialMT-6e\" x=\"733.708984\"/>\n      <use xlink:href=\"#ArialMT-63\" x=\"789.324219\"/>\n      <use xlink:href=\"#ArialMT-74\" x=\"839.324219\"/>\n      <use xlink:href=\"#ArialMT-69\" x=\"867.107422\"/>\n      <use xlink:href=\"#ArialMT-6f\" x=\"889.324219\"/>\n      <use xlink:href=\"#ArialMT-6e\" x=\"944.939453\"/>\n     </g>\n    </g>\n   </g>\n  </g>\n </g>\n <defs>\n  <clipPath id=\"p8005a02ed2\">\n   <rect x=\"44.531719\" y=\"21.935625\" width=\"357.12\" height=\"266.112\"/>\n  </clipPath>\n </defs>\n</svg>\n",
            "text/plain": [
              "<Figure size 640x480 with 1 Axes>"
            ]
          },
          "metadata": {},
          "output_type": "display_data"
        }
      ],
      "source": [
        "train_set = RegressionDataset(num_points=1000, seed=42)\n",
        "val_set = RegressionDataset(num_points=200, seed=43)\n",
        "test_set = RegressionDataset(num_points=500, seed=44)\n",
        "train_loader, val_loader, test_loader = create_data_loaders(train_set, val_set, test_set,\n",
        "                                                            train=[False, False, False],\n",
        "                                                            batch_size=64,num_workers=0)\n",
        "\n",
        "x = np.linspace(-2, 2, 1000)\n",
        "plt.scatter(train_set.x, train_set.y, color='C1', marker='x', alpha=0.5, label='Training set')\n",
        "plt.plot(x, target_function(x), linewidth=3.0, label='Ground Truth Function')\n",
        "plt.legend()\n",
        "plt.title('Regression function')\n",
        "plt.show()"
      ]
    },
    {
      "cell_type": "markdown",
      "id": "07abb34a",
      "metadata": {
        "id": "07abb34a"
      },
      "source": [
        "Note that even with PyTorch Lightning, we would have needed the similar setup here."
      ]
    },
    {
      "cell_type": "markdown",
      "id": "04dc5354",
      "metadata": {
        "id": "04dc5354"
      },
      "source": [
        "### Model\n",
        "\n",
        "The Trainer module does not restrict us to any specific model, so let's implement our own MLP class for regression:"
      ]
    },
    {
      "cell_type": "code",
      "execution_count": 18,
      "id": "f309da60",
      "metadata": {
        "id": "f309da60"
      },
      "outputs": [],
      "source": [
        "class MLPRegressor(nn.Module):\n",
        "    hidden_dims : Sequence[int]\n",
        "    output_dim : int\n",
        "        \n",
        "    @nn.compact\n",
        "    def __call__(self, x, **kwargs):\n",
        "        for dims in self.hidden_dims:\n",
        "            x = nn.Dense(dims)(x)\n",
        "            x = nn.silu(x)\n",
        "        x = nn.Dense(self.output_dim)(x)\n",
        "        return x"
      ]
    },
    {
      "cell_type": "markdown",
      "id": "76819164",
      "metadata": {
        "id": "76819164"
      },
      "source": [
        "### Trainer\n",
        "\n",
        "Now comes the interesting part. Using the `TrainerModule`, we only need to overwrite the aspects that are needed: the training and validation step. For the regression task and the small model, this reduces to writing the mean-squared error loss. Note that we still have some minor repetitive code here, such as creating the gradient function with `jax.value_and_grad` in the training step and applying the update with `state.apply_gradients`. One could reduce this further by restricting possible loss functions, but to keep flexibility high, we implement the whole training step here."
      ]
    },
    {
      "cell_type": "code",
      "execution_count": 19,
      "id": "233673a6",
      "metadata": {
        "id": "233673a6"
      },
      "outputs": [],
      "source": [
        "class MLPRegressTrainer(TrainerModule):\n",
        "    \n",
        "    def __init__(self,\n",
        "                 hidden_dims : Sequence[int],\n",
        "                 output_dim : int,\n",
        "                 **kwargs):\n",
        "        super().__init__(model_class=MLPRegressor,\n",
        "                         model_hparams={\n",
        "                             'hidden_dims': hidden_dims,\n",
        "                             'output_dim': output_dim\n",
        "                         },\n",
        "                         **kwargs)\n",
        "    \n",
        "    def create_functions(self):\n",
        "        def mse_loss(params, batch):\n",
        "            x, y = batch\n",
        "            pred = self.model.apply({'params': params}, x)\n",
        "            loss = ((pred - y) ** 2).mean()\n",
        "            return loss\n",
        "        \n",
        "        def train_step(state, batch):\n",
        "            loss_fn = lambda params: mse_loss(params, batch)\n",
        "            loss, grads = jax.value_and_grad(loss_fn)(state.params)\n",
        "            state = state.apply_gradients(grads=grads)\n",
        "            metrics = {'loss': loss}\n",
        "            return state, metrics\n",
        "        \n",
        "        def eval_step(state, batch):\n",
        "            loss = mse_loss(state.params, batch)\n",
        "            return {'loss': loss}\n",
        "        \n",
        "        return train_step, eval_step"
      ]
    },
    {
      "cell_type": "markdown",
      "id": "eb14ea13",
      "metadata": {
        "id": "eb14ea13"
      },
      "source": [
        "And that's already it! This now looks much more like the minimal code of PyTorch Lightning and automatically logs our metrics as we want."
      ]
    },
    {
      "cell_type": "markdown",
      "id": "5707e1bc",
      "metadata": {
        "id": "5707e1bc"
      },
      "source": [
        "### Training\n",
        "\n",
        "To train the model, we simply specify our hyperparameters and create a Trainer module:"
      ]
    },
    {
      "cell_type": "code",
      "execution_count": 20,
      "id": "6a5e6914",
      "metadata": {
        "id": "6a5e6914",
        "outputId": "7f0bb82d-5a0c-4f43-9e0d-03507efc4cb9"
      },
      "outputs": [
        {
          "name": "stdout",
          "output_type": "stream",
          "text": [
            "\n",
            "\u001b[3m                              MLPRegressor Summary                              \u001b[0m\n",
            "┏━━━━━━━━━┳━━━━━━━━━━━━━━┳━━━━━━━━━━━━━━━━━┳━━━━━━━━━━━━━━━━━┳━━━━━━━━━━━━━━━━━┓\n",
            "┃\u001b[1m \u001b[0m\u001b[1mpath   \u001b[0m\u001b[1m \u001b[0m┃\u001b[1m \u001b[0m\u001b[1mmodule      \u001b[0m\u001b[1m \u001b[0m┃\u001b[1m \u001b[0m\u001b[1minputs         \u001b[0m\u001b[1m \u001b[0m┃\u001b[1m \u001b[0m\u001b[1moutputs        \u001b[0m\u001b[1m \u001b[0m┃\u001b[1m \u001b[0m\u001b[1mparams         \u001b[0m\u001b[1m \u001b[0m┃\n",
            "┡━━━━━━━━━╇━━━━━━━━━━━━━━╇━━━━━━━━━━━━━━━━━╇━━━━━━━━━━━━━━━━━╇━━━━━━━━━━━━━━━━━┩\n",
            "│         │ MLPRegressor │ - \u001b[2mfloat32\u001b[0m[64,1] │ \u001b[2mfloat32\u001b[0m[64,1]   │                 │\n",
            "│         │              │ - train: True   │                 │                 │\n",
            "├─────────┼──────────────┼─────────────────┼─────────────────┼─────────────────┤\n",
            "│ Dense_0 │ Dense        │ \u001b[2mfloat32\u001b[0m[64,1]   │ \u001b[2mfloat32\u001b[0m[64,128] │ bias:           │\n",
            "│         │              │                 │                 │ \u001b[2mfloat32\u001b[0m[128]    │\n",
            "│         │              │                 │                 │ kernel:         │\n",
            "│         │              │                 │                 │ \u001b[2mfloat32\u001b[0m[1,128]  │\n",
            "│         │              │                 │                 │                 │\n",
            "│         │              │                 │                 │ \u001b[1m256 \u001b[0m\u001b[1;2m(1.0 KB)\u001b[0m    │\n",
            "├─────────┼──────────────┼─────────────────┼─────────────────┼─────────────────┤\n",
            "│ Dense_1 │ Dense        │ \u001b[2mfloat32\u001b[0m[64,128] │ \u001b[2mfloat32\u001b[0m[64,128] │ bias:           │\n",
            "│         │              │                 │                 │ \u001b[2mfloat32\u001b[0m[128]    │\n",
            "│         │              │                 │                 │ kernel:         │\n",
            "│         │              │                 │                 │ \u001b[2mfloat32\u001b[0m[128,12… │\n",
            "│         │              │                 │                 │                 │\n",
            "│         │              │                 │                 │ \u001b[1m16,512 \u001b[0m\u001b[1;2m(66.0 \u001b[0m   │\n",
            "│         │              │                 │                 │ \u001b[1;2mKB)\u001b[0m             │\n",
            "├─────────┼──────────────┼─────────────────┼─────────────────┼─────────────────┤\n",
            "│ Dense_2 │ Dense        │ \u001b[2mfloat32\u001b[0m[64,128] │ \u001b[2mfloat32\u001b[0m[64,1]   │ bias:           │\n",
            "│         │              │                 │                 │ \u001b[2mfloat32\u001b[0m[1]      │\n",
            "│         │              │                 │                 │ kernel:         │\n",
            "│         │              │                 │                 │ \u001b[2mfloat32\u001b[0m[128,1]  │\n",
            "│         │              │                 │                 │                 │\n",
            "│         │              │                 │                 │ \u001b[1m129 \u001b[0m\u001b[1;2m(516 B)\u001b[0m     │\n",
            "├─────────┼──────────────┼─────────────────┼─────────────────┼─────────────────┤\n",
            "│\u001b[1m \u001b[0m\u001b[1m       \u001b[0m\u001b[1m \u001b[0m│\u001b[1m \u001b[0m\u001b[1m            \u001b[0m\u001b[1m \u001b[0m│\u001b[1m \u001b[0m\u001b[1m               \u001b[0m\u001b[1m \u001b[0m│\u001b[1m \u001b[0m\u001b[1m          Total\u001b[0m\u001b[1m \u001b[0m│\u001b[1m \u001b[0m\u001b[1m16,897 \u001b[0m\u001b[1;2m(67.6 \u001b[0m\u001b[1m  \u001b[0m\u001b[1m \u001b[0m│\n",
            "│\u001b[1m         \u001b[0m│\u001b[1m              \u001b[0m│\u001b[1m                 \u001b[0m│\u001b[1m                 \u001b[0m│\u001b[1m \u001b[0m\u001b[1;2mKB)\u001b[0m\u001b[1m            \u001b[0m\u001b[1m \u001b[0m│\n",
            "└─────────┴──────────────┴─────────────────┴─────────────────┴─────────────────┘\n",
            "\u001b[1m                                                                                \u001b[0m\n",
            "\u001b[1m                       Total Parameters: 16,897 \u001b[0m\u001b[1;2m(67.6 KB)\u001b[0m\u001b[1m                       \u001b[0m\n",
            "\n",
            "\n"
          ]
        }
      ],
      "source": [
        "trainer = MLPRegressTrainer(hidden_dims=[128, 128],\n",
        "                            output_dim=1,\n",
        "                            optimizer_hparams={'lr': 4e-3},\n",
        "                            logger_params={'base_log_dir': CHECKPOINT_PATH},\n",
        "                            exmp_input=next(iter(train_loader))[0:1],\n",
        "                            check_val_every_n_epoch=5)"
      ]
    },
    {
      "cell_type": "markdown",
      "id": "7e5dbc66",
      "metadata": {
        "id": "7e5dbc66"
      },
      "source": [
        "As one can see, we also automatically print out all layers with their parameters and outputs with Flax's `nn.tabulate` function. This is quite helpful for debugging and gives an intuition about the size of the model. Since the task is not very difficult, we are fine with using less than 20k parameters.\n",
        "\n",
        "Next, let's start the training:"
      ]
    },
    {
      "cell_type": "code",
      "execution_count": 21,
      "id": "596294f4",
      "metadata": {
        "id": "596294f4"
      },
      "outputs": [
        {
          "data": {
            "application/vnd.jupyter.widget-view+json": {
              "model_id": "917655e288b04d9bb43c44f50b8ecb80",
              "version_major": 2,
              "version_minor": 0
            },
            "text/plain": [
              "Epochs:   0%|          | 0/50 [00:00<?, ?it/s]"
            ]
          },
          "metadata": {},
          "output_type": "display_data"
        },
        {
          "data": {
            "application/vnd.jupyter.widget-view+json": {
              "model_id": "40f4d39178454c318992c9a273eb3108",
              "version_major": 2,
              "version_minor": 0
            },
            "text/plain": [
              "Training:   0%|          | 0/16 [00:00<?, ?it/s]"
            ]
          },
          "metadata": {},
          "output_type": "display_data"
        },
        {
          "data": {
            "application/vnd.jupyter.widget-view+json": {
              "model_id": "cfd06ebb69484041981b9f9ffa00e57a",
              "version_major": 2,
              "version_minor": 0
            },
            "text/plain": [
              "Training:   0%|          | 0/16 [00:00<?, ?it/s]"
            ]
          },
          "metadata": {},
          "output_type": "display_data"
        },
        {
          "data": {
            "application/vnd.jupyter.widget-view+json": {
              "model_id": "355be95b59984d65a3dc24f6fadf08a7",
              "version_major": 2,
              "version_minor": 0
            },
            "text/plain": [
              "Training:   0%|          | 0/16 [00:00<?, ?it/s]"
            ]
          },
          "metadata": {},
          "output_type": "display_data"
        },
        {
          "data": {
            "application/vnd.jupyter.widget-view+json": {
              "model_id": "c58550ffe7aa47bc9b9a66877d03a65d",
              "version_major": 2,
              "version_minor": 0
            },
            "text/plain": [
              "Training:   0%|          | 0/16 [00:00<?, ?it/s]"
            ]
          },
          "metadata": {},
          "output_type": "display_data"
        },
        {
          "data": {
            "application/vnd.jupyter.widget-view+json": {
              "model_id": "ed204938e07e47edb9ec266b0d2c97d4",
              "version_major": 2,
              "version_minor": 0
            },
            "text/plain": [
              "Training:   0%|          | 0/16 [00:00<?, ?it/s]"
            ]
          },
          "metadata": {},
          "output_type": "display_data"
        },
        {
          "data": {
            "application/vnd.jupyter.widget-view+json": {
              "model_id": "b6d4d1a061234e7d9213da133121e36e",
              "version_major": 2,
              "version_minor": 0
            },
            "text/plain": [
              "Training:   0%|          | 0/16 [00:00<?, ?it/s]"
            ]
          },
          "metadata": {},
          "output_type": "display_data"
        },
        {
          "data": {
            "application/vnd.jupyter.widget-view+json": {
              "model_id": "406028c21ce04e6ca0727f4e4b4e5b85",
              "version_major": 2,
              "version_minor": 0
            },
            "text/plain": [
              "Training:   0%|          | 0/16 [00:00<?, ?it/s]"
            ]
          },
          "metadata": {},
          "output_type": "display_data"
        },
        {
          "data": {
            "application/vnd.jupyter.widget-view+json": {
              "model_id": "25c7b95d7dfa4e1bb1db207d8ef498c5",
              "version_major": 2,
              "version_minor": 0
            },
            "text/plain": [
              "Training:   0%|          | 0/16 [00:00<?, ?it/s]"
            ]
          },
          "metadata": {},
          "output_type": "display_data"
        },
        {
          "data": {
            "application/vnd.jupyter.widget-view+json": {
              "model_id": "2333499bffde4ba5b5f3bae7f99a3348",
              "version_major": 2,
              "version_minor": 0
            },
            "text/plain": [
              "Training:   0%|          | 0/16 [00:00<?, ?it/s]"
            ]
          },
          "metadata": {},
          "output_type": "display_data"
        },
        {
          "data": {
            "application/vnd.jupyter.widget-view+json": {
              "model_id": "5415108ad4cf4b18a6fce3549074ac90",
              "version_major": 2,
              "version_minor": 0
            },
            "text/plain": [
              "Training:   0%|          | 0/16 [00:00<?, ?it/s]"
            ]
          },
          "metadata": {},
          "output_type": "display_data"
        },
        {
          "data": {
            "application/vnd.jupyter.widget-view+json": {
              "model_id": "2a995f77879e4a29a8000172cdb25659",
              "version_major": 2,
              "version_minor": 0
            },
            "text/plain": [
              "Training:   0%|          | 0/16 [00:00<?, ?it/s]"
            ]
          },
          "metadata": {},
          "output_type": "display_data"
        },
        {
          "data": {
            "application/vnd.jupyter.widget-view+json": {
              "model_id": "1f2a59525c3a426485f5b83596d2ed69",
              "version_major": 2,
              "version_minor": 0
            },
            "text/plain": [
              "Training:   0%|          | 0/16 [00:00<?, ?it/s]"
            ]
          },
          "metadata": {},
          "output_type": "display_data"
        },
        {
          "data": {
            "application/vnd.jupyter.widget-view+json": {
              "model_id": "24d04d6e46ed493f854a1362c391a6a4",
              "version_major": 2,
              "version_minor": 0
            },
            "text/plain": [
              "Training:   0%|          | 0/16 [00:00<?, ?it/s]"
            ]
          },
          "metadata": {},
          "output_type": "display_data"
        },
        {
          "data": {
            "application/vnd.jupyter.widget-view+json": {
              "model_id": "db98f8f588a54b9ea05db31953167a0f",
              "version_major": 2,
              "version_minor": 0
            },
            "text/plain": [
              "Training:   0%|          | 0/16 [00:00<?, ?it/s]"
            ]
          },
          "metadata": {},
          "output_type": "display_data"
        },
        {
          "data": {
            "application/vnd.jupyter.widget-view+json": {
              "model_id": "b68e7782fa4d4f16bba8bf4f4ca43baa",
              "version_major": 2,
              "version_minor": 0
            },
            "text/plain": [
              "Training:   0%|          | 0/16 [00:00<?, ?it/s]"
            ]
          },
          "metadata": {},
          "output_type": "display_data"
        },
        {
          "data": {
            "application/vnd.jupyter.widget-view+json": {
              "model_id": "c120981160f84574aed3f4241a29a5be",
              "version_major": 2,
              "version_minor": 0
            },
            "text/plain": [
              "Training:   0%|          | 0/16 [00:00<?, ?it/s]"
            ]
          },
          "metadata": {},
          "output_type": "display_data"
        },
        {
          "data": {
            "application/vnd.jupyter.widget-view+json": {
              "model_id": "c448cbf127a94e99ab8b3612458dcef9",
              "version_major": 2,
              "version_minor": 0
            },
            "text/plain": [
              "Training:   0%|          | 0/16 [00:00<?, ?it/s]"
            ]
          },
          "metadata": {},
          "output_type": "display_data"
        },
        {
          "data": {
            "application/vnd.jupyter.widget-view+json": {
              "model_id": "7a782cd63ce9464ea858eba7a2efdcc1",
              "version_major": 2,
              "version_minor": 0
            },
            "text/plain": [
              "Training:   0%|          | 0/16 [00:00<?, ?it/s]"
            ]
          },
          "metadata": {},
          "output_type": "display_data"
        },
        {
          "data": {
            "application/vnd.jupyter.widget-view+json": {
              "model_id": "cab0f5db00234b83a1fe072014eeb17f",
              "version_major": 2,
              "version_minor": 0
            },
            "text/plain": [
              "Training:   0%|          | 0/16 [00:00<?, ?it/s]"
            ]
          },
          "metadata": {},
          "output_type": "display_data"
        },
        {
          "data": {
            "application/vnd.jupyter.widget-view+json": {
              "model_id": "147dc662c0cf428fb910a4ac8479fc2a",
              "version_major": 2,
              "version_minor": 0
            },
            "text/plain": [
              "Training:   0%|          | 0/16 [00:00<?, ?it/s]"
            ]
          },
          "metadata": {},
          "output_type": "display_data"
        },
        {
          "data": {
            "application/vnd.jupyter.widget-view+json": {
              "model_id": "ba3f6fb16a6540b89b8e27120a7722e2",
              "version_major": 2,
              "version_minor": 0
            },
            "text/plain": [
              "Training:   0%|          | 0/16 [00:00<?, ?it/s]"
            ]
          },
          "metadata": {},
          "output_type": "display_data"
        },
        {
          "data": {
            "application/vnd.jupyter.widget-view+json": {
              "model_id": "e1ed68ab855f49ca8fccb96e00152f30",
              "version_major": 2,
              "version_minor": 0
            },
            "text/plain": [
              "Training:   0%|          | 0/16 [00:00<?, ?it/s]"
            ]
          },
          "metadata": {},
          "output_type": "display_data"
        },
        {
          "data": {
            "application/vnd.jupyter.widget-view+json": {
              "model_id": "fbde9fe662844096ac7da5a59059a399",
              "version_major": 2,
              "version_minor": 0
            },
            "text/plain": [
              "Training:   0%|          | 0/16 [00:00<?, ?it/s]"
            ]
          },
          "metadata": {},
          "output_type": "display_data"
        },
        {
          "data": {
            "application/vnd.jupyter.widget-view+json": {
              "model_id": "d1e8474a5ee14162b045383bf1553f37",
              "version_major": 2,
              "version_minor": 0
            },
            "text/plain": [
              "Training:   0%|          | 0/16 [00:00<?, ?it/s]"
            ]
          },
          "metadata": {},
          "output_type": "display_data"
        },
        {
          "data": {
            "application/vnd.jupyter.widget-view+json": {
              "model_id": "01fa9d1b4b744442b60a2f0a150ed949",
              "version_major": 2,
              "version_minor": 0
            },
            "text/plain": [
              "Training:   0%|          | 0/16 [00:00<?, ?it/s]"
            ]
          },
          "metadata": {},
          "output_type": "display_data"
        },
        {
          "data": {
            "application/vnd.jupyter.widget-view+json": {
              "model_id": "6e04655c17bc46b081b6ded2c6ba006b",
              "version_major": 2,
              "version_minor": 0
            },
            "text/plain": [
              "Training:   0%|          | 0/16 [00:00<?, ?it/s]"
            ]
          },
          "metadata": {},
          "output_type": "display_data"
        },
        {
          "data": {
            "application/vnd.jupyter.widget-view+json": {
              "model_id": "4f4b6405644146c09df25d609c06a0cb",
              "version_major": 2,
              "version_minor": 0
            },
            "text/plain": [
              "Training:   0%|          | 0/16 [00:00<?, ?it/s]"
            ]
          },
          "metadata": {},
          "output_type": "display_data"
        },
        {
          "data": {
            "application/vnd.jupyter.widget-view+json": {
              "model_id": "80870c1aa4c645dd927825dd46c7532f",
              "version_major": 2,
              "version_minor": 0
            },
            "text/plain": [
              "Training:   0%|          | 0/16 [00:00<?, ?it/s]"
            ]
          },
          "metadata": {},
          "output_type": "display_data"
        },
        {
          "data": {
            "application/vnd.jupyter.widget-view+json": {
              "model_id": "830b20ad19d2407ca761477688e42f14",
              "version_major": 2,
              "version_minor": 0
            },
            "text/plain": [
              "Training:   0%|          | 0/16 [00:00<?, ?it/s]"
            ]
          },
          "metadata": {},
          "output_type": "display_data"
        },
        {
          "data": {
            "application/vnd.jupyter.widget-view+json": {
              "model_id": "f99460cc9b0a4340b9bc782ae583c76d",
              "version_major": 2,
              "version_minor": 0
            },
            "text/plain": [
              "Training:   0%|          | 0/16 [00:00<?, ?it/s]"
            ]
          },
          "metadata": {},
          "output_type": "display_data"
        },
        {
          "data": {
            "application/vnd.jupyter.widget-view+json": {
              "model_id": "801472268cfe4e04a20ac5e4c592eec1",
              "version_major": 2,
              "version_minor": 0
            },
            "text/plain": [
              "Training:   0%|          | 0/16 [00:00<?, ?it/s]"
            ]
          },
          "metadata": {},
          "output_type": "display_data"
        },
        {
          "data": {
            "application/vnd.jupyter.widget-view+json": {
              "model_id": "078bbe8c12ce4211bf892efb744fbeb0",
              "version_major": 2,
              "version_minor": 0
            },
            "text/plain": [
              "Training:   0%|          | 0/16 [00:00<?, ?it/s]"
            ]
          },
          "metadata": {},
          "output_type": "display_data"
        },
        {
          "data": {
            "application/vnd.jupyter.widget-view+json": {
              "model_id": "51b18e63a81944258b067575f2d05d36",
              "version_major": 2,
              "version_minor": 0
            },
            "text/plain": [
              "Training:   0%|          | 0/16 [00:00<?, ?it/s]"
            ]
          },
          "metadata": {},
          "output_type": "display_data"
        },
        {
          "data": {
            "application/vnd.jupyter.widget-view+json": {
              "model_id": "447677a920384b8695c0f13b3877b273",
              "version_major": 2,
              "version_minor": 0
            },
            "text/plain": [
              "Training:   0%|          | 0/16 [00:00<?, ?it/s]"
            ]
          },
          "metadata": {},
          "output_type": "display_data"
        },
        {
          "data": {
            "application/vnd.jupyter.widget-view+json": {
              "model_id": "5b7db24575464b3f97c5ac14dac5f779",
              "version_major": 2,
              "version_minor": 0
            },
            "text/plain": [
              "Training:   0%|          | 0/16 [00:00<?, ?it/s]"
            ]
          },
          "metadata": {},
          "output_type": "display_data"
        },
        {
          "data": {
            "application/vnd.jupyter.widget-view+json": {
              "model_id": "bedce3bdbef7464585e498feee8df6c1",
              "version_major": 2,
              "version_minor": 0
            },
            "text/plain": [
              "Training:   0%|          | 0/16 [00:00<?, ?it/s]"
            ]
          },
          "metadata": {},
          "output_type": "display_data"
        },
        {
          "data": {
            "application/vnd.jupyter.widget-view+json": {
              "model_id": "9052defe26254e84903e952971889c94",
              "version_major": 2,
              "version_minor": 0
            },
            "text/plain": [
              "Training:   0%|          | 0/16 [00:00<?, ?it/s]"
            ]
          },
          "metadata": {},
          "output_type": "display_data"
        },
        {
          "data": {
            "application/vnd.jupyter.widget-view+json": {
              "model_id": "0fb9f891c97a4d2a9f77ba8eb30ab805",
              "version_major": 2,
              "version_minor": 0
            },
            "text/plain": [
              "Training:   0%|          | 0/16 [00:00<?, ?it/s]"
            ]
          },
          "metadata": {},
          "output_type": "display_data"
        },
        {
          "data": {
            "application/vnd.jupyter.widget-view+json": {
              "model_id": "244490d0506b44aaafb33a6997f8064c",
              "version_major": 2,
              "version_minor": 0
            },
            "text/plain": [
              "Training:   0%|          | 0/16 [00:00<?, ?it/s]"
            ]
          },
          "metadata": {},
          "output_type": "display_data"
        },
        {
          "data": {
            "application/vnd.jupyter.widget-view+json": {
              "model_id": "c405a11c5a354ee49e928d97006e93c7",
              "version_major": 2,
              "version_minor": 0
            },
            "text/plain": [
              "Training:   0%|          | 0/16 [00:00<?, ?it/s]"
            ]
          },
          "metadata": {},
          "output_type": "display_data"
        },
        {
          "data": {
            "application/vnd.jupyter.widget-view+json": {
              "model_id": "1aaef79ce1db414a8d48e2f3acea2487",
              "version_major": 2,
              "version_minor": 0
            },
            "text/plain": [
              "Training:   0%|          | 0/16 [00:00<?, ?it/s]"
            ]
          },
          "metadata": {},
          "output_type": "display_data"
        },
        {
          "data": {
            "application/vnd.jupyter.widget-view+json": {
              "model_id": "7ddfe2596560489a9ad57ded600da382",
              "version_major": 2,
              "version_minor": 0
            },
            "text/plain": [
              "Training:   0%|          | 0/16 [00:00<?, ?it/s]"
            ]
          },
          "metadata": {},
          "output_type": "display_data"
        },
        {
          "data": {
            "application/vnd.jupyter.widget-view+json": {
              "model_id": "8d6baae84e05477580ad664764a8789c",
              "version_major": 2,
              "version_minor": 0
            },
            "text/plain": [
              "Training:   0%|          | 0/16 [00:00<?, ?it/s]"
            ]
          },
          "metadata": {},
          "output_type": "display_data"
        },
        {
          "data": {
            "application/vnd.jupyter.widget-view+json": {
              "model_id": "2f6472f0be5d4a2f8ff9302e9e9c0889",
              "version_major": 2,
              "version_minor": 0
            },
            "text/plain": [
              "Training:   0%|          | 0/16 [00:00<?, ?it/s]"
            ]
          },
          "metadata": {},
          "output_type": "display_data"
        },
        {
          "data": {
            "application/vnd.jupyter.widget-view+json": {
              "model_id": "2605ed34927f4baf82a6cc7f6bea1e5a",
              "version_major": 2,
              "version_minor": 0
            },
            "text/plain": [
              "Training:   0%|          | 0/16 [00:00<?, ?it/s]"
            ]
          },
          "metadata": {},
          "output_type": "display_data"
        },
        {
          "data": {
            "application/vnd.jupyter.widget-view+json": {
              "model_id": "0f04342da06543df99af8d04504991dc",
              "version_major": 2,
              "version_minor": 0
            },
            "text/plain": [
              "Training:   0%|          | 0/16 [00:00<?, ?it/s]"
            ]
          },
          "metadata": {},
          "output_type": "display_data"
        },
        {
          "data": {
            "application/vnd.jupyter.widget-view+json": {
              "model_id": "e4d0088cb3ac434b814239cc46aaba1e",
              "version_major": 2,
              "version_minor": 0
            },
            "text/plain": [
              "Training:   0%|          | 0/16 [00:00<?, ?it/s]"
            ]
          },
          "metadata": {},
          "output_type": "display_data"
        },
        {
          "data": {
            "application/vnd.jupyter.widget-view+json": {
              "model_id": "88f75faf1afa4a2f829fc4888e464082",
              "version_major": 2,
              "version_minor": 0
            },
            "text/plain": [
              "Training:   0%|          | 0/16 [00:00<?, ?it/s]"
            ]
          },
          "metadata": {},
          "output_type": "display_data"
        },
        {
          "data": {
            "application/vnd.jupyter.widget-view+json": {
              "model_id": "486a3a6d071e48fa941ff9b449c3ae68",
              "version_major": 2,
              "version_minor": 0
            },
            "text/plain": [
              "Training:   0%|          | 0/16 [00:00<?, ?it/s]"
            ]
          },
          "metadata": {},
          "output_type": "display_data"
        },
        {
          "data": {
            "application/vnd.jupyter.widget-view+json": {
              "model_id": "7f662e6cfca0434a8fb0c8062da5b44f",
              "version_major": 2,
              "version_minor": 0
            },
            "text/plain": [
              "Training:   0%|          | 0/16 [00:00<?, ?it/s]"
            ]
          },
          "metadata": {},
          "output_type": "display_data"
        }
      ],
      "source": [
        "metrics = trainer.train_model(train_loader, \n",
        "                              val_loader, \n",
        "                              test_loader=test_loader, \n",
        "                              num_epochs=50)"
      ]
    },
    {
      "cell_type": "code",
      "execution_count": 22,
      "id": "a5812e65",
      "metadata": {
        "id": "a5812e65",
        "outputId": "083b4b30-b26a-4888-ebf0-1aad40880bd4"
      },
      "outputs": [
        {
          "name": "stdout",
          "output_type": "stream",
          "text": [
            "Training loss: 0.0004766586935147643\n",
            "Validation loss: 0.0005192716489546001\n",
            "Test loss: 0.0004253776278346777\n"
          ]
        }
      ],
      "source": [
        "print(f'Training loss: {metrics[\"train/loss\"]}')\n",
        "print(f'Validation loss: {metrics[\"val/loss\"]}')\n",
        "print(f'Test loss: {metrics[\"test/loss\"]}')"
      ]
    },
    {
      "cell_type": "markdown",
      "id": "b6efa103",
      "metadata": {
        "id": "b6efa103"
      },
      "source": [
        "With the speed of JAX, this takes only a few seconds. The logs can be found in `../saved_models/guide4/MLPRegressor/`, and we have a dictionary of the best results here as well. The training, validation and test loss suggest that our model learned the function quite well, but let's check it by predicting the whole function as inference task."
      ]
    },
    {
      "cell_type": "markdown",
      "id": "674ab27d",
      "metadata": {
        "id": "674ab27d"
      },
      "source": [
        "### Inference\n",
        "\n",
        "To perform inference, we first bind the model to the parameters. This enables us a simpler API, closer to PyTorch. Applying the model to a values between -2.0 and 2.0 shows that the model learned the sine wave indeed quite well and is only off at the corners."
      ]
    },
    {
      "cell_type": "code",
      "execution_count": 23,
      "id": "ee055416",
      "metadata": {
        "id": "ee055416",
        "outputId": "cfb37d0a-9391-43e9-f3e8-20d3531575bb"
      },
      "outputs": [
        {
          "data": {
            "application/pdf": "[encoded data removed]",
            "image/svg+xml": "<?xml version=\"1.0\" encoding=\"utf-8\" standalone=\"no\"?>\n<!DOCTYPE svg PUBLIC \"-//W3C//DTD SVG 1.1//EN\"\n  \"http://www.w3.org/Graphics/SVG/1.1/DTD/svg11.dtd\">\n<svg xmlns:xlink=\"http://www.w3.org/1999/xlink\" width=\"408.851719pt\" height=\"314.661219pt\" viewBox=\"0 0 408.851719 314.661219\" xmlns=\"http://www.w3.org/2000/svg\" version=\"1.1\">\n <metadata>\n  <rdf:RDF xmlns:dc=\"http://purl.org/dc/elements/1.1/\" xmlns:cc=\"http://creativecommons.org/ns#\" xmlns:rdf=\"http://www.w3.org/1999/02/22-rdf-syntax-ns#\">\n   <cc:Work>\n    <dc:type rdf:resource=\"http://purl.org/dc/dcmitype/StillImage\"/>\n    <dc:date>2022-11-24T00:40:41.423230</dc:date>\n    <dc:format>image/svg+xml</dc:format>\n    <dc:creator>\n     <cc:Agent>\n      <dc:title>Matplotlib v3.5.3, https://matplotlib.org/</dc:title>\n     </cc:Agent>\n    </dc:creator>\n   </cc:Work>\n  </rdf:RDF>\n </metadata>\n <defs>\n  <style type=\"text/css\">*{stroke-linejoin: round; stroke-linecap: butt}</style>\n </defs>\n <g id=\"figure_1\">\n  <g id=\"patch_1\">\n   <path d=\"M 0 314.661219 \nL 408.851719 314.661219 \nL 408.851719 0 \nL 0 0 \nz\n\" style=\"fill: #ffffff\"/>\n  </g>\n  <g id=\"axes_1\">\n   <g id=\"patch_2\">\n    <path d=\"M 44.531719 287.901375 \nL 401.651719 287.901375 \nL 401.651719 21.789375 \nL 44.531719 21.789375 \nz\n\" style=\"fill: #eaeaf2\"/>\n   </g>\n   <g id=\"matplotlib.axis_1\">\n    <g id=\"xtick_1\">\n     <g id=\"line2d_1\">\n      <path d=\"M 60.764446 287.901375 \nL 60.764446 21.789375 \n\" clip-path=\"url(#pb3e41a55c8)\" style=\"fill: none; stroke: #ffffff; stroke-linecap: round\"/>\n     </g>\n     <g id=\"text_1\">\n      <!-- −2.0 -->\n      <g style=\"fill: #262626\" transform=\"translate(49.907102 305.274969)scale(0.11 -0.11)\">\n       <defs>\n        <path id=\"ArialMT-2212\" d=\"M 3381 1997 \nL 356 1997 \nL 356 2522 \nL 3381 2522 \nL 3381 1997 \nz\n\" transform=\"scale(0.015625)\"/>\n        <path id=\"ArialMT-32\" d=\"M 3222 541 \nL 3222 0 \nL 194 0 \nQ 188 203 259 391 \nQ 375 700 629 1000 \nQ 884 1300 1366 1694 \nQ 2113 2306 2375 2664 \nQ 2638 3022 2638 3341 \nQ 2638 3675 2398 3904 \nQ 2159 4134 1775 4134 \nQ 1369 4134 1125 3890 \nQ 881 3647 878 3216 \nL 300 3275 \nQ 359 3922 746 4261 \nQ 1134 4600 1788 4600 \nQ 2447 4600 2831 4234 \nQ 3216 3869 3216 3328 \nQ 3216 3053 3103 2787 \nQ 2991 2522 2730 2228 \nQ 2469 1934 1863 1422 \nQ 1356 997 1212 845 \nQ 1069 694 975 541 \nL 3222 541 \nz\n\" transform=\"scale(0.015625)\"/>\n        <path id=\"ArialMT-2e\" d=\"M 581 0 \nL 581 641 \nL 1222 641 \nL 1222 0 \nL 581 0 \nz\n\" transform=\"scale(0.015625)\"/>\n        <path id=\"ArialMT-30\" d=\"M 266 2259 \nQ 266 3072 433 3567 \nQ 600 4063 929 4331 \nQ 1259 4600 1759 4600 \nQ 2128 4600 2406 4451 \nQ 2684 4303 2865 4023 \nQ 3047 3744 3150 3342 \nQ 3253 2941 3253 2259 \nQ 3253 1453 3087 958 \nQ 2922 463 2592 192 \nQ 2263 -78 1759 -78 \nQ 1097 -78 719 397 \nQ 266 969 266 2259 \nz\nM 844 2259 \nQ 844 1131 1108 757 \nQ 1372 384 1759 384 \nQ 2147 384 2411 759 \nQ 2675 1134 2675 2259 \nQ 2675 3391 2411 3762 \nQ 2147 4134 1753 4134 \nQ 1366 4134 1134 3806 \nQ 844 3388 844 2259 \nz\n\" transform=\"scale(0.015625)\"/>\n       </defs>\n       <use xlink:href=\"#ArialMT-2212\"/>\n       <use xlink:href=\"#ArialMT-32\" x=\"58.398438\"/>\n       <use xlink:href=\"#ArialMT-2e\" x=\"114.013672\"/>\n       <use xlink:href=\"#ArialMT-30\" x=\"141.796875\"/>\n      </g>\n     </g>\n    </g>\n    <g id=\"xtick_2\">\n     <g id=\"line2d_2\">\n      <path d=\"M 101.346264 287.901375 \nL 101.346264 21.789375 \n\" clip-path=\"url(#pb3e41a55c8)\" style=\"fill: none; stroke: #ffffff; stroke-linecap: round\"/>\n     </g>\n     <g id=\"text_2\">\n      <!-- −1.5 -->\n      <g style=\"fill: #262626\" transform=\"translate(90.48892 305.274969)scale(0.11 -0.11)\">\n       <defs>\n        <path id=\"ArialMT-31\" d=\"M 2384 0 \nL 1822 0 \nL 1822 3584 \nQ 1619 3391 1289 3197 \nQ 959 3003 697 2906 \nL 697 3450 \nQ 1169 3672 1522 3987 \nQ 1875 4303 2022 4600 \nL 2384 4600 \nL 2384 0 \nz\n\" transform=\"scale(0.015625)\"/>\n        <path id=\"ArialMT-35\" d=\"M 266 1200 \nL 856 1250 \nQ 922 819 1161 601 \nQ 1400 384 1738 384 \nQ 2144 384 2425 690 \nQ 2706 997 2706 1503 \nQ 2706 1984 2436 2262 \nQ 2166 2541 1728 2541 \nQ 1456 2541 1237 2417 \nQ 1019 2294 894 2097 \nL 366 2166 \nL 809 4519 \nL 3088 4519 \nL 3088 3981 \nL 1259 3981 \nL 1013 2750 \nQ 1425 3038 1878 3038 \nQ 2478 3038 2890 2622 \nQ 3303 2206 3303 1553 \nQ 3303 931 2941 478 \nQ 2500 -78 1738 -78 \nQ 1113 -78 717 272 \nQ 322 622 266 1200 \nz\n\" transform=\"scale(0.015625)\"/>\n       </defs>\n       <use xlink:href=\"#ArialMT-2212\"/>\n       <use xlink:href=\"#ArialMT-31\" x=\"58.398438\"/>\n       <use xlink:href=\"#ArialMT-2e\" x=\"114.013672\"/>\n       <use xlink:href=\"#ArialMT-35\" x=\"141.796875\"/>\n      </g>\n     </g>\n    </g>\n    <g id=\"xtick_3\">\n     <g id=\"line2d_3\">\n      <path d=\"M 141.928082 287.901375 \nL 141.928082 21.789375 \n\" clip-path=\"url(#pb3e41a55c8)\" style=\"fill: none; stroke: #ffffff; stroke-linecap: round\"/>\n     </g>\n     <g id=\"text_3\">\n      <!-- −1.0 -->\n      <g style=\"fill: #262626\" transform=\"translate(131.070739 305.274969)scale(0.11 -0.11)\">\n       <use xlink:href=\"#ArialMT-2212\"/>\n       <use xlink:href=\"#ArialMT-31\" x=\"58.398438\"/>\n       <use xlink:href=\"#ArialMT-2e\" x=\"114.013672\"/>\n       <use xlink:href=\"#ArialMT-30\" x=\"141.796875\"/>\n      </g>\n     </g>\n    </g>\n    <g id=\"xtick_4\">\n     <g id=\"line2d_4\">\n      <path d=\"M 182.509901 287.901375 \nL 182.509901 21.789375 \n\" clip-path=\"url(#pb3e41a55c8)\" style=\"fill: none; stroke: #ffffff; stroke-linecap: round\"/>\n     </g>\n     <g id=\"text_4\">\n      <!-- −0.5 -->\n      <g style=\"fill: #262626\" transform=\"translate(171.652557 305.274969)scale(0.11 -0.11)\">\n       <use xlink:href=\"#ArialMT-2212\"/>\n       <use xlink:href=\"#ArialMT-30\" x=\"58.398438\"/>\n       <use xlink:href=\"#ArialMT-2e\" x=\"114.013672\"/>\n       <use xlink:href=\"#ArialMT-35\" x=\"141.796875\"/>\n      </g>\n     </g>\n    </g>\n    <g id=\"xtick_5\">\n     <g id=\"line2d_5\">\n      <path d=\"M 223.091719 287.901375 \nL 223.091719 21.789375 \n\" clip-path=\"url(#pb3e41a55c8)\" style=\"fill: none; stroke: #ffffff; stroke-linecap: round\"/>\n     </g>\n     <g id=\"text_5\">\n      <!-- 0.0 -->\n      <g style=\"fill: #262626\" transform=\"translate(215.446719 305.274969)scale(0.11 -0.11)\">\n       <use xlink:href=\"#ArialMT-30\"/>\n       <use xlink:href=\"#ArialMT-2e\" x=\"55.615234\"/>\n       <use xlink:href=\"#ArialMT-30\" x=\"83.398438\"/>\n      </g>\n     </g>\n    </g>\n    <g id=\"xtick_6\">\n     <g id=\"line2d_6\">\n      <path d=\"M 263.673537 287.901375 \nL 263.673537 21.789375 \n\" clip-path=\"url(#pb3e41a55c8)\" style=\"fill: none; stroke: #ffffff; stroke-linecap: round\"/>\n     </g>\n     <g id=\"text_6\">\n      <!-- 0.5 -->\n      <g style=\"fill: #262626\" transform=\"translate(256.028537 305.274969)scale(0.11 -0.11)\">\n       <use xlink:href=\"#ArialMT-30\"/>\n       <use xlink:href=\"#ArialMT-2e\" x=\"55.615234\"/>\n       <use xlink:href=\"#ArialMT-35\" x=\"83.398438\"/>\n      </g>\n     </g>\n    </g>\n    <g id=\"xtick_7\">\n     <g id=\"line2d_7\">\n      <path d=\"M 304.255355 287.901375 \nL 304.255355 21.789375 \n\" clip-path=\"url(#pb3e41a55c8)\" style=\"fill: none; stroke: #ffffff; stroke-linecap: round\"/>\n     </g>\n     <g id=\"text_7\">\n      <!-- 1.0 -->\n      <g style=\"fill: #262626\" transform=\"translate(296.610355 305.274969)scale(0.11 -0.11)\">\n       <use xlink:href=\"#ArialMT-31\"/>\n       <use xlink:href=\"#ArialMT-2e\" x=\"55.615234\"/>\n       <use xlink:href=\"#ArialMT-30\" x=\"83.398438\"/>\n      </g>\n     </g>\n    </g>\n    <g id=\"xtick_8\">\n     <g id=\"line2d_8\">\n      <path d=\"M 344.837173 287.901375 \nL 344.837173 21.789375 \n\" clip-path=\"url(#pb3e41a55c8)\" style=\"fill: none; stroke: #ffffff; stroke-linecap: round\"/>\n     </g>\n     <g id=\"text_8\">\n      <!-- 1.5 -->\n      <g style=\"fill: #262626\" transform=\"translate(337.192173 305.274969)scale(0.11 -0.11)\">\n       <use xlink:href=\"#ArialMT-31\"/>\n       <use xlink:href=\"#ArialMT-2e\" x=\"55.615234\"/>\n       <use xlink:href=\"#ArialMT-35\" x=\"83.398438\"/>\n      </g>\n     </g>\n    </g>\n    <g id=\"xtick_9\">\n     <g id=\"line2d_9\">\n      <path d=\"M 385.418991 287.901375 \nL 385.418991 21.789375 \n\" clip-path=\"url(#pb3e41a55c8)\" style=\"fill: none; stroke: #ffffff; stroke-linecap: round\"/>\n     </g>\n     <g id=\"text_9\">\n      <!-- 2.0 -->\n      <g style=\"fill: #262626\" transform=\"translate(377.773991 305.274969)scale(0.11 -0.11)\">\n       <use xlink:href=\"#ArialMT-32\"/>\n       <use xlink:href=\"#ArialMT-2e\" x=\"55.615234\"/>\n       <use xlink:href=\"#ArialMT-30\" x=\"83.398438\"/>\n      </g>\n     </g>\n    </g>\n   </g>\n   <g id=\"matplotlib.axis_2\">\n    <g id=\"ytick_1\">\n     <g id=\"line2d_10\">\n      <path d=\"M 44.531719 275.805701 \nL 401.651719 275.805701 \n\" clip-path=\"url(#pb3e41a55c8)\" style=\"fill: none; stroke: #ffffff; stroke-linecap: round\"/>\n     </g>\n     <g id=\"text_10\">\n      <!-- −1.00 -->\n      <g style=\"fill: #262626\" transform=\"translate(7.2 279.742498)scale(0.11 -0.11)\">\n       <use xlink:href=\"#ArialMT-2212\"/>\n       <use xlink:href=\"#ArialMT-31\" x=\"58.398438\"/>\n       <use xlink:href=\"#ArialMT-2e\" x=\"114.013672\"/>\n       <use xlink:href=\"#ArialMT-30\" x=\"141.796875\"/>\n       <use xlink:href=\"#ArialMT-30\" x=\"197.412109\"/>\n      </g>\n     </g>\n    </g>\n    <g id=\"ytick_2\">\n     <g id=\"line2d_11\">\n      <path d=\"M 44.531719 245.657101 \nL 401.651719 245.657101 \n\" clip-path=\"url(#pb3e41a55c8)\" style=\"fill: none; stroke: #ffffff; stroke-linecap: round\"/>\n     </g>\n     <g id=\"text_11\">\n      <!-- −0.75 -->\n      <g style=\"fill: #262626\" transform=\"translate(7.2 249.593897)scale(0.11 -0.11)\">\n       <defs>\n        <path id=\"ArialMT-37\" d=\"M 303 3981 \nL 303 4522 \nL 3269 4522 \nL 3269 4084 \nQ 2831 3619 2401 2847 \nQ 1972 2075 1738 1259 \nQ 1569 684 1522 0 \nL 944 0 \nQ 953 541 1156 1306 \nQ 1359 2072 1739 2783 \nQ 2119 3494 2547 3981 \nL 303 3981 \nz\n\" transform=\"scale(0.015625)\"/>\n       </defs>\n       <use xlink:href=\"#ArialMT-2212\"/>\n       <use xlink:href=\"#ArialMT-30\" x=\"58.398438\"/>\n       <use xlink:href=\"#ArialMT-2e\" x=\"114.013672\"/>\n       <use xlink:href=\"#ArialMT-37\" x=\"141.796875\"/>\n       <use xlink:href=\"#ArialMT-35\" x=\"197.412109\"/>\n      </g>\n     </g>\n    </g>\n    <g id=\"ytick_3\">\n     <g id=\"line2d_12\">\n      <path d=\"M 44.531719 215.5085 \nL 401.651719 215.5085 \n\" clip-path=\"url(#pb3e41a55c8)\" style=\"fill: none; stroke: #ffffff; stroke-linecap: round\"/>\n     </g>\n     <g id=\"text_12\">\n      <!-- −0.50 -->\n      <g style=\"fill: #262626\" transform=\"translate(7.2 219.445297)scale(0.11 -0.11)\">\n       <use xlink:href=\"#ArialMT-2212\"/>\n       <use xlink:href=\"#ArialMT-30\" x=\"58.398438\"/>\n       <use xlink:href=\"#ArialMT-2e\" x=\"114.013672\"/>\n       <use xlink:href=\"#ArialMT-35\" x=\"141.796875\"/>\n       <use xlink:href=\"#ArialMT-30\" x=\"197.412109\"/>\n      </g>\n     </g>\n    </g>\n    <g id=\"ytick_4\">\n     <g id=\"line2d_13\">\n      <path d=\"M 44.531719 185.359899 \nL 401.651719 185.359899 \n\" clip-path=\"url(#pb3e41a55c8)\" style=\"fill: none; stroke: #ffffff; stroke-linecap: round\"/>\n     </g>\n     <g id=\"text_13\">\n      <!-- −0.25 -->\n      <g style=\"fill: #262626\" transform=\"translate(7.2 189.296696)scale(0.11 -0.11)\">\n       <use xlink:href=\"#ArialMT-2212\"/>\n       <use xlink:href=\"#ArialMT-30\" x=\"58.398438\"/>\n       <use xlink:href=\"#ArialMT-2e\" x=\"114.013672\"/>\n       <use xlink:href=\"#ArialMT-32\" x=\"141.796875\"/>\n       <use xlink:href=\"#ArialMT-35\" x=\"197.412109\"/>\n      </g>\n     </g>\n    </g>\n    <g id=\"ytick_5\">\n     <g id=\"line2d_14\">\n      <path d=\"M 44.531719 155.211299 \nL 401.651719 155.211299 \n\" clip-path=\"url(#pb3e41a55c8)\" style=\"fill: none; stroke: #ffffff; stroke-linecap: round\"/>\n     </g>\n     <g id=\"text_14\">\n      <!-- 0.00 -->\n      <g style=\"fill: #262626\" transform=\"translate(13.624688 159.148096)scale(0.11 -0.11)\">\n       <use xlink:href=\"#ArialMT-30\"/>\n       <use xlink:href=\"#ArialMT-2e\" x=\"55.615234\"/>\n       <use xlink:href=\"#ArialMT-30\" x=\"83.398438\"/>\n       <use xlink:href=\"#ArialMT-30\" x=\"139.013672\"/>\n      </g>\n     </g>\n    </g>\n    <g id=\"ytick_6\">\n     <g id=\"line2d_15\">\n      <path d=\"M 44.531719 125.062698 \nL 401.651719 125.062698 \n\" clip-path=\"url(#pb3e41a55c8)\" style=\"fill: none; stroke: #ffffff; stroke-linecap: round\"/>\n     </g>\n     <g id=\"text_15\">\n      <!-- 0.25 -->\n      <g style=\"fill: #262626\" transform=\"translate(13.624688 128.999495)scale(0.11 -0.11)\">\n       <use xlink:href=\"#ArialMT-30\"/>\n       <use xlink:href=\"#ArialMT-2e\" x=\"55.615234\"/>\n       <use xlink:href=\"#ArialMT-32\" x=\"83.398438\"/>\n       <use xlink:href=\"#ArialMT-35\" x=\"139.013672\"/>\n      </g>\n     </g>\n    </g>\n    <g id=\"ytick_7\">\n     <g id=\"line2d_16\">\n      <path d=\"M 44.531719 94.914098 \nL 401.651719 94.914098 \n\" clip-path=\"url(#pb3e41a55c8)\" style=\"fill: none; stroke: #ffffff; stroke-linecap: round\"/>\n     </g>\n     <g id=\"text_16\">\n      <!-- 0.50 -->\n      <g style=\"fill: #262626\" transform=\"translate(13.624688 98.850894)scale(0.11 -0.11)\">\n       <use xlink:href=\"#ArialMT-30\"/>\n       <use xlink:href=\"#ArialMT-2e\" x=\"55.615234\"/>\n       <use xlink:href=\"#ArialMT-35\" x=\"83.398438\"/>\n       <use xlink:href=\"#ArialMT-30\" x=\"139.013672\"/>\n      </g>\n     </g>\n    </g>\n    <g id=\"ytick_8\">\n     <g id=\"line2d_17\">\n      <path d=\"M 44.531719 64.765497 \nL 401.651719 64.765497 \n\" clip-path=\"url(#pb3e41a55c8)\" style=\"fill: none; stroke: #ffffff; stroke-linecap: round\"/>\n     </g>\n     <g id=\"text_17\">\n      <!-- 0.75 -->\n      <g style=\"fill: #262626\" transform=\"translate(13.624688 68.702294)scale(0.11 -0.11)\">\n       <use xlink:href=\"#ArialMT-30\"/>\n       <use xlink:href=\"#ArialMT-2e\" x=\"55.615234\"/>\n       <use xlink:href=\"#ArialMT-37\" x=\"83.398438\"/>\n       <use xlink:href=\"#ArialMT-35\" x=\"139.013672\"/>\n      </g>\n     </g>\n    </g>\n    <g id=\"ytick_9\">\n     <g id=\"line2d_18\">\n      <path d=\"M 44.531719 34.616896 \nL 401.651719 34.616896 \n\" clip-path=\"url(#pb3e41a55c8)\" style=\"fill: none; stroke: #ffffff; stroke-linecap: round\"/>\n     </g>\n     <g id=\"text_18\">\n      <!-- 1.00 -->\n      <g style=\"fill: #262626\" transform=\"translate(13.624688 38.553693)scale(0.11 -0.11)\">\n       <use xlink:href=\"#ArialMT-31\"/>\n       <use xlink:href=\"#ArialMT-2e\" x=\"55.615234\"/>\n       <use xlink:href=\"#ArialMT-30\" x=\"83.398438\"/>\n       <use xlink:href=\"#ArialMT-30\" x=\"139.013672\"/>\n      </g>\n     </g>\n    </g>\n   </g>\n   <g id=\"line2d_19\">\n    <path d=\"M 60.764446 109.78583 \nL 65.639139 95.075608 \nL 69.538893 83.944238 \nL 73.113668 74.400288 \nL 76.038484 67.167463 \nL 78.63832 61.248085 \nL 81.238156 55.873886 \nL 83.513013 51.668842 \nL 85.46289 48.46842 \nL 87.412767 45.669339 \nL 89.362644 43.298173 \nL 90.987542 41.667736 \nL 92.612439 40.366905 \nL 93.912358 39.572776 \nL 95.212276 39.005162 \nL 96.512194 38.670339 \nL 97.812112 38.574221 \nL 99.11203 38.722322 \nL 100.411948 39.119509 \nL 101.711866 39.770237 \nL 103.011784 40.678303 \nL 104.311702 41.846825 \nL 105.61162 43.278176 \nL 107.236518 45.439524 \nL 108.861416 48.015648 \nL 110.486313 51.006023 \nL 112.43619 55.137448 \nL 114.386068 59.852544 \nL 116.335945 65.137468 \nL 118.610801 71.99802 \nL 120.885658 79.569651 \nL 123.485494 89.031478 \nL 126.41031 100.602357 \nL 129.660105 114.436601 \nL 133.55986 132.077974 \nL 139.734471 161.264412 \nL 146.234061 191.748488 \nL 150.133815 208.983325 \nL 153.383611 222.329583 \nL 156.308426 233.344187 \nL 158.908263 242.218627 \nL 161.183119 249.20522 \nL 163.132996 254.577579 \nL 165.082874 259.355929 \nL 167.032751 263.521921 \nL 168.657648 266.51617 \nL 170.282546 269.071097 \nL 171.907444 271.184041 \nL 173.207362 272.555718 \nL 174.50728 273.644906 \nL 175.807198 274.453051 \nL 177.107116 274.982274 \nL 178.407034 275.235449 \nL 179.706952 275.215956 \nL 181.00687 274.927832 \nL 182.306788 274.375392 \nL 183.606706 273.563574 \nL 184.906625 272.497524 \nL 186.206543 271.182805 \nL 187.83144 269.198454 \nL 189.456338 266.846336 \nL 191.081236 264.138586 \nL 193.031113 260.43724 \nL 194.98099 256.26342 \nL 197.255847 250.826169 \nL 199.530703 244.810945 \nL 202.130539 237.273781 \nL 205.055355 228.012376 \nL 207.980171 217.995572 \nL 211.229966 206.073703 \nL 214.804741 192.124646 \nL 219.029475 174.724468 \nL 224.554127 150.955484 \nL 235.278451 104.573846 \nL 239.178205 88.852066 \nL 242.103021 77.889538 \nL 244.702857 68.910521 \nL 246.977714 61.745752 \nL 249.252571 55.303454 \nL 251.202448 50.403656 \nL 253.152325 46.111263 \nL 254.777222 43.015182 \nL 256.40212 40.366473 \nL 258.027018 38.170601 \nL 259.326936 36.741622 \nL 260.626854 35.603606 \nL 261.926772 34.755294 \nL 263.22669 34.194372 \nL 264.526608 33.91798 \nL 265.826526 33.922465 \nL 267.126444 34.204004 \nL 268.426362 34.758327 \nL 269.726281 35.581122 \nL 271.026199 36.667974 \nL 272.326117 38.014701 \nL 273.951014 40.056872 \nL 275.575912 42.490063 \nL 277.20081 45.306209 \nL 279.150687 49.179822 \nL 281.100564 53.579056 \nL 283.050441 58.488789 \nL 285.325298 64.839763 \nL 287.600154 71.832812 \nL 290.199991 80.565633 \nL 293.124806 91.259057 \nL 296.374602 104.093663 \nL 299.949376 119.167748 \nL 304.49909 139.381627 \nL 317.498271 197.864462 \nL 321.073046 212.615936 \nL 323.997861 223.83594 \nL 326.597697 233.040588 \nL 329.197534 241.42917 \nL 331.47239 248.03976 \nL 333.747247 253.925413 \nL 335.697124 258.36738 \nL 337.647001 262.23543 \nL 339.271899 265.011416 \nL 340.896797 267.375918 \nL 342.521694 269.325882 \nL 343.821612 270.587165 \nL 345.12153 271.583075 \nL 346.421448 272.315086 \nL 347.721367 272.78495 \nL 349.021285 272.995227 \nL 350.321203 272.949066 \nL 351.621121 272.650074 \nL 352.921039 272.102681 \nL 354.220957 271.311413 \nL 355.520875 270.281547 \nL 357.145773 268.667039 \nL 358.77067 266.69996 \nL 360.395568 264.392717 \nL 362.345445 261.193258 \nL 364.295322 257.545915 \nL 366.570179 252.756955 \nL 368.845036 247.430319 \nL 371.444872 240.735098 \nL 374.369688 232.498406 \nL 377.294503 223.594625 \nL 380.544299 213.01576 \nL 384.444053 199.508822 \nL 385.418991 196.011802 \nL 385.418991 196.011802 \n\" clip-path=\"url(#pb3e41a55c8)\" style=\"fill: none; stroke: #4c72b0; stroke-width: 1.5; stroke-linecap: round\"/>\n   </g>\n   <g id=\"line2d_20\">\n    <path d=\"M 60.764446 121.515354 \nL 64.98918 103.917246 \nL 68.563955 89.985153 \nL 71.48877 79.42161 \nL 74.088607 70.77108 \nL 76.688443 62.89971 \nL 78.963299 56.708704 \nL 80.913177 51.954572 \nL 82.863054 47.736564 \nL 84.812931 44.076578 \nL 86.437828 41.466658 \nL 88.062726 39.266915 \nL 89.687624 37.485282 \nL 90.987542 36.365384 \nL 92.28746 35.519803 \nL 93.587378 34.95049 \nL 94.887296 34.658759 \nL 96.187214 34.645284 \nL 97.487132 34.910096 \nL 98.78705 35.452584 \nL 100.086969 36.271496 \nL 101.386887 37.364941 \nL 102.686805 38.730395 \nL 104.311702 40.814866 \nL 105.9366 43.311865 \nL 107.561498 46.212387 \nL 109.511375 50.210837 \nL 111.461252 54.754464 \nL 113.736109 60.71278 \nL 116.010965 67.33882 \nL 118.610801 75.668794 \nL 121.210638 84.732735 \nL 124.135453 95.702612 \nL 127.710228 110.040264 \nL 131.934962 127.979608 \nL 138.434552 156.714291 \nL 145.909082 189.549882 \nL 150.133815 207.110784 \nL 153.70859 220.999842 \nL 156.633406 231.520841 \nL 159.233242 240.128443 \nL 161.833078 247.952484 \nL 164.107935 254.098809 \nL 166.057812 258.812465 \nL 168.007689 262.98821 \nL 169.957566 266.604363 \nL 171.582464 269.176722 \nL 173.207362 271.338107 \nL 174.832259 273.080724 \nL 176.132177 274.169031 \nL 177.432095 274.982763 \nL 178.732014 275.520041 \nL 180.031932 275.779627 \nL 181.33185 275.76092 \nL 182.631768 275.463965 \nL 183.931686 274.889445 \nL 185.231604 274.038688 \nL 186.531522 272.913657 \nL 187.83144 271.516949 \nL 189.456338 269.393988 \nL 191.081236 266.85927 \nL 192.706133 263.921936 \nL 194.65601 259.880694 \nL 196.605887 255.295995 \nL 198.880744 249.292218 \nL 201.155601 242.623668 \nL 203.755437 234.249108 \nL 206.680253 223.960091 \nL 209.930048 211.591944 \nL 213.504823 197.055736 \nL 218.054536 177.534812 \nL 234.628492 105.331055 \nL 238.203267 91.300561 \nL 241.128082 80.639362 \nL 243.727919 71.89005 \nL 246.327755 63.909573 \nL 248.602611 57.615417 \nL 250.877468 52.010871 \nL 252.827345 47.786004 \nL 254.777222 44.118903 \nL 256.40212 41.502884 \nL 258.027018 39.296911 \nL 259.651915 37.50894 \nL 260.951833 36.383909 \nL 262.251752 35.533152 \nL 263.55167 34.958633 \nL 264.851588 34.661677 \nL 266.151506 34.642971 \nL 267.451424 34.902556 \nL 268.751342 35.439835 \nL 270.05126 36.253567 \nL 271.351178 37.341873 \nL 272.651096 38.702243 \nL 274.275994 40.78045 \nL 275.900892 43.271309 \nL 277.525789 46.165838 \nL 279.475666 50.15732 \nL 281.425543 54.694256 \nL 283.375421 59.753091 \nL 285.650277 66.279499 \nL 288.250114 74.504813 \nL 290.84995 83.474835 \nL 293.774765 94.352966 \nL 297.34954 108.599977 \nL 301.574274 126.464669 \nL 307.748885 153.708306 \nL 315.873373 189.445476 \nL 320.098107 207.012464 \nL 323.672882 220.908547 \nL 326.597697 231.436486 \nL 329.197534 240.051084 \nL 331.79737 247.882836 \nL 334.072227 254.036439 \nL 336.022104 258.756685 \nL 337.971981 262.93931 \nL 339.921858 266.562596 \nL 341.546756 269.141067 \nL 343.171653 271.308693 \nL 344.796551 273.057657 \nL 346.096469 274.151102 \nL 347.396387 274.970013 \nL 348.696305 275.512501 \nL 349.996223 275.777313 \nL 351.296141 275.763839 \nL 352.596059 275.472108 \nL 353.895978 274.902795 \nL 355.195896 274.057213 \nL 356.495814 272.937315 \nL 357.795732 271.545685 \nL 359.420629 269.428978 \nL 361.045527 266.900387 \nL 362.670425 263.969031 \nL 364.620302 259.934737 \nL 366.570179 255.356706 \nL 368.845036 249.360307 \nL 371.119892 242.698654 \nL 373.719729 234.331326 \nL 376.644544 224.049533 \nL 379.89434 211.688186 \nL 383.469114 197.157853 \nL 385.418991 188.907244 \nL 385.418991 188.907244 \n\" clip-path=\"url(#pb3e41a55c8)\" style=\"fill: none; stroke-dasharray: 5.55,2.4; stroke-dashoffset: 0; stroke: #dd8452; stroke-width: 1.5\"/>\n   </g>\n   <g id=\"patch_3\">\n    <path d=\"M 44.531719 287.901375 \nL 44.531719 21.789375 \n\" style=\"fill: none; stroke: #ffffff; stroke-width: 1.25; stroke-linejoin: miter; stroke-linecap: square\"/>\n   </g>\n   <g id=\"patch_4\">\n    <path d=\"M 401.651719 287.901375 \nL 401.651719 21.789375 \n\" style=\"fill: none; stroke: #ffffff; stroke-width: 1.25; stroke-linejoin: miter; stroke-linecap: square\"/>\n   </g>\n   <g id=\"patch_5\">\n    <path d=\"M 44.531719 287.901375 \nL 401.651719 287.901375 \n\" style=\"fill: none; stroke: #ffffff; stroke-width: 1.25; stroke-linejoin: miter; stroke-linecap: square\"/>\n   </g>\n   <g id=\"patch_6\">\n    <path d=\"M 44.531719 21.789375 \nL 401.651719 21.789375 \n\" style=\"fill: none; stroke: #ffffff; stroke-width: 1.25; stroke-linejoin: miter; stroke-linecap: square\"/>\n   </g>\n   <g id=\"text_19\">\n    <!-- Function regression -->\n    <g style=\"fill: #262626\" transform=\"translate(170.402344 15.789375)scale(0.12 -0.12)\">\n     <defs>\n      <path id=\"ArialMT-46\" d=\"M 525 0 \nL 525 4581 \nL 3616 4581 \nL 3616 4041 \nL 1131 4041 \nL 1131 2622 \nL 3281 2622 \nL 3281 2081 \nL 1131 2081 \nL 1131 0 \nL 525 0 \nz\n\" transform=\"scale(0.015625)\"/>\n      <path id=\"ArialMT-75\" d=\"M 2597 0 \nL 2597 488 \nQ 2209 -75 1544 -75 \nQ 1250 -75 995 37 \nQ 741 150 617 320 \nQ 494 491 444 738 \nQ 409 903 409 1263 \nL 409 3319 \nL 972 3319 \nL 972 1478 \nQ 972 1038 1006 884 \nQ 1059 663 1231 536 \nQ 1403 409 1656 409 \nQ 1909 409 2131 539 \nQ 2353 669 2445 892 \nQ 2538 1116 2538 1541 \nL 2538 3319 \nL 3100 3319 \nL 3100 0 \nL 2597 0 \nz\n\" transform=\"scale(0.015625)\"/>\n      <path id=\"ArialMT-6e\" d=\"M 422 0 \nL 422 3319 \nL 928 3319 \nL 928 2847 \nQ 1294 3394 1984 3394 \nQ 2284 3394 2536 3286 \nQ 2788 3178 2913 3003 \nQ 3038 2828 3088 2588 \nQ 3119 2431 3119 2041 \nL 3119 0 \nL 2556 0 \nL 2556 2019 \nQ 2556 2363 2490 2533 \nQ 2425 2703 2258 2804 \nQ 2091 2906 1866 2906 \nQ 1506 2906 1245 2678 \nQ 984 2450 984 1813 \nL 984 0 \nL 422 0 \nz\n\" transform=\"scale(0.015625)\"/>\n      <path id=\"ArialMT-63\" d=\"M 2588 1216 \nL 3141 1144 \nQ 3050 572 2676 248 \nQ 2303 -75 1759 -75 \nQ 1078 -75 664 370 \nQ 250 816 250 1647 \nQ 250 2184 428 2587 \nQ 606 2991 970 3192 \nQ 1334 3394 1763 3394 \nQ 2303 3394 2647 3120 \nQ 2991 2847 3088 2344 \nL 2541 2259 \nQ 2463 2594 2264 2762 \nQ 2066 2931 1784 2931 \nQ 1359 2931 1093 2626 \nQ 828 2322 828 1663 \nQ 828 994 1084 691 \nQ 1341 388 1753 388 \nQ 2084 388 2306 591 \nQ 2528 794 2588 1216 \nz\n\" transform=\"scale(0.015625)\"/>\n      <path id=\"ArialMT-74\" d=\"M 1650 503 \nL 1731 6 \nQ 1494 -44 1306 -44 \nQ 1000 -44 831 53 \nQ 663 150 594 308 \nQ 525 466 525 972 \nL 525 2881 \nL 113 2881 \nL 113 3319 \nL 525 3319 \nL 525 4141 \nL 1084 4478 \nL 1084 3319 \nL 1650 3319 \nL 1650 2881 \nL 1084 2881 \nL 1084 941 \nQ 1084 700 1114 631 \nQ 1144 563 1211 522 \nQ 1278 481 1403 481 \nQ 1497 481 1650 503 \nz\n\" transform=\"scale(0.015625)\"/>\n      <path id=\"ArialMT-69\" d=\"M 425 3934 \nL 425 4581 \nL 988 4581 \nL 988 3934 \nL 425 3934 \nz\nM 425 0 \nL 425 3319 \nL 988 3319 \nL 988 0 \nL 425 0 \nz\n\" transform=\"scale(0.015625)\"/>\n      <path id=\"ArialMT-6f\" d=\"M 213 1659 \nQ 213 2581 725 3025 \nQ 1153 3394 1769 3394 \nQ 2453 3394 2887 2945 \nQ 3322 2497 3322 1706 \nQ 3322 1066 3130 698 \nQ 2938 331 2570 128 \nQ 2203 -75 1769 -75 \nQ 1072 -75 642 372 \nQ 213 819 213 1659 \nz\nM 791 1659 \nQ 791 1022 1069 705 \nQ 1347 388 1769 388 \nQ 2188 388 2466 706 \nQ 2744 1025 2744 1678 \nQ 2744 2294 2464 2611 \nQ 2184 2928 1769 2928 \nQ 1347 2928 1069 2612 \nQ 791 2297 791 1659 \nz\n\" transform=\"scale(0.015625)\"/>\n      <path id=\"ArialMT-20\" transform=\"scale(0.015625)\"/>\n      <path id=\"ArialMT-72\" d=\"M 416 0 \nL 416 3319 \nL 922 3319 \nL 922 2816 \nQ 1116 3169 1280 3281 \nQ 1444 3394 1641 3394 \nQ 1925 3394 2219 3213 \nL 2025 2691 \nQ 1819 2813 1613 2813 \nQ 1428 2813 1281 2702 \nQ 1134 2591 1072 2394 \nQ 978 2094 978 1738 \nL 978 0 \nL 416 0 \nz\n\" transform=\"scale(0.015625)\"/>\n      <path id=\"ArialMT-65\" d=\"M 2694 1069 \nL 3275 997 \nQ 3138 488 2766 206 \nQ 2394 -75 1816 -75 \nQ 1088 -75 661 373 \nQ 234 822 234 1631 \nQ 234 2469 665 2931 \nQ 1097 3394 1784 3394 \nQ 2450 3394 2872 2941 \nQ 3294 2488 3294 1666 \nQ 3294 1616 3291 1516 \nL 816 1516 \nQ 847 969 1125 678 \nQ 1403 388 1819 388 \nQ 2128 388 2347 550 \nQ 2566 713 2694 1069 \nz\nM 847 1978 \nL 2700 1978 \nQ 2663 2397 2488 2606 \nQ 2219 2931 1791 2931 \nQ 1403 2931 1139 2672 \nQ 875 2413 847 1978 \nz\n\" transform=\"scale(0.015625)\"/>\n      <path id=\"ArialMT-67\" d=\"M 319 -275 \nL 866 -356 \nQ 900 -609 1056 -725 \nQ 1266 -881 1628 -881 \nQ 2019 -881 2231 -725 \nQ 2444 -569 2519 -288 \nQ 2563 -116 2559 434 \nQ 2191 0 1641 0 \nQ 956 0 581 494 \nQ 206 988 206 1678 \nQ 206 2153 378 2554 \nQ 550 2956 876 3175 \nQ 1203 3394 1644 3394 \nQ 2231 3394 2613 2919 \nL 2613 3319 \nL 3131 3319 \nL 3131 450 \nQ 3131 -325 2973 -648 \nQ 2816 -972 2473 -1159 \nQ 2131 -1347 1631 -1347 \nQ 1038 -1347 672 -1080 \nQ 306 -813 319 -275 \nz\nM 784 1719 \nQ 784 1066 1043 766 \nQ 1303 466 1694 466 \nQ 2081 466 2343 764 \nQ 2606 1063 2606 1700 \nQ 2606 2309 2336 2618 \nQ 2066 2928 1684 2928 \nQ 1309 2928 1046 2623 \nQ 784 2319 784 1719 \nz\n\" transform=\"scale(0.015625)\"/>\n      <path id=\"ArialMT-73\" d=\"M 197 991 \nL 753 1078 \nQ 800 744 1014 566 \nQ 1228 388 1613 388 \nQ 2000 388 2187 545 \nQ 2375 703 2375 916 \nQ 2375 1106 2209 1216 \nQ 2094 1291 1634 1406 \nQ 1016 1563 777 1677 \nQ 538 1791 414 1992 \nQ 291 2194 291 2438 \nQ 291 2659 392 2848 \nQ 494 3038 669 3163 \nQ 800 3259 1026 3326 \nQ 1253 3394 1513 3394 \nQ 1903 3394 2198 3281 \nQ 2494 3169 2634 2976 \nQ 2775 2784 2828 2463 \nL 2278 2388 \nQ 2241 2644 2061 2787 \nQ 1881 2931 1553 2931 \nQ 1166 2931 1000 2803 \nQ 834 2675 834 2503 \nQ 834 2394 903 2306 \nQ 972 2216 1119 2156 \nQ 1203 2125 1616 2013 \nQ 2213 1853 2448 1751 \nQ 2684 1650 2818 1456 \nQ 2953 1263 2953 975 \nQ 2953 694 2789 445 \nQ 2625 197 2315 61 \nQ 2006 -75 1616 -75 \nQ 969 -75 630 194 \nQ 291 463 197 991 \nz\n\" transform=\"scale(0.015625)\"/>\n     </defs>\n     <use xlink:href=\"#ArialMT-46\"/>\n     <use xlink:href=\"#ArialMT-75\" x=\"61.083984\"/>\n     <use xlink:href=\"#ArialMT-6e\" x=\"116.699219\"/>\n     <use xlink:href=\"#ArialMT-63\" x=\"172.314453\"/>\n     <use xlink:href=\"#ArialMT-74\" x=\"222.314453\"/>\n     <use xlink:href=\"#ArialMT-69\" x=\"250.097656\"/>\n     <use xlink:href=\"#ArialMT-6f\" x=\"272.314453\"/>\n     <use xlink:href=\"#ArialMT-6e\" x=\"327.929688\"/>\n     <use xlink:href=\"#ArialMT-20\" x=\"383.544922\"/>\n     <use xlink:href=\"#ArialMT-72\" x=\"411.328125\"/>\n     <use xlink:href=\"#ArialMT-65\" x=\"444.628906\"/>\n     <use xlink:href=\"#ArialMT-67\" x=\"500.244141\"/>\n     <use xlink:href=\"#ArialMT-72\" x=\"555.859375\"/>\n     <use xlink:href=\"#ArialMT-65\" x=\"589.160156\"/>\n     <use xlink:href=\"#ArialMT-73\" x=\"644.775391\"/>\n     <use xlink:href=\"#ArialMT-73\" x=\"694.775391\"/>\n     <use xlink:href=\"#ArialMT-69\" x=\"744.775391\"/>\n     <use xlink:href=\"#ArialMT-6f\" x=\"766.992188\"/>\n     <use xlink:href=\"#ArialMT-6e\" x=\"822.607422\"/>\n    </g>\n   </g>\n   <g id=\"legend_1\">\n    <g id=\"patch_7\">\n     <path d=\"M 309.839531 61.709062 \nL 393.951719 61.709062 \nQ 396.151719 61.709062 396.151719 59.509062 \nL 396.151719 29.489375 \nQ 396.151719 27.289375 393.951719 27.289375 \nL 309.839531 27.289375 \nQ 307.639531 27.289375 307.639531 29.489375 \nL 307.639531 59.509062 \nQ 307.639531 61.709062 309.839531 61.709062 \nz\n\" style=\"fill: #eaeaf2; opacity: 0.8; stroke: #cccccc; stroke-linejoin: miter\"/>\n    </g>\n    <g id=\"line2d_21\">\n     <path d=\"M 312.039531 35.712969 \nL 323.039531 35.712969 \nL 334.039531 35.712969 \n\" style=\"fill: none; stroke: #4c72b0; stroke-width: 1.5; stroke-linecap: round\"/>\n    </g>\n    <g id=\"text_20\">\n     <!-- Prediction -->\n     <g style=\"fill: #262626\" transform=\"translate(342.839531 39.562969)scale(0.11 -0.11)\">\n      <defs>\n       <path id=\"ArialMT-50\" d=\"M 494 0 \nL 494 4581 \nL 2222 4581 \nQ 2678 4581 2919 4538 \nQ 3256 4481 3484 4323 \nQ 3713 4166 3852 3881 \nQ 3991 3597 3991 3256 \nQ 3991 2672 3619 2267 \nQ 3247 1863 2275 1863 \nL 1100 1863 \nL 1100 0 \nL 494 0 \nz\nM 1100 2403 \nL 2284 2403 \nQ 2872 2403 3119 2622 \nQ 3366 2841 3366 3238 \nQ 3366 3525 3220 3729 \nQ 3075 3934 2838 4000 \nQ 2684 4041 2272 4041 \nL 1100 4041 \nL 1100 2403 \nz\n\" transform=\"scale(0.015625)\"/>\n       <path id=\"ArialMT-64\" d=\"M 2575 0 \nL 2575 419 \nQ 2259 -75 1647 -75 \nQ 1250 -75 917 144 \nQ 584 363 401 755 \nQ 219 1147 219 1656 \nQ 219 2153 384 2558 \nQ 550 2963 881 3178 \nQ 1213 3394 1622 3394 \nQ 1922 3394 2156 3267 \nQ 2391 3141 2538 2938 \nL 2538 4581 \nL 3097 4581 \nL 3097 0 \nL 2575 0 \nz\nM 797 1656 \nQ 797 1019 1065 703 \nQ 1334 388 1700 388 \nQ 2069 388 2326 689 \nQ 2584 991 2584 1609 \nQ 2584 2291 2321 2609 \nQ 2059 2928 1675 2928 \nQ 1300 2928 1048 2622 \nQ 797 2316 797 1656 \nz\n\" transform=\"scale(0.015625)\"/>\n      </defs>\n      <use xlink:href=\"#ArialMT-50\"/>\n      <use xlink:href=\"#ArialMT-72\" x=\"66.699219\"/>\n      <use xlink:href=\"#ArialMT-65\" x=\"100\"/>\n      <use xlink:href=\"#ArialMT-64\" x=\"155.615234\"/>\n      <use xlink:href=\"#ArialMT-69\" x=\"211.230469\"/>\n      <use xlink:href=\"#ArialMT-63\" x=\"233.447266\"/>\n      <use xlink:href=\"#ArialMT-74\" x=\"283.447266\"/>\n      <use xlink:href=\"#ArialMT-69\" x=\"311.230469\"/>\n      <use xlink:href=\"#ArialMT-6f\" x=\"333.447266\"/>\n      <use xlink:href=\"#ArialMT-6e\" x=\"389.0625\"/>\n     </g>\n    </g>\n    <g id=\"line2d_22\">\n     <path d=\"M 312.039531 51.272812 \nL 323.039531 51.272812 \nL 334.039531 51.272812 \n\" style=\"fill: none; stroke-dasharray: 5.55,2.4; stroke-dashoffset: 0; stroke: #dd8452; stroke-width: 1.5\"/>\n    </g>\n    <g id=\"text_21\">\n     <!-- GT -->\n     <g style=\"fill: #262626\" transform=\"translate(342.839531 55.122812)scale(0.11 -0.11)\">\n      <defs>\n       <path id=\"ArialMT-47\" d=\"M 2638 1797 \nL 2638 2334 \nL 4578 2338 \nL 4578 638 \nQ 4131 281 3656 101 \nQ 3181 -78 2681 -78 \nQ 2006 -78 1454 211 \nQ 903 500 622 1047 \nQ 341 1594 341 2269 \nQ 341 2938 620 3517 \nQ 900 4097 1425 4378 \nQ 1950 4659 2634 4659 \nQ 3131 4659 3532 4498 \nQ 3934 4338 4162 4050 \nQ 4391 3763 4509 3300 \nL 3963 3150 \nQ 3859 3500 3706 3700 \nQ 3553 3900 3268 4020 \nQ 2984 4141 2638 4141 \nQ 2222 4141 1919 4014 \nQ 1616 3888 1430 3681 \nQ 1244 3475 1141 3228 \nQ 966 2803 966 2306 \nQ 966 1694 1177 1281 \nQ 1388 869 1791 669 \nQ 2194 469 2647 469 \nQ 3041 469 3416 620 \nQ 3791 772 3984 944 \nL 3984 1797 \nL 2638 1797 \nz\n\" transform=\"scale(0.015625)\"/>\n       <path id=\"ArialMT-54\" d=\"M 1659 0 \nL 1659 4041 \nL 150 4041 \nL 150 4581 \nL 3781 4581 \nL 3781 4041 \nL 2266 4041 \nL 2266 0 \nL 1659 0 \nz\n\" transform=\"scale(0.015625)\"/>\n      </defs>\n      <use xlink:href=\"#ArialMT-47\"/>\n      <use xlink:href=\"#ArialMT-54\" x=\"77.783203\"/>\n     </g>\n    </g>\n   </g>\n  </g>\n </g>\n <defs>\n  <clipPath id=\"pb3e41a55c8\">\n   <rect x=\"44.531719\" y=\"21.789375\" width=\"357.12\" height=\"266.112\"/>\n  </clipPath>\n </defs>\n</svg>\n",
            "text/plain": [
              "<Figure size 640x480 with 1 Axes>"
            ]
          },
          "metadata": {},
          "output_type": "display_data"
        }
      ],
      "source": [
        "model_bd = trainer.bind_model()\n",
        "x = np.linspace(-2, 2, 1000)[:,None]\n",
        "y_pred = model_bd(x)\n",
        "plt.plot(x, y_pred, label='Prediction')\n",
        "plt.plot(x, target_function(x), '--', label='GT')\n",
        "plt.title('Function regression')\n",
        "plt.legend()\n",
        "plt.show()"
      ]
    },
    {
      "cell_type": "markdown",
      "id": "9db890bb",
      "metadata": {
        "id": "9db890bb"
      },
      "source": [
        "## Example 2: CIFAR10 classification\n",
        "\n",
        "As a second example, let's consider image classification on CIFAR10. We have done it before in [Tutorial 5](https://uvadlc-notebooks.readthedocs.io/en/latest/tutorial_notebooks/JAX/tutorial5/Inception_ResNet_DenseNet.html), but here, we want to showcase the flexibility of the Trainer module. For that, we will consider a more complicated setting in Flax: a model with both Batch Normalization and Dropout. However, with the Trainer module, this reduces to a simpler code again."
      ]
    },
    {
      "cell_type": "markdown",
      "id": "f8a54805",
      "metadata": {
        "id": "f8a54805"
      },
      "source": [
        "### Dataset\n",
        "\n",
        "First, let's load our dataset again. This is the same data loading as used in [Tutorial 5](https://uvadlc-notebooks.readthedocs.io/en/latest/tutorial_notebooks/JAX/tutorial5/Inception_ResNet_DenseNet.html) and [Tutorial 15](https://uvadlc-notebooks.readthedocs.io/en/latest/tutorial_notebooks/JAX/tutorial15/Vision_Transformer.html), but only considers flipping as regularization technique since we work with simple MLPs here."
      ]
    },
    {
      "cell_type": "code",
      "execution_count": 24,
      "id": "fdfb1235",
      "metadata": {
        "id": "fdfb1235",
        "outputId": "8f69673b-e39e-46f7-ce83-f1cc02c3ffaf"
      },
      "outputs": [
        {
          "name": "stdout",
          "output_type": "stream",
          "text": [
            "Files already downloaded and verified\n",
            "Files already downloaded and verified\n",
            "Files already downloaded and verified\n"
          ]
        }
      ],
      "source": [
        "from torchvision.datasets import CIFAR10\n",
        "from torchvision import transforms\n",
        "\n",
        "# Transformations applied on each image => bring them into a numpy array\n",
        "DATA_MEANS = np.array([0.49139968, 0.48215841, 0.44653091])\n",
        "DATA_STD = np.array([0.24703223, 0.24348513, 0.26158784])\n",
        "def image_to_numpy(img):\n",
        "    img = np.array(img, dtype=np.float32)\n",
        "    img = (img / 255. - DATA_MEANS) / DATA_STD\n",
        "    return img\n",
        "\n",
        "\n",
        "test_transform = image_to_numpy\n",
        "# For training, we add some augmentation. Networks are too powerful and would overfit.\n",
        "train_transform = transforms.Compose([transforms.RandomHorizontalFlip(),\n",
        "                                      image_to_numpy])\n",
        "# Loading the training dataset. We need to split it into a training and validation part\n",
        "# We need to do a little trick because the validation set should not use the augmentation.\n",
        "train_dataset = CIFAR10(root=DATASET_PATH, train=True, transform=train_transform, download=True)\n",
        "val_dataset = CIFAR10(root=DATASET_PATH, train=True, transform=test_transform, download=True)\n",
        "train_set, _ = data.random_split(train_dataset, [45000, 5000], generator=torch.Generator().manual_seed(42))\n",
        "_, val_set = data.random_split(val_dataset, [45000, 5000], generator=torch.Generator().manual_seed(42))\n",
        "\n",
        "# Loading the test set\n",
        "test_set = CIFAR10(root=DATASET_PATH, train=False, transform=test_transform, download=True)\n",
        "\n",
        "train_loader, val_loader, test_loader = create_data_loaders(train_set, val_set, test_set,\n",
        "                                                            train=[False, False, False],\n",
        "                                                            batch_size=256,num_workers=0)"
      ]
    },
    {
      "cell_type": "markdown",
      "id": "b83f6b66",
      "metadata": {
        "id": "b83f6b66"
      },
      "source": [
        "### Model\n",
        "\n",
        "The model definition is again relatively simple. We repeat a series of Dropout $\\to$ Linear $\\to$ BatchNorm $\\to$ Swish blocks, with a final Dropout and Linear layer at the end."
      ]
    },
    {
      "cell_type": "code",
      "execution_count": 25,
      "id": "fc749501",
      "metadata": {
        "id": "fc749501"
      },
      "outputs": [],
      "source": [
        "class MLPClassifier(nn.Module):\n",
        "    hidden_dims : Sequence[int]\n",
        "    num_classes : int\n",
        "    dropout_prob : float = 0.0\n",
        "        \n",
        "    @nn.compact\n",
        "    def __call__(self, x, train=True):\n",
        "        x = x.reshape(x.shape[0], -1)\n",
        "        for dims in self.hidden_dims:\n",
        "            x = nn.Dropout(self.dropout_prob)(x, deterministic=not train)\n",
        "            x = nn.Dense(dims)(x)\n",
        "            x = nn.BatchNorm()(x, use_running_average=not train)\n",
        "            x = nn.swish(x)\n",
        "        x = nn.Dropout(self.dropout_prob)(x, deterministic=not train)\n",
        "        x = nn.Dense(self.num_classes)(x)\n",
        "        return x"
      ]
    },
    {
      "cell_type": "markdown",
      "id": "7cf22ac7",
      "metadata": {
        "id": "7cf22ac7"
      },
      "source": [
        "### Trainer\n",
        "\n",
        "For the Trainer module, we again define our model hyperparameters in the init function, and write our own training and evaluation steps in `create_functions`. In these functions, we take care of the mutable batch statistics and the PRNG state for dropout. Note that since both parts are integrated in the `TrainState`, we do not need to alternate the training or validation step signature, and it is sufficient to pass the state and batch to the functions. Additionally, we overwrite the model call during initialization (`run_model_init`) and tabulate function (`print_tabulate`). And that's it! Overall, we didn't need to make many changes, showing that the trainer module is flexible enough to support a variety of layers. For now, we can ignore the `trial` object and come back to it later when discussing automated hyperparameter tuning."
      ]
    },
    {
      "cell_type": "code",
      "execution_count": 26,
      "id": "6a945b8e",
      "metadata": {
        "id": "6a945b8e"
      },
      "outputs": [],
      "source": [
        "class MLPClassTrainer(TrainerModule):\n",
        "    \n",
        "    def __init__(self,\n",
        "                 hidden_dims : Sequence[int],\n",
        "                 num_classes : int,\n",
        "                 dropout_prob : float,\n",
        "                 trial : Any = None,\n",
        "                 **kwargs):\n",
        "        super().__init__(model_class=MLPClassifier,\n",
        "                         model_hparams={\n",
        "                             'hidden_dims': hidden_dims,\n",
        "                             'num_classes': num_classes,\n",
        "                             'dropout_prob': dropout_prob\n",
        "                         },\n",
        "                         **kwargs)\n",
        "        self.trial = trial\n",
        "    \n",
        "    def create_functions(self):\n",
        "        def loss_function(params, batch_stats, rng, batch, train):\n",
        "            imgs, labels = batch\n",
        "            rng, dropout_rng = random.split(rng)\n",
        "            output = self.model.apply({'params': params, 'batch_stats': batch_stats},\n",
        "                                      imgs,\n",
        "                                      train=train,\n",
        "                                      rngs={'dropout': dropout_rng},\n",
        "                                      mutable=['batch_stats'] if train else False)\n",
        "            logits, new_model_state = output if train else (output, None)\n",
        "            loss = optax.softmax_cross_entropy_with_integer_labels(logits, labels).mean()\n",
        "            acc = (logits.argmax(axis=-1) == labels).mean()\n",
        "            return loss, (rng, new_model_state, acc)\n",
        "        \n",
        "        def train_step(state, batch):\n",
        "            loss_fn = lambda params: loss_function(params, state.batch_stats, state.rng, batch, train=True)\n",
        "            ret, grads = jax.value_and_grad(loss_fn, has_aux=True)(state.params)\n",
        "            loss, rng, new_model_state, acc = ret[0], *ret[1]\n",
        "            state = state.apply_gradients(grads=grads, batch_stats=new_model_state['batch_stats'], rng=rng)\n",
        "            metrics = {'loss': loss, 'acc': acc}\n",
        "            return state, metrics\n",
        "        \n",
        "        def eval_step(state, batch):\n",
        "            _, (_, _, acc) = loss_function(state.params, state.batch_stats, state.rng, batch, train=False)\n",
        "            return {'acc': acc}\n",
        "        \n",
        "        return train_step, eval_step\n",
        "    \n",
        "    def run_model_init(self, exmp_input, init_rng):\n",
        "        imgs, _ = exmp_input\n",
        "        init_rng, dropout_rng = random.split(init_rng)\n",
        "        return self.model.init({'params': init_rng, 'dropout': dropout_rng}, x=imgs, train=True)\n",
        "    \n",
        "    def print_tabulate(self, exmp_input):\n",
        "        imgs, _ = exmp_input\n",
        "        print(self.model.tabulate(rngs={'params': random.PRNGKey(0), 'dropout': random.PRNGKey(0)}, x=imgs, train=True))\n",
        "        \n",
        "    def on_validation_epoch_end(self, epoch_idx, eval_metrics, val_loader):\n",
        "        if self.trial:\n",
        "            self.trial.report(eval_metrics['val/acc'], step=epoch_idx)\n",
        "            if self.trial.should_prune():\n",
        "                raise optuna.exceptions.TrialPruned()"
      ]
    },
    {
      "cell_type": "markdown",
      "id": "101d2ff3",
      "metadata": {
        "id": "101d2ff3"
      },
      "source": [
        "### Training\n",
        "\n",
        "With the Trainer fully defined, we can again start training. Let's pick some reasonable hyperparameters, and look at the layers created by the model:"
      ]
    },
    {
      "cell_type": "code",
      "execution_count": 27,
      "id": "cb3a3899",
      "metadata": {
        "id": "cb3a3899",
        "outputId": "bd9a614e-91d8-46dc-a4c1-64f8f6c50b81"
      },
      "outputs": [
        {
          "name": "stdout",
          "output_type": "stream",
          "text": [
            "\n",
            "\u001b[3m                             MLPClassifier Summary                              \u001b[0m\n",
            "┏━━━━━━━━━━━━┳━━━━━━━━━━━━┳━━━━━━━━━━━━┳━━━━━━━━━━━━┳━━━━━━━━━━━━━┳━━━━━━━━━━━━┓\n",
            "┃\u001b[1m \u001b[0m\u001b[1mpath      \u001b[0m\u001b[1m \u001b[0m┃\u001b[1m \u001b[0m\u001b[1mmodule    \u001b[0m\u001b[1m \u001b[0m┃\u001b[1m \u001b[0m\u001b[1minputs    \u001b[0m\u001b[1m \u001b[0m┃\u001b[1m \u001b[0m\u001b[1moutputs   \u001b[0m\u001b[1m \u001b[0m┃\u001b[1m \u001b[0m\u001b[1mparams     \u001b[0m\u001b[1m \u001b[0m┃\u001b[1m \u001b[0m\u001b[1mbatch_sta…\u001b[0m\u001b[1m \u001b[0m┃\n",
            "┡━━━━━━━━━━━━╇━━━━━━━━━━━━╇━━━━━━━━━━━━╇━━━━━━━━━━━━╇━━━━━━━━━━━━━╇━━━━━━━━━━━━┩\n",
            "│            │ MLPClassi… │ train:     │ \u001b[2mfloat32\u001b[0m[2… │             │            │\n",
            "│            │            │ True       │            │             │            │\n",
            "│            │            │ x:         │            │             │            │\n",
            "│            │            │ \u001b[2mfloat32\u001b[0m[2… │            │             │            │\n",
            "├────────────┼────────────┼────────────┼────────────┼─────────────┼────────────┤\n",
            "│ Dropout_0  │ Dropout    │ -          │ \u001b[2mfloat32\u001b[0m[2… │             │            │\n",
            "│            │            │ \u001b[2mfloat32\u001b[0m[2… │            │             │            │\n",
            "│            │            │ -          │            │             │            │\n",
            "│            │            │ determini… │            │             │            │\n",
            "│            │            │ False      │            │             │            │\n",
            "├────────────┼────────────┼────────────┼────────────┼─────────────┼────────────┤\n",
            "│ Dense_0    │ Dense      │ \u001b[2mfloat32\u001b[0m[2… │ \u001b[2mfloat32\u001b[0m[2… │ bias:       │            │\n",
            "│            │            │            │            │ \u001b[2mfloat32\u001b[0m[51… │            │\n",
            "│            │            │            │            │ kernel:     │            │\n",
            "│            │            │            │            │ \u001b[2mfloat32\u001b[0m[30… │            │\n",
            "│            │            │            │            │             │            │\n",
            "│            │            │            │            │ \u001b[1m1,573,376 \u001b[0m  │            │\n",
            "│            │            │            │            │ \u001b[1;2m(6.3 MB)\u001b[0m    │            │\n",
            "├────────────┼────────────┼────────────┼────────────┼─────────────┼────────────┤\n",
            "│ BatchNorm… │ BatchNorm  │ -          │ \u001b[2mfloat32\u001b[0m[2… │ bias:       │ mean:      │\n",
            "│            │            │ \u001b[2mfloat32\u001b[0m[2… │            │ \u001b[2mfloat32\u001b[0m[51… │ \u001b[2mfloat32\u001b[0m[5… │\n",
            "│            │            │ -          │            │ scale:      │ var:       │\n",
            "│            │            │ use_runni… │            │ \u001b[2mfloat32\u001b[0m[51… │ \u001b[2mfloat32\u001b[0m[5… │\n",
            "│            │            │ False      │            │             │            │\n",
            "│            │            │            │            │ \u001b[1m1,024 \u001b[0m\u001b[1;2m(4.1 \u001b[0m │ \u001b[1m1,024 \u001b[0m\u001b[1;2m(4.1\u001b[0m │\n",
            "│            │            │            │            │ \u001b[1;2mKB)\u001b[0m         │ \u001b[1;2mKB)\u001b[0m        │\n",
            "├────────────┼────────────┼────────────┼────────────┼─────────────┼────────────┤\n",
            "│ Dropout_1  │ Dropout    │ -          │ \u001b[2mfloat32\u001b[0m[2… │             │            │\n",
            "│            │            │ \u001b[2mfloat32\u001b[0m[2… │            │             │            │\n",
            "│            │            │ -          │            │             │            │\n",
            "│            │            │ determini… │            │             │            │\n",
            "│            │            │ False      │            │             │            │\n",
            "├────────────┼────────────┼────────────┼────────────┼─────────────┼────────────┤\n",
            "│ Dense_1    │ Dense      │ \u001b[2mfloat32\u001b[0m[2… │ \u001b[2mfloat32\u001b[0m[2… │ bias:       │            │\n",
            "│            │            │            │            │ \u001b[2mfloat32\u001b[0m[51… │            │\n",
            "│            │            │            │            │ kernel:     │            │\n",
            "│            │            │            │            │ \u001b[2mfloat32\u001b[0m[51… │            │\n",
            "│            │            │            │            │             │            │\n",
            "│            │            │            │            │ \u001b[1m262,656 \u001b[0m    │            │\n",
            "│            │            │            │            │ \u001b[1;2m(1.1 MB)\u001b[0m    │            │\n",
            "├────────────┼────────────┼────────────┼────────────┼─────────────┼────────────┤\n",
            "│ BatchNorm… │ BatchNorm  │ -          │ \u001b[2mfloat32\u001b[0m[2… │ bias:       │ mean:      │\n",
            "│            │            │ \u001b[2mfloat32\u001b[0m[2… │            │ \u001b[2mfloat32\u001b[0m[51… │ \u001b[2mfloat32\u001b[0m[5… │\n",
            "│            │            │ -          │            │ scale:      │ var:       │\n",
            "│            │            │ use_runni… │            │ \u001b[2mfloat32\u001b[0m[51… │ \u001b[2mfloat32\u001b[0m[5… │\n",
            "│            │            │ False      │            │             │            │\n",
            "│            │            │            │            │ \u001b[1m1,024 \u001b[0m\u001b[1;2m(4.1 \u001b[0m │ \u001b[1m1,024 \u001b[0m\u001b[1;2m(4.1\u001b[0m │\n",
            "│            │            │            │            │ \u001b[1;2mKB)\u001b[0m         │ \u001b[1;2mKB)\u001b[0m        │\n",
            "├────────────┼────────────┼────────────┼────────────┼─────────────┼────────────┤\n",
            "│ Dropout_2  │ Dropout    │ -          │ \u001b[2mfloat32\u001b[0m[2… │             │            │\n",
            "│            │            │ \u001b[2mfloat32\u001b[0m[2… │            │             │            │\n",
            "│            │            │ -          │            │             │            │\n",
            "│            │            │ determini… │            │             │            │\n",
            "│            │            │ False      │            │             │            │\n",
            "├────────────┼────────────┼────────────┼────────────┼─────────────┼────────────┤\n",
            "│ Dense_2    │ Dense      │ \u001b[2mfloat32\u001b[0m[2… │ \u001b[2mfloat32\u001b[0m[2… │ bias:       │            │\n",
            "│            │            │            │            │ \u001b[2mfloat32\u001b[0m[10] │            │\n",
            "│            │            │            │            │ kernel:     │            │\n",
            "│            │            │            │            │ \u001b[2mfloat32\u001b[0m[51… │            │\n",
            "│            │            │            │            │             │            │\n",
            "│            │            │            │            │ \u001b[1m5,130 \u001b[0m\u001b[1;2m(20.5\u001b[0m │            │\n",
            "│            │            │            │            │ \u001b[1;2mKB)\u001b[0m         │            │\n",
            "├────────────┼────────────┼────────────┼────────────┼─────────────┼────────────┤\n",
            "│\u001b[1m \u001b[0m\u001b[1m          \u001b[0m\u001b[1m \u001b[0m│\u001b[1m \u001b[0m\u001b[1m          \u001b[0m\u001b[1m \u001b[0m│\u001b[1m \u001b[0m\u001b[1m          \u001b[0m\u001b[1m \u001b[0m│\u001b[1m \u001b[0m\u001b[1m     Total\u001b[0m\u001b[1m \u001b[0m│\u001b[1m \u001b[0m\u001b[1m1,843,210  \u001b[0m\u001b[1m \u001b[0m│\u001b[1m \u001b[0m\u001b[1m2,048 \u001b[0m\u001b[1;2m(8.2\u001b[0m\u001b[1m \u001b[0m│\n",
            "│\u001b[1m            \u001b[0m│\u001b[1m            \u001b[0m│\u001b[1m            \u001b[0m│\u001b[1m            \u001b[0m│\u001b[1m \u001b[0m\u001b[1;2m(7.4 MB)\u001b[0m\u001b[1m   \u001b[0m\u001b[1m \u001b[0m│\u001b[1m \u001b[0m\u001b[1;2mKB)\u001b[0m\u001b[1m       \u001b[0m\u001b[1m \u001b[0m│\n",
            "└────────────┴────────────┴────────────┴────────────┴─────────────┴────────────┘\n",
            "\u001b[1m                                                                                \u001b[0m\n",
            "\u001b[1m                      Total Parameters: 1,845,258 \u001b[0m\u001b[1;2m(7.4 MB)\u001b[0m\u001b[1m                      \u001b[0m\n",
            "\n",
            "\n"
          ]
        }
      ],
      "source": [
        "trainer = MLPClassTrainer(hidden_dims=[512, 512],\n",
        "                          num_classes=10,\n",
        "                          dropout_prob=0.4,\n",
        "                          optimizer_hparams={\n",
        "                              'weight_decay': 2e-4,\n",
        "                              'lr': 1e-3\n",
        "                          },\n",
        "                          logger_params={\n",
        "                              'base_log_dir': CHECKPOINT_PATH\n",
        "                          },\n",
        "                          exmp_input=next(iter(train_loader)),\n",
        "                          check_val_every_n_epoch=5)"
      ]
    },
    {
      "cell_type": "markdown",
      "id": "64f59fac",
      "metadata": {
        "id": "64f59fac"
      },
      "source": [
        "One interesting observation here is that the MLP has way more parameters than any of the CNNs in [Tutorial 5](https://uvadlc-notebooks.readthedocs.io/en/latest/tutorial_notebooks/JAX/tutorial5/Inception_ResNet_DenseNet.html), but yet significantly underperforms the models. Although to really see the performance, let's train the model again with the simple call from before:"
      ]
    },
    {
      "cell_type": "code",
      "execution_count": 28,
      "id": "ddeb5a9e",
      "metadata": {
        "id": "ddeb5a9e"
      },
      "outputs": [
        {
          "data": {
            "application/vnd.jupyter.widget-view+json": {
              "model_id": "07e8456683784b018df6cc878ee9f9ea",
              "version_major": 2,
              "version_minor": 0
            },
            "text/plain": [
              "Epochs:   0%|          | 0/50 [00:00<?, ?it/s]"
            ]
          },
          "metadata": {},
          "output_type": "display_data"
        },
        {
          "data": {
            "application/vnd.jupyter.widget-view+json": {
              "model_id": "db840b65b1814682b5d161d70b6e2b94",
              "version_major": 2,
              "version_minor": 0
            },
            "text/plain": [
              "Training:   0%|          | 0/176 [00:00<?, ?it/s]"
            ]
          },
          "metadata": {},
          "output_type": "display_data"
        },
        {
          "data": {
            "application/vnd.jupyter.widget-view+json": {
              "model_id": "17bffc7b4f0b40d2920ccce69af05dbf",
              "version_major": 2,
              "version_minor": 0
            },
            "text/plain": [
              "Training:   0%|          | 0/176 [00:00<?, ?it/s]"
            ]
          },
          "metadata": {},
          "output_type": "display_data"
        },
        {
          "data": {
            "application/vnd.jupyter.widget-view+json": {
              "model_id": "fcf9088b46fb465fbd0d840470e847b4",
              "version_major": 2,
              "version_minor": 0
            },
            "text/plain": [
              "Training:   0%|          | 0/176 [00:00<?, ?it/s]"
            ]
          },
          "metadata": {},
          "output_type": "display_data"
        },
        {
          "data": {
            "application/vnd.jupyter.widget-view+json": {
              "model_id": "47797707462b47fd8a491ec6b9518010",
              "version_major": 2,
              "version_minor": 0
            },
            "text/plain": [
              "Training:   0%|          | 0/176 [00:00<?, ?it/s]"
            ]
          },
          "metadata": {},
          "output_type": "display_data"
        },
        {
          "data": {
            "application/vnd.jupyter.widget-view+json": {
              "model_id": "54386742c064431384c237a35798e38f",
              "version_major": 2,
              "version_minor": 0
            },
            "text/plain": [
              "Training:   0%|          | 0/176 [00:00<?, ?it/s]"
            ]
          },
          "metadata": {},
          "output_type": "display_data"
        },
        {
          "data": {
            "application/vnd.jupyter.widget-view+json": {
              "model_id": "fa2b14d6d812482cb5c9da52767ca213",
              "version_major": 2,
              "version_minor": 0
            },
            "text/plain": [
              "Training:   0%|          | 0/176 [00:00<?, ?it/s]"
            ]
          },
          "metadata": {},
          "output_type": "display_data"
        },
        {
          "data": {
            "application/vnd.jupyter.widget-view+json": {
              "model_id": "935b7712aed548df9d2d4c41203588ce",
              "version_major": 2,
              "version_minor": 0
            },
            "text/plain": [
              "Training:   0%|          | 0/176 [00:00<?, ?it/s]"
            ]
          },
          "metadata": {},
          "output_type": "display_data"
        },
        {
          "data": {
            "application/vnd.jupyter.widget-view+json": {
              "model_id": "743f3216a84046f8913569699941c5f8",
              "version_major": 2,
              "version_minor": 0
            },
            "text/plain": [
              "Training:   0%|          | 0/176 [00:00<?, ?it/s]"
            ]
          },
          "metadata": {},
          "output_type": "display_data"
        },
        {
          "data": {
            "application/vnd.jupyter.widget-view+json": {
              "model_id": "a3b3bfb1a6b041618d67bf0fde0c8e6d",
              "version_major": 2,
              "version_minor": 0
            },
            "text/plain": [
              "Training:   0%|          | 0/176 [00:00<?, ?it/s]"
            ]
          },
          "metadata": {},
          "output_type": "display_data"
        },
        {
          "data": {
            "application/vnd.jupyter.widget-view+json": {
              "model_id": "2f3db0c7784247458e6213ee0de7700e",
              "version_major": 2,
              "version_minor": 0
            },
            "text/plain": [
              "Training:   0%|          | 0/176 [00:00<?, ?it/s]"
            ]
          },
          "metadata": {},
          "output_type": "display_data"
        },
        {
          "data": {
            "application/vnd.jupyter.widget-view+json": {
              "model_id": "56aa833579ee4affb9cdb14d604835ad",
              "version_major": 2,
              "version_minor": 0
            },
            "text/plain": [
              "Training:   0%|          | 0/176 [00:00<?, ?it/s]"
            ]
          },
          "metadata": {},
          "output_type": "display_data"
        },
        {
          "data": {
            "application/vnd.jupyter.widget-view+json": {
              "model_id": "812471f571cf449589a37dc110054c29",
              "version_major": 2,
              "version_minor": 0
            },
            "text/plain": [
              "Training:   0%|          | 0/176 [00:00<?, ?it/s]"
            ]
          },
          "metadata": {},
          "output_type": "display_data"
        },
        {
          "data": {
            "application/vnd.jupyter.widget-view+json": {
              "model_id": "8469cee4b2dc43d7b663295ff2598d05",
              "version_major": 2,
              "version_minor": 0
            },
            "text/plain": [
              "Training:   0%|          | 0/176 [00:00<?, ?it/s]"
            ]
          },
          "metadata": {},
          "output_type": "display_data"
        },
        {
          "data": {
            "application/vnd.jupyter.widget-view+json": {
              "model_id": "43fc71b0981b4666b6d2fb4c615a4e81",
              "version_major": 2,
              "version_minor": 0
            },
            "text/plain": [
              "Training:   0%|          | 0/176 [00:00<?, ?it/s]"
            ]
          },
          "metadata": {},
          "output_type": "display_data"
        },
        {
          "data": {
            "application/vnd.jupyter.widget-view+json": {
              "model_id": "c9880db62aa74b609bb5685bfa6f4c1f",
              "version_major": 2,
              "version_minor": 0
            },
            "text/plain": [
              "Training:   0%|          | 0/176 [00:00<?, ?it/s]"
            ]
          },
          "metadata": {},
          "output_type": "display_data"
        },
        {
          "data": {
            "application/vnd.jupyter.widget-view+json": {
              "model_id": "928901b6c440490daba9fa76bb4fb9a3",
              "version_major": 2,
              "version_minor": 0
            },
            "text/plain": [
              "Training:   0%|          | 0/176 [00:00<?, ?it/s]"
            ]
          },
          "metadata": {},
          "output_type": "display_data"
        },
        {
          "data": {
            "application/vnd.jupyter.widget-view+json": {
              "model_id": "5b0c10c8389847e0addb2e87133a09cb",
              "version_major": 2,
              "version_minor": 0
            },
            "text/plain": [
              "Training:   0%|          | 0/176 [00:00<?, ?it/s]"
            ]
          },
          "metadata": {},
          "output_type": "display_data"
        },
        {
          "data": {
            "application/vnd.jupyter.widget-view+json": {
              "model_id": "28ae81fd04184ee198fc1f1398b41072",
              "version_major": 2,
              "version_minor": 0
            },
            "text/plain": [
              "Training:   0%|          | 0/176 [00:00<?, ?it/s]"
            ]
          },
          "metadata": {},
          "output_type": "display_data"
        },
        {
          "data": {
            "application/vnd.jupyter.widget-view+json": {
              "model_id": "c399670fb3534af0af559beac1f990b5",
              "version_major": 2,
              "version_minor": 0
            },
            "text/plain": [
              "Training:   0%|          | 0/176 [00:00<?, ?it/s]"
            ]
          },
          "metadata": {},
          "output_type": "display_data"
        },
        {
          "data": {
            "application/vnd.jupyter.widget-view+json": {
              "model_id": "30c7fdd5dac747e4a731102a6070a5b6",
              "version_major": 2,
              "version_minor": 0
            },
            "text/plain": [
              "Training:   0%|          | 0/176 [00:00<?, ?it/s]"
            ]
          },
          "metadata": {},
          "output_type": "display_data"
        },
        {
          "data": {
            "application/vnd.jupyter.widget-view+json": {
              "model_id": "cbd9d545d93042ef9ccad1344db8030a",
              "version_major": 2,
              "version_minor": 0
            },
            "text/plain": [
              "Training:   0%|          | 0/176 [00:00<?, ?it/s]"
            ]
          },
          "metadata": {},
          "output_type": "display_data"
        },
        {
          "data": {
            "application/vnd.jupyter.widget-view+json": {
              "model_id": "2d6858937b6146eaa7ee97df82ee80ca",
              "version_major": 2,
              "version_minor": 0
            },
            "text/plain": [
              "Training:   0%|          | 0/176 [00:00<?, ?it/s]"
            ]
          },
          "metadata": {},
          "output_type": "display_data"
        },
        {
          "data": {
            "application/vnd.jupyter.widget-view+json": {
              "model_id": "048dd11c41a04390be66597682723725",
              "version_major": 2,
              "version_minor": 0
            },
            "text/plain": [
              "Training:   0%|          | 0/176 [00:00<?, ?it/s]"
            ]
          },
          "metadata": {},
          "output_type": "display_data"
        },
        {
          "data": {
            "application/vnd.jupyter.widget-view+json": {
              "model_id": "03456fb3be874e28b69f5037c6635021",
              "version_major": 2,
              "version_minor": 0
            },
            "text/plain": [
              "Training:   0%|          | 0/176 [00:00<?, ?it/s]"
            ]
          },
          "metadata": {},
          "output_type": "display_data"
        },
        {
          "data": {
            "application/vnd.jupyter.widget-view+json": {
              "model_id": "4cda1df5df5b4f72ab065635d3cf2f61",
              "version_major": 2,
              "version_minor": 0
            },
            "text/plain": [
              "Training:   0%|          | 0/176 [00:00<?, ?it/s]"
            ]
          },
          "metadata": {},
          "output_type": "display_data"
        },
        {
          "data": {
            "application/vnd.jupyter.widget-view+json": {
              "model_id": "39c482532c5b4ec8b56f74efa5cea6fc",
              "version_major": 2,
              "version_minor": 0
            },
            "text/plain": [
              "Training:   0%|          | 0/176 [00:00<?, ?it/s]"
            ]
          },
          "metadata": {},
          "output_type": "display_data"
        },
        {
          "data": {
            "application/vnd.jupyter.widget-view+json": {
              "model_id": "7fac644f06894e99bcdc13f7fa084492",
              "version_major": 2,
              "version_minor": 0
            },
            "text/plain": [
              "Training:   0%|          | 0/176 [00:00<?, ?it/s]"
            ]
          },
          "metadata": {},
          "output_type": "display_data"
        },
        {
          "data": {
            "application/vnd.jupyter.widget-view+json": {
              "model_id": "4303cd4a81c74525bde7937242f51787",
              "version_major": 2,
              "version_minor": 0
            },
            "text/plain": [
              "Training:   0%|          | 0/176 [00:00<?, ?it/s]"
            ]
          },
          "metadata": {},
          "output_type": "display_data"
        },
        {
          "data": {
            "application/vnd.jupyter.widget-view+json": {
              "model_id": "fcacbf28d2a74936b79180fea2865299",
              "version_major": 2,
              "version_minor": 0
            },
            "text/plain": [
              "Training:   0%|          | 0/176 [00:00<?, ?it/s]"
            ]
          },
          "metadata": {},
          "output_type": "display_data"
        },
        {
          "data": {
            "application/vnd.jupyter.widget-view+json": {
              "model_id": "05c73e6a26fe4bf682f8552e9103ca25",
              "version_major": 2,
              "version_minor": 0
            },
            "text/plain": [
              "Training:   0%|          | 0/176 [00:00<?, ?it/s]"
            ]
          },
          "metadata": {},
          "output_type": "display_data"
        },
        {
          "data": {
            "application/vnd.jupyter.widget-view+json": {
              "model_id": "f37d889a368d4119bc6ced6f7fec5170",
              "version_major": 2,
              "version_minor": 0
            },
            "text/plain": [
              "Training:   0%|          | 0/176 [00:00<?, ?it/s]"
            ]
          },
          "metadata": {},
          "output_type": "display_data"
        },
        {
          "data": {
            "application/vnd.jupyter.widget-view+json": {
              "model_id": "41706f76315340ac96ffa299ba57c011",
              "version_major": 2,
              "version_minor": 0
            },
            "text/plain": [
              "Training:   0%|          | 0/176 [00:00<?, ?it/s]"
            ]
          },
          "metadata": {},
          "output_type": "display_data"
        },
        {
          "data": {
            "application/vnd.jupyter.widget-view+json": {
              "model_id": "848c032e205f4af98a07f2655fd4a323",
              "version_major": 2,
              "version_minor": 0
            },
            "text/plain": [
              "Training:   0%|          | 0/176 [00:00<?, ?it/s]"
            ]
          },
          "metadata": {},
          "output_type": "display_data"
        },
        {
          "data": {
            "application/vnd.jupyter.widget-view+json": {
              "model_id": "9f71e13101b84dfa8153cd997b3f6103",
              "version_major": 2,
              "version_minor": 0
            },
            "text/plain": [
              "Training:   0%|          | 0/176 [00:00<?, ?it/s]"
            ]
          },
          "metadata": {},
          "output_type": "display_data"
        },
        {
          "data": {
            "application/vnd.jupyter.widget-view+json": {
              "model_id": "c32668b1646f45e9b4c66bf16ce81670",
              "version_major": 2,
              "version_minor": 0
            },
            "text/plain": [
              "Training:   0%|          | 0/176 [00:00<?, ?it/s]"
            ]
          },
          "metadata": {},
          "output_type": "display_data"
        },
        {
          "data": {
            "application/vnd.jupyter.widget-view+json": {
              "model_id": "f290418bd2864bca9afbd471147612a4",
              "version_major": 2,
              "version_minor": 0
            },
            "text/plain": [
              "Training:   0%|          | 0/176 [00:00<?, ?it/s]"
            ]
          },
          "metadata": {},
          "output_type": "display_data"
        },
        {
          "data": {
            "application/vnd.jupyter.widget-view+json": {
              "model_id": "69f1b5db38d044819b03ffb5244d454f",
              "version_major": 2,
              "version_minor": 0
            },
            "text/plain": [
              "Training:   0%|          | 0/176 [00:00<?, ?it/s]"
            ]
          },
          "metadata": {},
          "output_type": "display_data"
        },
        {
          "data": {
            "application/vnd.jupyter.widget-view+json": {
              "model_id": "c92ae30a31eb41209d7442b991448561",
              "version_major": 2,
              "version_minor": 0
            },
            "text/plain": [
              "Training:   0%|          | 0/176 [00:00<?, ?it/s]"
            ]
          },
          "metadata": {},
          "output_type": "display_data"
        },
        {
          "data": {
            "application/vnd.jupyter.widget-view+json": {
              "model_id": "1a9e5ec35f6441dc910d214c55a181db",
              "version_major": 2,
              "version_minor": 0
            },
            "text/plain": [
              "Training:   0%|          | 0/176 [00:00<?, ?it/s]"
            ]
          },
          "metadata": {},
          "output_type": "display_data"
        },
        {
          "data": {
            "application/vnd.jupyter.widget-view+json": {
              "model_id": "17d5c137bf664d3e8bd7e7159f4223da",
              "version_major": 2,
              "version_minor": 0
            },
            "text/plain": [
              "Training:   0%|          | 0/176 [00:00<?, ?it/s]"
            ]
          },
          "metadata": {},
          "output_type": "display_data"
        },
        {
          "data": {
            "application/vnd.jupyter.widget-view+json": {
              "model_id": "eb911928583b4fddb7d48f486bebb0f6",
              "version_major": 2,
              "version_minor": 0
            },
            "text/plain": [
              "Training:   0%|          | 0/176 [00:00<?, ?it/s]"
            ]
          },
          "metadata": {},
          "output_type": "display_data"
        },
        {
          "data": {
            "application/vnd.jupyter.widget-view+json": {
              "model_id": "b7daa146602f465ab3a353903ede3a6f",
              "version_major": 2,
              "version_minor": 0
            },
            "text/plain": [
              "Training:   0%|          | 0/176 [00:00<?, ?it/s]"
            ]
          },
          "metadata": {},
          "output_type": "display_data"
        },
        {
          "data": {
            "application/vnd.jupyter.widget-view+json": {
              "model_id": "46a9479c682d4d20b999be2eaefef87a",
              "version_major": 2,
              "version_minor": 0
            },
            "text/plain": [
              "Training:   0%|          | 0/176 [00:00<?, ?it/s]"
            ]
          },
          "metadata": {},
          "output_type": "display_data"
        },
        {
          "data": {
            "application/vnd.jupyter.widget-view+json": {
              "model_id": "2b9b3fbfe0514484896cca707bb3f945",
              "version_major": 2,
              "version_minor": 0
            },
            "text/plain": [
              "Training:   0%|          | 0/176 [00:00<?, ?it/s]"
            ]
          },
          "metadata": {},
          "output_type": "display_data"
        },
        {
          "data": {
            "application/vnd.jupyter.widget-view+json": {
              "model_id": "57af1f3a0ed94536832cfd7b10f7d5b7",
              "version_major": 2,
              "version_minor": 0
            },
            "text/plain": [
              "Training:   0%|          | 0/176 [00:00<?, ?it/s]"
            ]
          },
          "metadata": {},
          "output_type": "display_data"
        },
        {
          "data": {
            "application/vnd.jupyter.widget-view+json": {
              "model_id": "aeab2730aca44cfb8a37ae65b2372614",
              "version_major": 2,
              "version_minor": 0
            },
            "text/plain": [
              "Training:   0%|          | 0/176 [00:00<?, ?it/s]"
            ]
          },
          "metadata": {},
          "output_type": "display_data"
        },
        {
          "data": {
            "application/vnd.jupyter.widget-view+json": {
              "model_id": "3b3b18013f654b6bb0b383d3ef640af7",
              "version_major": 2,
              "version_minor": 0
            },
            "text/plain": [
              "Training:   0%|          | 0/176 [00:00<?, ?it/s]"
            ]
          },
          "metadata": {},
          "output_type": "display_data"
        },
        {
          "data": {
            "application/vnd.jupyter.widget-view+json": {
              "model_id": "b598de7ef2c84894ac8a31d271ca915a",
              "version_major": 2,
              "version_minor": 0
            },
            "text/plain": [
              "Training:   0%|          | 0/176 [00:00<?, ?it/s]"
            ]
          },
          "metadata": {},
          "output_type": "display_data"
        },
        {
          "data": {
            "application/vnd.jupyter.widget-view+json": {
              "model_id": "5de0acb21ac649ad90654c4ae47e8a29",
              "version_major": 2,
              "version_minor": 0
            },
            "text/plain": [
              "Training:   0%|          | 0/176 [00:00<?, ?it/s]"
            ]
          },
          "metadata": {},
          "output_type": "display_data"
        },
        {
          "data": {
            "application/vnd.jupyter.widget-view+json": {
              "model_id": "59b8292a54464843b283f39c38954252",
              "version_major": 2,
              "version_minor": 0
            },
            "text/plain": [
              "Training:   0%|          | 0/176 [00:00<?, ?it/s]"
            ]
          },
          "metadata": {},
          "output_type": "display_data"
        }
      ],
      "source": [
        "metrics = trainer.train_model(train_loader, \n",
        "                              val_loader, \n",
        "                              test_loader=test_loader, \n",
        "                              num_epochs=50)"
      ]
    },
    {
      "cell_type": "code",
      "execution_count": 29,
      "id": "dfc21f0c",
      "metadata": {
        "id": "dfc21f0c",
        "outputId": "531ffb3b-a6ce-4700-8cc6-5814b4e3fb11"
      },
      "outputs": [
        {
          "name": "stdout",
          "output_type": "stream",
          "text": [
            "Validation accuracy: 60.44%\n",
            "Test accuracy: 59.84%\n"
          ]
        }
      ],
      "source": [
        "print(f'Validation accuracy: {metrics[\"val/acc\"]:4.2%}')\n",
        "print(f'Test accuracy: {metrics[\"test/acc\"]:4.2%}')"
      ]
    },
    {
      "cell_type": "markdown",
      "id": "b512c20a",
      "metadata": {
        "id": "b512c20a"
      },
      "source": [
        "The MLP achieves decent accuracy, but already for models like this, we have several hyperparameters to tune including learning rate, weight decay, dropout rate. Which should we choose? While we could use intuition to get a reasonable guess, it is unlikely that we hit the best hyperparameter set. In order to find a very strong hyperparameter set, a good practice is to use automatic hyperparameter tuning, which we shortly review next to showcase the flexibility of the Trainer module."
      ]
    },
    {
      "cell_type": "markdown",
      "id": "72a5e760",
      "metadata": {
        "id": "72a5e760"
      },
      "source": [
        "## Automatic hyperparameter tuning with Optuna\n",
        "\n",
        "Automatic hyperparameter tuner have the goal to efficiently identify sets of hyperparameters that achieve the best performance. Thereby, the key question is how can we search the hyperparameter space efficiently, since we don't have infinite compute. [Optuna](https://optuna.readthedocs.io/en/stable/) is a library that helps you setup this search with minimal code overhead and perform automatic hyperparameter tuning. Before getting started with Optuna, let's import the library and download a pre-executed hyperparameter search as an example."
      ]
    },
    {
      "cell_type": "code",
      "execution_count": 30,
      "id": "b89f729b",
      "metadata": {
        "id": "b89f729b"
      },
      "outputs": [],
      "source": [
        "try:\n",
        "    import optuna\n",
        "except ModuleNotFoundError:\n",
        "    !pip install --quiet --upgrade pyplot optuna \n",
        "    import optuna"
      ]
    },
    {
      "cell_type": "code",
      "execution_count": 31,
      "id": "8029b654",
      "metadata": {
        "id": "8029b654"
      },
      "outputs": [],
      "source": [
        "import urllib.request\n",
        "from urllib.error import HTTPError\n",
        "# Github URL where saved models are stored for this tutorial\n",
        "base_url = \"https://raw.githubusercontent.com/phlippe/saved_models/main/guide4/\"\n",
        "# Files to download\n",
        "pretrained_files = [\"optuna_hparam_search.db\", \"MLPClassifier/version_1/checkpoint_50\", \"MLPClassifier/version_1/hparams.json\"]\n",
        "# Create checkpoint path if it doesn't exist yet\n",
        "os.makedirs(CHECKPOINT_PATH, exist_ok=True)\n",
        "\n",
        "# For each file, check whether it already exists. If not, try downloading it.\n",
        "for file_name in pretrained_files:\n",
        "    file_path = os.path.join(CHECKPOINT_PATH, file_name)\n",
        "    if not os.path.isfile(file_path):\n",
        "        file_url = base_url + file_name\n",
        "        print(f\"Downloading {file_url}...\")\n",
        "        try:\n",
        "            urllib.request.urlretrieve(file_url, file_path)\n",
        "        except HTTPError as e:\n",
        "            print(\"Something went wrong. Please contact the author with the full output including the following error:\\n\", e)"
      ]
    },
    {
      "cell_type": "markdown",
      "id": "98cc1ec8",
      "metadata": {
        "id": "98cc1ec8"
      },
      "source": [
        "### Defining objective and hyperparameters\n",
        "\n",
        "The main part a user has to specify in Optuna is intuitively the the objective to optimize, and the hyperparameters over which we want to optimize. In our case, the objective is to optimize the validation accuracy of the MLP. Note that we do not use the test set here, since hyperparameter searches should only be done on the validation set, not the \"unseen\" test set! The function below, `objective(trial)`, creates a MLP with our trainer module and trains it for max. 200 epochs. The input argument, `trial`, is thereby an object which characterizes the current run. This includes, for example, the hyperparameters we want to optimize. In order to add a hyperparameter to our optimization set, we can simply call `trial.suggest_float` for continuous values and `trial.suggest_categorical` for categorical values (e.g. which optimizer to use). For the CIFAR10 classification, we consider the following three hyperparameters: dropout rate, weight decay, and the learning rate, which we define below. Finally, we return the best validation accuracy which will be used by Optuna to guide the next pick of hyperparameters."
      ]
    },
    {
      "cell_type": "code",
      "execution_count": 32,
      "id": "49e60a72",
      "metadata": {
        "id": "49e60a72"
      },
      "outputs": [],
      "source": [
        "def objective(trial):\n",
        "    my_train_loader, my_val_loader = create_data_loaders(train_set, val_set,\n",
        "                                                         train=[True, False],\n",
        "                                                         batch_size=256)\n",
        "    trainer = MLPClassTrainer(hidden_dims=[512, 512],\n",
        "                              num_classes=10,\n",
        "                              dropout_prob=trial.suggest_float('dropout_prob', 0, 0.6),\n",
        "                              optimizer_hparams={\n",
        "                                  'weight_decay': trial.suggest_float('weight_decay', 1e-6, 1e-2, log=True),\n",
        "                                  'lr': trial.suggest_float('lr', 1e-4, 1e-2, log=True)\n",
        "                              },\n",
        "                              logger_params={\n",
        "                                  'base_log_dir': CHECKPOINT_PATH\n",
        "                              },\n",
        "                              exmp_input=next(iter(my_train_loader)),\n",
        "                              check_val_every_n_epoch=5,\n",
        "                              trial=trial)\n",
        "    metrics = trainer.train_model(my_train_loader,\n",
        "                                  my_val_loader,\n",
        "                                  num_epochs=200)\n",
        "    del trainer\n",
        "    del my_train_loader, my_val_loader\n",
        "    return metrics['val/acc']"
      ]
    },
    {
      "cell_type": "markdown",
      "id": "ab3528c1",
      "metadata": {
        "id": "ab3528c1"
      },
      "source": [
        "### Running hyperparameter study\n",
        "\n",
        "To run the hyperparameter search, we create a `Study` in Optuna. A study implements the search logic and summarizes the data/logs of all executed experiments. By default, Optuna uses the [Tree-Structured Parzen Estimator](https://optuna.readthedocs.io/en/stable/reference/generated/optuna.samplers.TPESampler.html#optuna.samplers.TPESampler) algorithm, using Gaussian Mixture Models to estimate the performance surface of they hyperparameters. For more information, check out the [documentation](https://optuna.readthedocs.io/en/stable/reference/generated/optuna.samplers.TPESampler.html#optuna.samplers.TPESampler). The studies are usually stored in a database format, but can be easily accessed via the Python interface of Optuna. Let's run the hyperparameter search for up to 25 models:"
      ]
    },
    {
      "cell_type": "code",
      "execution_count": 33,
      "id": "bb80fe0d",
      "metadata": {
        "id": "bb80fe0d",
        "outputId": "bcfcf0ea-2325-48b0-9672-ceadb813d7b7",
        "scrolled": false
      },
      "outputs": [
        {
          "name": "stderr",
          "output_type": "stream",
          "text": [
            "\u001b[32m[I 2022-11-24 00:45:19,978]\u001b[0m Using an existing study with name 'mlp_cifar10' instead of creating a new one.\u001b[0m\n"
          ]
        }
      ],
      "source": [
        "CHECKPOINT_PATH = '/Users/aliounebenmordiankha/Downloads/saved_models'\n",
        "study = optuna.create_study(\n",
        "    study_name='mlp_cifar10',\n",
        "    storage=f'sqlite:///{CHECKPOINT_PATH}/optuna_hparam_search.db',\n",
        "    direction='maximize',\n",
        "    pruner=optuna.pruners.MedianPruner(n_startup_trials=5, n_warmup_steps=50),\n",
        "    load_if_exists=True\n",
        ")\n",
        "study.optimize(objective, n_trials=25-len(study.trials), n_jobs=1)"
      ]
    },
    {
      "cell_type": "markdown",
      "id": "3964e313",
      "metadata": {
        "id": "3964e313"
      },
      "source": [
        "During the study creation, we used the input argument `pruner`. This specifies a strategy with which we want to stop experiments early if they don't look promising. For instance, a very low learning rate combined with high weight decay and dropout will likely achieve low performance, which we can already judge after 50 epochs and don't have to run the model for much longer. For this, we implemented the `on_validation_epoch_end` callback in our Trainer module before. After each epoch, it reports the current validation performance to Optuna. Depending on the previous performances and Optuna's pruning strategy, it may decide to stop the experiment early, which it does by throwing a `TrialPruned` error. This error is caught by Optuna, and the next trial is directly started."
      ]
    },
    {
      "cell_type": "markdown",
      "id": "e232b4d2",
      "metadata": {
        "id": "e232b4d2"
      },
      "source": [
        "### Evaluate hyperparameter search\n",
        "\n",
        "After finishing the hyperparameter search, we can analyze the results. First, let's print the best model found and its corresponding hyperparameters:"
      ]
    },
    {
      "cell_type": "code",
      "execution_count": 34,
      "id": "a8dd8fdf",
      "metadata": {
        "id": "a8dd8fdf",
        "outputId": "e79d4ca9-f754-4ff5-e773-4c448d4c9f03"
      },
      "outputs": [
        {
          "name": "stdout",
          "output_type": "stream",
          "text": [
            "Best Validation Accuracy: 63.44%\n",
            "Best Params:\n",
            "-> dropout_prob: 0.39573629692783413\n",
            "-> lr: 0.002097404408052793\n",
            "-> weight_decay: 0.0012107132860246818\n"
          ]
        }
      ],
      "source": [
        "trial = study.best_trial\n",
        "print(f'Best Validation Accuracy: {trial.value:4.2%}')\n",
        "print(f'Best Params:')\n",
        "for key, value in trial.params.items():\n",
        "    print(f'-> {key}: {value}')"
      ]
    },
    {
      "cell_type": "markdown",
      "id": "a7bd7373",
      "metadata": {
        "id": "a7bd7373"
      },
      "source": [
        "The validation performance is quite a bit higher than the model we had manually designed before. Let's load the model and check its test performance. For this, we can make use of the `load_from_checkpoint` function of our Trainer module:"
      ]
    },
    {
      "cell_type": "code",
      "execution_count": 35,
      "id": "846bfb75",
      "metadata": {
        "id": "846bfb75",
        "outputId": "c49d7acd-bda0-4e8d-e3d5-2b9ecab941aa"
      },
      "outputs": [
        {
          "name": "stdout",
          "output_type": "stream",
          "text": [
            "\n",
            "\u001b[3m                             MLPClassifier Summary                              \u001b[0m\n",
            "┏━━━━━━━━━━━━┳━━━━━━━━━━━━┳━━━━━━━━━━━━┳━━━━━━━━━━━━┳━━━━━━━━━━━━━┳━━━━━━━━━━━━┓\n",
            "┃\u001b[1m \u001b[0m\u001b[1mpath      \u001b[0m\u001b[1m \u001b[0m┃\u001b[1m \u001b[0m\u001b[1mmodule    \u001b[0m\u001b[1m \u001b[0m┃\u001b[1m \u001b[0m\u001b[1minputs    \u001b[0m\u001b[1m \u001b[0m┃\u001b[1m \u001b[0m\u001b[1moutputs   \u001b[0m\u001b[1m \u001b[0m┃\u001b[1m \u001b[0m\u001b[1mparams     \u001b[0m\u001b[1m \u001b[0m┃\u001b[1m \u001b[0m\u001b[1mbatch_sta…\u001b[0m\u001b[1m \u001b[0m┃\n",
            "┡━━━━━━━━━━━━╇━━━━━━━━━━━━╇━━━━━━━━━━━━╇━━━━━━━━━━━━╇━━━━━━━━━━━━━╇━━━━━━━━━━━━┩\n",
            "│            │ MLPClassi… │ train:     │ \u001b[2mfloat32\u001b[0m[2… │             │            │\n",
            "│            │            │ True       │            │             │            │\n",
            "│            │            │ x:         │            │             │            │\n",
            "│            │            │ \u001b[2mfloat32\u001b[0m[2… │            │             │            │\n",
            "├────────────┼────────────┼────────────┼────────────┼─────────────┼────────────┤\n",
            "│ Dropout_0  │ Dropout    │ -          │ \u001b[2mfloat32\u001b[0m[2… │             │            │\n",
            "│            │            │ \u001b[2mfloat32\u001b[0m[2… │            │             │            │\n",
            "│            │            │ -          │            │             │            │\n",
            "│            │            │ determini… │            │             │            │\n",
            "│            │            │ False      │            │             │            │\n",
            "├────────────┼────────────┼────────────┼────────────┼─────────────┼────────────┤\n",
            "│ Dense_0    │ Dense      │ \u001b[2mfloat32\u001b[0m[2… │ \u001b[2mfloat32\u001b[0m[2… │ bias:       │            │\n",
            "│            │            │            │            │ \u001b[2mfloat32\u001b[0m[51… │            │\n",
            "│            │            │            │            │ kernel:     │            │\n",
            "│            │            │            │            │ \u001b[2mfloat32\u001b[0m[30… │            │\n",
            "│            │            │            │            │             │            │\n",
            "│            │            │            │            │ \u001b[1m1,573,376 \u001b[0m  │            │\n",
            "│            │            │            │            │ \u001b[1;2m(6.3 MB)\u001b[0m    │            │\n",
            "├────────────┼────────────┼────────────┼────────────┼─────────────┼────────────┤\n",
            "│ BatchNorm… │ BatchNorm  │ -          │ \u001b[2mfloat32\u001b[0m[2… │ bias:       │ mean:      │\n",
            "│            │            │ \u001b[2mfloat32\u001b[0m[2… │            │ \u001b[2mfloat32\u001b[0m[51… │ \u001b[2mfloat32\u001b[0m[5… │\n",
            "│            │            │ -          │            │ scale:      │ var:       │\n",
            "│            │            │ use_runni… │            │ \u001b[2mfloat32\u001b[0m[51… │ \u001b[2mfloat32\u001b[0m[5… │\n",
            "│            │            │ False      │            │             │            │\n",
            "│            │            │            │            │ \u001b[1m1,024 \u001b[0m\u001b[1;2m(4.1 \u001b[0m │ \u001b[1m1,024 \u001b[0m\u001b[1;2m(4.1\u001b[0m │\n",
            "│            │            │            │            │ \u001b[1;2mKB)\u001b[0m         │ \u001b[1;2mKB)\u001b[0m        │\n",
            "├────────────┼────────────┼────────────┼────────────┼─────────────┼────────────┤\n",
            "│ Dropout_1  │ Dropout    │ -          │ \u001b[2mfloat32\u001b[0m[2… │             │            │\n",
            "│            │            │ \u001b[2mfloat32\u001b[0m[2… │            │             │            │\n",
            "│            │            │ -          │            │             │            │\n",
            "│            │            │ determini… │            │             │            │\n",
            "│            │            │ False      │            │             │            │\n",
            "├────────────┼────────────┼────────────┼────────────┼─────────────┼────────────┤\n",
            "│ Dense_1    │ Dense      │ \u001b[2mfloat32\u001b[0m[2… │ \u001b[2mfloat32\u001b[0m[2… │ bias:       │            │\n",
            "│            │            │            │            │ \u001b[2mfloat32\u001b[0m[51… │            │\n",
            "│            │            │            │            │ kernel:     │            │\n",
            "│            │            │            │            │ \u001b[2mfloat32\u001b[0m[51… │            │\n",
            "│            │            │            │            │             │            │\n",
            "│            │            │            │            │ \u001b[1m262,656 \u001b[0m    │            │\n",
            "│            │            │            │            │ \u001b[1;2m(1.1 MB)\u001b[0m    │            │\n",
            "├────────────┼────────────┼────────────┼────────────┼─────────────┼────────────┤\n",
            "│ BatchNorm… │ BatchNorm  │ -          │ \u001b[2mfloat32\u001b[0m[2… │ bias:       │ mean:      │\n",
            "│            │            │ \u001b[2mfloat32\u001b[0m[2… │            │ \u001b[2mfloat32\u001b[0m[51… │ \u001b[2mfloat32\u001b[0m[5… │\n",
            "│            │            │ -          │            │ scale:      │ var:       │\n",
            "│            │            │ use_runni… │            │ \u001b[2mfloat32\u001b[0m[51… │ \u001b[2mfloat32\u001b[0m[5… │\n",
            "│            │            │ False      │            │             │            │\n",
            "│            │            │            │            │ \u001b[1m1,024 \u001b[0m\u001b[1;2m(4.1 \u001b[0m │ \u001b[1m1,024 \u001b[0m\u001b[1;2m(4.1\u001b[0m │\n",
            "│            │            │            │            │ \u001b[1;2mKB)\u001b[0m         │ \u001b[1;2mKB)\u001b[0m        │\n",
            "├────────────┼────────────┼────────────┼────────────┼─────────────┼────────────┤\n",
            "│ Dropout_2  │ Dropout    │ -          │ \u001b[2mfloat32\u001b[0m[2… │             │            │\n",
            "│            │            │ \u001b[2mfloat32\u001b[0m[2… │            │             │            │\n",
            "│            │            │ -          │            │             │            │\n",
            "│            │            │ determini… │            │             │            │\n",
            "│            │            │ False      │            │             │            │\n",
            "├────────────┼────────────┼────────────┼────────────┼─────────────┼────────────┤\n",
            "│ Dense_2    │ Dense      │ \u001b[2mfloat32\u001b[0m[2… │ \u001b[2mfloat32\u001b[0m[2… │ bias:       │            │\n",
            "│            │            │            │            │ \u001b[2mfloat32\u001b[0m[10] │            │\n",
            "│            │            │            │            │ kernel:     │            │\n",
            "│            │            │            │            │ \u001b[2mfloat32\u001b[0m[51… │            │\n",
            "│            │            │            │            │             │            │\n",
            "│            │            │            │            │ \u001b[1m5,130 \u001b[0m\u001b[1;2m(20.5\u001b[0m │            │\n",
            "│            │            │            │            │ \u001b[1;2mKB)\u001b[0m         │            │\n",
            "├────────────┼────────────┼────────────┼────────────┼─────────────┼────────────┤\n",
            "│\u001b[1m \u001b[0m\u001b[1m          \u001b[0m\u001b[1m \u001b[0m│\u001b[1m \u001b[0m\u001b[1m          \u001b[0m\u001b[1m \u001b[0m│\u001b[1m \u001b[0m\u001b[1m          \u001b[0m\u001b[1m \u001b[0m│\u001b[1m \u001b[0m\u001b[1m     Total\u001b[0m\u001b[1m \u001b[0m│\u001b[1m \u001b[0m\u001b[1m1,843,210  \u001b[0m\u001b[1m \u001b[0m│\u001b[1m \u001b[0m\u001b[1m2,048 \u001b[0m\u001b[1;2m(8.2\u001b[0m\u001b[1m \u001b[0m│\n",
            "│\u001b[1m            \u001b[0m│\u001b[1m            \u001b[0m│\u001b[1m            \u001b[0m│\u001b[1m            \u001b[0m│\u001b[1m \u001b[0m\u001b[1;2m(7.4 MB)\u001b[0m\u001b[1m   \u001b[0m\u001b[1m \u001b[0m│\u001b[1m \u001b[0m\u001b[1;2mKB)\u001b[0m\u001b[1m       \u001b[0m\u001b[1m \u001b[0m│\n",
            "└────────────┴────────────┴────────────┴────────────┴─────────────┴────────────┘\n",
            "\u001b[1m                                                                                \u001b[0m\n",
            "\u001b[1m                      Total Parameters: 1,845,258 \u001b[0m\u001b[1;2m(7.4 MB)\u001b[0m\u001b[1m                      \u001b[0m\n",
            "\n",
            "\n",
            "Test accuracy: 60.17%\n"
          ]
        }
      ],
      "source": [
        "trainer = MLPClassTrainer.load_from_checkpoint(os.path.join(CHECKPOINT_PATH, 'MLPClassifier/version_0/'), \n",
        "                                               exmp_input=next(iter(train_loader)))\n",
        "test_metrics = trainer.eval_model(test_loader)\n",
        "print(f'Test accuracy: {test_metrics[\"acc\"]:4.2%}')"
      ]
    },
    {
      "cell_type": "markdown",
      "id": "b291a163",
      "metadata": {
        "id": "b291a163"
      },
      "source": [
        "The test performance is also quite strong, showing the benefit of the automatic hyperparameter search. However, often, we are not just interested in the best model. Optuna provides several ways of visualizing the results of the hyperparameter study, for instance by plotting all validation accuracy curves:"
      ]
    },
    {
      "cell_type": "code",
      "execution_count": 36,
      "id": "433aed71",
      "metadata": {
        "id": "433aed71",
        "outputId": "2502ca3e-48f4-43c4-cae5-ec10cc236187"
      },
      "outputs": [
        {
          "data": {
            "application/vnd.plotly.v1+json": {
              "config": {
                "plotlyServerURL": "https://plot.ly"
              },
              "data": [
                {
                  "marker": {
                    "maxdisplayed": 10
                  },
                  "mode": "lines+markers",
                  "name": "Trial0",
                  "type": "scatter",
                  "x": [
                    5,
                    10,
                    15,
                    20,
                    25,
                    30,
                    35,
                    40,
                    45,
                    50,
                    55,
                    60,
                    65,
                    70,
                    75,
                    80,
                    85,
                    90,
                    95,
                    100,
                    105,
                    110,
                    115,
                    120,
                    125,
                    130,
                    135,
                    140,
                    145,
                    150,
                    155,
                    160,
                    165,
                    170,
                    175,
                    180,
                    185,
                    190,
                    195,
                    200
                  ],
                  "y": [
                    0.5258000493049622,
                    0.5596000552177429,
                    0.5718000531196594,
                    0.5824000239372253,
                    0.5924000144004822,
                    0.6004000306129456,
                    0.6038000583648682,
                    0.6058000326156616,
                    0.605400025844574,
                    0.6132000088691711,
                    0.6172000169754028,
                    0.612000048160553,
                    0.6134000420570374,
                    0.6160000562667847,
                    0.6212000250816345,
                    0.6146000027656555,
                    0.625,
                    0.6166000366210938,
                    0.6244000196456909,
                    0.6258000135421753,
                    0.6302000284194946,
                    0.6248000264167786,
                    0.6282000541687012,
                    0.6212000250816345,
                    0.6290000081062317,
                    0.6230000257492065,
                    0.626800000667572,
                    0.6214000582695007,
                    0.6294000148773193,
                    0.628000020980835,
                    0.6300000548362732,
                    0.6258000135421753,
                    0.6274000406265259,
                    0.628600001335144,
                    0.6292000412940979,
                    0.6276000142097473,
                    0.628600001335144,
                    0.6278000473976135,
                    0.6304000020027161,
                    0.6314000487327576
                  ]
                },
                {
                  "marker": {
                    "maxdisplayed": 10
                  },
                  "mode": "lines+markers",
                  "name": "Trial1",
                  "type": "scatter",
                  "x": [
                    5,
                    10,
                    15,
                    20,
                    25,
                    30,
                    35,
                    40,
                    45,
                    50,
                    55,
                    60,
                    65,
                    70,
                    75,
                    80,
                    85,
                    90,
                    95,
                    100,
                    105,
                    110,
                    115,
                    120,
                    125,
                    130,
                    135,
                    140,
                    145,
                    150,
                    155,
                    160,
                    165,
                    170,
                    175,
                    180,
                    185,
                    190,
                    195,
                    200
                  ],
                  "y": [
                    0.5,
                    0.5306000113487244,
                    0.5466000437736511,
                    0.5600000023841858,
                    0.5646000504493713,
                    0.5730000138282776,
                    0.5706000328063965,
                    0.5848000049591064,
                    0.5848000049591064,
                    0.5888000130653381,
                    0.5956000089645386,
                    0.5974000096321106,
                    0.6034000515937805,
                    0.5998000502586365,
                    0.6044000387191772,
                    0.5972000360488892,
                    0.6055999994277954,
                    0.6136000156402588,
                    0.6068000197410583,
                    0.6086000204086304,
                    0.609000027179718,
                    0.6082000136375427,
                    0.6088000535964966,
                    0.6098000407218933,
                    0.6122000217437744,
                    0.6154000163078308,
                    0.6136000156402588,
                    0.6132000088691711,
                    0.6144000291824341,
                    0.6162000298500061,
                    0.6168000102043152,
                    0.6134000420570374,
                    0.6162000298500061,
                    0.6140000224113464,
                    0.6154000163078308,
                    0.6142000555992126,
                    0.6150000095367432,
                    0.615600049495697,
                    0.6152000427246094,
                    0.6140000224113464
                  ]
                },
                {
                  "marker": {
                    "maxdisplayed": 10
                  },
                  "mode": "lines+markers",
                  "name": "Trial2",
                  "type": "scatter",
                  "x": [
                    5,
                    10,
                    15,
                    20,
                    25,
                    30,
                    35,
                    40,
                    45,
                    50,
                    55,
                    60,
                    65,
                    70,
                    75,
                    80,
                    85,
                    90,
                    95,
                    100,
                    105,
                    110,
                    115,
                    120,
                    125,
                    130,
                    135,
                    140,
                    145,
                    150,
                    155,
                    160,
                    165,
                    170,
                    175,
                    180,
                    185,
                    190,
                    195,
                    200
                  ],
                  "y": [
                    0.5040000081062317,
                    0.537600040435791,
                    0.5468000173568726,
                    0.5626000165939331,
                    0.5730000138282776,
                    0.5782000422477722,
                    0.58160001039505,
                    0.5872000455856323,
                    0.5904000401496887,
                    0.5908000469207764,
                    0.6022000312805176,
                    0.5978000164031982,
                    0.6038000583648682,
                    0.6055999994277954,
                    0.6034000515937805,
                    0.6084000468254089,
                    0.6106000542640686,
                    0.6162000298500061,
                    0.615600049495697,
                    0.6150000095367432,
                    0.6172000169754028,
                    0.6176000237464905,
                    0.6198000311851501,
                    0.6178000569343567,
                    0.6154000163078308,
                    0.6222000122070312,
                    0.6200000047683716,
                    0.6220000386238098,
                    0.6260000467300415,
                    0.6220000386238098,
                    0.6246000528335571,
                    0.6240000128746033,
                    0.6256000399589539,
                    0.6228000521659851,
                    0.6252000331878662,
                    0.6258000135421753,
                    0.6252000331878662,
                    0.6254000067710876,
                    0.6256000399589539,
                    0.6262000203132629
                  ]
                },
                {
                  "marker": {
                    "maxdisplayed": 10
                  },
                  "mode": "lines+markers",
                  "name": "Trial3",
                  "type": "scatter",
                  "x": [
                    5,
                    10,
                    15,
                    20,
                    25,
                    30,
                    35,
                    40,
                    45,
                    50,
                    55,
                    60,
                    65,
                    70,
                    75,
                    80,
                    85,
                    90,
                    95,
                    100,
                    105,
                    110,
                    115,
                    120,
                    125,
                    130,
                    135,
                    140,
                    145,
                    150,
                    155,
                    160,
                    165,
                    170,
                    175,
                    180,
                    185,
                    190,
                    195,
                    200
                  ],
                  "y": [
                    0.4846000373363495,
                    0.5156000256538391,
                    0.5356000065803528,
                    0.5466000437736511,
                    0.5527999997138977,
                    0.5630000233650208,
                    0.5618000030517578,
                    0.5716000199317932,
                    0.5768000483512878,
                    0.5774000287055969,
                    0.5820000171661377,
                    0.5861999988555908,
                    0.5908000469207764,
                    0.5890000462532043,
                    0.5944000482559204,
                    0.5960000157356262,
                    0.5948000550270081,
                    0.602400004863739,
                    0.598800003528595,
                    0.6020000576972961,
                    0.6028000116348267,
                    0.6044000387191772,
                    0.6055999994277954,
                    0.6062000393867493,
                    0.6086000204086304,
                    0.6068000197410583,
                    0.6092000007629395,
                    0.6100000143051147,
                    0.6100000143051147,
                    0.6104000210762024,
                    0.6114000082015991,
                    0.612000048160553,
                    0.6110000014305115,
                    0.6132000088691711,
                    0.6104000210762024,
                    0.6094000339508057,
                    0.6094000339508057,
                    0.6100000143051147,
                    0.61080002784729,
                    0.6106000542640686
                  ]
                },
                {
                  "marker": {
                    "maxdisplayed": 10
                  },
                  "mode": "lines+markers",
                  "name": "Trial4",
                  "type": "scatter",
                  "x": [
                    5,
                    10,
                    15,
                    20,
                    25,
                    30,
                    35,
                    40,
                    45,
                    50,
                    55,
                    60,
                    65,
                    70,
                    75,
                    80,
                    85,
                    90,
                    95,
                    100,
                    105,
                    110,
                    115,
                    120,
                    125,
                    130,
                    135,
                    140,
                    145,
                    150,
                    155,
                    160,
                    165,
                    170,
                    175,
                    180,
                    185,
                    190,
                    195,
                    200
                  ],
                  "y": [
                    0.5178000330924988,
                    0.5462000370025635,
                    0.5592000484466553,
                    0.5716000199317932,
                    0.5800000429153442,
                    0.5868000388145447,
                    0.5926000475883484,
                    0.5879999995231628,
                    0.5906000137329102,
                    0.5978000164031982,
                    0.6068000197410583,
                    0.6028000116348267,
                    0.5940000414848328,
                    0.6062000393867493,
                    0.61080002784729,
                    0.6080000400543213,
                    0.612000048160553,
                    0.5952000021934509,
                    0.6146000027656555,
                    0.6082000136375427,
                    0.6152000427246094,
                    0.6158000230789185,
                    0.6218000054359436,
                    0.617400050163269,
                    0.6198000311851501,
                    0.6202000379562378,
                    0.6190000176429749,
                    0.6228000521659851,
                    0.6198000311851501,
                    0.6228000521659851,
                    0.626800000667572,
                    0.6256000399589539,
                    0.6282000541687012,
                    0.626800000667572,
                    0.6276000142097473,
                    0.6262000203132629,
                    0.6288000345230103,
                    0.628600001335144,
                    0.6282000541687012,
                    0.6282000541687012
                  ]
                },
                {
                  "marker": {
                    "maxdisplayed": 10
                  },
                  "mode": "lines+markers",
                  "name": "Trial5",
                  "type": "scatter",
                  "x": [
                    5,
                    10,
                    15,
                    20,
                    25,
                    30,
                    35,
                    40,
                    45,
                    50
                  ],
                  "y": [
                    0.5,
                    0.5351999998092651,
                    0.5460000038146973,
                    0.5570000410079956,
                    0.5680000185966492,
                    0.5758000016212463,
                    0.5790000557899475,
                    0.5874000191688538,
                    0.58760005235672,
                    0.5886000394821167
                  ]
                },
                {
                  "marker": {
                    "maxdisplayed": 10
                  },
                  "mode": "lines+markers",
                  "name": "Trial6",
                  "type": "scatter",
                  "x": [
                    5,
                    10,
                    15,
                    20,
                    25,
                    30,
                    35,
                    40,
                    45,
                    50
                  ],
                  "y": [
                    0.42600002884864807,
                    0.45680001378059387,
                    0.47200003266334534,
                    0.4880000352859497,
                    0.49500003457069397,
                    0.504800021648407,
                    0.510200023651123,
                    0.5170000195503235,
                    0.5198000073432922,
                    0.5220000147819519
                  ]
                },
                {
                  "marker": {
                    "maxdisplayed": 10
                  },
                  "mode": "lines+markers",
                  "name": "Trial7",
                  "type": "scatter",
                  "x": [
                    5,
                    10,
                    15,
                    20,
                    25,
                    30,
                    35,
                    40,
                    45,
                    50,
                    55
                  ],
                  "y": [
                    0.5049999952316284,
                    0.5486000180244446,
                    0.5548000335693359,
                    0.5667999982833862,
                    0.5770000219345093,
                    0.5870000123977661,
                    0.5902000069618225,
                    0.598800003528595,
                    0.5974000096321106,
                    0.598800003528595,
                    0.6008000373840332
                  ]
                },
                {
                  "marker": {
                    "maxdisplayed": 10
                  },
                  "mode": "lines+markers",
                  "name": "Trial8",
                  "type": "scatter",
                  "x": [
                    5,
                    10,
                    15,
                    20,
                    25,
                    30,
                    35,
                    40,
                    45,
                    50
                  ],
                  "y": [
                    0.5502000451087952,
                    0.58160001039505,
                    0.5742000341415405,
                    0.5772000551223755,
                    0.5834000110626221,
                    0.5822000503540039,
                    0.5888000130653381,
                    0.576200008392334,
                    0.574400007724762,
                    0.5820000171661377
                  ]
                },
                {
                  "marker": {
                    "maxdisplayed": 10
                  },
                  "mode": "lines+markers",
                  "name": "Trial9",
                  "type": "scatter",
                  "x": [
                    5,
                    10,
                    15,
                    20,
                    25,
                    30,
                    35,
                    40,
                    45,
                    50,
                    55,
                    60,
                    65,
                    70,
                    75,
                    80,
                    85,
                    90,
                    95,
                    100,
                    105,
                    110,
                    115,
                    120,
                    125,
                    130,
                    135,
                    140,
                    145,
                    150,
                    155,
                    160,
                    165
                  ],
                  "y": [
                    0.5314000248908997,
                    0.5560000538825989,
                    0.5658000111579895,
                    0.578000009059906,
                    0.5910000205039978,
                    0.5982000231742859,
                    0.5954000353813171,
                    0.6014000177383423,
                    0.6034000515937805,
                    0.6098000407218933,
                    0.6055999994277954,
                    0.6050000190734863,
                    0.6142000555992126,
                    0.6128000020980835,
                    0.609000027179718,
                    0.6152000427246094,
                    0.6136000156402588,
                    0.6190000176429749,
                    0.6188000440597534,
                    0.6202000379562378,
                    0.6168000102043152,
                    0.6220000386238098,
                    0.6226000189781189,
                    0.6182000041007996,
                    0.6220000386238098,
                    0.6248000264167786,
                    0.6198000311851501,
                    0.6230000257492065,
                    0.6220000386238098,
                    0.6216000318527222,
                    0.6230000257492065,
                    0.6230000257492065,
                    0.6228000521659851
                  ]
                },
                {
                  "marker": {
                    "maxdisplayed": 10
                  },
                  "mode": "lines+markers",
                  "name": "Trial10",
                  "type": "scatter",
                  "x": [
                    5,
                    10,
                    15,
                    20,
                    25,
                    30,
                    35,
                    40,
                    45,
                    50,
                    55,
                    60,
                    65
                  ],
                  "y": [
                    0.5332000255584717,
                    0.5672000050544739,
                    0.5760000348091125,
                    0.5826000571250916,
                    0.5944000482559204,
                    0.5878000259399414,
                    0.6022000312805176,
                    0.5956000089645386,
                    0.5946000218391418,
                    0.5892000198364258,
                    0.5926000475883484,
                    0.5928000211715698,
                    0.5900000333786011
                  ]
                },
                {
                  "marker": {
                    "maxdisplayed": 10
                  },
                  "mode": "lines+markers",
                  "name": "Trial11",
                  "type": "scatter",
                  "x": [
                    5,
                    10,
                    15,
                    20,
                    25,
                    30,
                    35,
                    40,
                    45,
                    50,
                    55,
                    60,
                    65,
                    70,
                    75,
                    80,
                    85,
                    90,
                    95,
                    100,
                    105,
                    110,
                    115,
                    120,
                    125,
                    130,
                    135,
                    140,
                    145,
                    150,
                    155,
                    160,
                    165,
                    170,
                    175,
                    180,
                    185,
                    190,
                    195,
                    200
                  ],
                  "y": [
                    0.531000018119812,
                    0.5652000308036804,
                    0.5750000476837158,
                    0.5888000130653381,
                    0.5910000205039978,
                    0.5998000502586365,
                    0.6010000109672546,
                    0.6104000210762024,
                    0.6044000387191772,
                    0.6060000061988831,
                    0.6136000156402588,
                    0.6080000400543213,
                    0.607200026512146,
                    0.6132000088691711,
                    0.6182000041007996,
                    0.612000048160553,
                    0.6124000549316406,
                    0.6212000250816345,
                    0.6152000427246094,
                    0.6194000244140625,
                    0.6242000460624695,
                    0.6224000453948975,
                    0.6202000379562378,
                    0.6272000074386597,
                    0.6238000392913818,
                    0.6254000067710876,
                    0.6264000535011292,
                    0.6294000148773193,
                    0.6308000087738037,
                    0.6246000528335571,
                    0.628600001335144,
                    0.6264000535011292,
                    0.6294000148773193,
                    0.6300000548362732,
                    0.6266000270843506,
                    0.6292000412940979,
                    0.628000020980835,
                    0.6300000548362732,
                    0.6276000142097473,
                    0.6290000081062317
                  ]
                },
                {
                  "marker": {
                    "maxdisplayed": 10
                  },
                  "mode": "lines+markers",
                  "name": "Trial12",
                  "type": "scatter",
                  "x": [
                    5,
                    10,
                    15,
                    20,
                    25,
                    30,
                    35,
                    40,
                    45,
                    50,
                    55,
                    60,
                    65,
                    70,
                    75,
                    80,
                    85,
                    90,
                    95,
                    100,
                    105,
                    110,
                    115,
                    120,
                    125,
                    130,
                    135,
                    140,
                    145,
                    150,
                    155,
                    160,
                    165,
                    170,
                    175,
                    180,
                    185,
                    190,
                    195,
                    200
                  ],
                  "y": [
                    0.5246000289916992,
                    0.5684000253677368,
                    0.5742000341415405,
                    0.5888000130653381,
                    0.5946000218391418,
                    0.6002000570297241,
                    0.6044000387191772,
                    0.610200047492981,
                    0.6078000068664551,
                    0.6146000027656555,
                    0.6142000555992126,
                    0.6122000217437744,
                    0.6150000095367432,
                    0.6164000034332275,
                    0.6136000156402588,
                    0.6206000447273254,
                    0.6172000169754028,
                    0.6164000034332275,
                    0.6190000176429749,
                    0.615600049495697,
                    0.6256000399589539,
                    0.6192000508308411,
                    0.6226000189781189,
                    0.6228000521659851,
                    0.6266000270843506,
                    0.6272000074386597,
                    0.628600001335144,
                    0.6236000061035156,
                    0.6234000325202942,
                    0.6260000467300415,
                    0.628000020980835,
                    0.6270000338554382,
                    0.6236000061035156,
                    0.628600001335144,
                    0.6270000338554382,
                    0.628000020980835,
                    0.626800000667572,
                    0.626800000667572,
                    0.6282000541687012,
                    0.6272000074386597
                  ]
                },
                {
                  "marker": {
                    "maxdisplayed": 10
                  },
                  "mode": "lines+markers",
                  "name": "Trial13",
                  "type": "scatter",
                  "x": [
                    5,
                    10,
                    15,
                    20,
                    25,
                    30,
                    35,
                    40,
                    45,
                    50,
                    55
                  ],
                  "y": [
                    0.5455999970436096,
                    0.5774000287055969,
                    0.5868000388145447,
                    0.5848000049591064,
                    0.6026000380516052,
                    0.5968000292778015,
                    0.5986000299453735,
                    0.5960000157356262,
                    0.597000002861023,
                    0.5948000550270081,
                    0.602400004863739
                  ]
                },
                {
                  "marker": {
                    "maxdisplayed": 10
                  },
                  "mode": "lines+markers",
                  "name": "Trial14",
                  "type": "scatter",
                  "x": [
                    5,
                    10,
                    15,
                    20,
                    25,
                    30,
                    35,
                    40,
                    45,
                    50,
                    55,
                    60,
                    65,
                    70,
                    75,
                    80,
                    85,
                    90,
                    95,
                    100,
                    105,
                    110,
                    115,
                    120,
                    125,
                    130
                  ],
                  "y": [
                    0.5136000514030457,
                    0.5502000451087952,
                    0.5674000382423401,
                    0.5784000158309937,
                    0.586400032043457,
                    0.5910000205039978,
                    0.5928000211715698,
                    0.5992000102996826,
                    0.6080000400543213,
                    0.6082000136375427,
                    0.609000027179718,
                    0.6080000400543213,
                    0.6092000007629395,
                    0.6086000204086304,
                    0.6152000427246094,
                    0.610200047492981,
                    0.6176000237464905,
                    0.6194000244140625,
                    0.615600049495697,
                    0.6162000298500061,
                    0.6200000047683716,
                    0.6210000514984131,
                    0.6220000386238098,
                    0.6210000514984131,
                    0.6200000047683716,
                    0.6196000576019287
                  ]
                },
                {
                  "marker": {
                    "maxdisplayed": 10
                  },
                  "mode": "lines+markers",
                  "name": "Trial15",
                  "type": "scatter",
                  "x": [
                    5,
                    10,
                    15,
                    20,
                    25,
                    30,
                    35,
                    40,
                    45,
                    50,
                    55,
                    60,
                    65,
                    70,
                    75,
                    80,
                    85,
                    90
                  ],
                  "y": [
                    0.5422000288963318,
                    0.5748000144958496,
                    0.5822000503540039,
                    0.5978000164031982,
                    0.6004000306129456,
                    0.6058000326156616,
                    0.6126000285148621,
                    0.6060000061988831,
                    0.6082000136375427,
                    0.6084000468254089,
                    0.6106000542640686,
                    0.6066000461578369,
                    0.6055999994277954,
                    0.6070000529289246,
                    0.6106000542640686,
                    0.6030000448226929,
                    0.6034000515937805,
                    0.6092000007629395
                  ]
                },
                {
                  "marker": {
                    "maxdisplayed": 10
                  },
                  "mode": "lines+markers",
                  "name": "Trial16",
                  "type": "scatter",
                  "x": [
                    5,
                    10,
                    15,
                    20,
                    25,
                    30,
                    35,
                    40,
                    45,
                    50,
                    55,
                    60,
                    65,
                    70,
                    75,
                    80,
                    85,
                    90,
                    95,
                    100,
                    105,
                    110,
                    115,
                    120,
                    125,
                    130,
                    135,
                    140,
                    145,
                    150,
                    155,
                    160,
                    165,
                    170,
                    175,
                    180,
                    185,
                    190,
                    195,
                    200
                  ],
                  "y": [
                    0.5200000405311584,
                    0.5488000512123108,
                    0.5732000470161438,
                    0.5724000334739685,
                    0.591200053691864,
                    0.5962000489234924,
                    0.6074000000953674,
                    0.600600004196167,
                    0.6076000332832336,
                    0.6064000129699707,
                    0.6100000143051147,
                    0.61080002784729,
                    0.6060000061988831,
                    0.6140000224113464,
                    0.6182000041007996,
                    0.6192000508308411,
                    0.6172000169754028,
                    0.6146000027656555,
                    0.6258000135421753,
                    0.6224000453948975,
                    0.6274000406265259,
                    0.6262000203132629,
                    0.6292000412940979,
                    0.6266000270843506,
                    0.6254000067710876,
                    0.6284000277519226,
                    0.6282000541687012,
                    0.6308000087738037,
                    0.6292000412940979,
                    0.6344000101089478,
                    0.631600022315979,
                    0.631600022315979,
                    0.6278000473976135,
                    0.6306000351905823,
                    0.6300000548362732,
                    0.631600022315979,
                    0.6306000351905823,
                    0.629800021648407,
                    0.631600022315979,
                    0.6308000087738037
                  ]
                },
                {
                  "marker": {
                    "maxdisplayed": 10
                  },
                  "mode": "lines+markers",
                  "name": "Trial18",
                  "type": "scatter",
                  "x": [
                    5,
                    10,
                    15,
                    20,
                    25,
                    30,
                    35,
                    40,
                    45,
                    50
                  ],
                  "y": [
                    0.47300001978874207,
                    0.5014000535011292,
                    0.5246000289916992,
                    0.532200038433075,
                    0.5384000539779663,
                    0.5464000105857849,
                    0.5520000457763672,
                    0.5552000403404236,
                    0.562000036239624,
                    0.5606000423431396
                  ]
                },
                {
                  "marker": {
                    "maxdisplayed": 10
                  },
                  "mode": "lines+markers",
                  "name": "Trial19",
                  "type": "scatter",
                  "x": [
                    5,
                    10,
                    15,
                    20,
                    25,
                    30,
                    35,
                    40,
                    45,
                    50,
                    55,
                    60,
                    65,
                    70,
                    75,
                    80,
                    85,
                    90,
                    95,
                    100,
                    105,
                    110,
                    115,
                    120,
                    125,
                    130,
                    135,
                    140,
                    145,
                    150,
                    155,
                    160,
                    165,
                    170,
                    175,
                    180,
                    185,
                    190,
                    195,
                    200
                  ],
                  "y": [
                    0.5216000080108643,
                    0.5455999970436096,
                    0.5670000314712524,
                    0.5740000009536743,
                    0.5870000123977661,
                    0.5972000360488892,
                    0.6014000177383423,
                    0.6046000123023987,
                    0.6076000332832336,
                    0.6020000576972961,
                    0.610200047492981,
                    0.6134000420570374,
                    0.610200047492981,
                    0.6114000082015991,
                    0.6210000514984131,
                    0.6204000115394592,
                    0.6214000582695007,
                    0.6158000230789185,
                    0.6252000331878662,
                    0.6232000589370728,
                    0.6246000528335571,
                    0.6282000541687012,
                    0.6258000135421753,
                    0.6242000460624695,
                    0.631600022315979,
                    0.6276000142097473,
                    0.6296000480651855,
                    0.6300000548362732,
                    0.6306000351905823,
                    0.6302000284194946,
                    0.629800021648407,
                    0.6290000081062317,
                    0.6300000548362732,
                    0.6314000487327576,
                    0.6304000020027161,
                    0.6300000548362732,
                    0.6296000480651855,
                    0.6278000473976135,
                    0.6288000345230103,
                    0.6296000480651855
                  ]
                },
                {
                  "marker": {
                    "maxdisplayed": 10
                  },
                  "mode": "lines+markers",
                  "name": "Trial20",
                  "type": "scatter",
                  "x": [
                    5,
                    10,
                    15,
                    20,
                    25,
                    30,
                    35,
                    40,
                    45,
                    50,
                    55,
                    60,
                    65,
                    70,
                    75,
                    80,
                    85,
                    90,
                    95,
                    100,
                    105,
                    110,
                    115,
                    120,
                    125,
                    130,
                    135,
                    140,
                    145,
                    150,
                    155,
                    160,
                    165,
                    170,
                    175,
                    180,
                    185,
                    190,
                    195,
                    200
                  ],
                  "y": [
                    0.5320000052452087,
                    0.5706000328063965,
                    0.5756000280380249,
                    0.5938000082969666,
                    0.5980000495910645,
                    0.6110000014305115,
                    0.6092000007629395,
                    0.6070000529289246,
                    0.6088000535964966,
                    0.6148000359535217,
                    0.6198000311851501,
                    0.6164000034332275,
                    0.6164000034332275,
                    0.6146000027656555,
                    0.612000048160553,
                    0.6218000054359436,
                    0.6218000054359436,
                    0.6236000061035156,
                    0.6254000067710876,
                    0.6208000183105469,
                    0.6210000514984131,
                    0.6290000081062317,
                    0.6278000473976135,
                    0.6248000264167786,
                    0.6198000311851501,
                    0.6210000514984131,
                    0.6254000067710876,
                    0.6270000338554382,
                    0.6240000128746033,
                    0.6234000325202942,
                    0.628600001335144,
                    0.6262000203132629,
                    0.6304000020027161,
                    0.626800000667572,
                    0.626800000667572,
                    0.628000020980835,
                    0.6266000270843506,
                    0.6274000406265259,
                    0.6262000203132629,
                    0.628000020980835
                  ]
                },
                {
                  "marker": {
                    "maxdisplayed": 10
                  },
                  "mode": "lines+markers",
                  "name": "Trial21",
                  "type": "scatter",
                  "x": [
                    5,
                    10,
                    15,
                    20,
                    25,
                    30,
                    35,
                    40,
                    45,
                    50
                  ],
                  "y": [
                    0.5126000046730042,
                    0.5420000553131104,
                    0.5520000457763672,
                    0.5672000050544739,
                    0.5752000212669373,
                    0.582800030708313,
                    0.5834000110626221,
                    0.5902000069618225,
                    0.593000054359436,
                    0.5968000292778015
                  ]
                },
                {
                  "marker": {
                    "maxdisplayed": 10
                  },
                  "mode": "lines+markers",
                  "name": "Trial22",
                  "type": "scatter",
                  "x": [
                    5,
                    10,
                    15,
                    20,
                    25,
                    30,
                    35,
                    40,
                    45,
                    50,
                    55
                  ],
                  "y": [
                    0.5166000127792358,
                    0.5486000180244446,
                    0.5630000233650208,
                    0.5768000483512878,
                    0.5822000503540039,
                    0.593000054359436,
                    0.600600004196167,
                    0.6014000177383423,
                    0.602400004863739,
                    0.6046000123023987,
                    0.6078000068664551
                  ]
                },
                {
                  "marker": {
                    "maxdisplayed": 10
                  },
                  "mode": "lines+markers",
                  "name": "Trial24",
                  "type": "scatter",
                  "x": [
                    5,
                    10,
                    15,
                    20,
                    25,
                    30,
                    35,
                    40,
                    45,
                    50,
                    55,
                    60,
                    65,
                    70,
                    75,
                    80,
                    85,
                    90,
                    95,
                    100,
                    105,
                    110,
                    115,
                    120,
                    125,
                    130,
                    135,
                    140,
                    145,
                    150,
                    155,
                    160,
                    165,
                    170,
                    175,
                    180,
                    185,
                    190,
                    195,
                    200
                  ],
                  "y": [
                    0.5404000282287598,
                    0.5700000524520874,
                    0.5806000232696533,
                    0.589400053024292,
                    0.6012000441551208,
                    0.6114000082015991,
                    0.6058000326156616,
                    0.6058000326156616,
                    0.6148000359535217,
                    0.6114000082015991,
                    0.6204000115394592,
                    0.6198000311851501,
                    0.615600049495697,
                    0.6196000576019287,
                    0.6274000406265259,
                    0.6248000264167786,
                    0.6256000399589539,
                    0.6270000338554382,
                    0.6248000264167786,
                    0.6244000196456909,
                    0.6264000535011292,
                    0.6288000345230103,
                    0.6232000589370728,
                    0.6220000386238098,
                    0.6270000338554382,
                    0.6262000203132629,
                    0.6292000412940979,
                    0.6254000067710876,
                    0.6290000081062317,
                    0.6282000541687012,
                    0.631600022315979,
                    0.6266000270843506,
                    0.6274000406265259,
                    0.6292000412940979,
                    0.6302000284194946,
                    0.6302000284194946,
                    0.6312000155448914,
                    0.6304000020027161,
                    0.6294000148773193,
                    0.6290000081062317
                  ]
                }
              ],
              "layout": {
                "showlegend": false,
                "template": {
                  "data": {
                    "bar": [
                      {
                        "error_x": {
                          "color": "#2a3f5f"
                        },
                        "error_y": {
                          "color": "#2a3f5f"
                        },
                        "marker": {
                          "line": {
                            "color": "#E5ECF6",
                            "width": 0.5
                          },
                          "pattern": {
                            "fillmode": "overlay",
                            "size": 10,
                            "solidity": 0.2
                          }
                        },
                        "type": "bar"
                      }
                    ],
                    "barpolar": [
                      {
                        "marker": {
                          "line": {
                            "color": "#E5ECF6",
                            "width": 0.5
                          },
                          "pattern": {
                            "fillmode": "overlay",
                            "size": 10,
                            "solidity": 0.2
                          }
                        },
                        "type": "barpolar"
                      }
                    ],
                    "carpet": [
                      {
                        "aaxis": {
                          "endlinecolor": "#2a3f5f",
                          "gridcolor": "white",
                          "linecolor": "white",
                          "minorgridcolor": "white",
                          "startlinecolor": "#2a3f5f"
                        },
                        "baxis": {
                          "endlinecolor": "#2a3f5f",
                          "gridcolor": "white",
                          "linecolor": "white",
                          "minorgridcolor": "white",
                          "startlinecolor": "#2a3f5f"
                        },
                        "type": "carpet"
                      }
                    ],
                    "choropleth": [
                      {
                        "colorbar": {
                          "outlinewidth": 0,
                          "ticks": ""
                        },
                        "type": "choropleth"
                      }
                    ],
                    "contour": [
                      {
                        "colorbar": {
                          "outlinewidth": 0,
                          "ticks": ""
                        },
                        "colorscale": [
                          [
                            0,
                            "#0d0887"
                          ],
                          [
                            0.1111111111111111,
                            "#46039f"
                          ],
                          [
                            0.2222222222222222,
                            "#7201a8"
                          ],
                          [
                            0.3333333333333333,
                            "#9c179e"
                          ],
                          [
                            0.4444444444444444,
                            "#bd3786"
                          ],
                          [
                            0.5555555555555556,
                            "#d8576b"
                          ],
                          [
                            0.6666666666666666,
                            "#ed7953"
                          ],
                          [
                            0.7777777777777778,
                            "#fb9f3a"
                          ],
                          [
                            0.8888888888888888,
                            "#fdca26"
                          ],
                          [
                            1,
                            "#f0f921"
                          ]
                        ],
                        "type": "contour"
                      }
                    ],
                    "contourcarpet": [
                      {
                        "colorbar": {
                          "outlinewidth": 0,
                          "ticks": ""
                        },
                        "type": "contourcarpet"
                      }
                    ],
                    "heatmap": [
                      {
                        "colorbar": {
                          "outlinewidth": 0,
                          "ticks": ""
                        },
                        "colorscale": [
                          [
                            0,
                            "#0d0887"
                          ],
                          [
                            0.1111111111111111,
                            "#46039f"
                          ],
                          [
                            0.2222222222222222,
                            "#7201a8"
                          ],
                          [
                            0.3333333333333333,
                            "#9c179e"
                          ],
                          [
                            0.4444444444444444,
                            "#bd3786"
                          ],
                          [
                            0.5555555555555556,
                            "#d8576b"
                          ],
                          [
                            0.6666666666666666,
                            "#ed7953"
                          ],
                          [
                            0.7777777777777778,
                            "#fb9f3a"
                          ],
                          [
                            0.8888888888888888,
                            "#fdca26"
                          ],
                          [
                            1,
                            "#f0f921"
                          ]
                        ],
                        "type": "heatmap"
                      }
                    ],
                    "heatmapgl": [
                      {
                        "colorbar": {
                          "outlinewidth": 0,
                          "ticks": ""
                        },
                        "colorscale": [
                          [
                            0,
                            "#0d0887"
                          ],
                          [
                            0.1111111111111111,
                            "#46039f"
                          ],
                          [
                            0.2222222222222222,
                            "#7201a8"
                          ],
                          [
                            0.3333333333333333,
                            "#9c179e"
                          ],
                          [
                            0.4444444444444444,
                            "#bd3786"
                          ],
                          [
                            0.5555555555555556,
                            "#d8576b"
                          ],
                          [
                            0.6666666666666666,
                            "#ed7953"
                          ],
                          [
                            0.7777777777777778,
                            "#fb9f3a"
                          ],
                          [
                            0.8888888888888888,
                            "#fdca26"
                          ],
                          [
                            1,
                            "#f0f921"
                          ]
                        ],
                        "type": "heatmapgl"
                      }
                    ],
                    "histogram": [
                      {
                        "marker": {
                          "pattern": {
                            "fillmode": "overlay",
                            "size": 10,
                            "solidity": 0.2
                          }
                        },
                        "type": "histogram"
                      }
                    ],
                    "histogram2d": [
                      {
                        "colorbar": {
                          "outlinewidth": 0,
                          "ticks": ""
                        },
                        "colorscale": [
                          [
                            0,
                            "#0d0887"
                          ],
                          [
                            0.1111111111111111,
                            "#46039f"
                          ],
                          [
                            0.2222222222222222,
                            "#7201a8"
                          ],
                          [
                            0.3333333333333333,
                            "#9c179e"
                          ],
                          [
                            0.4444444444444444,
                            "#bd3786"
                          ],
                          [
                            0.5555555555555556,
                            "#d8576b"
                          ],
                          [
                            0.6666666666666666,
                            "#ed7953"
                          ],
                          [
                            0.7777777777777778,
                            "#fb9f3a"
                          ],
                          [
                            0.8888888888888888,
                            "#fdca26"
                          ],
                          [
                            1,
                            "#f0f921"
                          ]
                        ],
                        "type": "histogram2d"
                      }
                    ],
                    "histogram2dcontour": [
                      {
                        "colorbar": {
                          "outlinewidth": 0,
                          "ticks": ""
                        },
                        "colorscale": [
                          [
                            0,
                            "#0d0887"
                          ],
                          [
                            0.1111111111111111,
                            "#46039f"
                          ],
                          [
                            0.2222222222222222,
                            "#7201a8"
                          ],
                          [
                            0.3333333333333333,
                            "#9c179e"
                          ],
                          [
                            0.4444444444444444,
                            "#bd3786"
                          ],
                          [
                            0.5555555555555556,
                            "#d8576b"
                          ],
                          [
                            0.6666666666666666,
                            "#ed7953"
                          ],
                          [
                            0.7777777777777778,
                            "#fb9f3a"
                          ],
                          [
                            0.8888888888888888,
                            "#fdca26"
                          ],
                          [
                            1,
                            "#f0f921"
                          ]
                        ],
                        "type": "histogram2dcontour"
                      }
                    ],
                    "mesh3d": [
                      {
                        "colorbar": {
                          "outlinewidth": 0,
                          "ticks": ""
                        },
                        "type": "mesh3d"
                      }
                    ],
                    "parcoords": [
                      {
                        "line": {
                          "colorbar": {
                            "outlinewidth": 0,
                            "ticks": ""
                          }
                        },
                        "type": "parcoords"
                      }
                    ],
                    "pie": [
                      {
                        "automargin": true,
                        "type": "pie"
                      }
                    ],
                    "scatter": [
                      {
                        "fillpattern": {
                          "fillmode": "overlay",
                          "size": 10,
                          "solidity": 0.2
                        },
                        "type": "scatter"
                      }
                    ],
                    "scatter3d": [
                      {
                        "line": {
                          "colorbar": {
                            "outlinewidth": 0,
                            "ticks": ""
                          }
                        },
                        "marker": {
                          "colorbar": {
                            "outlinewidth": 0,
                            "ticks": ""
                          }
                        },
                        "type": "scatter3d"
                      }
                    ],
                    "scattercarpet": [
                      {
                        "marker": {
                          "colorbar": {
                            "outlinewidth": 0,
                            "ticks": ""
                          }
                        },
                        "type": "scattercarpet"
                      }
                    ],
                    "scattergeo": [
                      {
                        "marker": {
                          "colorbar": {
                            "outlinewidth": 0,
                            "ticks": ""
                          }
                        },
                        "type": "scattergeo"
                      }
                    ],
                    "scattergl": [
                      {
                        "marker": {
                          "colorbar": {
                            "outlinewidth": 0,
                            "ticks": ""
                          }
                        },
                        "type": "scattergl"
                      }
                    ],
                    "scattermapbox": [
                      {
                        "marker": {
                          "colorbar": {
                            "outlinewidth": 0,
                            "ticks": ""
                          }
                        },
                        "type": "scattermapbox"
                      }
                    ],
                    "scatterpolar": [
                      {
                        "marker": {
                          "colorbar": {
                            "outlinewidth": 0,
                            "ticks": ""
                          }
                        },
                        "type": "scatterpolar"
                      }
                    ],
                    "scatterpolargl": [
                      {
                        "marker": {
                          "colorbar": {
                            "outlinewidth": 0,
                            "ticks": ""
                          }
                        },
                        "type": "scatterpolargl"
                      }
                    ],
                    "scatterternary": [
                      {
                        "marker": {
                          "colorbar": {
                            "outlinewidth": 0,
                            "ticks": ""
                          }
                        },
                        "type": "scatterternary"
                      }
                    ],
                    "surface": [
                      {
                        "colorbar": {
                          "outlinewidth": 0,
                          "ticks": ""
                        },
                        "colorscale": [
                          [
                            0,
                            "#0d0887"
                          ],
                          [
                            0.1111111111111111,
                            "#46039f"
                          ],
                          [
                            0.2222222222222222,
                            "#7201a8"
                          ],
                          [
                            0.3333333333333333,
                            "#9c179e"
                          ],
                          [
                            0.4444444444444444,
                            "#bd3786"
                          ],
                          [
                            0.5555555555555556,
                            "#d8576b"
                          ],
                          [
                            0.6666666666666666,
                            "#ed7953"
                          ],
                          [
                            0.7777777777777778,
                            "#fb9f3a"
                          ],
                          [
                            0.8888888888888888,
                            "#fdca26"
                          ],
                          [
                            1,
                            "#f0f921"
                          ]
                        ],
                        "type": "surface"
                      }
                    ],
                    "table": [
                      {
                        "cells": {
                          "fill": {
                            "color": "#EBF0F8"
                          },
                          "line": {
                            "color": "white"
                          }
                        },
                        "header": {
                          "fill": {
                            "color": "#C8D4E3"
                          },
                          "line": {
                            "color": "white"
                          }
                        },
                        "type": "table"
                      }
                    ]
                  },
                  "layout": {
                    "annotationdefaults": {
                      "arrowcolor": "#2a3f5f",
                      "arrowhead": 0,
                      "arrowwidth": 1
                    },
                    "autotypenumbers": "strict",
                    "coloraxis": {
                      "colorbar": {
                        "outlinewidth": 0,
                        "ticks": ""
                      }
                    },
                    "colorscale": {
                      "diverging": [
                        [
                          0,
                          "#8e0152"
                        ],
                        [
                          0.1,
                          "#c51b7d"
                        ],
                        [
                          0.2,
                          "#de77ae"
                        ],
                        [
                          0.3,
                          "#f1b6da"
                        ],
                        [
                          0.4,
                          "#fde0ef"
                        ],
                        [
                          0.5,
                          "#f7f7f7"
                        ],
                        [
                          0.6,
                          "#e6f5d0"
                        ],
                        [
                          0.7,
                          "#b8e186"
                        ],
                        [
                          0.8,
                          "#7fbc41"
                        ],
                        [
                          0.9,
                          "#4d9221"
                        ],
                        [
                          1,
                          "#276419"
                        ]
                      ],
                      "sequential": [
                        [
                          0,
                          "#0d0887"
                        ],
                        [
                          0.1111111111111111,
                          "#46039f"
                        ],
                        [
                          0.2222222222222222,
                          "#7201a8"
                        ],
                        [
                          0.3333333333333333,
                          "#9c179e"
                        ],
                        [
                          0.4444444444444444,
                          "#bd3786"
                        ],
                        [
                          0.5555555555555556,
                          "#d8576b"
                        ],
                        [
                          0.6666666666666666,
                          "#ed7953"
                        ],
                        [
                          0.7777777777777778,
                          "#fb9f3a"
                        ],
                        [
                          0.8888888888888888,
                          "#fdca26"
                        ],
                        [
                          1,
                          "#f0f921"
                        ]
                      ],
                      "sequentialminus": [
                        [
                          0,
                          "#0d0887"
                        ],
                        [
                          0.1111111111111111,
                          "#46039f"
                        ],
                        [
                          0.2222222222222222,
                          "#7201a8"
                        ],
                        [
                          0.3333333333333333,
                          "#9c179e"
                        ],
                        [
                          0.4444444444444444,
                          "#bd3786"
                        ],
                        [
                          0.5555555555555556,
                          "#d8576b"
                        ],
                        [
                          0.6666666666666666,
                          "#ed7953"
                        ],
                        [
                          0.7777777777777778,
                          "#fb9f3a"
                        ],
                        [
                          0.8888888888888888,
                          "#fdca26"
                        ],
                        [
                          1,
                          "#f0f921"
                        ]
                      ]
                    },
                    "colorway": [
                      "#636efa",
                      "#EF553B",
                      "#00cc96",
                      "#ab63fa",
                      "#FFA15A",
                      "#19d3f3",
                      "#FF6692",
                      "#B6E880",
                      "#FF97FF",
                      "#FECB52"
                    ],
                    "font": {
                      "color": "#2a3f5f"
                    },
                    "geo": {
                      "bgcolor": "white",
                      "lakecolor": "white",
                      "landcolor": "#E5ECF6",
                      "showlakes": true,
                      "showland": true,
                      "subunitcolor": "white"
                    },
                    "hoverlabel": {
                      "align": "left"
                    },
                    "hovermode": "closest",
                    "mapbox": {
                      "style": "light"
                    },
                    "paper_bgcolor": "white",
                    "plot_bgcolor": "#E5ECF6",
                    "polar": {
                      "angularaxis": {
                        "gridcolor": "white",
                        "linecolor": "white",
                        "ticks": ""
                      },
                      "bgcolor": "#E5ECF6",
                      "radialaxis": {
                        "gridcolor": "white",
                        "linecolor": "white",
                        "ticks": ""
                      }
                    },
                    "scene": {
                      "xaxis": {
                        "backgroundcolor": "#E5ECF6",
                        "gridcolor": "white",
                        "gridwidth": 2,
                        "linecolor": "white",
                        "showbackground": true,
                        "ticks": "",
                        "zerolinecolor": "white"
                      },
                      "yaxis": {
                        "backgroundcolor": "#E5ECF6",
                        "gridcolor": "white",
                        "gridwidth": 2,
                        "linecolor": "white",
                        "showbackground": true,
                        "ticks": "",
                        "zerolinecolor": "white"
                      },
                      "zaxis": {
                        "backgroundcolor": "#E5ECF6",
                        "gridcolor": "white",
                        "gridwidth": 2,
                        "linecolor": "white",
                        "showbackground": true,
                        "ticks": "",
                        "zerolinecolor": "white"
                      }
                    },
                    "shapedefaults": {
                      "line": {
                        "color": "#2a3f5f"
                      }
                    },
                    "ternary": {
                      "aaxis": {
                        "gridcolor": "white",
                        "linecolor": "white",
                        "ticks": ""
                      },
                      "baxis": {
                        "gridcolor": "white",
                        "linecolor": "white",
                        "ticks": ""
                      },
                      "bgcolor": "#E5ECF6",
                      "caxis": {
                        "gridcolor": "white",
                        "linecolor": "white",
                        "ticks": ""
                      }
                    },
                    "title": {
                      "x": 0.05
                    },
                    "xaxis": {
                      "automargin": true,
                      "gridcolor": "white",
                      "linecolor": "white",
                      "ticks": "",
                      "title": {
                        "standoff": 15
                      },
                      "zerolinecolor": "white",
                      "zerolinewidth": 2
                    },
                    "yaxis": {
                      "automargin": true,
                      "gridcolor": "white",
                      "linecolor": "white",
                      "ticks": "",
                      "title": {
                        "standoff": 15
                      },
                      "zerolinecolor": "white",
                      "zerolinewidth": 2
                    }
                  }
                },
                "title": {
                  "text": "Intermediate Values Plot"
                },
                "xaxis": {
                  "title": {
                    "text": "Step"
                  }
                },
                "yaxis": {
                  "title": {
                    "text": "Intermediate Value"
                  }
                }
              }
            }
          },
          "metadata": {},
          "output_type": "display_data"
        }
      ],
      "source": [
        "fig = optuna.visualization.plot_intermediate_values(study)\n",
        "fig.show()"
      ]
    },
    {
      "cell_type": "markdown",
      "id": "ea487a3a",
      "metadata": {
        "id": "ea487a3a"
      },
      "source": [
        "As we can see, there is quite a big group of models that perform very similarly. At the same time, there were a few models with very poor results, which were lucky stopped early by Optuna to not waste compute. \n",
        "\n",
        "Another question we might have is which hyperparameter was the most important for the performance? This can be directly visualized by `plot_param_importances`. By default, Optuna uses a random forest regression to estimate the importance of each hyperparameter ([documentation](https://optuna.readthedocs.io/en/stable/reference/generated/optuna.importance.FanovaImportanceEvaluator.html#optuna.importance.FanovaImportanceEvaluator)), and shows it as values that sum up to 1 for all hyperparameters:"
      ]
    },
    {
      "cell_type": "code",
      "execution_count": 37,
      "id": "3dd9c34c",
      "metadata": {
        "id": "3dd9c34c",
        "outputId": "e2a273f5-7177-46dd-a1d2-f747d10cbc75"
      },
      "outputs": [
        {
          "data": {
            "application/vnd.plotly.v1+json": {
              "config": {
                "plotlyServerURL": "https://plot.ly"
              },
              "data": [
                {
                  "cliponaxis": false,
                  "hovertemplate": [
                    "weight_decay (LogUniformDistribution): 0.11389107883869622<extra></extra>",
                    "dropout_prob (UniformDistribution): 0.1809200904949514<extra></extra>",
                    "lr (LogUniformDistribution): 0.7051888306663525<extra></extra>"
                  ],
                  "marker": {
                    "color": "rgb(66,146,198)"
                  },
                  "orientation": "h",
                  "text": [
                    "0.11389107883869622",
                    "0.1809200904949514",
                    "0.7051888306663525"
                  ],
                  "textposition": "outside",
                  "texttemplate": "%{text:.2f}",
                  "type": "bar",
                  "x": [
                    0.11389107883869622,
                    0.1809200904949514,
                    0.7051888306663525
                  ],
                  "y": [
                    "weight_decay",
                    "dropout_prob",
                    "lr"
                  ]
                }
              ],
              "layout": {
                "showlegend": false,
                "template": {
                  "data": {
                    "bar": [
                      {
                        "error_x": {
                          "color": "#2a3f5f"
                        },
                        "error_y": {
                          "color": "#2a3f5f"
                        },
                        "marker": {
                          "line": {
                            "color": "#E5ECF6",
                            "width": 0.5
                          },
                          "pattern": {
                            "fillmode": "overlay",
                            "size": 10,
                            "solidity": 0.2
                          }
                        },
                        "type": "bar"
                      }
                    ],
                    "barpolar": [
                      {
                        "marker": {
                          "line": {
                            "color": "#E5ECF6",
                            "width": 0.5
                          },
                          "pattern": {
                            "fillmode": "overlay",
                            "size": 10,
                            "solidity": 0.2
                          }
                        },
                        "type": "barpolar"
                      }
                    ],
                    "carpet": [
                      {
                        "aaxis": {
                          "endlinecolor": "#2a3f5f",
                          "gridcolor": "white",
                          "linecolor": "white",
                          "minorgridcolor": "white",
                          "startlinecolor": "#2a3f5f"
                        },
                        "baxis": {
                          "endlinecolor": "#2a3f5f",
                          "gridcolor": "white",
                          "linecolor": "white",
                          "minorgridcolor": "white",
                          "startlinecolor": "#2a3f5f"
                        },
                        "type": "carpet"
                      }
                    ],
                    "choropleth": [
                      {
                        "colorbar": {
                          "outlinewidth": 0,
                          "ticks": ""
                        },
                        "type": "choropleth"
                      }
                    ],
                    "contour": [
                      {
                        "colorbar": {
                          "outlinewidth": 0,
                          "ticks": ""
                        },
                        "colorscale": [
                          [
                            0,
                            "#0d0887"
                          ],
                          [
                            0.1111111111111111,
                            "#46039f"
                          ],
                          [
                            0.2222222222222222,
                            "#7201a8"
                          ],
                          [
                            0.3333333333333333,
                            "#9c179e"
                          ],
                          [
                            0.4444444444444444,
                            "#bd3786"
                          ],
                          [
                            0.5555555555555556,
                            "#d8576b"
                          ],
                          [
                            0.6666666666666666,
                            "#ed7953"
                          ],
                          [
                            0.7777777777777778,
                            "#fb9f3a"
                          ],
                          [
                            0.8888888888888888,
                            "#fdca26"
                          ],
                          [
                            1,
                            "#f0f921"
                          ]
                        ],
                        "type": "contour"
                      }
                    ],
                    "contourcarpet": [
                      {
                        "colorbar": {
                          "outlinewidth": 0,
                          "ticks": ""
                        },
                        "type": "contourcarpet"
                      }
                    ],
                    "heatmap": [
                      {
                        "colorbar": {
                          "outlinewidth": 0,
                          "ticks": ""
                        },
                        "colorscale": [
                          [
                            0,
                            "#0d0887"
                          ],
                          [
                            0.1111111111111111,
                            "#46039f"
                          ],
                          [
                            0.2222222222222222,
                            "#7201a8"
                          ],
                          [
                            0.3333333333333333,
                            "#9c179e"
                          ],
                          [
                            0.4444444444444444,
                            "#bd3786"
                          ],
                          [
                            0.5555555555555556,
                            "#d8576b"
                          ],
                          [
                            0.6666666666666666,
                            "#ed7953"
                          ],
                          [
                            0.7777777777777778,
                            "#fb9f3a"
                          ],
                          [
                            0.8888888888888888,
                            "#fdca26"
                          ],
                          [
                            1,
                            "#f0f921"
                          ]
                        ],
                        "type": "heatmap"
                      }
                    ],
                    "heatmapgl": [
                      {
                        "colorbar": {
                          "outlinewidth": 0,
                          "ticks": ""
                        },
                        "colorscale": [
                          [
                            0,
                            "#0d0887"
                          ],
                          [
                            0.1111111111111111,
                            "#46039f"
                          ],
                          [
                            0.2222222222222222,
                            "#7201a8"
                          ],
                          [
                            0.3333333333333333,
                            "#9c179e"
                          ],
                          [
                            0.4444444444444444,
                            "#bd3786"
                          ],
                          [
                            0.5555555555555556,
                            "#d8576b"
                          ],
                          [
                            0.6666666666666666,
                            "#ed7953"
                          ],
                          [
                            0.7777777777777778,
                            "#fb9f3a"
                          ],
                          [
                            0.8888888888888888,
                            "#fdca26"
                          ],
                          [
                            1,
                            "#f0f921"
                          ]
                        ],
                        "type": "heatmapgl"
                      }
                    ],
                    "histogram": [
                      {
                        "marker": {
                          "pattern": {
                            "fillmode": "overlay",
                            "size": 10,
                            "solidity": 0.2
                          }
                        },
                        "type": "histogram"
                      }
                    ],
                    "histogram2d": [
                      {
                        "colorbar": {
                          "outlinewidth": 0,
                          "ticks": ""
                        },
                        "colorscale": [
                          [
                            0,
                            "#0d0887"
                          ],
                          [
                            0.1111111111111111,
                            "#46039f"
                          ],
                          [
                            0.2222222222222222,
                            "#7201a8"
                          ],
                          [
                            0.3333333333333333,
                            "#9c179e"
                          ],
                          [
                            0.4444444444444444,
                            "#bd3786"
                          ],
                          [
                            0.5555555555555556,
                            "#d8576b"
                          ],
                          [
                            0.6666666666666666,
                            "#ed7953"
                          ],
                          [
                            0.7777777777777778,
                            "#fb9f3a"
                          ],
                          [
                            0.8888888888888888,
                            "#fdca26"
                          ],
                          [
                            1,
                            "#f0f921"
                          ]
                        ],
                        "type": "histogram2d"
                      }
                    ],
                    "histogram2dcontour": [
                      {
                        "colorbar": {
                          "outlinewidth": 0,
                          "ticks": ""
                        },
                        "colorscale": [
                          [
                            0,
                            "#0d0887"
                          ],
                          [
                            0.1111111111111111,
                            "#46039f"
                          ],
                          [
                            0.2222222222222222,
                            "#7201a8"
                          ],
                          [
                            0.3333333333333333,
                            "#9c179e"
                          ],
                          [
                            0.4444444444444444,
                            "#bd3786"
                          ],
                          [
                            0.5555555555555556,
                            "#d8576b"
                          ],
                          [
                            0.6666666666666666,
                            "#ed7953"
                          ],
                          [
                            0.7777777777777778,
                            "#fb9f3a"
                          ],
                          [
                            0.8888888888888888,
                            "#fdca26"
                          ],
                          [
                            1,
                            "#f0f921"
                          ]
                        ],
                        "type": "histogram2dcontour"
                      }
                    ],
                    "mesh3d": [
                      {
                        "colorbar": {
                          "outlinewidth": 0,
                          "ticks": ""
                        },
                        "type": "mesh3d"
                      }
                    ],
                    "parcoords": [
                      {
                        "line": {
                          "colorbar": {
                            "outlinewidth": 0,
                            "ticks": ""
                          }
                        },
                        "type": "parcoords"
                      }
                    ],
                    "pie": [
                      {
                        "automargin": true,
                        "type": "pie"
                      }
                    ],
                    "scatter": [
                      {
                        "fillpattern": {
                          "fillmode": "overlay",
                          "size": 10,
                          "solidity": 0.2
                        },
                        "type": "scatter"
                      }
                    ],
                    "scatter3d": [
                      {
                        "line": {
                          "colorbar": {
                            "outlinewidth": 0,
                            "ticks": ""
                          }
                        },
                        "marker": {
                          "colorbar": {
                            "outlinewidth": 0,
                            "ticks": ""
                          }
                        },
                        "type": "scatter3d"
                      }
                    ],
                    "scattercarpet": [
                      {
                        "marker": {
                          "colorbar": {
                            "outlinewidth": 0,
                            "ticks": ""
                          }
                        },
                        "type": "scattercarpet"
                      }
                    ],
                    "scattergeo": [
                      {
                        "marker": {
                          "colorbar": {
                            "outlinewidth": 0,
                            "ticks": ""
                          }
                        },
                        "type": "scattergeo"
                      }
                    ],
                    "scattergl": [
                      {
                        "marker": {
                          "colorbar": {
                            "outlinewidth": 0,
                            "ticks": ""
                          }
                        },
                        "type": "scattergl"
                      }
                    ],
                    "scattermapbox": [
                      {
                        "marker": {
                          "colorbar": {
                            "outlinewidth": 0,
                            "ticks": ""
                          }
                        },
                        "type": "scattermapbox"
                      }
                    ],
                    "scatterpolar": [
                      {
                        "marker": {
                          "colorbar": {
                            "outlinewidth": 0,
                            "ticks": ""
                          }
                        },
                        "type": "scatterpolar"
                      }
                    ],
                    "scatterpolargl": [
                      {
                        "marker": {
                          "colorbar": {
                            "outlinewidth": 0,
                            "ticks": ""
                          }
                        },
                        "type": "scatterpolargl"
                      }
                    ],
                    "scatterternary": [
                      {
                        "marker": {
                          "colorbar": {
                            "outlinewidth": 0,
                            "ticks": ""
                          }
                        },
                        "type": "scatterternary"
                      }
                    ],
                    "surface": [
                      {
                        "colorbar": {
                          "outlinewidth": 0,
                          "ticks": ""
                        },
                        "colorscale": [
                          [
                            0,
                            "#0d0887"
                          ],
                          [
                            0.1111111111111111,
                            "#46039f"
                          ],
                          [
                            0.2222222222222222,
                            "#7201a8"
                          ],
                          [
                            0.3333333333333333,
                            "#9c179e"
                          ],
                          [
                            0.4444444444444444,
                            "#bd3786"
                          ],
                          [
                            0.5555555555555556,
                            "#d8576b"
                          ],
                          [
                            0.6666666666666666,
                            "#ed7953"
                          ],
                          [
                            0.7777777777777778,
                            "#fb9f3a"
                          ],
                          [
                            0.8888888888888888,
                            "#fdca26"
                          ],
                          [
                            1,
                            "#f0f921"
                          ]
                        ],
                        "type": "surface"
                      }
                    ],
                    "table": [
                      {
                        "cells": {
                          "fill": {
                            "color": "#EBF0F8"
                          },
                          "line": {
                            "color": "white"
                          }
                        },
                        "header": {
                          "fill": {
                            "color": "#C8D4E3"
                          },
                          "line": {
                            "color": "white"
                          }
                        },
                        "type": "table"
                      }
                    ]
                  },
                  "layout": {
                    "annotationdefaults": {
                      "arrowcolor": "#2a3f5f",
                      "arrowhead": 0,
                      "arrowwidth": 1
                    },
                    "autotypenumbers": "strict",
                    "coloraxis": {
                      "colorbar": {
                        "outlinewidth": 0,
                        "ticks": ""
                      }
                    },
                    "colorscale": {
                      "diverging": [
                        [
                          0,
                          "#8e0152"
                        ],
                        [
                          0.1,
                          "#c51b7d"
                        ],
                        [
                          0.2,
                          "#de77ae"
                        ],
                        [
                          0.3,
                          "#f1b6da"
                        ],
                        [
                          0.4,
                          "#fde0ef"
                        ],
                        [
                          0.5,
                          "#f7f7f7"
                        ],
                        [
                          0.6,
                          "#e6f5d0"
                        ],
                        [
                          0.7,
                          "#b8e186"
                        ],
                        [
                          0.8,
                          "#7fbc41"
                        ],
                        [
                          0.9,
                          "#4d9221"
                        ],
                        [
                          1,
                          "#276419"
                        ]
                      ],
                      "sequential": [
                        [
                          0,
                          "#0d0887"
                        ],
                        [
                          0.1111111111111111,
                          "#46039f"
                        ],
                        [
                          0.2222222222222222,
                          "#7201a8"
                        ],
                        [
                          0.3333333333333333,
                          "#9c179e"
                        ],
                        [
                          0.4444444444444444,
                          "#bd3786"
                        ],
                        [
                          0.5555555555555556,
                          "#d8576b"
                        ],
                        [
                          0.6666666666666666,
                          "#ed7953"
                        ],
                        [
                          0.7777777777777778,
                          "#fb9f3a"
                        ],
                        [
                          0.8888888888888888,
                          "#fdca26"
                        ],
                        [
                          1,
                          "#f0f921"
                        ]
                      ],
                      "sequentialminus": [
                        [
                          0,
                          "#0d0887"
                        ],
                        [
                          0.1111111111111111,
                          "#46039f"
                        ],
                        [
                          0.2222222222222222,
                          "#7201a8"
                        ],
                        [
                          0.3333333333333333,
                          "#9c179e"
                        ],
                        [
                          0.4444444444444444,
                          "#bd3786"
                        ],
                        [
                          0.5555555555555556,
                          "#d8576b"
                        ],
                        [
                          0.6666666666666666,
                          "#ed7953"
                        ],
                        [
                          0.7777777777777778,
                          "#fb9f3a"
                        ],
                        [
                          0.8888888888888888,
                          "#fdca26"
                        ],
                        [
                          1,
                          "#f0f921"
                        ]
                      ]
                    },
                    "colorway": [
                      "#636efa",
                      "#EF553B",
                      "#00cc96",
                      "#ab63fa",
                      "#FFA15A",
                      "#19d3f3",
                      "#FF6692",
                      "#B6E880",
                      "#FF97FF",
                      "#FECB52"
                    ],
                    "font": {
                      "color": "#2a3f5f"
                    },
                    "geo": {
                      "bgcolor": "white",
                      "lakecolor": "white",
                      "landcolor": "#E5ECF6",
                      "showlakes": true,
                      "showland": true,
                      "subunitcolor": "white"
                    },
                    "hoverlabel": {
                      "align": "left"
                    },
                    "hovermode": "closest",
                    "mapbox": {
                      "style": "light"
                    },
                    "paper_bgcolor": "white",
                    "plot_bgcolor": "#E5ECF6",
                    "polar": {
                      "angularaxis": {
                        "gridcolor": "white",
                        "linecolor": "white",
                        "ticks": ""
                      },
                      "bgcolor": "#E5ECF6",
                      "radialaxis": {
                        "gridcolor": "white",
                        "linecolor": "white",
                        "ticks": ""
                      }
                    },
                    "scene": {
                      "xaxis": {
                        "backgroundcolor": "#E5ECF6",
                        "gridcolor": "white",
                        "gridwidth": 2,
                        "linecolor": "white",
                        "showbackground": true,
                        "ticks": "",
                        "zerolinecolor": "white"
                      },
                      "yaxis": {
                        "backgroundcolor": "#E5ECF6",
                        "gridcolor": "white",
                        "gridwidth": 2,
                        "linecolor": "white",
                        "showbackground": true,
                        "ticks": "",
                        "zerolinecolor": "white"
                      },
                      "zaxis": {
                        "backgroundcolor": "#E5ECF6",
                        "gridcolor": "white",
                        "gridwidth": 2,
                        "linecolor": "white",
                        "showbackground": true,
                        "ticks": "",
                        "zerolinecolor": "white"
                      }
                    },
                    "shapedefaults": {
                      "line": {
                        "color": "#2a3f5f"
                      }
                    },
                    "ternary": {
                      "aaxis": {
                        "gridcolor": "white",
                        "linecolor": "white",
                        "ticks": ""
                      },
                      "baxis": {
                        "gridcolor": "white",
                        "linecolor": "white",
                        "ticks": ""
                      },
                      "bgcolor": "#E5ECF6",
                      "caxis": {
                        "gridcolor": "white",
                        "linecolor": "white",
                        "ticks": ""
                      }
                    },
                    "title": {
                      "x": 0.05
                    },
                    "xaxis": {
                      "automargin": true,
                      "gridcolor": "white",
                      "linecolor": "white",
                      "ticks": "",
                      "title": {
                        "standoff": 15
                      },
                      "zerolinecolor": "white",
                      "zerolinewidth": 2
                    },
                    "yaxis": {
                      "automargin": true,
                      "gridcolor": "white",
                      "linecolor": "white",
                      "ticks": "",
                      "title": {
                        "standoff": 15
                      },
                      "zerolinecolor": "white",
                      "zerolinewidth": 2
                    }
                  }
                },
                "title": {
                  "text": "Hyperparameter Importances"
                },
                "xaxis": {
                  "title": {
                    "text": "Importance for Objective Value"
                  }
                },
                "yaxis": {
                  "title": {
                    "text": "Hyperparameter"
                  }
                }
              }
            }
          },
          "metadata": {},
          "output_type": "display_data"
        }
      ],
      "source": [
        "fig = optuna.visualization.plot_param_importances(study)\n",
        "fig.show()"
      ]
    },
    {
      "cell_type": "markdown",
      "id": "d1cc14bb",
      "metadata": {
        "id": "d1cc14bb"
      },
      "source": [
        "Interestingly, the learning rate is the most important hyperparameter. \n",
        "\n",
        "Finally, to get a good intuition of the interplay between hyperparameters, we can plot the estimated accuracy surface over hyperparameters:"
      ]
    },
    {
      "cell_type": "code",
      "execution_count": 38,
      "id": "fcd0530c",
      "metadata": {
        "id": "fcd0530c",
        "outputId": "a73ae96f-e613-420b-fef6-64f0a5621bbd"
      },
      "outputs": [
        {
          "data": {
            "application/vnd.plotly.v1+json": {
              "config": {
                "plotlyServerURL": "https://plot.ly"
              },
              "data": [
                {
                  "colorbar": {
                    "title": {
                      "text": "Objective Value"
                    }
                  },
                  "colorscale": [
                    [
                      0,
                      "rgb(5,10,172)"
                    ],
                    [
                      0.35,
                      "rgb(40,60,190)"
                    ],
                    [
                      0.5,
                      "rgb(70,100,245)"
                    ],
                    [
                      0.6,
                      "rgb(90,120,245)"
                    ],
                    [
                      0.7,
                      "rgb(106,137,247)"
                    ],
                    [
                      1,
                      "rgb(220,220,220)"
                    ]
                  ],
                  "connectgaps": true,
                  "contours": {
                    "coloring": "heatmap"
                  },
                  "hoverinfo": "none",
                  "line": {
                    "smoothing": 1.3
                  },
                  "reversescale": false,
                  "type": "contour",
                  "x": [
                    0.2656807026267916,
                    0.27577279675695177,
                    0.29183134632896607,
                    0.3251148821458062,
                    0.3408997139932338,
                    0.35243531172620524,
                    0.3601189100414495,
                    0.39573629692783413,
                    0.39878166656225567,
                    0.43296234784961435,
                    0.47418149810543003,
                    0.477614679360155,
                    0.48770677349031516
                  ],
                  "y": [
                    0.000117389669201562,
                    0.00014229927952328852,
                    0.0002673059778626356,
                    0.001274534085173653,
                    0.0017800932033490465,
                    0.0019352582636301293,
                    0.002097404408052793,
                    0.0027169253442906613,
                    0.0028385969798708226,
                    0.0036962094659705996,
                    0.005797348676281532,
                    0.006678195819497592,
                    0.008095281808812697
                  ],
                  "z": [
                    [
                      null,
                      null,
                      null,
                      null,
                      null,
                      null,
                      null,
                      null,
                      null,
                      null,
                      null,
                      null,
                      null
                    ],
                    [
                      null,
                      null,
                      null,
                      0.6168000102043152,
                      null,
                      null,
                      null,
                      null,
                      null,
                      null,
                      null,
                      null,
                      null
                    ],
                    [
                      null,
                      null,
                      null,
                      null,
                      null,
                      null,
                      null,
                      null,
                      null,
                      null,
                      0.6132000088691711,
                      null,
                      null
                    ],
                    [
                      null,
                      null,
                      null,
                      null,
                      null,
                      null,
                      null,
                      null,
                      null,
                      null,
                      null,
                      0.6262000203132629,
                      null
                    ],
                    [
                      null,
                      0.6304000020027161,
                      null,
                      null,
                      null,
                      null,
                      null,
                      null,
                      null,
                      null,
                      null,
                      null,
                      null
                    ],
                    [
                      null,
                      null,
                      null,
                      null,
                      null,
                      null,
                      null,
                      null,
                      0.631600022315979,
                      null,
                      null,
                      null,
                      null
                    ],
                    [
                      null,
                      null,
                      null,
                      null,
                      null,
                      null,
                      null,
                      0.6344000101089478,
                      null,
                      null,
                      null,
                      null,
                      null
                    ],
                    [
                      null,
                      null,
                      0.631600022315979,
                      null,
                      null,
                      null,
                      null,
                      null,
                      null,
                      null,
                      null,
                      null,
                      null
                    ],
                    [
                      null,
                      null,
                      null,
                      null,
                      null,
                      null,
                      0.6314000487327576,
                      null,
                      null,
                      null,
                      null,
                      null,
                      null
                    ],
                    [
                      null,
                      null,
                      null,
                      null,
                      0.628600001335144,
                      null,
                      null,
                      null,
                      null,
                      null,
                      null,
                      null,
                      null
                    ],
                    [
                      null,
                      null,
                      null,
                      null,
                      null,
                      null,
                      null,
                      null,
                      null,
                      0.6288000345230103,
                      null,
                      null,
                      null
                    ],
                    [
                      null,
                      null,
                      null,
                      null,
                      null,
                      0.6308000087738037,
                      null,
                      null,
                      null,
                      null,
                      null,
                      null,
                      null
                    ],
                    [
                      null,
                      null,
                      null,
                      null,
                      null,
                      null,
                      null,
                      null,
                      null,
                      null,
                      null,
                      null,
                      null
                    ]
                  ]
                },
                {
                  "marker": {
                    "color": "black",
                    "line": {
                      "color": "Grey",
                      "width": 0.5
                    }
                  },
                  "mode": "markers",
                  "showlegend": false,
                  "type": "scatter",
                  "x": [
                    0.3601189100414495,
                    0.3251148821458062,
                    0.477614679360155,
                    0.47418149810543003,
                    0.43296234784961435,
                    0.35243531172620524,
                    0.3408997139932338,
                    0.39573629692783413,
                    0.39878166656225567,
                    0.27577279675695177,
                    0.29183134632896607
                  ],
                  "y": [
                    0.0028385969798708226,
                    0.00014229927952328852,
                    0.001274534085173653,
                    0.0002673059778626356,
                    0.005797348676281532,
                    0.006678195819497592,
                    0.0036962094659705996,
                    0.002097404408052793,
                    0.0019352582636301293,
                    0.0017800932033490465,
                    0.0027169253442906613
                  ]
                }
              ],
              "layout": {
                "template": {
                  "data": {
                    "bar": [
                      {
                        "error_x": {
                          "color": "#2a3f5f"
                        },
                        "error_y": {
                          "color": "#2a3f5f"
                        },
                        "marker": {
                          "line": {
                            "color": "#E5ECF6",
                            "width": 0.5
                          },
                          "pattern": {
                            "fillmode": "overlay",
                            "size": 10,
                            "solidity": 0.2
                          }
                        },
                        "type": "bar"
                      }
                    ],
                    "barpolar": [
                      {
                        "marker": {
                          "line": {
                            "color": "#E5ECF6",
                            "width": 0.5
                          },
                          "pattern": {
                            "fillmode": "overlay",
                            "size": 10,
                            "solidity": 0.2
                          }
                        },
                        "type": "barpolar"
                      }
                    ],
                    "carpet": [
                      {
                        "aaxis": {
                          "endlinecolor": "#2a3f5f",
                          "gridcolor": "white",
                          "linecolor": "white",
                          "minorgridcolor": "white",
                          "startlinecolor": "#2a3f5f"
                        },
                        "baxis": {
                          "endlinecolor": "#2a3f5f",
                          "gridcolor": "white",
                          "linecolor": "white",
                          "minorgridcolor": "white",
                          "startlinecolor": "#2a3f5f"
                        },
                        "type": "carpet"
                      }
                    ],
                    "choropleth": [
                      {
                        "colorbar": {
                          "outlinewidth": 0,
                          "ticks": ""
                        },
                        "type": "choropleth"
                      }
                    ],
                    "contour": [
                      {
                        "colorbar": {
                          "outlinewidth": 0,
                          "ticks": ""
                        },
                        "colorscale": [
                          [
                            0,
                            "#0d0887"
                          ],
                          [
                            0.1111111111111111,
                            "#46039f"
                          ],
                          [
                            0.2222222222222222,
                            "#7201a8"
                          ],
                          [
                            0.3333333333333333,
                            "#9c179e"
                          ],
                          [
                            0.4444444444444444,
                            "#bd3786"
                          ],
                          [
                            0.5555555555555556,
                            "#d8576b"
                          ],
                          [
                            0.6666666666666666,
                            "#ed7953"
                          ],
                          [
                            0.7777777777777778,
                            "#fb9f3a"
                          ],
                          [
                            0.8888888888888888,
                            "#fdca26"
                          ],
                          [
                            1,
                            "#f0f921"
                          ]
                        ],
                        "type": "contour"
                      }
                    ],
                    "contourcarpet": [
                      {
                        "colorbar": {
                          "outlinewidth": 0,
                          "ticks": ""
                        },
                        "type": "contourcarpet"
                      }
                    ],
                    "heatmap": [
                      {
                        "colorbar": {
                          "outlinewidth": 0,
                          "ticks": ""
                        },
                        "colorscale": [
                          [
                            0,
                            "#0d0887"
                          ],
                          [
                            0.1111111111111111,
                            "#46039f"
                          ],
                          [
                            0.2222222222222222,
                            "#7201a8"
                          ],
                          [
                            0.3333333333333333,
                            "#9c179e"
                          ],
                          [
                            0.4444444444444444,
                            "#bd3786"
                          ],
                          [
                            0.5555555555555556,
                            "#d8576b"
                          ],
                          [
                            0.6666666666666666,
                            "#ed7953"
                          ],
                          [
                            0.7777777777777778,
                            "#fb9f3a"
                          ],
                          [
                            0.8888888888888888,
                            "#fdca26"
                          ],
                          [
                            1,
                            "#f0f921"
                          ]
                        ],
                        "type": "heatmap"
                      }
                    ],
                    "heatmapgl": [
                      {
                        "colorbar": {
                          "outlinewidth": 0,
                          "ticks": ""
                        },
                        "colorscale": [
                          [
                            0,
                            "#0d0887"
                          ],
                          [
                            0.1111111111111111,
                            "#46039f"
                          ],
                          [
                            0.2222222222222222,
                            "#7201a8"
                          ],
                          [
                            0.3333333333333333,
                            "#9c179e"
                          ],
                          [
                            0.4444444444444444,
                            "#bd3786"
                          ],
                          [
                            0.5555555555555556,
                            "#d8576b"
                          ],
                          [
                            0.6666666666666666,
                            "#ed7953"
                          ],
                          [
                            0.7777777777777778,
                            "#fb9f3a"
                          ],
                          [
                            0.8888888888888888,
                            "#fdca26"
                          ],
                          [
                            1,
                            "#f0f921"
                          ]
                        ],
                        "type": "heatmapgl"
                      }
                    ],
                    "histogram": [
                      {
                        "marker": {
                          "pattern": {
                            "fillmode": "overlay",
                            "size": 10,
                            "solidity": 0.2
                          }
                        },
                        "type": "histogram"
                      }
                    ],
                    "histogram2d": [
                      {
                        "colorbar": {
                          "outlinewidth": 0,
                          "ticks": ""
                        },
                        "colorscale": [
                          [
                            0,
                            "#0d0887"
                          ],
                          [
                            0.1111111111111111,
                            "#46039f"
                          ],
                          [
                            0.2222222222222222,
                            "#7201a8"
                          ],
                          [
                            0.3333333333333333,
                            "#9c179e"
                          ],
                          [
                            0.4444444444444444,
                            "#bd3786"
                          ],
                          [
                            0.5555555555555556,
                            "#d8576b"
                          ],
                          [
                            0.6666666666666666,
                            "#ed7953"
                          ],
                          [
                            0.7777777777777778,
                            "#fb9f3a"
                          ],
                          [
                            0.8888888888888888,
                            "#fdca26"
                          ],
                          [
                            1,
                            "#f0f921"
                          ]
                        ],
                        "type": "histogram2d"
                      }
                    ],
                    "histogram2dcontour": [
                      {
                        "colorbar": {
                          "outlinewidth": 0,
                          "ticks": ""
                        },
                        "colorscale": [
                          [
                            0,
                            "#0d0887"
                          ],
                          [
                            0.1111111111111111,
                            "#46039f"
                          ],
                          [
                            0.2222222222222222,
                            "#7201a8"
                          ],
                          [
                            0.3333333333333333,
                            "#9c179e"
                          ],
                          [
                            0.4444444444444444,
                            "#bd3786"
                          ],
                          [
                            0.5555555555555556,
                            "#d8576b"
                          ],
                          [
                            0.6666666666666666,
                            "#ed7953"
                          ],
                          [
                            0.7777777777777778,
                            "#fb9f3a"
                          ],
                          [
                            0.8888888888888888,
                            "#fdca26"
                          ],
                          [
                            1,
                            "#f0f921"
                          ]
                        ],
                        "type": "histogram2dcontour"
                      }
                    ],
                    "mesh3d": [
                      {
                        "colorbar": {
                          "outlinewidth": 0,
                          "ticks": ""
                        },
                        "type": "mesh3d"
                      }
                    ],
                    "parcoords": [
                      {
                        "line": {
                          "colorbar": {
                            "outlinewidth": 0,
                            "ticks": ""
                          }
                        },
                        "type": "parcoords"
                      }
                    ],
                    "pie": [
                      {
                        "automargin": true,
                        "type": "pie"
                      }
                    ],
                    "scatter": [
                      {
                        "fillpattern": {
                          "fillmode": "overlay",
                          "size": 10,
                          "solidity": 0.2
                        },
                        "type": "scatter"
                      }
                    ],
                    "scatter3d": [
                      {
                        "line": {
                          "colorbar": {
                            "outlinewidth": 0,
                            "ticks": ""
                          }
                        },
                        "marker": {
                          "colorbar": {
                            "outlinewidth": 0,
                            "ticks": ""
                          }
                        },
                        "type": "scatter3d"
                      }
                    ],
                    "scattercarpet": [
                      {
                        "marker": {
                          "colorbar": {
                            "outlinewidth": 0,
                            "ticks": ""
                          }
                        },
                        "type": "scattercarpet"
                      }
                    ],
                    "scattergeo": [
                      {
                        "marker": {
                          "colorbar": {
                            "outlinewidth": 0,
                            "ticks": ""
                          }
                        },
                        "type": "scattergeo"
                      }
                    ],
                    "scattergl": [
                      {
                        "marker": {
                          "colorbar": {
                            "outlinewidth": 0,
                            "ticks": ""
                          }
                        },
                        "type": "scattergl"
                      }
                    ],
                    "scattermapbox": [
                      {
                        "marker": {
                          "colorbar": {
                            "outlinewidth": 0,
                            "ticks": ""
                          }
                        },
                        "type": "scattermapbox"
                      }
                    ],
                    "scatterpolar": [
                      {
                        "marker": {
                          "colorbar": {
                            "outlinewidth": 0,
                            "ticks": ""
                          }
                        },
                        "type": "scatterpolar"
                      }
                    ],
                    "scatterpolargl": [
                      {
                        "marker": {
                          "colorbar": {
                            "outlinewidth": 0,
                            "ticks": ""
                          }
                        },
                        "type": "scatterpolargl"
                      }
                    ],
                    "scatterternary": [
                      {
                        "marker": {
                          "colorbar": {
                            "outlinewidth": 0,
                            "ticks": ""
                          }
                        },
                        "type": "scatterternary"
                      }
                    ],
                    "surface": [
                      {
                        "colorbar": {
                          "outlinewidth": 0,
                          "ticks": ""
                        },
                        "colorscale": [
                          [
                            0,
                            "#0d0887"
                          ],
                          [
                            0.1111111111111111,
                            "#46039f"
                          ],
                          [
                            0.2222222222222222,
                            "#7201a8"
                          ],
                          [
                            0.3333333333333333,
                            "#9c179e"
                          ],
                          [
                            0.4444444444444444,
                            "#bd3786"
                          ],
                          [
                            0.5555555555555556,
                            "#d8576b"
                          ],
                          [
                            0.6666666666666666,
                            "#ed7953"
                          ],
                          [
                            0.7777777777777778,
                            "#fb9f3a"
                          ],
                          [
                            0.8888888888888888,
                            "#fdca26"
                          ],
                          [
                            1,
                            "#f0f921"
                          ]
                        ],
                        "type": "surface"
                      }
                    ],
                    "table": [
                      {
                        "cells": {
                          "fill": {
                            "color": "#EBF0F8"
                          },
                          "line": {
                            "color": "white"
                          }
                        },
                        "header": {
                          "fill": {
                            "color": "#C8D4E3"
                          },
                          "line": {
                            "color": "white"
                          }
                        },
                        "type": "table"
                      }
                    ]
                  },
                  "layout": {
                    "annotationdefaults": {
                      "arrowcolor": "#2a3f5f",
                      "arrowhead": 0,
                      "arrowwidth": 1
                    },
                    "autotypenumbers": "strict",
                    "coloraxis": {
                      "colorbar": {
                        "outlinewidth": 0,
                        "ticks": ""
                      }
                    },
                    "colorscale": {
                      "diverging": [
                        [
                          0,
                          "#8e0152"
                        ],
                        [
                          0.1,
                          "#c51b7d"
                        ],
                        [
                          0.2,
                          "#de77ae"
                        ],
                        [
                          0.3,
                          "#f1b6da"
                        ],
                        [
                          0.4,
                          "#fde0ef"
                        ],
                        [
                          0.5,
                          "#f7f7f7"
                        ],
                        [
                          0.6,
                          "#e6f5d0"
                        ],
                        [
                          0.7,
                          "#b8e186"
                        ],
                        [
                          0.8,
                          "#7fbc41"
                        ],
                        [
                          0.9,
                          "#4d9221"
                        ],
                        [
                          1,
                          "#276419"
                        ]
                      ],
                      "sequential": [
                        [
                          0,
                          "#0d0887"
                        ],
                        [
                          0.1111111111111111,
                          "#46039f"
                        ],
                        [
                          0.2222222222222222,
                          "#7201a8"
                        ],
                        [
                          0.3333333333333333,
                          "#9c179e"
                        ],
                        [
                          0.4444444444444444,
                          "#bd3786"
                        ],
                        [
                          0.5555555555555556,
                          "#d8576b"
                        ],
                        [
                          0.6666666666666666,
                          "#ed7953"
                        ],
                        [
                          0.7777777777777778,
                          "#fb9f3a"
                        ],
                        [
                          0.8888888888888888,
                          "#fdca26"
                        ],
                        [
                          1,
                          "#f0f921"
                        ]
                      ],
                      "sequentialminus": [
                        [
                          0,
                          "#0d0887"
                        ],
                        [
                          0.1111111111111111,
                          "#46039f"
                        ],
                        [
                          0.2222222222222222,
                          "#7201a8"
                        ],
                        [
                          0.3333333333333333,
                          "#9c179e"
                        ],
                        [
                          0.4444444444444444,
                          "#bd3786"
                        ],
                        [
                          0.5555555555555556,
                          "#d8576b"
                        ],
                        [
                          0.6666666666666666,
                          "#ed7953"
                        ],
                        [
                          0.7777777777777778,
                          "#fb9f3a"
                        ],
                        [
                          0.8888888888888888,
                          "#fdca26"
                        ],
                        [
                          1,
                          "#f0f921"
                        ]
                      ]
                    },
                    "colorway": [
                      "#636efa",
                      "#EF553B",
                      "#00cc96",
                      "#ab63fa",
                      "#FFA15A",
                      "#19d3f3",
                      "#FF6692",
                      "#B6E880",
                      "#FF97FF",
                      "#FECB52"
                    ],
                    "font": {
                      "color": "#2a3f5f"
                    },
                    "geo": {
                      "bgcolor": "white",
                      "lakecolor": "white",
                      "landcolor": "#E5ECF6",
                      "showlakes": true,
                      "showland": true,
                      "subunitcolor": "white"
                    },
                    "hoverlabel": {
                      "align": "left"
                    },
                    "hovermode": "closest",
                    "mapbox": {
                      "style": "light"
                    },
                    "paper_bgcolor": "white",
                    "plot_bgcolor": "#E5ECF6",
                    "polar": {
                      "angularaxis": {
                        "gridcolor": "white",
                        "linecolor": "white",
                        "ticks": ""
                      },
                      "bgcolor": "#E5ECF6",
                      "radialaxis": {
                        "gridcolor": "white",
                        "linecolor": "white",
                        "ticks": ""
                      }
                    },
                    "scene": {
                      "xaxis": {
                        "backgroundcolor": "#E5ECF6",
                        "gridcolor": "white",
                        "gridwidth": 2,
                        "linecolor": "white",
                        "showbackground": true,
                        "ticks": "",
                        "zerolinecolor": "white"
                      },
                      "yaxis": {
                        "backgroundcolor": "#E5ECF6",
                        "gridcolor": "white",
                        "gridwidth": 2,
                        "linecolor": "white",
                        "showbackground": true,
                        "ticks": "",
                        "zerolinecolor": "white"
                      },
                      "zaxis": {
                        "backgroundcolor": "#E5ECF6",
                        "gridcolor": "white",
                        "gridwidth": 2,
                        "linecolor": "white",
                        "showbackground": true,
                        "ticks": "",
                        "zerolinecolor": "white"
                      }
                    },
                    "shapedefaults": {
                      "line": {
                        "color": "#2a3f5f"
                      }
                    },
                    "ternary": {
                      "aaxis": {
                        "gridcolor": "white",
                        "linecolor": "white",
                        "ticks": ""
                      },
                      "baxis": {
                        "gridcolor": "white",
                        "linecolor": "white",
                        "ticks": ""
                      },
                      "bgcolor": "#E5ECF6",
                      "caxis": {
                        "gridcolor": "white",
                        "linecolor": "white",
                        "ticks": ""
                      }
                    },
                    "title": {
                      "x": 0.05
                    },
                    "xaxis": {
                      "automargin": true,
                      "gridcolor": "white",
                      "linecolor": "white",
                      "ticks": "",
                      "title": {
                        "standoff": 15
                      },
                      "zerolinecolor": "white",
                      "zerolinewidth": 2
                    },
                    "yaxis": {
                      "automargin": true,
                      "gridcolor": "white",
                      "linecolor": "white",
                      "ticks": "",
                      "title": {
                        "standoff": 15
                      },
                      "zerolinecolor": "white",
                      "zerolinewidth": 2
                    }
                  }
                },
                "title": {
                  "text": "Contour Plot"
                },
                "xaxis": {
                  "range": [
                    0.2656807026267916,
                    0.48770677349031516
                  ],
                  "title": {
                    "text": "dropout_prob"
                  }
                },
                "yaxis": {
                  "range": [
                    -3.930370121198881,
                    -2.0917680282099247
                  ],
                  "title": {
                    "text": "lr"
                  },
                  "type": "log"
                }
              }
            }
          },
          "metadata": {},
          "output_type": "display_data"
        }
      ],
      "source": [
        "fig = optuna.visualization.plot_contour(study, params=['lr', 'dropout_prob'])\n",
        "fig.show()"
      ]
    },
    {
      "cell_type": "markdown",
      "id": "b65998ec",
      "metadata": {
        "id": "b65998ec"
      },
      "source": [
        "As the hyperparameter importance plot already suggested, the learning rate seems to be very important while we are more flexible in the dropout probability. However, there seems to be an optimal spot in the middle, overall maximizing the accuracy."
      ]
    },
    {
      "cell_type": "markdown",
      "id": "59242621",
      "metadata": {
        "id": "59242621"
      },
      "source": [
        "## Conclusion\n",
        "\n",
        "In this guide, we discussed tips and practices for doing research with JAX. We mainly focused on implementing a Trainer module that summarizes most common functionalities needed for training and testing models. To showcase the flexibility of the module, we implement a regression and classification model in a few lines. Moreover, we show how one can easily perform automatic hyperparameter optimization with Optuna in this setting. While this guide gives a possible template for a research code, it may not cover all parts that is needed for your specific usecase. Moreover, if you are specialized on a certain task, such as classification or generative models, you can further specialize the Trainer module to reduce your code for submodules."
      ]
    },
    {
      "cell_type": "markdown",
      "id": "dad2e975",
      "metadata": {
        "id": "dad2e975"
      },
      "source": [
        "---\n",
        "\n",
        "[![Star our repository](https://img.shields.io/static/v1.svg?logo=star&label=⭐&message=Star%20Our%20Repository&color=yellow)](https://github.com/phlippe/uvadlc_notebooks/)  If you found this tutorial helpful, consider ⭐-ing our repository.    \n",
        "[![Ask questions](https://img.shields.io/static/v1.svg?logo=star&label=❔&message=Ask%20Questions&color=9cf)](https://github.com/phlippe/uvadlc_notebooks/issues)  For any questions, typos, or bugs that you found, please raise an issue on GitHub. \n",
        "\n",
        "---"
      ]
    }
  ],
  "metadata": {
    "colab": {
      "provenance": []
    },
    "kernelspec": {
      "display_name": "Python 3.9.15",
      "language": "python",
      "name": "python3"
    },
    "language_info": {
      "codemirror_mode": {
        "name": "ipython",
        "version": 3
      },
      "file_extension": ".py",
      "mimetype": "text/x-python",
      "name": "python",
      "nbconvert_exporter": "python",
      "pygments_lexer": "ipython3",
      "version": "3.9.15"
    },
    "vscode": {
      "interpreter": {
        "hash": "52482ff4b2b7159af0e6b3541ed8ea3c9431994134d8209b4471bd680479dae8"
      }
    }
  },
  "nbformat": 4,
  "nbformat_minor": 5
}
